{
 "cells": [
  {
   "cell_type": "code",
   "execution_count": 2,
   "metadata": {},
   "outputs": [],
   "source": [
    "import pandas as pd"
   ]
  },
  {
   "cell_type": "code",
   "execution_count": null,
   "metadata": {},
   "outputs": [],
   "source": []
  },
  {
   "cell_type": "code",
   "execution_count": null,
   "metadata": {},
   "outputs": [],
   "source": [
    "\n"
   ]
  },
  {
   "cell_type": "code",
   "execution_count": 3,
   "metadata": {},
   "outputs": [],
   "source": [
    "#Read in the csv and narrow down to January Dates\n",
    "Indianapolis_Housing = pd.read_csv(\"Indianapolis_Housing.csv\")\n",
    "#Indianapolis_Housing.head()\n",
    "January_Housing = Indianapolis_Housing.loc[Indianapolis_Housing[\"Month\"] == 1]\n",
    "#January_Housing.head()\n",
    "#January_Housing.dtypes"
   ]
  },
  {
   "cell_type": "code",
   "execution_count": null,
   "metadata": {},
   "outputs": [],
   "source": []
  },
  {
   "cell_type": "code",
   "execution_count": 4,
   "metadata": {},
   "outputs": [
    {
     "name": "stderr",
     "output_type": "stream",
     "text": [
      "/Users/allysontalyor/Applications/anaconda3/envs/PythonData/lib/python3.7/site-packages/ipykernel_launcher.py:1: SettingWithCopyWarning: \n",
      "A value is trying to be set on a copy of a slice from a DataFrame.\n",
      "Try using .loc[row_indexer,col_indexer] = value instead\n",
      "\n",
      "See the caveats in the documentation: http://pandas.pydata.org/pandas-docs/stable/user_guide/indexing.html#returning-a-view-versus-a-copy\n",
      "  \"\"\"Entry point for launching an IPython kernel.\n"
     ]
    }
   ],
   "source": [
    "January_Housing[\"Zip_Code\"] = January_Housing[\"Zip_Code\"].astype(str)\n",
    "#January_Housing.dtypes"
   ]
  },
  {
   "cell_type": "code",
   "execution_count": 5,
   "metadata": {},
   "outputs": [
    {
     "name": "stderr",
     "output_type": "stream",
     "text": [
      "/Users/allysontalyor/Applications/anaconda3/envs/PythonData/lib/python3.7/site-packages/ipykernel_launcher.py:9: SettingWithCopyWarning: \n",
      "A value is trying to be set on a copy of a slice from a DataFrame.\n",
      "Try using .loc[row_indexer,col_indexer] = value instead\n",
      "\n",
      "See the caveats in the documentation: http://pandas.pydata.org/pandas-docs/stable/user_guide/indexing.html#returning-a-view-versus-a-copy\n",
      "  if __name__ == '__main__':\n"
     ]
    }
   ],
   "source": [
    "#Create dataframes for the five starting zip codes\n",
    "#Zip Code 46220\n",
    "January_46220_initial = January_Housing.loc[January_Housing[\"Zip_Code\"] == \"46220\"]\n",
    "#print(len(January_46220[\"Zip_Code\"]))\n",
    "January_46220 = January_46220_initial[[\"Date\", \"Zip_Code\",\"Median List Price\", \"Median List Price per Square Foot\", \n",
    "                                  \"Median Market Value (Single Family)\", \"Median Price 1 Bedroom\",\n",
    "                                 \"Median Price 2 Bedroom\", \"Median Price 3 Bedroom\", \"Median Price 4 Bedroom\",\n",
    "                                 \"Median Price 5 Bedroom\", \"Year\", \"Month\"]]\n",
    "January_46220[\"Year_Integer\"] = January_46220[\"Year\"] - 1996\n",
    "#January_46220"
   ]
  },
  {
   "cell_type": "code",
   "execution_count": 6,
   "metadata": {},
   "outputs": [],
   "source": [
    "#Create dataframes for the five starting zip codes\n",
    "#Zip Code 46202\n",
    "January_46202_initial = January_Housing.loc[January_Housing[\"Zip_Code\"] == \"46202\"]\n",
    "\n",
    "January_46202 = January_46202_initial[[\"Date\", \"Zip_Code\",\"Median List Price\", \"Median List Price per Square Foot\", \n",
    "                                  \"Median Market Value (Single Family)\", \"Median Price 1 Bedroom\",\n",
    "                                 \"Median Price 2 Bedroom\", \"Median Price 3 Bedroom\", \"Median Price 4 Bedroom\",\n",
    "                                 \"Median Price 5 Bedroom\", \"Year\", \"Month\"]]"
   ]
  },
  {
   "cell_type": "code",
   "execution_count": 7,
   "metadata": {},
   "outputs": [],
   "source": [
    "#Create dataframes for the five starting zip codes\n",
    "#Zip Code 46219\n",
    "January_46219_initial = January_Housing.loc[January_Housing[\"Zip_Code\"] == \"46219\"]\n",
    "\n",
    "January_46219 = January_46219_initial[[\"Date\", \"Zip_Code\",\"Median List Price\", \"Median List Price per Square Foot\", \n",
    "                                  \"Median Market Value (Single Family)\", \"Median Price 1 Bedroom\",\n",
    "                                 \"Median Price 2 Bedroom\", \"Median Price 3 Bedroom\", \"Median Price 4 Bedroom\",\n",
    "                                 \"Median Price 5 Bedroom\", \"Year\", \"Month\"]]"
   ]
  },
  {
   "cell_type": "code",
   "execution_count": 8,
   "metadata": {},
   "outputs": [],
   "source": [
    "#Create dataframes for the five starting zip codes\n",
    "#Zip Code 46214\n",
    "January_46214_initial = January_Housing.loc[January_Housing[\"Zip_Code\"] == \"46214\"]\n",
    "\n",
    "January_46214 = January_46214_initial[[\"Date\", \"Zip_Code\",\"Median List Price\", \"Median List Price per Square Foot\", \n",
    "                                  \"Median Market Value (Single Family)\", \"Median Price 1 Bedroom\",\n",
    "                                 \"Median Price 2 Bedroom\", \"Median Price 3 Bedroom\", \"Median Price 4 Bedroom\",\n",
    "                                 \"Median Price 5 Bedroom\", \"Year\", \"Month\"]]"
   ]
  },
  {
   "cell_type": "code",
   "execution_count": 9,
   "metadata": {},
   "outputs": [],
   "source": [
    "#Create dataframes for the five starting zip codes\n",
    "#Zip Code 46227\n",
    "January_46227_initial = January_Housing.loc[January_Housing[\"Zip_Code\"] == \"46227\"]\n",
    "\n",
    "January_46227 = January_46227_initial[[\"Date\", \"Zip_Code\",\"Median List Price\", \"Median List Price per Square Foot\", \n",
    "                                  \"Median Market Value (Single Family)\", \"Median Price 1 Bedroom\",\n",
    "                                 \"Median Price 2 Bedroom\", \"Median Price 3 Bedroom\", \"Median Price 4 Bedroom\",\n",
    "                                 \"Median Price 5 Bedroom\", \"Year\", \"Month\"]]"
   ]
  },
  {
   "cell_type": "markdown",
   "metadata": {},
   "source": [
    "##  **January 46220**"
   ]
  },
  {
   "cell_type": "markdown",
   "metadata": {},
   "source": [
    "**Median List Price per Square Foot**"
   ]
  },
  {
   "cell_type": "code",
   "execution_count": 10,
   "metadata": {},
   "outputs": [
    {
     "data": {
      "text/html": [
       "<div>\n",
       "<style scoped>\n",
       "    .dataframe tbody tr th:only-of-type {\n",
       "        vertical-align: middle;\n",
       "    }\n",
       "\n",
       "    .dataframe tbody tr th {\n",
       "        vertical-align: top;\n",
       "    }\n",
       "\n",
       "    .dataframe thead th {\n",
       "        text-align: right;\n",
       "    }\n",
       "</style>\n",
       "<table border=\"1\" class=\"dataframe\">\n",
       "  <thead>\n",
       "    <tr style=\"text-align: right;\">\n",
       "      <th></th>\n",
       "      <th>Date</th>\n",
       "      <th>Zip_Code</th>\n",
       "      <th>Median List Price</th>\n",
       "      <th>Median List Price per Square Foot</th>\n",
       "      <th>Median Market Value (Single Family)</th>\n",
       "      <th>Median Price 1 Bedroom</th>\n",
       "      <th>Median Price 2 Bedroom</th>\n",
       "      <th>Median Price 3 Bedroom</th>\n",
       "      <th>Median Price 4 Bedroom</th>\n",
       "      <th>Median Price 5 Bedroom</th>\n",
       "      <th>Year</th>\n",
       "      <th>Month</th>\n",
       "      <th>Year_Integer</th>\n",
       "    </tr>\n",
       "  </thead>\n",
       "  <tbody>\n",
       "    <tr>\n",
       "      <th>1273</th>\n",
       "      <td>2010-01-31</td>\n",
       "      <td>46220</td>\n",
       "      <td>174900.0</td>\n",
       "      <td>116.973244</td>\n",
       "      <td>180230.0</td>\n",
       "      <td>120028.0</td>\n",
       "      <td>156472.0</td>\n",
       "      <td>177431.0</td>\n",
       "      <td>254893.0</td>\n",
       "      <td>356349.0</td>\n",
       "      <td>2010</td>\n",
       "      <td>1</td>\n",
       "      <td>14</td>\n",
       "    </tr>\n",
       "    <tr>\n",
       "      <th>1285</th>\n",
       "      <td>2011-01-31</td>\n",
       "      <td>46220</td>\n",
       "      <td>169900.0</td>\n",
       "      <td>121.058559</td>\n",
       "      <td>171241.0</td>\n",
       "      <td>109523.0</td>\n",
       "      <td>149554.0</td>\n",
       "      <td>169190.0</td>\n",
       "      <td>239697.0</td>\n",
       "      <td>335606.0</td>\n",
       "      <td>2011</td>\n",
       "      <td>1</td>\n",
       "      <td>15</td>\n",
       "    </tr>\n",
       "    <tr>\n",
       "      <th>1297</th>\n",
       "      <td>2012-01-31</td>\n",
       "      <td>46220</td>\n",
       "      <td>159900.0</td>\n",
       "      <td>114.574016</td>\n",
       "      <td>168633.0</td>\n",
       "      <td>108035.0</td>\n",
       "      <td>145686.0</td>\n",
       "      <td>166186.0</td>\n",
       "      <td>234245.0</td>\n",
       "      <td>329328.0</td>\n",
       "      <td>2012</td>\n",
       "      <td>1</td>\n",
       "      <td>16</td>\n",
       "    </tr>\n",
       "    <tr>\n",
       "      <th>1309</th>\n",
       "      <td>2013-01-31</td>\n",
       "      <td>46220</td>\n",
       "      <td>169900.0</td>\n",
       "      <td>128.642487</td>\n",
       "      <td>174381.0</td>\n",
       "      <td>107239.0</td>\n",
       "      <td>150360.0</td>\n",
       "      <td>171495.0</td>\n",
       "      <td>243811.0</td>\n",
       "      <td>347394.0</td>\n",
       "      <td>2013</td>\n",
       "      <td>1</td>\n",
       "      <td>17</td>\n",
       "    </tr>\n",
       "    <tr>\n",
       "      <th>1321</th>\n",
       "      <td>2014-01-31</td>\n",
       "      <td>46220</td>\n",
       "      <td>164900.0</td>\n",
       "      <td>124.783862</td>\n",
       "      <td>190345.0</td>\n",
       "      <td>125526.0</td>\n",
       "      <td>165280.0</td>\n",
       "      <td>186571.0</td>\n",
       "      <td>267301.0</td>\n",
       "      <td>381471.0</td>\n",
       "      <td>2014</td>\n",
       "      <td>1</td>\n",
       "      <td>18</td>\n",
       "    </tr>\n",
       "    <tr>\n",
       "      <th>1333</th>\n",
       "      <td>2015-01-31</td>\n",
       "      <td>46220</td>\n",
       "      <td>179900.0</td>\n",
       "      <td>129.578173</td>\n",
       "      <td>194772.0</td>\n",
       "      <td>130720.0</td>\n",
       "      <td>167324.0</td>\n",
       "      <td>189955.0</td>\n",
       "      <td>283035.0</td>\n",
       "      <td>406425.0</td>\n",
       "      <td>2015</td>\n",
       "      <td>1</td>\n",
       "      <td>19</td>\n",
       "    </tr>\n",
       "    <tr>\n",
       "      <th>1345</th>\n",
       "      <td>2016-01-31</td>\n",
       "      <td>46220</td>\n",
       "      <td>195000.0</td>\n",
       "      <td>139.705882</td>\n",
       "      <td>195857.0</td>\n",
       "      <td>129632.0</td>\n",
       "      <td>168624.0</td>\n",
       "      <td>191544.0</td>\n",
       "      <td>284395.0</td>\n",
       "      <td>399398.0</td>\n",
       "      <td>2016</td>\n",
       "      <td>1</td>\n",
       "      <td>20</td>\n",
       "    </tr>\n",
       "    <tr>\n",
       "      <th>1357</th>\n",
       "      <td>2017-01-31</td>\n",
       "      <td>46220</td>\n",
       "      <td>199000.0</td>\n",
       "      <td>153.180804</td>\n",
       "      <td>206856.0</td>\n",
       "      <td>140276.0</td>\n",
       "      <td>179537.0</td>\n",
       "      <td>203287.0</td>\n",
       "      <td>293150.0</td>\n",
       "      <td>408212.0</td>\n",
       "      <td>2017</td>\n",
       "      <td>1</td>\n",
       "      <td>21</td>\n",
       "    </tr>\n",
       "    <tr>\n",
       "      <th>1369</th>\n",
       "      <td>2018-01-31</td>\n",
       "      <td>46220</td>\n",
       "      <td>249950.0</td>\n",
       "      <td>165.048855</td>\n",
       "      <td>220147.0</td>\n",
       "      <td>148395.0</td>\n",
       "      <td>190877.0</td>\n",
       "      <td>215745.0</td>\n",
       "      <td>308852.0</td>\n",
       "      <td>437883.0</td>\n",
       "      <td>2018</td>\n",
       "      <td>1</td>\n",
       "      <td>22</td>\n",
       "    </tr>\n",
       "    <tr>\n",
       "      <th>1381</th>\n",
       "      <td>2019-01-31</td>\n",
       "      <td>46220</td>\n",
       "      <td>239900.0</td>\n",
       "      <td>176.478569</td>\n",
       "      <td>242754.0</td>\n",
       "      <td>171827.0</td>\n",
       "      <td>211965.0</td>\n",
       "      <td>238347.0</td>\n",
       "      <td>330948.0</td>\n",
       "      <td>466430.0</td>\n",
       "      <td>2019</td>\n",
       "      <td>1</td>\n",
       "      <td>23</td>\n",
       "    </tr>\n",
       "  </tbody>\n",
       "</table>\n",
       "</div>"
      ],
      "text/plain": [
       "            Date Zip_Code  Median List Price  \\\n",
       "1273  2010-01-31    46220           174900.0   \n",
       "1285  2011-01-31    46220           169900.0   \n",
       "1297  2012-01-31    46220           159900.0   \n",
       "1309  2013-01-31    46220           169900.0   \n",
       "1321  2014-01-31    46220           164900.0   \n",
       "1333  2015-01-31    46220           179900.0   \n",
       "1345  2016-01-31    46220           195000.0   \n",
       "1357  2017-01-31    46220           199000.0   \n",
       "1369  2018-01-31    46220           249950.0   \n",
       "1381  2019-01-31    46220           239900.0   \n",
       "\n",
       "      Median List Price per Square Foot  Median Market Value (Single Family)  \\\n",
       "1273                         116.973244                             180230.0   \n",
       "1285                         121.058559                             171241.0   \n",
       "1297                         114.574016                             168633.0   \n",
       "1309                         128.642487                             174381.0   \n",
       "1321                         124.783862                             190345.0   \n",
       "1333                         129.578173                             194772.0   \n",
       "1345                         139.705882                             195857.0   \n",
       "1357                         153.180804                             206856.0   \n",
       "1369                         165.048855                             220147.0   \n",
       "1381                         176.478569                             242754.0   \n",
       "\n",
       "      Median Price 1 Bedroom  Median Price 2 Bedroom  Median Price 3 Bedroom  \\\n",
       "1273                120028.0                156472.0                177431.0   \n",
       "1285                109523.0                149554.0                169190.0   \n",
       "1297                108035.0                145686.0                166186.0   \n",
       "1309                107239.0                150360.0                171495.0   \n",
       "1321                125526.0                165280.0                186571.0   \n",
       "1333                130720.0                167324.0                189955.0   \n",
       "1345                129632.0                168624.0                191544.0   \n",
       "1357                140276.0                179537.0                203287.0   \n",
       "1369                148395.0                190877.0                215745.0   \n",
       "1381                171827.0                211965.0                238347.0   \n",
       "\n",
       "      Median Price 4 Bedroom  Median Price 5 Bedroom  Year  Month  \\\n",
       "1273                254893.0                356349.0  2010      1   \n",
       "1285                239697.0                335606.0  2011      1   \n",
       "1297                234245.0                329328.0  2012      1   \n",
       "1309                243811.0                347394.0  2013      1   \n",
       "1321                267301.0                381471.0  2014      1   \n",
       "1333                283035.0                406425.0  2015      1   \n",
       "1345                284395.0                399398.0  2016      1   \n",
       "1357                293150.0                408212.0  2017      1   \n",
       "1369                308852.0                437883.0  2018      1   \n",
       "1381                330948.0                466430.0  2019      1   \n",
       "\n",
       "      Year_Integer  \n",
       "1273            14  \n",
       "1285            15  \n",
       "1297            16  \n",
       "1309            17  \n",
       "1321            18  \n",
       "1333            19  \n",
       "1345            20  \n",
       "1357            21  \n",
       "1369            22  \n",
       "1381            23  "
      ]
     },
     "execution_count": 10,
     "metadata": {},
     "output_type": "execute_result"
    }
   ],
   "source": [
    "#Isolate the data for years in which median list price per square foot is available \n",
    "medianList_perSqFt_46220 = January_46220.loc[(January_46220[\"Year_Integer\"] >= 14) & (January_46220[\"Year_Integer\"] <=23)]\n",
    "medianList_perSqFt_46220"
   ]
  },
  {
   "cell_type": "code",
   "execution_count": 11,
   "metadata": {},
   "outputs": [
    {
     "name": "stdout",
     "output_type": "stream",
     "text": [
      "(10, 7) (10, 1)\n"
     ]
    }
   ],
   "source": [
    "#Define X and y and format in the correct way\n",
    "X = medianList_perSqFt_46220[[\"Median Market Value (Single Family)\", \"Median Price 1 Bedroom\", \n",
    "                              \"Median Price 2 Bedroom\", \"Median Price 3 Bedroom\", \"Median Price 4 Bedroom\",\n",
    "                             \"Median Price 5 Bedroom\", \"Year_Integer\"]]\n",
    "y = medianList_perSqFt_46220[\"Median List Price per Square Foot\"].values.reshape(-1, 1)\n",
    "print(X.shape, y.shape)"
   ]
  },
  {
   "cell_type": "code",
   "execution_count": 12,
   "metadata": {},
   "outputs": [
    {
     "data": {
      "text/html": [
       "<div>\n",
       "<style scoped>\n",
       "    .dataframe tbody tr th:only-of-type {\n",
       "        vertical-align: middle;\n",
       "    }\n",
       "\n",
       "    .dataframe tbody tr th {\n",
       "        vertical-align: top;\n",
       "    }\n",
       "\n",
       "    .dataframe thead th {\n",
       "        text-align: right;\n",
       "    }\n",
       "</style>\n",
       "<table border=\"1\" class=\"dataframe\">\n",
       "  <thead>\n",
       "    <tr style=\"text-align: right;\">\n",
       "      <th></th>\n",
       "      <th>Median Market Value (Single Family)</th>\n",
       "      <th>Median Price 1 Bedroom</th>\n",
       "      <th>Median Price 2 Bedroom</th>\n",
       "      <th>Median Price 3 Bedroom</th>\n",
       "      <th>Median Price 4 Bedroom</th>\n",
       "      <th>Median Price 5 Bedroom</th>\n",
       "      <th>Year_Integer</th>\n",
       "    </tr>\n",
       "  </thead>\n",
       "  <tbody>\n",
       "    <tr>\n",
       "      <th>1273</th>\n",
       "      <td>180230.0</td>\n",
       "      <td>120028.0</td>\n",
       "      <td>156472.0</td>\n",
       "      <td>177431.0</td>\n",
       "      <td>254893.0</td>\n",
       "      <td>356349.0</td>\n",
       "      <td>14</td>\n",
       "    </tr>\n",
       "    <tr>\n",
       "      <th>1357</th>\n",
       "      <td>206856.0</td>\n",
       "      <td>140276.0</td>\n",
       "      <td>179537.0</td>\n",
       "      <td>203287.0</td>\n",
       "      <td>293150.0</td>\n",
       "      <td>408212.0</td>\n",
       "      <td>21</td>\n",
       "    </tr>\n",
       "    <tr>\n",
       "      <th>1297</th>\n",
       "      <td>168633.0</td>\n",
       "      <td>108035.0</td>\n",
       "      <td>145686.0</td>\n",
       "      <td>166186.0</td>\n",
       "      <td>234245.0</td>\n",
       "      <td>329328.0</td>\n",
       "      <td>16</td>\n",
       "    </tr>\n",
       "    <tr>\n",
       "      <th>1381</th>\n",
       "      <td>242754.0</td>\n",
       "      <td>171827.0</td>\n",
       "      <td>211965.0</td>\n",
       "      <td>238347.0</td>\n",
       "      <td>330948.0</td>\n",
       "      <td>466430.0</td>\n",
       "      <td>23</td>\n",
       "    </tr>\n",
       "    <tr>\n",
       "      <th>1321</th>\n",
       "      <td>190345.0</td>\n",
       "      <td>125526.0</td>\n",
       "      <td>165280.0</td>\n",
       "      <td>186571.0</td>\n",
       "      <td>267301.0</td>\n",
       "      <td>381471.0</td>\n",
       "      <td>18</td>\n",
       "    </tr>\n",
       "    <tr>\n",
       "      <th>1309</th>\n",
       "      <td>174381.0</td>\n",
       "      <td>107239.0</td>\n",
       "      <td>150360.0</td>\n",
       "      <td>171495.0</td>\n",
       "      <td>243811.0</td>\n",
       "      <td>347394.0</td>\n",
       "      <td>17</td>\n",
       "    </tr>\n",
       "    <tr>\n",
       "      <th>1345</th>\n",
       "      <td>195857.0</td>\n",
       "      <td>129632.0</td>\n",
       "      <td>168624.0</td>\n",
       "      <td>191544.0</td>\n",
       "      <td>284395.0</td>\n",
       "      <td>399398.0</td>\n",
       "      <td>20</td>\n",
       "    </tr>\n",
       "  </tbody>\n",
       "</table>\n",
       "</div>"
      ],
      "text/plain": [
       "      Median Market Value (Single Family)  Median Price 1 Bedroom  \\\n",
       "1273                             180230.0                120028.0   \n",
       "1357                             206856.0                140276.0   \n",
       "1297                             168633.0                108035.0   \n",
       "1381                             242754.0                171827.0   \n",
       "1321                             190345.0                125526.0   \n",
       "1309                             174381.0                107239.0   \n",
       "1345                             195857.0                129632.0   \n",
       "\n",
       "      Median Price 2 Bedroom  Median Price 3 Bedroom  Median Price 4 Bedroom  \\\n",
       "1273                156472.0                177431.0                254893.0   \n",
       "1357                179537.0                203287.0                293150.0   \n",
       "1297                145686.0                166186.0                234245.0   \n",
       "1381                211965.0                238347.0                330948.0   \n",
       "1321                165280.0                186571.0                267301.0   \n",
       "1309                150360.0                171495.0                243811.0   \n",
       "1345                168624.0                191544.0                284395.0   \n",
       "\n",
       "      Median Price 5 Bedroom  Year_Integer  \n",
       "1273                356349.0            14  \n",
       "1357                408212.0            21  \n",
       "1297                329328.0            16  \n",
       "1381                466430.0            23  \n",
       "1321                381471.0            18  \n",
       "1309                347394.0            17  \n",
       "1345                399398.0            20  "
      ]
     },
     "execution_count": 12,
     "metadata": {},
     "output_type": "execute_result"
    }
   ],
   "source": [
    "from sklearn.model_selection import train_test_split\n",
    "\n",
    "#X = pd.get_dummies(X)\n",
    "\n",
    "X_train, X_test, y_train, y_test = train_test_split(X, y, random_state=42)\n",
    "\n",
    "X_train.head(9)"
   ]
  },
  {
   "cell_type": "code",
   "execution_count": 13,
   "metadata": {},
   "outputs": [],
   "source": [
    "from sklearn.preprocessing import StandardScaler\n",
    "\n",
    "X_scaler = StandardScaler().fit(X_train)\n",
    "y_scaler = StandardScaler().fit(y_train)\n"
   ]
  },
  {
   "cell_type": "code",
   "execution_count": 14,
   "metadata": {},
   "outputs": [],
   "source": [
    "X_train_scaled = X_scaler.transform(X_train)\n",
    "X_test_scaled = X_scaler.transform(X_test)\n",
    "y_train_scaled = y_scaler.transform(y_train)\n",
    "y_test_scaled = y_scaler.transform(y_test)"
   ]
  },
  {
   "cell_type": "code",
   "execution_count": 15,
   "metadata": {},
   "outputs": [
    {
     "data": {
      "text/plain": [
       "LinearRegression(copy_X=True, fit_intercept=True, n_jobs=None, normalize=False)"
      ]
     },
     "execution_count": 15,
     "metadata": {},
     "output_type": "execute_result"
    }
   ],
   "source": [
    "from sklearn.linear_model import LinearRegression\n",
    "model = LinearRegression()\n",
    "model.fit(X_train_scaled, y_train_scaled)"
   ]
  },
  {
   "cell_type": "code",
   "execution_count": 16,
   "metadata": {},
   "outputs": [
    {
     "data": {
      "image/png": "[encoded data removed]",
      "text/plain": [
       "<Figure size 432x288 with 1 Axes>"
      ]
     },
     "metadata": {
      "needs_background": "light"
     },
     "output_type": "display_data"
    }
   ],
   "source": [
    "import matplotlib.pyplot as plt\n",
    "import numpy as np\n",
    "plt.scatter(model.predict(X_train_scaled), model.predict(X_train_scaled) - y_train_scaled, c=\"blue\", label=\"Training Data\")\n",
    "plt.scatter(model.predict(X_test_scaled), model.predict(X_test_scaled) - y_test_scaled, c=\"orange\", label=\"Testing Data\")\n",
    "plt.legend()\n",
    "plt.hlines(y=0, xmin=y_test_scaled.min(), xmax=y_test_scaled.max())\n",
    "plt.title(\"Residual Plot\")\n",
    "plt.show()"
   ]
  },
  {
   "cell_type": "code",
   "execution_count": 17,
   "metadata": {},
   "outputs": [
    {
     "name": "stdout",
     "output_type": "stream",
     "text": [
      "MSE: 0.09342441486935138, R2: 0.8915870467539607\n"
     ]
    }
   ],
   "source": [
    "from sklearn.metrics import mean_squared_error\n",
    "\n",
    "predictions = model.predict(X_test_scaled)\n",
    "MSE = mean_squared_error(y_test_scaled, predictions)\n",
    "r2 = model.score(X_test_scaled, y_test_scaled)\n",
    "\n",
    "print(f\"MSE: {MSE}, R2: {r2}\")"
   ]
  },
  {
   "cell_type": "code",
   "execution_count": 18,
   "metadata": {},
   "outputs": [
    {
     "data": {
      "text/plain": [
       "array([[ 1.30762492],\n",
       "       [-0.90942424],\n",
       "       [-0.82383238]])"
      ]
     },
     "execution_count": 18,
     "metadata": {},
     "output_type": "execute_result"
    }
   ],
   "source": [
    "predictions"
   ]
  },
  {
   "cell_type": "code",
   "execution_count": 19,
   "metadata": {},
   "outputs": [
    {
     "data": {
      "text/plain": [
       "array([[163.16740068],\n",
       "       [117.67217195],\n",
       "       [119.42857007]])"
      ]
     },
     "execution_count": 19,
     "metadata": {},
     "output_type": "execute_result"
    }
   ],
   "source": [
    "predictions_actual = y_scaler.inverse_transform(predictions)\n",
    "predictions_actual"
   ]
  },
  {
   "cell_type": "code",
   "execution_count": 20,
   "metadata": {},
   "outputs": [
    {
     "data": {
      "text/html": [
       "<div>\n",
       "<style scoped>\n",
       "    .dataframe tbody tr th:only-of-type {\n",
       "        vertical-align: middle;\n",
       "    }\n",
       "\n",
       "    .dataframe tbody tr th {\n",
       "        vertical-align: top;\n",
       "    }\n",
       "\n",
       "    .dataframe thead th {\n",
       "        text-align: right;\n",
       "    }\n",
       "</style>\n",
       "<table border=\"1\" class=\"dataframe\">\n",
       "  <thead>\n",
       "    <tr style=\"text-align: right;\">\n",
       "      <th></th>\n",
       "      <th>Median Market Value (Single Family)</th>\n",
       "      <th>Median Price 1 Bedroom</th>\n",
       "      <th>Median Price 2 Bedroom</th>\n",
       "      <th>Median Price 3 Bedroom</th>\n",
       "      <th>Median Price 4 Bedroom</th>\n",
       "      <th>Median Price 5 Bedroom</th>\n",
       "      <th>Year_Integer</th>\n",
       "    </tr>\n",
       "  </thead>\n",
       "  <tbody>\n",
       "    <tr>\n",
       "      <th>1117</th>\n",
       "      <td>126400.0</td>\n",
       "      <td>112900.0</td>\n",
       "      <td>116300.0</td>\n",
       "      <td>129200.0</td>\n",
       "      <td>169400.0</td>\n",
       "      <td>251300.0</td>\n",
       "      <td>1</td>\n",
       "    </tr>\n",
       "    <tr>\n",
       "      <th>1129</th>\n",
       "      <td>151900.0</td>\n",
       "      <td>118000.0</td>\n",
       "      <td>128600.0</td>\n",
       "      <td>151400.0</td>\n",
       "      <td>183600.0</td>\n",
       "      <td>281300.0</td>\n",
       "      <td>2</td>\n",
       "    </tr>\n",
       "    <tr>\n",
       "      <th>1141</th>\n",
       "      <td>150600.0</td>\n",
       "      <td>122400.0</td>\n",
       "      <td>135500.0</td>\n",
       "      <td>150300.0</td>\n",
       "      <td>196000.0</td>\n",
       "      <td>292300.0</td>\n",
       "      <td>3</td>\n",
       "    </tr>\n",
       "    <tr>\n",
       "      <th>1153</th>\n",
       "      <td>154967.0</td>\n",
       "      <td>97772.0</td>\n",
       "      <td>123239.0</td>\n",
       "      <td>150033.0</td>\n",
       "      <td>214475.0</td>\n",
       "      <td>258767.0</td>\n",
       "      <td>4</td>\n",
       "    </tr>\n",
       "    <tr>\n",
       "      <th>1165</th>\n",
       "      <td>155566.0</td>\n",
       "      <td>96466.0</td>\n",
       "      <td>131068.0</td>\n",
       "      <td>151297.0</td>\n",
       "      <td>225061.0</td>\n",
       "      <td>282407.0</td>\n",
       "      <td>5</td>\n",
       "    </tr>\n",
       "    <tr>\n",
       "      <th>1177</th>\n",
       "      <td>157666.0</td>\n",
       "      <td>100138.0</td>\n",
       "      <td>133116.0</td>\n",
       "      <td>153871.0</td>\n",
       "      <td>224727.0</td>\n",
       "      <td>278651.0</td>\n",
       "      <td>6</td>\n",
       "    </tr>\n",
       "    <tr>\n",
       "      <th>1189</th>\n",
       "      <td>161852.0</td>\n",
       "      <td>105618.0</td>\n",
       "      <td>138589.0</td>\n",
       "      <td>158415.0</td>\n",
       "      <td>226501.0</td>\n",
       "      <td>279056.0</td>\n",
       "      <td>7</td>\n",
       "    </tr>\n",
       "    <tr>\n",
       "      <th>1201</th>\n",
       "      <td>167798.0</td>\n",
       "      <td>108189.0</td>\n",
       "      <td>142203.0</td>\n",
       "      <td>164390.0</td>\n",
       "      <td>235558.0</td>\n",
       "      <td>303457.0</td>\n",
       "      <td>8</td>\n",
       "    </tr>\n",
       "    <tr>\n",
       "      <th>1213</th>\n",
       "      <td>172555.0</td>\n",
       "      <td>110849.0</td>\n",
       "      <td>146371.0</td>\n",
       "      <td>169358.0</td>\n",
       "      <td>244713.0</td>\n",
       "      <td>316583.0</td>\n",
       "      <td>9</td>\n",
       "    </tr>\n",
       "    <tr>\n",
       "      <th>1225</th>\n",
       "      <td>171285.0</td>\n",
       "      <td>115648.0</td>\n",
       "      <td>150517.0</td>\n",
       "      <td>168482.0</td>\n",
       "      <td>245555.0</td>\n",
       "      <td>328897.0</td>\n",
       "      <td>10</td>\n",
       "    </tr>\n",
       "    <tr>\n",
       "      <th>1237</th>\n",
       "      <td>173447.0</td>\n",
       "      <td>117072.0</td>\n",
       "      <td>151164.0</td>\n",
       "      <td>170499.0</td>\n",
       "      <td>252311.0</td>\n",
       "      <td>348092.0</td>\n",
       "      <td>11</td>\n",
       "    </tr>\n",
       "    <tr>\n",
       "      <th>1249</th>\n",
       "      <td>178955.0</td>\n",
       "      <td>117651.0</td>\n",
       "      <td>153776.0</td>\n",
       "      <td>176298.0</td>\n",
       "      <td>256529.0</td>\n",
       "      <td>351198.0</td>\n",
       "      <td>12</td>\n",
       "    </tr>\n",
       "    <tr>\n",
       "      <th>1261</th>\n",
       "      <td>171996.0</td>\n",
       "      <td>115945.0</td>\n",
       "      <td>148693.0</td>\n",
       "      <td>169622.0</td>\n",
       "      <td>247280.0</td>\n",
       "      <td>332875.0</td>\n",
       "      <td>13</td>\n",
       "    </tr>\n",
       "    <tr>\n",
       "      <th>1393</th>\n",
       "      <td>247497.0</td>\n",
       "      <td>173191.0</td>\n",
       "      <td>216040.0</td>\n",
       "      <td>244343.0</td>\n",
       "      <td>339216.0</td>\n",
       "      <td>476211.0</td>\n",
       "      <td>24</td>\n",
       "    </tr>\n",
       "  </tbody>\n",
       "</table>\n",
       "</div>"
      ],
      "text/plain": [
       "      Median Market Value (Single Family)  Median Price 1 Bedroom  \\\n",
       "1117                             126400.0                112900.0   \n",
       "1129                             151900.0                118000.0   \n",
       "1141                             150600.0                122400.0   \n",
       "1153                             154967.0                 97772.0   \n",
       "1165                             155566.0                 96466.0   \n",
       "1177                             157666.0                100138.0   \n",
       "1189                             161852.0                105618.0   \n",
       "1201                             167798.0                108189.0   \n",
       "1213                             172555.0                110849.0   \n",
       "1225                             171285.0                115648.0   \n",
       "1237                             173447.0                117072.0   \n",
       "1249                             178955.0                117651.0   \n",
       "1261                             171996.0                115945.0   \n",
       "1393                             247497.0                173191.0   \n",
       "\n",
       "      Median Price 2 Bedroom  Median Price 3 Bedroom  Median Price 4 Bedroom  \\\n",
       "1117                116300.0                129200.0                169400.0   \n",
       "1129                128600.0                151400.0                183600.0   \n",
       "1141                135500.0                150300.0                196000.0   \n",
       "1153                123239.0                150033.0                214475.0   \n",
       "1165                131068.0                151297.0                225061.0   \n",
       "1177                133116.0                153871.0                224727.0   \n",
       "1189                138589.0                158415.0                226501.0   \n",
       "1201                142203.0                164390.0                235558.0   \n",
       "1213                146371.0                169358.0                244713.0   \n",
       "1225                150517.0                168482.0                245555.0   \n",
       "1237                151164.0                170499.0                252311.0   \n",
       "1249                153776.0                176298.0                256529.0   \n",
       "1261                148693.0                169622.0                247280.0   \n",
       "1393                216040.0                244343.0                339216.0   \n",
       "\n",
       "      Median Price 5 Bedroom  Year_Integer  \n",
       "1117                251300.0             1  \n",
       "1129                281300.0             2  \n",
       "1141                292300.0             3  \n",
       "1153                258767.0             4  \n",
       "1165                282407.0             5  \n",
       "1177                278651.0             6  \n",
       "1189                279056.0             7  \n",
       "1201                303457.0             8  \n",
       "1213                316583.0             9  \n",
       "1225                328897.0            10  \n",
       "1237                348092.0            11  \n",
       "1249                351198.0            12  \n",
       "1261                332875.0            13  \n",
       "1393                476211.0            24  "
      ]
     },
     "execution_count": 20,
     "metadata": {},
     "output_type": "execute_result"
    }
   ],
   "source": [
    "#Isolate the data that we want to use to predict the filled in values...\n",
    "medianSqFt_predictionData1 = January_46220.loc[(January_46220[\"Year_Integer\"]>=1)&(January_46220[\"Year_Integer\"]<=13)]\n",
    "medianSqFt_predictionData2 = January_46220.loc[January_46220[\"Year_Integer\"] >= 24]\n",
    "medianSqFt_predictionData3 = pd.concat([medianSqFt_predictionData1,medianSqFt_predictionData2])\n",
    "medianSqFt_predictionData = medianSqFt_predictionData3[[\"Median Market Value (Single Family)\", \"Median Price 1 Bedroom\", \n",
    "                              \"Median Price 2 Bedroom\", \"Median Price 3 Bedroom\", \"Median Price 4 Bedroom\",\n",
    "                             \"Median Price 5 Bedroom\", \"Year_Integer\"]]\n",
    "medianSqFt_predictionData"
   ]
  },
  {
   "cell_type": "code",
   "execution_count": 21,
   "metadata": {},
   "outputs": [],
   "source": [
    "#Scale Prediction Data\n",
    "medianSqFt_predictionData_scaled = X_scaler.transform(medianSqFt_predictionData)\n"
   ]
  },
  {
   "cell_type": "code",
   "execution_count": 22,
   "metadata": {},
   "outputs": [
    {
     "data": {
      "text/plain": [
       "array([[-61.69638159],\n",
       "       [  9.35351102],\n",
       "       [-15.99815644],\n",
       "       [161.56921481],\n",
       "       [141.02041219],\n",
       "       [144.88776534],\n",
       "       [145.79453796],\n",
       "       [145.46493402],\n",
       "       [153.74418316],\n",
       "       [112.42602682],\n",
       "       [103.74530772],\n",
       "       [130.49884661],\n",
       "       [119.55083212],\n",
       "       [194.44444546]])"
      ]
     },
     "execution_count": 22,
     "metadata": {},
     "output_type": "execute_result"
    }
   ],
   "source": [
    "#Make Predictions and convert back to price per square ft values....\n",
    "medianSqFt_predictions = model.predict(medianSqFt_predictionData_scaled)\n",
    "medianSqFt_predictions_actual = y_scaler.inverse_transform(medianSqFt_predictions)\n",
    "medianSqFt_predictions_actual\n"
   ]
  },
  {
   "cell_type": "code",
   "execution_count": 23,
   "metadata": {},
   "outputs": [
    {
     "data": {
      "text/plain": [
       "LinearRegression(copy_X=True, fit_intercept=True, n_jobs=None, normalize=False)"
      ]
     },
     "execution_count": 23,
     "metadata": {},
     "output_type": "execute_result"
    }
   ],
   "source": [
    "#try the regression analysis without scaling...\n",
    "model_unscaled = LinearRegression()\n",
    "model_unscaled.fit(X_train, y_train)"
   ]
  },
  {
   "cell_type": "code",
   "execution_count": 24,
   "metadata": {},
   "outputs": [
    {
     "name": "stdout",
     "output_type": "stream",
     "text": [
      "MSE: 324.71648441748687, R2: -2660242.5106336856\n"
     ]
    }
   ],
   "source": [
    "predictions_unscaled = model_unscaled.predict(X_test)\n",
    "MSE = mean_squared_error(y_test, predictions_unscaled)\n",
    "r2 = model.score(X_test, y_test)\n",
    "\n",
    "print(f\"MSE: {MSE}, R2: {r2}\")"
   ]
  },
  {
   "cell_type": "code",
   "execution_count": 25,
   "metadata": {},
   "outputs": [
    {
     "data": {
      "text/plain": [
       "array([[159.30068829],\n",
       "       [122.76597623],\n",
       "       [ 98.94824076]])"
      ]
     },
     "execution_count": 25,
     "metadata": {},
     "output_type": "execute_result"
    }
   ],
   "source": [
    "predictions_unscaled"
   ]
  },
  {
   "cell_type": "code",
   "execution_count": 26,
   "metadata": {},
   "outputs": [
    {
     "name": "stdout",
     "output_type": "stream",
     "text": [
      "(10, 2) (10, 1)\n"
     ]
    }
   ],
   "source": [
    "#try using only two variables....\n",
    "X = medianList_perSqFt_46220[[\"Median Market Value (Single Family)\", \"Year_Integer\"]]\n",
    "y = medianList_perSqFt_46220[\"Median List Price per Square Foot\"].values.reshape(-1, 1)\n",
    "print(X.shape, y.shape)"
   ]
  },
  {
   "cell_type": "code",
   "execution_count": 27,
   "metadata": {},
   "outputs": [
    {
     "data": {
      "text/html": [
       "<div>\n",
       "<style scoped>\n",
       "    .dataframe tbody tr th:only-of-type {\n",
       "        vertical-align: middle;\n",
       "    }\n",
       "\n",
       "    .dataframe tbody tr th {\n",
       "        vertical-align: top;\n",
       "    }\n",
       "\n",
       "    .dataframe thead th {\n",
       "        text-align: right;\n",
       "    }\n",
       "</style>\n",
       "<table border=\"1\" class=\"dataframe\">\n",
       "  <thead>\n",
       "    <tr style=\"text-align: right;\">\n",
       "      <th></th>\n",
       "      <th>Median Market Value (Single Family)</th>\n",
       "      <th>Year_Integer</th>\n",
       "    </tr>\n",
       "  </thead>\n",
       "  <tbody>\n",
       "    <tr>\n",
       "      <th>1273</th>\n",
       "      <td>180230.0</td>\n",
       "      <td>14</td>\n",
       "    </tr>\n",
       "    <tr>\n",
       "      <th>1357</th>\n",
       "      <td>206856.0</td>\n",
       "      <td>21</td>\n",
       "    </tr>\n",
       "    <tr>\n",
       "      <th>1297</th>\n",
       "      <td>168633.0</td>\n",
       "      <td>16</td>\n",
       "    </tr>\n",
       "    <tr>\n",
       "      <th>1381</th>\n",
       "      <td>242754.0</td>\n",
       "      <td>23</td>\n",
       "    </tr>\n",
       "    <tr>\n",
       "      <th>1321</th>\n",
       "      <td>190345.0</td>\n",
       "      <td>18</td>\n",
       "    </tr>\n",
       "    <tr>\n",
       "      <th>1309</th>\n",
       "      <td>174381.0</td>\n",
       "      <td>17</td>\n",
       "    </tr>\n",
       "    <tr>\n",
       "      <th>1345</th>\n",
       "      <td>195857.0</td>\n",
       "      <td>20</td>\n",
       "    </tr>\n",
       "  </tbody>\n",
       "</table>\n",
       "</div>"
      ],
      "text/plain": [
       "      Median Market Value (Single Family)  Year_Integer\n",
       "1273                             180230.0            14\n",
       "1357                             206856.0            21\n",
       "1297                             168633.0            16\n",
       "1381                             242754.0            23\n",
       "1321                             190345.0            18\n",
       "1309                             174381.0            17\n",
       "1345                             195857.0            20"
      ]
     },
     "execution_count": 27,
     "metadata": {},
     "output_type": "execute_result"
    }
   ],
   "source": [
    "X_train, X_test, y_train, y_test = train_test_split(X, y, random_state=42)\n",
    "\n",
    "X_train.head(9)"
   ]
  },
  {
   "cell_type": "code",
   "execution_count": 28,
   "metadata": {},
   "outputs": [],
   "source": [
    "X_scaler = StandardScaler().fit(X_train)\n",
    "y_scaler = StandardScaler().fit(y_train)"
   ]
  },
  {
   "cell_type": "code",
   "execution_count": 29,
   "metadata": {},
   "outputs": [],
   "source": [
    "X_train_scaled = X_scaler.transform(X_train)\n",
    "X_test_scaled = X_scaler.transform(X_test)\n",
    "y_train_scaled = y_scaler.transform(y_train)\n",
    "y_test_scaled = y_scaler.transform(y_test)"
   ]
  },
  {
   "cell_type": "code",
   "execution_count": 30,
   "metadata": {},
   "outputs": [
    {
     "data": {
      "text/plain": [
       "LinearRegression(copy_X=True, fit_intercept=True, n_jobs=None, normalize=False)"
      ]
     },
     "execution_count": 30,
     "metadata": {},
     "output_type": "execute_result"
    }
   ],
   "source": [
    "model = LinearRegression()\n",
    "model.fit(X_train_scaled, y_train_scaled)"
   ]
  },
  {
   "cell_type": "code",
   "execution_count": 31,
   "metadata": {},
   "outputs": [
    {
     "name": "stdout",
     "output_type": "stream",
     "text": [
      "MSE: 0.11528070625982934, R2: 0.8662242430375948\n"
     ]
    }
   ],
   "source": [
    "predictions = model.predict(X_test_scaled)\n",
    "MSE = mean_squared_error(y_test_scaled, predictions)\n",
    "r2 = model.score(X_test_scaled, y_test_scaled)\n",
    "\n",
    "print(f\"MSE: {MSE}, R2: {r2}\")"
   ]
  },
  {
   "cell_type": "code",
   "execution_count": 32,
   "metadata": {},
   "outputs": [
    {
     "data": {
      "text/plain": [
       "array([[160.55039057],\n",
       "       [114.14158062],\n",
       "       [138.38453173]])"
      ]
     },
     "execution_count": 32,
     "metadata": {},
     "output_type": "execute_result"
    }
   ],
   "source": [
    "predictions_actual = y_scaler.inverse_transform(predictions)\n",
    "predictions_actual"
   ]
  },
  {
   "cell_type": "code",
   "execution_count": 33,
   "metadata": {},
   "outputs": [],
   "source": [
    "prediction_data = medianSqFt_predictionData[[\"Median Market Value (Single Family)\", \"Year_Integer\"]]\n",
    "prediction_data_scaled = X_scaler.transform(prediction_data)"
   ]
  },
  {
   "cell_type": "code",
   "execution_count": 34,
   "metadata": {},
   "outputs": [
    {
     "data": {
      "text/plain": [
       "array([[ 48.63397929],\n",
       "       [ 64.80869381],\n",
       "       [ 67.1662537 ],\n",
       "       [ 72.44552312],\n",
       "       [ 75.78214183],\n",
       "       [ 79.89262433],\n",
       "       [ 85.07857639],\n",
       "       [ 91.17192368],\n",
       "       [ 96.65226363],\n",
       "       [ 99.02529049],\n",
       "       [103.16773804],\n",
       "       [109.03526766],\n",
       "       [108.47524254],\n",
       "       [180.70669621]])"
      ]
     },
     "execution_count": 34,
     "metadata": {},
     "output_type": "execute_result"
    }
   ],
   "source": [
    "medianSqFt_predictions = model.predict(prediction_data_scaled)\n",
    "medianSqFt_predictions_actual = y_scaler.inverse_transform(medianSqFt_predictions)\n",
    "medianSqFt_predictions_actual"
   ]
  },
  {
   "cell_type": "code",
   "execution_count": 35,
   "metadata": {},
   "outputs": [
    {
     "name": "stdout",
     "output_type": "stream",
     "text": [
      "(10, 3) (10, 1)\n"
     ]
    }
   ],
   "source": [
    "#try using only three variables....\n",
    "X = medianList_perSqFt_46220[[\"Median Market Value (Single Family)\", \"Year_Integer\", \"Median Price 3 Bedroom\"]]\n",
    "y = medianList_perSqFt_46220[\"Median List Price per Square Foot\"].values.reshape(-1, 1)\n",
    "print(X.shape, y.shape)"
   ]
  },
  {
   "cell_type": "code",
   "execution_count": 36,
   "metadata": {},
   "outputs": [
    {
     "data": {
      "text/html": [
       "<div>\n",
       "<style scoped>\n",
       "    .dataframe tbody tr th:only-of-type {\n",
       "        vertical-align: middle;\n",
       "    }\n",
       "\n",
       "    .dataframe tbody tr th {\n",
       "        vertical-align: top;\n",
       "    }\n",
       "\n",
       "    .dataframe thead th {\n",
       "        text-align: right;\n",
       "    }\n",
       "</style>\n",
       "<table border=\"1\" class=\"dataframe\">\n",
       "  <thead>\n",
       "    <tr style=\"text-align: right;\">\n",
       "      <th></th>\n",
       "      <th>Median Market Value (Single Family)</th>\n",
       "      <th>Year_Integer</th>\n",
       "      <th>Median Price 3 Bedroom</th>\n",
       "    </tr>\n",
       "  </thead>\n",
       "  <tbody>\n",
       "    <tr>\n",
       "      <th>1273</th>\n",
       "      <td>180230.0</td>\n",
       "      <td>14</td>\n",
       "      <td>177431.0</td>\n",
       "    </tr>\n",
       "    <tr>\n",
       "      <th>1357</th>\n",
       "      <td>206856.0</td>\n",
       "      <td>21</td>\n",
       "      <td>203287.0</td>\n",
       "    </tr>\n",
       "    <tr>\n",
       "      <th>1297</th>\n",
       "      <td>168633.0</td>\n",
       "      <td>16</td>\n",
       "      <td>166186.0</td>\n",
       "    </tr>\n",
       "    <tr>\n",
       "      <th>1381</th>\n",
       "      <td>242754.0</td>\n",
       "      <td>23</td>\n",
       "      <td>238347.0</td>\n",
       "    </tr>\n",
       "    <tr>\n",
       "      <th>1321</th>\n",
       "      <td>190345.0</td>\n",
       "      <td>18</td>\n",
       "      <td>186571.0</td>\n",
       "    </tr>\n",
       "    <tr>\n",
       "      <th>1309</th>\n",
       "      <td>174381.0</td>\n",
       "      <td>17</td>\n",
       "      <td>171495.0</td>\n",
       "    </tr>\n",
       "    <tr>\n",
       "      <th>1345</th>\n",
       "      <td>195857.0</td>\n",
       "      <td>20</td>\n",
       "      <td>191544.0</td>\n",
       "    </tr>\n",
       "  </tbody>\n",
       "</table>\n",
       "</div>"
      ],
      "text/plain": [
       "      Median Market Value (Single Family)  Year_Integer  \\\n",
       "1273                             180230.0            14   \n",
       "1357                             206856.0            21   \n",
       "1297                             168633.0            16   \n",
       "1381                             242754.0            23   \n",
       "1321                             190345.0            18   \n",
       "1309                             174381.0            17   \n",
       "1345                             195857.0            20   \n",
       "\n",
       "      Median Price 3 Bedroom  \n",
       "1273                177431.0  \n",
       "1357                203287.0  \n",
       "1297                166186.0  \n",
       "1381                238347.0  \n",
       "1321                186571.0  \n",
       "1309                171495.0  \n",
       "1345                191544.0  "
      ]
     },
     "execution_count": 36,
     "metadata": {},
     "output_type": "execute_result"
    }
   ],
   "source": [
    "X_train, X_test, y_train, y_test = train_test_split(X, y, random_state=42)\n",
    "\n",
    "X_train.head(9)"
   ]
  },
  {
   "cell_type": "code",
   "execution_count": 37,
   "metadata": {},
   "outputs": [],
   "source": [
    "X_scaler = StandardScaler().fit(X_train)\n",
    "y_scaler = StandardScaler().fit(y_train)"
   ]
  },
  {
   "cell_type": "code",
   "execution_count": 38,
   "metadata": {},
   "outputs": [],
   "source": [
    "X_train_scaled = X_scaler.transform(X_train)\n",
    "X_test_scaled = X_scaler.transform(X_test)\n",
    "y_train_scaled = y_scaler.transform(y_train)\n",
    "y_test_scaled = y_scaler.transform(y_test)"
   ]
  },
  {
   "cell_type": "code",
   "execution_count": 39,
   "metadata": {},
   "outputs": [
    {
     "data": {
      "text/plain": [
       "LinearRegression(copy_X=True, fit_intercept=True, n_jobs=None, normalize=False)"
      ]
     },
     "execution_count": 39,
     "metadata": {},
     "output_type": "execute_result"
    }
   ],
   "source": [
    "model = LinearRegression()\n",
    "model.fit(X_train_scaled, y_train_scaled)"
   ]
  },
  {
   "cell_type": "code",
   "execution_count": 40,
   "metadata": {},
   "outputs": [
    {
     "name": "stdout",
     "output_type": "stream",
     "text": [
      "MSE: 0.03038165487254994, R2: 0.9647440668069348\n"
     ]
    }
   ],
   "source": [
    "predictions = model.predict(X_test_scaled)\n",
    "MSE = mean_squared_error(y_test_scaled, predictions)\n",
    "r2 = model.score(X_test_scaled, y_test_scaled)\n",
    "\n",
    "print(f\"MSE: {MSE}, R2: {r2}\")"
   ]
  },
  {
   "cell_type": "code",
   "execution_count": 41,
   "metadata": {},
   "outputs": [
    {
     "data": {
      "text/plain": [
       "array([[159.18407652],\n",
       "       [119.064161  ],\n",
       "       [129.4913958 ]])"
      ]
     },
     "execution_count": 41,
     "metadata": {},
     "output_type": "execute_result"
    }
   ],
   "source": [
    "predictions_actual = y_scaler.inverse_transform(predictions)\n",
    "predictions_actual"
   ]
  },
  {
   "cell_type": "code",
   "execution_count": 42,
   "metadata": {},
   "outputs": [],
   "source": [
    "prediction_data = medianSqFt_predictionData[[\"Median Market Value (Single Family)\", \"Year_Integer\", \"Median Price 3 Bedroom\"]]\n",
    "prediction_data_scaled = X_scaler.transform(prediction_data)"
   ]
  },
  {
   "cell_type": "code",
   "execution_count": 43,
   "metadata": {},
   "outputs": [
    {
     "data": {
      "text/plain": [
       "array([[ 70.8443776 ],\n",
       "       [ 66.74227881],\n",
       "       [ 71.36227618],\n",
       "       [ 45.60135127],\n",
       "       [ 54.57331125],\n",
       "       [ 63.09180334],\n",
       "       [ 72.02176746],\n",
       "       [ 79.68781703],\n",
       "       [ 87.92708113],\n",
       "       [ 93.91690237],\n",
       "       [ 98.15691532],\n",
       "       [107.39306121],\n",
       "       [109.28179961],\n",
       "       [191.85208059]])"
      ]
     },
     "execution_count": 43,
     "metadata": {},
     "output_type": "execute_result"
    }
   ],
   "source": [
    "medianSqFt_predictions = model.predict(prediction_data_scaled)\n",
    "medianSqFt_predictions_actual = y_scaler.inverse_transform(medianSqFt_predictions)\n",
    "medianSqFt_predictions_actual"
   ]
  },
  {
   "cell_type": "code",
   "execution_count": 44,
   "metadata": {},
   "outputs": [],
   "source": [
    "prediction_list = []\n",
    "for prediction in medianSqFt_predictions_actual:\n",
    "    prediction_list.append(prediction[0])\n",
    "#prediction_list\n",
    "first_part = prediction_list[0:13]\n",
    "second_part = prediction_list[13:14]\n",
    "middle_part = January_46220[\"Median List Price per Square Foot\"].to_list()\n",
    "middle_part_final = middle_part[13:23]\n"
   ]
  },
  {
   "cell_type": "code",
   "execution_count": 45,
   "metadata": {
    "scrolled": true
   },
   "outputs": [
    {
     "name": "stderr",
     "output_type": "stream",
     "text": [
      "/Users/allysontalyor/Applications/anaconda3/envs/PythonData/lib/python3.7/site-packages/ipykernel_launcher.py:3: SettingWithCopyWarning: \n",
      "A value is trying to be set on a copy of a slice from a DataFrame.\n",
      "Try using .loc[row_indexer,col_indexer] = value instead\n",
      "\n",
      "See the caveats in the documentation: http://pandas.pydata.org/pandas-docs/stable/user_guide/indexing.html#returning-a-view-versus-a-copy\n",
      "  This is separate from the ipykernel package so we can avoid doing imports until\n"
     ]
    }
   ],
   "source": [
    "#Combine into new list\n",
    "january_46220_sqft_new = first_part + middle_part_final + second_part\n",
    "January_46220[\"Median List Price per SqFt Calculated\"] = january_46220_sqft_new\n",
    "#January_46220"
   ]
  },
  {
   "cell_type": "markdown",
   "metadata": {},
   "source": [
    "**Median List Price - January 46220**"
   ]
  },
  {
   "cell_type": "code",
   "execution_count": 46,
   "metadata": {},
   "outputs": [
    {
     "name": "stdout",
     "output_type": "stream",
     "text": [
      "(10, 3) (10, 1)\n"
     ]
    }
   ],
   "source": [
    "#Create X and y values\n",
    "X = medianList_perSqFt_46220[[\"Median Market Value (Single Family)\", \"Year_Integer\", \"Median Price 3 Bedroom\"]]\n",
    "y = medianList_perSqFt_46220[\"Median List Price\"].values.reshape(-1, 1)\n",
    "print(X.shape, y.shape)\n",
    "#Create test/train data sets\n",
    "X_train, X_test, y_train, y_test = train_test_split(X, y, random_state=42)\n",
    "#X_train.head(9)"
   ]
  },
  {
   "cell_type": "code",
   "execution_count": 47,
   "metadata": {},
   "outputs": [],
   "source": [
    "X_scaler = StandardScaler().fit(X_train)\n",
    "y_scaler = StandardScaler().fit(y_train)\n",
    "X_train_scaled = X_scaler.transform(X_train)\n",
    "X_test_scaled = X_scaler.transform(X_test)\n",
    "y_train_scaled = y_scaler.transform(y_train)\n",
    "y_test_scaled = y_scaler.transform(y_test)"
   ]
  },
  {
   "cell_type": "code",
   "execution_count": 48,
   "metadata": {},
   "outputs": [
    {
     "name": "stdout",
     "output_type": "stream",
     "text": [
      "MSE: 0.6931577565354868, R2: 0.6358890687807481\n"
     ]
    }
   ],
   "source": [
    "model = LinearRegression()\n",
    "model.fit(X_train_scaled, y_train_scaled)\n",
    "predictions = model.predict(X_test_scaled)\n",
    "MSE = mean_squared_error(y_test_scaled, predictions)\n",
    "r2 = model.score(X_test_scaled, y_test_scaled)\n",
    "\n",
    "print(f\"MSE: {MSE}, R2: {r2}\")"
   ]
  },
  {
   "cell_type": "code",
   "execution_count": 49,
   "metadata": {},
   "outputs": [],
   "source": [
    "MLP_Jan46220_predictionData = medianSqFt_predictionData[[\"Median Market Value (Single Family)\", \"Year_Integer\", \"Median Price 3 Bedroom\"]]\n",
    "MLP_Jan46220_predictionData_scaled = X_scaler.transform(MLP_Jan46220_predictionData)\n",
    "\n",
    "MLP_Jan46220_predictions = model.predict(MLP_Jan46220_predictionData_scaled)\n",
    "MLP_Jan46220_predictions_actual = y_scaler.inverse_transform(MLP_Jan46220_predictions)\n",
    "#MLP_Jan46220_predictions_actual"
   ]
  },
  {
   "cell_type": "code",
   "execution_count": 50,
   "metadata": {
    "scrolled": true
   },
   "outputs": [
    {
     "name": "stderr",
     "output_type": "stream",
     "text": [
      "/Users/allysontalyor/Applications/anaconda3/envs/PythonData/lib/python3.7/site-packages/ipykernel_launcher.py:11: SettingWithCopyWarning: \n",
      "A value is trying to be set on a copy of a slice from a DataFrame.\n",
      "Try using .loc[row_indexer,col_indexer] = value instead\n",
      "\n",
      "See the caveats in the documentation: http://pandas.pydata.org/pandas-docs/stable/user_guide/indexing.html#returning-a-view-versus-a-copy\n",
      "  # This is added back by InteractiveShellApp.init_path()\n"
     ]
    },
    {
     "ename": "KeyError",
     "evalue": "\"['Median Price per SqFt Calculated'] not in index\"",
     "output_type": "error",
     "traceback": [
      "\u001b[0;31m---------------------------------------------------------------------------\u001b[0m",
      "\u001b[0;31mKeyError\u001b[0m                                  Traceback (most recent call last)",
      "\u001b[0;32m<ipython-input-50-f83c0d3091d8>\u001b[0m in \u001b[0;36m<module>\u001b[0;34m\u001b[0m\n\u001b[1;32m     14\u001b[0m                                        \u001b[0;34m\"Median Price 2 Bedroom\"\u001b[0m\u001b[0;34m,\u001b[0m \u001b[0;34m\"Median Price 3 Bedroom\"\u001b[0m\u001b[0;34m,\u001b[0m\u001b[0;34m\u001b[0m\u001b[0;34m\u001b[0m\u001b[0m\n\u001b[1;32m     15\u001b[0m                                        \u001b[0;34m\"Median Price 4 Bedroom\"\u001b[0m\u001b[0;34m,\u001b[0m \u001b[0;34m\"Median Price 5 Bedroom\"\u001b[0m\u001b[0;34m,\u001b[0m\u001b[0;34m\u001b[0m\u001b[0;34m\u001b[0m\u001b[0m\n\u001b[0;32m---> 16\u001b[0;31m                                        \"Median Price per SqFt Calculated\", \"Median List Price Calculated\"]]\n\u001b[0m\u001b[1;32m     17\u001b[0m \u001b[0mJanuary_46220_Complete\u001b[0m\u001b[0;34m.\u001b[0m\u001b[0mto_csv\u001b[0m\u001b[0;34m(\u001b[0m\u001b[0;34m\"January_46220_Complete.csv\"\u001b[0m\u001b[0;34m)\u001b[0m\u001b[0;34m\u001b[0m\u001b[0;34m\u001b[0m\u001b[0m\n\u001b[1;32m     18\u001b[0m \u001b[0;31m#Indianapolis_Housing_January = pd.concat([Indianapolis_Housing_January, January_46220_Complete])\u001b[0m\u001b[0;34m\u001b[0m\u001b[0;34m\u001b[0m\u001b[0;34m\u001b[0m\u001b[0m\n",
      "\u001b[0;32m~/Applications/anaconda3/envs/PythonData/lib/python3.7/site-packages/pandas/core/frame.py\u001b[0m in \u001b[0;36m__getitem__\u001b[0;34m(self, key)\u001b[0m\n\u001b[1;32m   2999\u001b[0m             \u001b[0;32mif\u001b[0m \u001b[0mis_iterator\u001b[0m\u001b[0;34m(\u001b[0m\u001b[0mkey\u001b[0m\u001b[0;34m)\u001b[0m\u001b[0;34m:\u001b[0m\u001b[0;34m\u001b[0m\u001b[0;34m\u001b[0m\u001b[0m\n\u001b[1;32m   3000\u001b[0m                 \u001b[0mkey\u001b[0m \u001b[0;34m=\u001b[0m \u001b[0mlist\u001b[0m\u001b[0;34m(\u001b[0m\u001b[0mkey\u001b[0m\u001b[0;34m)\u001b[0m\u001b[0;34m\u001b[0m\u001b[0;34m\u001b[0m\u001b[0m\n\u001b[0;32m-> 3001\u001b[0;31m             \u001b[0mindexer\u001b[0m \u001b[0;34m=\u001b[0m \u001b[0mself\u001b[0m\u001b[0;34m.\u001b[0m\u001b[0mloc\u001b[0m\u001b[0;34m.\u001b[0m\u001b[0m_convert_to_indexer\u001b[0m\u001b[0;34m(\u001b[0m\u001b[0mkey\u001b[0m\u001b[0;34m,\u001b[0m \u001b[0maxis\u001b[0m\u001b[0;34m=\u001b[0m\u001b[0;36m1\u001b[0m\u001b[0;34m,\u001b[0m \u001b[0mraise_missing\u001b[0m\u001b[0;34m=\u001b[0m\u001b[0;32mTrue\u001b[0m\u001b[0;34m)\u001b[0m\u001b[0;34m\u001b[0m\u001b[0;34m\u001b[0m\u001b[0m\n\u001b[0m\u001b[1;32m   3002\u001b[0m \u001b[0;34m\u001b[0m\u001b[0m\n\u001b[1;32m   3003\u001b[0m         \u001b[0;31m# take() does not accept boolean indexers\u001b[0m\u001b[0;34m\u001b[0m\u001b[0;34m\u001b[0m\u001b[0;34m\u001b[0m\u001b[0m\n",
      "\u001b[0;32m~/Applications/anaconda3/envs/PythonData/lib/python3.7/site-packages/pandas/core/indexing.py\u001b[0m in \u001b[0;36m_convert_to_indexer\u001b[0;34m(self, obj, axis, is_setter, raise_missing)\u001b[0m\n\u001b[1;32m   1283\u001b[0m                 \u001b[0;31m# When setting, missing keys are not allowed, even with .loc:\u001b[0m\u001b[0;34m\u001b[0m\u001b[0;34m\u001b[0m\u001b[0;34m\u001b[0m\u001b[0m\n\u001b[1;32m   1284\u001b[0m                 \u001b[0mkwargs\u001b[0m \u001b[0;34m=\u001b[0m \u001b[0;34m{\u001b[0m\u001b[0;34m\"raise_missing\"\u001b[0m\u001b[0;34m:\u001b[0m \u001b[0;32mTrue\u001b[0m \u001b[0;32mif\u001b[0m \u001b[0mis_setter\u001b[0m \u001b[0;32melse\u001b[0m \u001b[0mraise_missing\u001b[0m\u001b[0;34m}\u001b[0m\u001b[0;34m\u001b[0m\u001b[0;34m\u001b[0m\u001b[0m\n\u001b[0;32m-> 1285\u001b[0;31m                 \u001b[0;32mreturn\u001b[0m \u001b[0mself\u001b[0m\u001b[0;34m.\u001b[0m\u001b[0m_get_listlike_indexer\u001b[0m\u001b[0;34m(\u001b[0m\u001b[0mobj\u001b[0m\u001b[0;34m,\u001b[0m \u001b[0maxis\u001b[0m\u001b[0;34m,\u001b[0m \u001b[0;34m**\u001b[0m\u001b[0mkwargs\u001b[0m\u001b[0;34m)\u001b[0m\u001b[0;34m[\u001b[0m\u001b[0;36m1\u001b[0m\u001b[0;34m]\u001b[0m\u001b[0;34m\u001b[0m\u001b[0;34m\u001b[0m\u001b[0m\n\u001b[0m\u001b[1;32m   1286\u001b[0m         \u001b[0;32melse\u001b[0m\u001b[0;34m:\u001b[0m\u001b[0;34m\u001b[0m\u001b[0;34m\u001b[0m\u001b[0m\n\u001b[1;32m   1287\u001b[0m             \u001b[0;32mtry\u001b[0m\u001b[0;34m:\u001b[0m\u001b[0;34m\u001b[0m\u001b[0;34m\u001b[0m\u001b[0m\n",
      "\u001b[0;32m~/Applications/anaconda3/envs/PythonData/lib/python3.7/site-packages/pandas/core/indexing.py\u001b[0m in \u001b[0;36m_get_listlike_indexer\u001b[0;34m(self, key, axis, raise_missing)\u001b[0m\n\u001b[1;32m   1090\u001b[0m \u001b[0;34m\u001b[0m\u001b[0m\n\u001b[1;32m   1091\u001b[0m         self._validate_read_indexer(\n\u001b[0;32m-> 1092\u001b[0;31m             \u001b[0mkeyarr\u001b[0m\u001b[0;34m,\u001b[0m \u001b[0mindexer\u001b[0m\u001b[0;34m,\u001b[0m \u001b[0mo\u001b[0m\u001b[0;34m.\u001b[0m\u001b[0m_get_axis_number\u001b[0m\u001b[0;34m(\u001b[0m\u001b[0maxis\u001b[0m\u001b[0;34m)\u001b[0m\u001b[0;34m,\u001b[0m \u001b[0mraise_missing\u001b[0m\u001b[0;34m=\u001b[0m\u001b[0mraise_missing\u001b[0m\u001b[0;34m\u001b[0m\u001b[0;34m\u001b[0m\u001b[0m\n\u001b[0m\u001b[1;32m   1093\u001b[0m         )\n\u001b[1;32m   1094\u001b[0m         \u001b[0;32mreturn\u001b[0m \u001b[0mkeyarr\u001b[0m\u001b[0;34m,\u001b[0m \u001b[0mindexer\u001b[0m\u001b[0;34m\u001b[0m\u001b[0;34m\u001b[0m\u001b[0m\n",
      "\u001b[0;32m~/Applications/anaconda3/envs/PythonData/lib/python3.7/site-packages/pandas/core/indexing.py\u001b[0m in \u001b[0;36m_validate_read_indexer\u001b[0;34m(self, key, indexer, axis, raise_missing)\u001b[0m\n\u001b[1;32m   1183\u001b[0m             \u001b[0;32mif\u001b[0m \u001b[0;32mnot\u001b[0m \u001b[0;34m(\u001b[0m\u001b[0mself\u001b[0m\u001b[0;34m.\u001b[0m\u001b[0mname\u001b[0m \u001b[0;34m==\u001b[0m \u001b[0;34m\"loc\"\u001b[0m \u001b[0;32mand\u001b[0m \u001b[0;32mnot\u001b[0m \u001b[0mraise_missing\u001b[0m\u001b[0;34m)\u001b[0m\u001b[0;34m:\u001b[0m\u001b[0;34m\u001b[0m\u001b[0;34m\u001b[0m\u001b[0m\n\u001b[1;32m   1184\u001b[0m                 \u001b[0mnot_found\u001b[0m \u001b[0;34m=\u001b[0m \u001b[0mlist\u001b[0m\u001b[0;34m(\u001b[0m\u001b[0mset\u001b[0m\u001b[0;34m(\u001b[0m\u001b[0mkey\u001b[0m\u001b[0;34m)\u001b[0m \u001b[0;34m-\u001b[0m \u001b[0mset\u001b[0m\u001b[0;34m(\u001b[0m\u001b[0max\u001b[0m\u001b[0;34m)\u001b[0m\u001b[0;34m)\u001b[0m\u001b[0;34m\u001b[0m\u001b[0;34m\u001b[0m\u001b[0m\n\u001b[0;32m-> 1185\u001b[0;31m                 \u001b[0;32mraise\u001b[0m \u001b[0mKeyError\u001b[0m\u001b[0;34m(\u001b[0m\u001b[0;34m\"{} not in index\"\u001b[0m\u001b[0;34m.\u001b[0m\u001b[0mformat\u001b[0m\u001b[0;34m(\u001b[0m\u001b[0mnot_found\u001b[0m\u001b[0;34m)\u001b[0m\u001b[0;34m)\u001b[0m\u001b[0;34m\u001b[0m\u001b[0;34m\u001b[0m\u001b[0m\n\u001b[0m\u001b[1;32m   1186\u001b[0m \u001b[0;34m\u001b[0m\u001b[0m\n\u001b[1;32m   1187\u001b[0m             \u001b[0;31m# we skip the warning on Categorical/Interval\u001b[0m\u001b[0;34m\u001b[0m\u001b[0;34m\u001b[0m\u001b[0;34m\u001b[0m\u001b[0m\n",
      "\u001b[0;31mKeyError\u001b[0m: \"['Median Price per SqFt Calculated'] not in index\""
     ]
    }
   ],
   "source": [
    "MLP_Jan46220_prediction_list = []\n",
    "for prediction in MLP_Jan46220_predictions_actual:\n",
    "    MLP_Jan46220_prediction_list.append(prediction[0])\n",
    "#prediction_list\n",
    "first_part = MLP_Jan46220_prediction_list[0:13]\n",
    "last_part = MLP_Jan46220_prediction_list[13:14]\n",
    "middle_part = January_46220[\"Median List Price\"].to_list()\n",
    "middle_part_final = middle_part[13:23]\n",
    "#Combine into new list\n",
    "january_46220_MLP_new = first_part + middle_part_final + last_part\n",
    "January_46220[\"Median List Price Calculated\"] = january_46220_MLP_new\n",
    "January_46220_Complete = January_46220[[\"Zip_Code\", \"Date\", \"Year\", \"Year_Integer\",\"Month\", \n",
    "                                        \"Median Market Value (Single Family)\", \"Median Price 1 Bedroom\",\n",
    "                                       \"Median Price 2 Bedroom\", \"Median Price 3 Bedroom\",\n",
    "                                       \"Median Price 4 Bedroom\", \"Median Price 5 Bedroom\",\n",
    "                                       \"Median Price per SqFt Calculated\", \"Median List Price Calculated\"]]\n",
    "January_46220_Complete.to_csv(\"January_46220_Complete.csv\")\n",
    "#Indianapolis_Housing_January = pd.concat([Indianapolis_Housing_January, January_46220_Complete])"
   ]
  },
  {
   "cell_type": "markdown",
   "metadata": {},
   "source": [
    "# **February 46220**"
   ]
  },
  {
   "cell_type": "markdown",
   "metadata": {},
   "source": [
    "### **Creating Data**"
   ]
  },
  {
   "cell_type": "code",
   "execution_count": null,
   "metadata": {
    "scrolled": true
   },
   "outputs": [],
   "source": [
    "February_Housing = Indianapolis_Housing.loc[Indianapolis_Housing[\"Month\"] == 2]\n",
    "February_Housing[\"Zip_Code\"] = February_Housing[\"Zip_Code\"].astype(str)\n",
    "#Zip Code 46220\n",
    "February_46220_initial = February_Housing.loc[February_Housing[\"Zip_Code\"] == \"46220\"]\n",
    "#print(len(January_46220[\"Zip_Code\"]))\n",
    "February_46220 = February_46220_initial[[\"Date\", \"Zip_Code\",\"Median List Price\", \"Median List Price per Square Foot\", \n",
    "                                  \"Median Market Value (Single Family)\", \"Median Price 1 Bedroom\",\n",
    "                                 \"Median Price 2 Bedroom\", \"Median Price 3 Bedroom\", \"Median Price 4 Bedroom\",\n",
    "                                 \"Median Price 5 Bedroom\", \"Year\", \"Month\"]]\n",
    "February_46220[\"Year_Integer\"] = February_46220[\"Year\"] - 1996\n",
    "#February_46220"
   ]
  },
  {
   "cell_type": "code",
   "execution_count": null,
   "metadata": {},
   "outputs": [],
   "source": [
    "February46220_available = February_46220.loc[(February_46220[\"Year_Integer\"] >= 14) & (February_46220[\"Year_Integer\"] <=23)]\n",
    "#Isolate the data that we want to use to predict the filled in values...\n",
    "February46220_predictionData1 = February_46220.loc[(February_46220[\"Year_Integer\"]>=1)&(February_46220[\"Year_Integer\"]<=13)]\n",
    "February46220_predictionData2 = February_46220.loc[February_46220[\"Year_Integer\"] >= 24]\n",
    "February46220_predictionData3 = pd.concat([February46220_predictionData1,February46220_predictionData2])\n",
    "February46220_predictionData = medianSqFt_predictionData3[[\"Median Market Value (Single Family)\", \"Median Price 1 Bedroom\", \n",
    "                              \"Median Price 2 Bedroom\", \"Median Price 3 Bedroom\", \"Median Price 4 Bedroom\",\n",
    "                             \"Median Price 5 Bedroom\", \"Year_Integer\"]]\n",
    "February46220_predictionData = February46220_predictionData[[\"Median Market Value (Single Family)\", \"Year_Integer\", \"Median Price 3 Bedroom\"]]\n",
    "#February46220_predictionData\n"
   ]
  },
  {
   "cell_type": "markdown",
   "metadata": {},
   "source": [
    "### **Median List Price per Square Foot**"
   ]
  },
  {
   "cell_type": "code",
   "execution_count": null,
   "metadata": {},
   "outputs": [],
   "source": [
    "#Create X and y values\n",
    "X = February46220_available[[\"Median Market Value (Single Family)\", \"Year_Integer\", \"Median Price 3 Bedroom\"]]\n",
    "y = February46220_available[\"Median List Price per Square Foot\"].values.reshape(-1, 1)\n",
    "print(X.shape, y.shape)\n",
    "#Create test/train data sets\n",
    "X_train, X_test, y_train, y_test = train_test_split(X, y, random_state=42)\n",
    "#X_train.head(9)"
   ]
  },
  {
   "cell_type": "code",
   "execution_count": null,
   "metadata": {},
   "outputs": [],
   "source": [
    "X_scaler = StandardScaler().fit(X_train)\n",
    "y_scaler = StandardScaler().fit(y_train)\n",
    "X_train_scaled = X_scaler.transform(X_train)\n",
    "X_test_scaled = X_scaler.transform(X_test)\n",
    "y_train_scaled = y_scaler.transform(y_train)\n",
    "y_test_scaled = y_scaler.transform(y_test)\n",
    "\n",
    "model = LinearRegression()\n",
    "model.fit(X_train_scaled, y_train_scaled)\n",
    "predictions = model.predict(X_test_scaled)\n",
    "MSE = mean_squared_error(y_test_scaled, predictions)\n",
    "r2 = model.score(X_test_scaled, y_test_scaled)\n",
    "\n",
    "print(f\"MSE: {MSE}, R2: {r2}\")"
   ]
  },
  {
   "cell_type": "code",
   "execution_count": null,
   "metadata": {},
   "outputs": [],
   "source": [
    "February46220_predictionData_scaled = X_scaler.transform(February46220_predictionData)\n",
    "\n",
    "MLPSqFt_Feb46220_predictions = model.predict(February46220_predictionData_scaled)\n",
    "MLPSqFt_Feb46220_predictions_actual = y_scaler.inverse_transform(MLPSqFt_Feb46220_predictions)\n",
    "#MLPSqFt_Feb46220_predictions_actual"
   ]
  },
  {
   "cell_type": "code",
   "execution_count": null,
   "metadata": {
    "scrolled": true
   },
   "outputs": [],
   "source": [
    "MLPSqFt_Feb46220_prediction_list = []\n",
    "for prediction in MLPSqFt_Feb46220_predictions_actual:\n",
    "    MLPSqFt_Feb46220_prediction_list.append(prediction[0])\n",
    "#prediction_list\n",
    "first_part = MLPSqFt_Feb46220_prediction_list[0:13]\n",
    "last_part = MLPSqFt_Feb46220_prediction_list[13:14]\n",
    "middle_part = February_46220[\"Median List Price per Square Foot\"].to_list()\n",
    "middle_part_final = middle_part[13:23]\n",
    "#Combine into new list\n",
    "February_46220_MLPSqFt_new = first_part + middle_part_final + last_part\n",
    "February_46220[\"Median List Price per SqFt Calculated\"] = middle_part\n",
    "#February_46220"
   ]
  },
  {
   "cell_type": "markdown",
   "metadata": {},
   "source": [
    "### **Median List Price**"
   ]
  },
  {
   "cell_type": "code",
   "execution_count": null,
   "metadata": {},
   "outputs": [],
   "source": [
    "#Create X and y values\n",
    "X = February46220_available[[\"Median Market Value (Single Family)\", \"Year_Integer\", \"Median Price 3 Bedroom\"]]\n",
    "y = February46220_available[\"Median List Price\"].values.reshape(-1, 1)\n",
    "print(X.shape, y.shape)\n",
    "#Create test/train data sets\n",
    "X_train, X_test, y_train, y_test = train_test_split(X, y, random_state=42)\n",
    "#X_train.head(9)"
   ]
  },
  {
   "cell_type": "code",
   "execution_count": null,
   "metadata": {},
   "outputs": [],
   "source": [
    "X_scaler = StandardScaler().fit(X_train)\n",
    "y_scaler = StandardScaler().fit(y_train)\n",
    "X_train_scaled = X_scaler.transform(X_train)\n",
    "X_test_scaled = X_scaler.transform(X_test)\n",
    "y_train_scaled = y_scaler.transform(y_train)\n",
    "y_test_scaled = y_scaler.transform(y_test)\n",
    "\n",
    "model = LinearRegression()\n",
    "model.fit(X_train_scaled, y_train_scaled)\n",
    "predictions = model.predict(X_test_scaled)\n",
    "MSE = mean_squared_error(y_test_scaled, predictions)\n",
    "r2 = model.score(X_test_scaled, y_test_scaled)\n",
    "\n",
    "print(f\"MSE: {MSE}, R2: {r2}\")"
   ]
  },
  {
   "cell_type": "code",
   "execution_count": null,
   "metadata": {},
   "outputs": [],
   "source": [
    "February46220_predictionData_scaled = X_scaler.transform(February46220_predictionData)\n",
    "\n",
    "MLP_Feb46220_predictions = model.predict(February46220_predictionData_scaled)\n",
    "MLP_Feb46220_predictions_actual = y_scaler.inverse_transform(MLPSqFt_Feb46220_predictions)\n",
    "#MLP_Feb46220_predictions_actual"
   ]
  },
  {
   "cell_type": "code",
   "execution_count": null,
   "metadata": {},
   "outputs": [],
   "source": [
    "MLP_Feb46220_prediction_list = []\n",
    "for prediction in MLP_Feb46220_predictions_actual:\n",
    "    MLP_Feb46220_prediction_list.append(prediction[0])\n",
    "#prediction_list\n",
    "first_part = MLP_Feb46220_prediction_list[0:13]\n",
    "last_part = MLP_Feb46220_prediction_list[13:14]\n",
    "middle_part = February_46220[\"Median List Price\"].to_list()\n",
    "middle_part_final = middle_part[13:23]\n",
    "#Combine into new list\n",
    "February_46220_MLP_new = first_part + middle_part_final + last_part\n",
    "February_46220[\"Median List Price Calculated\"] = February_46220_MLP_new\n",
    "#February_46220"
   ]
  },
  {
   "cell_type": "markdown",
   "metadata": {},
   "source": [
    "## **Create February DataFrame**"
   ]
  },
  {
   "cell_type": "code",
   "execution_count": null,
   "metadata": {},
   "outputs": [],
   "source": [
    "February_46220_Complete = February_46220[[\"Zip_Code\", \"Date\", \"Year\", \"Year_Integer\",\"Month\", \n",
    "                                        \"Median Market Value (Single Family)\", \"Median Price 1 Bedroom\",\n",
    "                                       \"Median Price 2 Bedroom\", \"Median Price 3 Bedroom\",\n",
    "                                       \"Median Price 4 Bedroom\", \"Median Price 5 Bedroom\",\n",
    "                                       \"Median List Price per SqFt Calculated\", \"Median List Price Calculated\"]]\n",
    "February_46220_Complete.to_csv(\"February_46220_Complete.csv\")"
   ]
  },
  {
   "cell_type": "markdown",
   "metadata": {},
   "source": [
    "# **March 46220**"
   ]
  },
  {
   "cell_type": "markdown",
   "metadata": {},
   "source": [
    "### **Creating Data**"
   ]
  },
  {
   "cell_type": "code",
   "execution_count": null,
   "metadata": {},
   "outputs": [],
   "source": [
    "March_Housing = Indianapolis_Housing.loc[Indianapolis_Housing[\"Month\"] == 3]\n",
    "March_Housing[\"Zip_Code\"] = March_Housing[\"Zip_Code\"].astype(str)\n",
    "#Zip Code 46220\n",
    "March_Housing_initial = March_Housing.loc[March_Housing[\"Zip_Code\"] == \"46220\"]\n",
    "#print(len(January_46220[\"Zip_Code\"]))\n",
    "March_46220 = March_Housing_initial[[\"Date\", \"Zip_Code\",\"Median List Price\", \"Median List Price per Square Foot\", \n",
    "                                  \"Median Market Value (Single Family)\", \"Median Price 1 Bedroom\",\n",
    "                                 \"Median Price 2 Bedroom\", \"Median Price 3 Bedroom\", \"Median Price 4 Bedroom\",\n",
    "                                 \"Median Price 5 Bedroom\", \"Year\", \"Month\"]]\n",
    "March_46220[\"Year_Integer\"] = March_Housing[\"Year\"] - 1996\n",
    "#March_46220"
   ]
  },
  {
   "cell_type": "code",
   "execution_count": null,
   "metadata": {},
   "outputs": [],
   "source": [
    "March46220_available = March_46220.loc[(March_46220[\"Year_Integer\"] >= 14) & (March_46220[\"Year_Integer\"] <=23)]\n",
    "#Isolate the data that we want to use to predict the filled in values...\n",
    "March46220_predictionData1 = March_46220.loc[(March_46220[\"Year_Integer\"]>=1)&(March_46220[\"Year_Integer\"]<=13)]\n",
    "March46220_predictionData2 = March_46220.loc[March_46220[\"Year_Integer\"] >= 24]\n",
    "March46220_predictionData3 = pd.concat([March46220_predictionData1,March46220_predictionData2])\n",
    "March46220_predictionData = medianSqFt_predictionData3[[\"Median Market Value (Single Family)\", \"Median Price 1 Bedroom\", \n",
    "                              \"Median Price 2 Bedroom\", \"Median Price 3 Bedroom\", \"Median Price 4 Bedroom\",\n",
    "                             \"Median Price 5 Bedroom\", \"Year_Integer\"]]\n",
    "March46220_predictionData = March46220_predictionData[[\"Median Market Value (Single Family)\", \"Year_Integer\", \"Median Price 3 Bedroom\"]]\n",
    "#March46220_predictionData"
   ]
  },
  {
   "cell_type": "markdown",
   "metadata": {},
   "source": [
    "### **Median List Price per Square Foot**"
   ]
  },
  {
   "cell_type": "code",
   "execution_count": null,
   "metadata": {},
   "outputs": [],
   "source": [
    "#Create X and y values\n",
    "X = March46220_available[[\"Median Market Value (Single Family)\", \"Year_Integer\", \"Median Price 3 Bedroom\"]]\n",
    "y = March46220_available[\"Median List Price per Square Foot\"].values.reshape(-1, 1)\n",
    "print(X.shape, y.shape)\n",
    "#Create test/train data sets\n",
    "X_train, X_test, y_train, y_test = train_test_split(X, y, random_state=42)\n",
    "#X_train.head(9)"
   ]
  },
  {
   "cell_type": "code",
   "execution_count": null,
   "metadata": {},
   "outputs": [],
   "source": [
    "X_scaler = StandardScaler().fit(X_train)\n",
    "y_scaler = StandardScaler().fit(y_train)\n",
    "X_train_scaled = X_scaler.transform(X_train)\n",
    "X_test_scaled = X_scaler.transform(X_test)\n",
    "y_train_scaled = y_scaler.transform(y_train)\n",
    "y_test_scaled = y_scaler.transform(y_test)\n",
    "\n",
    "model = LinearRegression()\n",
    "model.fit(X_train_scaled, y_train_scaled)\n",
    "predictions = model.predict(X_test_scaled)\n",
    "MSE = mean_squared_error(y_test_scaled, predictions)\n",
    "r2 = model.score(X_test_scaled, y_test_scaled)\n",
    "\n",
    "print(f\"MSE: {MSE}, R2: {r2}\")"
   ]
  },
  {
   "cell_type": "code",
   "execution_count": null,
   "metadata": {},
   "outputs": [],
   "source": [
    "March46220_predictionData_scaled = X_scaler.transform(March46220_predictionData)\n",
    "\n",
    "MLPSqFt_Mar46220_predictions = model.predict(March46220_predictionData_scaled)\n",
    "MLPSqFt_Mar46220_predictions_actual = y_scaler.inverse_transform(MLPSqFt_Mar46220_predictions)\n",
    "#MLPSqFt_Mar46220_predictions_actual"
   ]
  },
  {
   "cell_type": "code",
   "execution_count": null,
   "metadata": {},
   "outputs": [],
   "source": [
    "MLPSqFt_Mar46220_prediction_list = []\n",
    "for prediction in MLPSqFt_Mar46220_predictions_actual:\n",
    "    MLPSqFt_Mar46220_prediction_list.append(prediction[0])\n",
    "#prediction_list\n",
    "first_part = MLPSqFt_Mar46220_prediction_list[0:13]\n",
    "last_part = MLPSqFt_Mar46220_prediction_list[13:14]\n",
    "middle_part = March_46220[\"Median List Price per Square Foot\"].to_list()\n",
    "middle_part_final = middle_part[13:23]\n",
    "#Combine into new list\n",
    "March_46220_MLPSqFt_new = first_part + middle_part_final + last_part\n",
    "March_46220[\"Median List Price per SqFt Calculated\"] = March_46220_MLPSqFt_new\n",
    "#March_46220"
   ]
  },
  {
   "cell_type": "markdown",
   "metadata": {},
   "source": [
    "### **Median List Price**"
   ]
  },
  {
   "cell_type": "code",
   "execution_count": null,
   "metadata": {},
   "outputs": [],
   "source": [
    "#Create X and y values\n",
    "X = March46220_available[[\"Median Market Value (Single Family)\", \"Year_Integer\", \"Median Price 3 Bedroom\"]]\n",
    "y = March46220_available[\"Median List Price\"].values.reshape(-1, 1)\n",
    "print(X.shape, y.shape)\n",
    "#Create test/train data sets\n",
    "X_train, X_test, y_train, y_test = train_test_split(X, y, random_state=42)\n",
    "#X_train.head(9)\n",
    "\n",
    "X_scaler = StandardScaler().fit(X_train)\n",
    "y_scaler = StandardScaler().fit(y_train)\n",
    "X_train_scaled = X_scaler.transform(X_train)\n",
    "X_test_scaled = X_scaler.transform(X_test)\n",
    "y_train_scaled = y_scaler.transform(y_train)\n",
    "y_test_scaled = y_scaler.transform(y_test)\n",
    "\n",
    "model = LinearRegression()\n",
    "model.fit(X_train_scaled, y_train_scaled)\n",
    "predictions = model.predict(X_test_scaled)\n",
    "MSE = mean_squared_error(y_test_scaled, predictions)\n",
    "r2 = model.score(X_test_scaled, y_test_scaled)\n",
    "\n",
    "print(f\"MSE: {MSE}, R2: {r2}\")"
   ]
  },
  {
   "cell_type": "code",
   "execution_count": null,
   "metadata": {},
   "outputs": [],
   "source": []
  },
  {
   "cell_type": "code",
   "execution_count": null,
   "metadata": {},
   "outputs": [],
   "source": [
    "March46220_predictionData_scaled = X_scaler.transform(March46220_predictionData)\n",
    "\n",
    "MLP_Mar46220_predictions = model.predict(March46220_predictionData_scaled)\n",
    "MLP_Mar46220_predictions_actual = y_scaler.inverse_transform(MLP_Mar46220_predictions)\n",
    "#MLP_Mar46220_predictions_actual"
   ]
  },
  {
   "cell_type": "code",
   "execution_count": null,
   "metadata": {},
   "outputs": [],
   "source": [
    "MLP_Mar46220_prediction_list = []\n",
    "for prediction in MLP_Mar46220_predictions_actual:\n",
    "    MLP_Mar46220_prediction_list.append(prediction[0])\n",
    "#prediction_list\n",
    "first_part = MLP_Mar46220_prediction_list[0:13]\n",
    "last_part = MLP_Mar46220_prediction_list[13:14]\n",
    "middle_part = March_46220[\"Median List Price\"].to_list()\n",
    "middle_part_final = middle_part[13:23]\n",
    "#Combine into new list\n",
    "March_46220_MLP_new = first_part + middle_part_final + last_part\n",
    "March_46220[\"Median List Price Calculated\"] = March_46220_MLP_new\n",
    "#March_46220"
   ]
  },
  {
   "cell_type": "markdown",
   "metadata": {},
   "source": [
    "## **Create March DataFrame**"
   ]
  },
  {
   "cell_type": "code",
   "execution_count": null,
   "metadata": {},
   "outputs": [],
   "source": [
    "March_46220_Complete = March_46220[[\"Zip_Code\", \"Date\", \"Year\", \"Year_Integer\",\"Month\", \n",
    "                                        \"Median Market Value (Single Family)\", \"Median Price 1 Bedroom\",\n",
    "                                       \"Median Price 2 Bedroom\", \"Median Price 3 Bedroom\",\n",
    "                                       \"Median Price 4 Bedroom\", \"Median Price 5 Bedroom\",\n",
    "                                       \"Median List Price per SqFt Calculated\", \"Median List Price Calculated\"]]\n",
    "\n",
    "March_46220_Complete.to_csv(\"March_46220_Complete.csv\")"
   ]
  },
  {
   "cell_type": "markdown",
   "metadata": {},
   "source": [
    "# **April 46220**"
   ]
  },
  {
   "cell_type": "markdown",
   "metadata": {},
   "source": [
    "### **Creating Data**"
   ]
  },
  {
   "cell_type": "code",
   "execution_count": null,
   "metadata": {
    "scrolled": true
   },
   "outputs": [],
   "source": [
    "April_Housing = Indianapolis_Housing.loc[Indianapolis_Housing[\"Month\"] == 4]\n",
    "April_Housing[\"Zip_Code\"] = April_Housing[\"Zip_Code\"].astype(str)\n",
    "#Zip Code 46220\n",
    "April_Housing_initial = April_Housing.loc[April_Housing[\"Zip_Code\"] == \"46220\"]\n",
    "#print(len(January_46220[\"Zip_Code\"]))\n",
    "April_46220 = April_Housing_initial[[\"Date\", \"Zip_Code\",\"Median List Price\", \"Median List Price per Square Foot\", \n",
    "                                  \"Median Market Value (Single Family)\", \"Median Price 1 Bedroom\",\n",
    "                                 \"Median Price 2 Bedroom\", \"Median Price 3 Bedroom\", \"Median Price 4 Bedroom\",\n",
    "                                 \"Median Price 5 Bedroom\", \"Year\", \"Month\"]]\n",
    "April_46220[\"Year_Integer\"] = April_Housing[\"Year\"] - 1995\n",
    "#April_46220\n",
    "\n",
    "April46220_available = April_46220.loc[(April_46220[\"Year_Integer\"] >= 15) & (April_46220[\"Year_Integer\"] <=24)]\n",
    "#Isolate the data that we want to use to predict the filled in values...\n",
    "April46220_predictionData = April_46220.loc[(April_46220[\"Year_Integer\"]>=1)&(April_46220[\"Year_Integer\"]<=14)]\n",
    "April46220_predictionData = April46220_predictionData[[\"Median Market Value (Single Family)\", \"Year_Integer\", \"Median Price 3 Bedroom\"]]\n",
    "#April46220_predictionData"
   ]
  },
  {
   "cell_type": "code",
   "execution_count": null,
   "metadata": {},
   "outputs": [],
   "source": []
  },
  {
   "cell_type": "markdown",
   "metadata": {},
   "source": [
    "### **Median List Price per Square Foot**"
   ]
  },
  {
   "cell_type": "code",
   "execution_count": null,
   "metadata": {},
   "outputs": [],
   "source": [
    "#Create X and y values\n",
    "X = April46220_available[[\"Median Market Value (Single Family)\", \"Year_Integer\", \"Median Price 3 Bedroom\"]]\n",
    "y = April46220_available[\"Median List Price per Square Foot\"].values.reshape(-1, 1)\n",
    "print(X.shape, y.shape)\n",
    "#Create test/train data sets\n",
    "X_train, X_test, y_train, y_test = train_test_split(X, y, random_state=42)\n",
    "#X_train.head(9)\n",
    "\n",
    "X_scaler = StandardScaler().fit(X_train)\n",
    "y_scaler = StandardScaler().fit(y_train)\n",
    "X_train_scaled = X_scaler.transform(X_train)\n",
    "X_test_scaled = X_scaler.transform(X_test)\n",
    "y_train_scaled = y_scaler.transform(y_train)\n",
    "y_test_scaled = y_scaler.transform(y_test)\n",
    "\n",
    "model = LinearRegression()\n",
    "model.fit(X_train_scaled, y_train_scaled)\n",
    "predictions = model.predict(X_test_scaled)\n",
    "MSE = mean_squared_error(y_test_scaled, predictions)\n",
    "r2 = model.score(X_test_scaled, y_test_scaled)\n",
    "\n",
    "print(f\"MSE: {MSE}, R2: {r2}\")"
   ]
  },
  {
   "cell_type": "code",
   "execution_count": null,
   "metadata": {},
   "outputs": [],
   "source": []
  },
  {
   "cell_type": "code",
   "execution_count": null,
   "metadata": {},
   "outputs": [],
   "source": [
    "Apr46220_predictionData_scaled = X_scaler.transform(April46220_predictionData)\n",
    "\n",
    "MLPSqFt_Apr46220_predictions = model.predict(Apr46220_predictionData_scaled)\n",
    "MLPSqFt_Apr46220_predictions_actual = y_scaler.inverse_transform(MLPSqFt_Apr46220_predictions)\n",
    "#MLPSqFt_Apr46220_predictions_actual"
   ]
  },
  {
   "cell_type": "code",
   "execution_count": null,
   "metadata": {},
   "outputs": [],
   "source": [
    "MLPSqFt_Apr46220_prediction_list = []\n",
    "for prediction in MLPSqFt_Apr46220_predictions_actual:\n",
    "    MLPSqFt_Apr46220_prediction_list.append(prediction[0])\n",
    "#prediction_list\n",
    "end = April_46220[\"Median List Price per Square Foot\"].to_list()\n",
    "end_final = end[14:25]\n",
    "#Combine into new list\n",
    "April_46220_MLPSqFt_new = MLPSqFt_Apr46220_prediction_list + end_final\n",
    "April_46220[\"Median List Price per SqFt Calculated\"] = April_46220_MLPSqFt_new\n",
    "#April_46220\n"
   ]
  },
  {
   "cell_type": "markdown",
   "metadata": {},
   "source": [
    "### **Median List Price**"
   ]
  },
  {
   "cell_type": "code",
   "execution_count": null,
   "metadata": {},
   "outputs": [],
   "source": [
    "#Create X and y values\n",
    "X = April46220_available[[\"Median Market Value (Single Family)\", \"Year_Integer\", \"Median Price 3 Bedroom\"]]\n",
    "y = April46220_available[\"Median List Price\"].values.reshape(-1, 1)\n",
    "print(X.shape, y.shape)\n",
    "#Create test/train data sets\n",
    "X_train, X_test, y_train, y_test = train_test_split(X, y, random_state=42)\n",
    "#X_train.head(9)\n",
    "\n",
    "X_scaler = StandardScaler().fit(X_train)\n",
    "y_scaler = StandardScaler().fit(y_train)\n",
    "X_train_scaled = X_scaler.transform(X_train)\n",
    "X_test_scaled = X_scaler.transform(X_test)\n",
    "y_train_scaled = y_scaler.transform(y_train)\n",
    "y_test_scaled = y_scaler.transform(y_test)\n",
    "\n",
    "model = LinearRegression()\n",
    "model.fit(X_train_scaled, y_train_scaled)\n",
    "predictions = model.predict(X_test_scaled)\n",
    "MSE = mean_squared_error(y_test_scaled, predictions)\n",
    "r2 = model.score(X_test_scaled, y_test_scaled)\n",
    "\n",
    "print(f\"MSE: {MSE}, R2: {r2}\")"
   ]
  },
  {
   "cell_type": "code",
   "execution_count": null,
   "metadata": {},
   "outputs": [],
   "source": [
    "April46220_predictionData_scaled = X_scaler.transform(April46220_predictionData)\n",
    "\n",
    "MLP_Apr46220_predictions = model.predict(April46220_predictionData_scaled)\n",
    "MLP_Apr46220_predictions_actual = y_scaler.inverse_transform(MLP_Apr46220_predictions)\n",
    "#MLP_Apr46220_predictions_actual"
   ]
  },
  {
   "cell_type": "code",
   "execution_count": null,
   "metadata": {},
   "outputs": [],
   "source": [
    "MLP_Apr46220_prediction_list = []\n",
    "for prediction in MLP_Apr46220_predictions_actual:\n",
    "    MLP_Apr46220_prediction_list.append(prediction[0])\n",
    "#prediction_list\n",
    "end = April_46220[\"Median List Price\"].to_list()\n",
    "end_final = end[14:25]\n",
    "#Combine into new list\n",
    "April_46220_MLP_new = MLP_Apr46220_prediction_list + end_final\n",
    "April_46220[\"Median List Price Calculated\"] = April_46220_MLP_new\n",
    "#April_46220"
   ]
  },
  {
   "cell_type": "markdown",
   "metadata": {},
   "source": [
    "## **Create April DataFrame**"
   ]
  },
  {
   "cell_type": "code",
   "execution_count": null,
   "metadata": {},
   "outputs": [],
   "source": [
    "April_46220_Complete = April_46220[[\"Zip_Code\", \"Date\", \"Year\", \"Year_Integer\",\"Month\", \n",
    "                                        \"Median Market Value (Single Family)\", \"Median Price 1 Bedroom\",\n",
    "                                       \"Median Price 2 Bedroom\", \"Median Price 3 Bedroom\",\n",
    "                                       \"Median Price 4 Bedroom\", \"Median Price 5 Bedroom\",\n",
    "                                       \"Median List Price per SqFt Calculated\", \"Median List Price Calculated\"]]\n",
    "April_46220_Complete.to_csv(\"April_46220_Complete.csv\")"
   ]
  },
  {
   "cell_type": "markdown",
   "metadata": {},
   "source": [
    "# **May 46220**"
   ]
  },
  {
   "cell_type": "markdown",
   "metadata": {},
   "source": [
    "## **Create the Data**"
   ]
  },
  {
   "cell_type": "code",
   "execution_count": null,
   "metadata": {},
   "outputs": [],
   "source": [
    "May_Housing = Indianapolis_Housing.loc[Indianapolis_Housing[\"Month\"] == 5]\n",
    "May_Housing[\"Zip_Code\"] = May_Housing[\"Zip_Code\"].astype(str)\n",
    "#Zip Code 46220\n",
    "May_Housing_initial = May_Housing.loc[May_Housing[\"Zip_Code\"] == \"46220\"]\n",
    "#print(len(January_46220[\"Zip_Code\"]))\n",
    "May_46220 = May_Housing_initial[[\"Date\", \"Zip_Code\",\"Median List Price\", \"Median List Price per Square Foot\", \n",
    "                                  \"Median Market Value (Single Family)\", \"Median Price 1 Bedroom\",\n",
    "                                 \"Median Price 2 Bedroom\", \"Median Price 3 Bedroom\", \"Median Price 4 Bedroom\",\n",
    "                                 \"Median Price 5 Bedroom\", \"Year\", \"Month\"]]\n",
    "May_46220[\"Year_Integer\"] = May_Housing[\"Year\"] - 1995\n",
    "#April_46220\n",
    "\n",
    "May46220_available = May_46220.loc[(May_46220[\"Year_Integer\"] >= 15) & (May_46220[\"Year_Integer\"] <=24)]\n",
    "#Isolate the data that we want to use to predict the filled in values...\n",
    "May46220_predictionData = May_46220.loc[(May_46220[\"Year_Integer\"]>=1)&(May_46220[\"Year_Integer\"]<=14)]\n",
    "May46220_predictionData = May46220_predictionData[[\"Median Market Value (Single Family)\", \"Year_Integer\", \"Median Price 3 Bedroom\"]]\n",
    "#May46220_predictionData"
   ]
  },
  {
   "cell_type": "markdown",
   "metadata": {},
   "source": [
    "### **Median List Price per Square Foot**"
   ]
  },
  {
   "cell_type": "code",
   "execution_count": null,
   "metadata": {},
   "outputs": [],
   "source": [
    "#Create X and y values\n",
    "X = May46220_available[[\"Median Market Value (Single Family)\", \"Year_Integer\", \"Median Price 3 Bedroom\"]]\n",
    "y = May46220_available[\"Median List Price per Square Foot\"].values.reshape(-1, 1)\n",
    "print(X.shape, y.shape)\n",
    "#Create test/train data sets\n",
    "X_train, X_test, y_train, y_test = train_test_split(X, y, random_state=42)\n",
    "#X_train.head(9)\n",
    "\n",
    "X_scaler = StandardScaler().fit(X_train)\n",
    "y_scaler = StandardScaler().fit(y_train)\n",
    "X_train_scaled = X_scaler.transform(X_train)\n",
    "X_test_scaled = X_scaler.transform(X_test)\n",
    "y_train_scaled = y_scaler.transform(y_train)\n",
    "y_test_scaled = y_scaler.transform(y_test)\n",
    "\n",
    "model = LinearRegression()\n",
    "model.fit(X_train_scaled, y_train_scaled)\n",
    "predictions = model.predict(X_test_scaled)\n",
    "MSE = mean_squared_error(y_test_scaled, predictions)\n",
    "r2 = model.score(X_test_scaled, y_test_scaled)\n",
    "\n",
    "print(f\"MSE: {MSE}, R2: {r2}\")"
   ]
  },
  {
   "cell_type": "code",
   "execution_count": null,
   "metadata": {},
   "outputs": [],
   "source": [
    "May46220_predictionData_scaled = X_scaler.transform(May46220_predictionData)\n",
    "\n",
    "MLPSqFt_May46220_predictions = model.predict(May46220_predictionData_scaled)\n",
    "MLPSqFt_May46220_predictions_actual = y_scaler.inverse_transform(MLPSqFt_May46220_predictions)\n",
    "#MLPSqFt_May46220_predictions_actual"
   ]
  },
  {
   "cell_type": "code",
   "execution_count": null,
   "metadata": {},
   "outputs": [],
   "source": [
    "MLPSqFt_May46220_prediction_list = []\n",
    "for prediction in MLPSqFt_May46220_predictions_actual:\n",
    "    MLPSqFt_May46220_prediction_list.append(prediction[0])\n",
    "#prediction_list\n",
    "end = May_46220[\"Median List Price per Square Foot\"].to_list()\n",
    "end_final = end[14:25]\n",
    "#Combine into new list\n",
    "May_46220_MLPSqFt_new = MLPSqFt_May46220_prediction_list + end_final\n",
    "May_46220[\"Median List Price per SqFt Calculated\"] = May_46220_MLPSqFt_new\n",
    "#May_46220"
   ]
  },
  {
   "cell_type": "markdown",
   "metadata": {},
   "source": [
    "### **Median List Price**"
   ]
  },
  {
   "cell_type": "code",
   "execution_count": null,
   "metadata": {},
   "outputs": [],
   "source": [
    "#Create X and y values\n",
    "X = May46220_available[[\"Median Market Value (Single Family)\", \"Year_Integer\", \"Median Price 3 Bedroom\"]]\n",
    "y = May46220_available[\"Median List Price\"].values.reshape(-1, 1)\n",
    "print(X.shape, y.shape)\n",
    "#Create test/train data sets\n",
    "X_train, X_test, y_train, y_test = train_test_split(X, y, random_state=42)\n",
    "#X_train.head(9)\n",
    "\n",
    "X_scaler = StandardScaler().fit(X_train)\n",
    "y_scaler = StandardScaler().fit(y_train)\n",
    "X_train_scaled = X_scaler.transform(X_train)\n",
    "X_test_scaled = X_scaler.transform(X_test)\n",
    "y_train_scaled = y_scaler.transform(y_train)\n",
    "y_test_scaled = y_scaler.transform(y_test)\n",
    "\n",
    "model = LinearRegression()\n",
    "model.fit(X_train_scaled, y_train_scaled)\n",
    "predictions = model.predict(X_test_scaled)\n",
    "MSE = mean_squared_error(y_test_scaled, predictions)\n",
    "r2 = model.score(X_test_scaled, y_test_scaled)\n",
    "\n",
    "print(f\"MSE: {MSE}, R2: {r2}\")\n",
    "\n",
    "May46220_predictionData_scaled = X_scaler.transform(May46220_predictionData)\n",
    "\n",
    "MLP_May46220_predictions = model.predict(May46220_predictionData_scaled)\n",
    "MLP_May46220_predictions_actual = y_scaler.inverse_transform(MLP_May46220_predictions)\n",
    "#MLP_May46220_predictions_actual\n",
    "\n",
    "MLP_May46220_prediction_list = []\n",
    "for prediction in MLP_May46220_predictions_actual:\n",
    "    MLP_May46220_prediction_list.append(prediction[0])\n",
    "#prediction_list\n",
    "end = May_46220[\"Median List Price\"].to_list()\n",
    "end_final = end[14:25]\n",
    "#Combine into new list\n",
    "May_46220_MLP_new = MLP_May46220_prediction_list + end_final\n",
    "May_46220[\"Median List Price Calculated\"] = May_46220_MLP_new\n",
    "#May_46220\n"
   ]
  },
  {
   "cell_type": "markdown",
   "metadata": {},
   "source": [
    "## **Create May DataFrame**"
   ]
  },
  {
   "cell_type": "code",
   "execution_count": null,
   "metadata": {},
   "outputs": [],
   "source": [
    "May_46220_Complete = May_46220[[\"Zip_Code\", \"Date\", \"Year\", \"Year_Integer\",\"Month\", \n",
    "                                        \"Median Market Value (Single Family)\", \"Median Price 1 Bedroom\",\n",
    "                                       \"Median Price 2 Bedroom\", \"Median Price 3 Bedroom\",\n",
    "                                       \"Median Price 4 Bedroom\", \"Median Price 5 Bedroom\",\n",
    "                                       \"Median List Price per SqFt Calculated\", \"Median List Price Calculated\"]]\n",
    "May_46220_Complete.to_csv(\"May_46220_Complete.csv\")\n"
   ]
  },
  {
   "cell_type": "markdown",
   "metadata": {},
   "source": [
    "# **June 46220**"
   ]
  },
  {
   "cell_type": "markdown",
   "metadata": {},
   "source": [
    "## **Create the Data**"
   ]
  },
  {
   "cell_type": "code",
   "execution_count": null,
   "metadata": {},
   "outputs": [],
   "source": [
    "June_Housing = Indianapolis_Housing.loc[Indianapolis_Housing[\"Month\"] == 6]\n",
    "June_Housing[\"Zip_Code\"] = June_Housing[\"Zip_Code\"].astype(str)\n",
    "#Zip Code 46220\n",
    "June_Housing_initial = June_Housing.loc[June_Housing[\"Zip_Code\"] == \"46220\"]\n",
    "#print(len(January_46220[\"Zip_Code\"]))\n",
    "June_46220 = June_Housing_initial[[\"Date\", \"Zip_Code\",\"Median List Price\", \"Median List Price per Square Foot\", \n",
    "                                  \"Median Market Value (Single Family)\", \"Median Price 1 Bedroom\",\n",
    "                                 \"Median Price 2 Bedroom\", \"Median Price 3 Bedroom\", \"Median Price 4 Bedroom\",\n",
    "                                 \"Median Price 5 Bedroom\", \"Year\", \"Month\"]]\n",
    "June_46220[\"Year_Integer\"] = June_46220[\"Year\"] - 1995\n",
    "#June_46220\n",
    "\n",
    "June46220_available = June_46220.loc[(June_46220[\"Year_Integer\"] >= 15) & (June_46220[\"Year_Integer\"] <=24)]\n",
    "#Isolate the data that we want to use to predict the filled in values...\n",
    "June46220_predictionData = June_46220.loc[(June_46220[\"Year_Integer\"]>=1)&(June_46220[\"Year_Integer\"]<=14)]\n",
    "June46220_predictionData = June46220_predictionData[[\"Median Market Value (Single Family)\", \"Year_Integer\", \"Median Price 3 Bedroom\"]]\n",
    "#June46220_predictionData"
   ]
  },
  {
   "cell_type": "markdown",
   "metadata": {},
   "source": [
    "### **Median List Price per Square Foot**"
   ]
  },
  {
   "cell_type": "code",
   "execution_count": null,
   "metadata": {},
   "outputs": [],
   "source": [
    "#Create X and y values\n",
    "X = June46220_available[[\"Median Market Value (Single Family)\", \"Year_Integer\", \"Median Price 3 Bedroom\"]]\n",
    "y = June46220_available[\"Median List Price per Square Foot\"].values.reshape(-1, 1)\n",
    "print(X.shape, y.shape)\n",
    "#Create test/train data sets\n",
    "X_train, X_test, y_train, y_test = train_test_split(X, y, random_state=42)\n",
    "#X_train.head(9)\n",
    "\n",
    "X_scaler = StandardScaler().fit(X_train)\n",
    "y_scaler = StandardScaler().fit(y_train)\n",
    "X_train_scaled = X_scaler.transform(X_train)\n",
    "X_test_scaled = X_scaler.transform(X_test)\n",
    "y_train_scaled = y_scaler.transform(y_train)\n",
    "y_test_scaled = y_scaler.transform(y_test)\n",
    "\n",
    "model = LinearRegression()\n",
    "model.fit(X_train_scaled, y_train_scaled)\n",
    "predictions = model.predict(X_test_scaled)\n",
    "MSE = mean_squared_error(y_test_scaled, predictions)\n",
    "r2 = model.score(X_test_scaled, y_test_scaled)\n",
    "\n",
    "print(f\"MSE: {MSE}, R2: {r2}\")\n",
    "\n",
    "June46220_predictionData_scaled = X_scaler.transform(June46220_predictionData)\n",
    "\n",
    "MLPSqFt_June46220_predictions = model.predict(June46220_predictionData_scaled)\n",
    "MLPSqFt_June46220_predictions_actual = y_scaler.inverse_transform(MLPSqFt_June46220_predictions)\n",
    "#MLPSqFt_June46220_predictions_actual\n",
    "\n",
    "MLPSqFt_June46220_prediction_list = []\n",
    "for prediction in MLPSqFt_June46220_predictions_actual:\n",
    "    MLPSqFt_June46220_prediction_list.append(prediction[0])\n",
    "#prediction_list\n",
    "end = June_46220[\"Median List Price per Square Foot\"].to_list()\n",
    "end_final = end[14:25]\n",
    "#Combine into new list\n",
    "June_46220_MLPSqFt_new = MLPSqFt_June46220_prediction_list + end_final\n",
    "June_46220[\"Median List Price per SqFt Calculated\"] = June_46220_MLPSqFt_new\n",
    "#June_46220"
   ]
  },
  {
   "cell_type": "markdown",
   "metadata": {},
   "source": [
    "### **Median List Price**"
   ]
  },
  {
   "cell_type": "code",
   "execution_count": null,
   "metadata": {},
   "outputs": [],
   "source": [
    "#Create X and y values\n",
    "X = June46220_available[[\"Median Market Value (Single Family)\", \"Year_Integer\", \"Median Price 3 Bedroom\"]]\n",
    "y = June46220_available[\"Median List Price\"].values.reshape(-1, 1)\n",
    "print(X.shape, y.shape)\n",
    "#Create test/train data sets\n",
    "X_train, X_test, y_train, y_test = train_test_split(X, y, random_state=42)\n",
    "#X_train.head(9)\n",
    "\n",
    "X_scaler = StandardScaler().fit(X_train)\n",
    "y_scaler = StandardScaler().fit(y_train)\n",
    "X_train_scaled = X_scaler.transform(X_train)\n",
    "X_test_scaled = X_scaler.transform(X_test)\n",
    "y_train_scaled = y_scaler.transform(y_train)\n",
    "y_test_scaled = y_scaler.transform(y_test)\n",
    "\n",
    "model = LinearRegression()\n",
    "model.fit(X_train_scaled, y_train_scaled)\n",
    "predictions = model.predict(X_test_scaled)\n",
    "MSE = mean_squared_error(y_test_scaled, predictions)\n",
    "r2 = model.score(X_test_scaled, y_test_scaled)\n",
    "\n",
    "print(f\"MSE: {MSE}, R2: {r2}\")\n",
    "\n",
    "June46220_predictionData_scaled = X_scaler.transform(June46220_predictionData)\n",
    "\n",
    "MLP_June46220_predictions = model.predict(June46220_predictionData_scaled)\n",
    "MLP_June46220_predictions_actual = y_scaler.inverse_transform(MLP_June46220_predictions)\n",
    "#MLP_June46220_predictions_actual\n",
    "\n",
    "MLP_June46220_prediction_list = []\n",
    "for prediction in MLP_June46220_predictions_actual:\n",
    "    MLP_June46220_prediction_list.append(prediction[0])\n",
    "#prediction_list\n",
    "end = June_46220[\"Median List Price\"].to_list()\n",
    "end_final = end[14:25]\n",
    "#Combine into new list\n",
    "June_46220_MLP_new = MLP_June46220_prediction_list + end_final\n",
    "June_46220[\"Median List Price Calculated\"] = June_46220_MLP_new\n",
    "#June_46220\n"
   ]
  },
  {
   "cell_type": "markdown",
   "metadata": {},
   "source": [
    "## **Create June DataFrame**"
   ]
  },
  {
   "cell_type": "code",
   "execution_count": null,
   "metadata": {},
   "outputs": [],
   "source": [
    "June_46220_Complete = June_46220[[\"Zip_Code\", \"Date\", \"Year\", \"Year_Integer\",\"Month\", \n",
    "                                        \"Median Market Value (Single Family)\", \"Median Price 1 Bedroom\",\n",
    "                                       \"Median Price 2 Bedroom\", \"Median Price 3 Bedroom\",\n",
    "                                       \"Median Price 4 Bedroom\", \"Median Price 5 Bedroom\",\n",
    "                                       \"Median List Price per SqFt Calculated\", \"Median List Price Calculated\"]]\n",
    "\n",
    "June_46220_Complete.to_csv(\"June_46220_Complete.csv\")"
   ]
  },
  {
   "cell_type": "markdown",
   "metadata": {},
   "source": [
    "# **July 46220**"
   ]
  },
  {
   "cell_type": "markdown",
   "metadata": {},
   "source": [
    "## **Create the Data**"
   ]
  },
  {
   "cell_type": "code",
   "execution_count": null,
   "metadata": {},
   "outputs": [],
   "source": [
    "July_Housing = Indianapolis_Housing.loc[Indianapolis_Housing[\"Month\"] == 7]\n",
    "July_Housing[\"Zip_Code\"] = July_Housing[\"Zip_Code\"].astype(str)\n",
    "#Zip Code 46220\n",
    "July_Housing_initial = July_Housing.loc[July_Housing[\"Zip_Code\"] == \"46220\"]\n",
    "\n",
    "July_46220 = July_Housing_initial[[\"Date\", \"Zip_Code\",\"Median List Price\", \"Median List Price per Square Foot\", \n",
    "                                  \"Median Market Value (Single Family)\", \"Median Price 1 Bedroom\",\n",
    "                                 \"Median Price 2 Bedroom\", \"Median Price 3 Bedroom\", \"Median Price 4 Bedroom\",\n",
    "                                 \"Median Price 5 Bedroom\", \"Year\", \"Month\"]]\n",
    "July_46220[\"Year_Integer\"] = July_46220[\"Year\"] - 1995\n",
    "#July_46220\n",
    "\n",
    "July46220_available = July_46220.loc[(July_46220[\"Year_Integer\"] >= 15) & (July_46220[\"Year_Integer\"] <=24)]\n",
    "#Isolate the data that we want to use to predict the filled in values...\n",
    "July46220_predictionData = July_46220.loc[(July_46220[\"Year_Integer\"]>=1)&(July_46220[\"Year_Integer\"]<=14)]\n",
    "July46220_predictionData = July46220_predictionData[[\"Median Market Value (Single Family)\", \"Year_Integer\", \"Median Price 3 Bedroom\"]]\n",
    "#July46220_predictionData"
   ]
  },
  {
   "cell_type": "markdown",
   "metadata": {},
   "source": [
    "## **Median List Price per Square Foot**"
   ]
  },
  {
   "cell_type": "code",
   "execution_count": null,
   "metadata": {},
   "outputs": [],
   "source": [
    "#Create X and y values\n",
    "X = July46220_available[[\"Median Market Value (Single Family)\", \"Year_Integer\", \"Median Price 3 Bedroom\"]]\n",
    "y = July46220_available[\"Median List Price per Square Foot\"].values.reshape(-1, 1)\n",
    "print(X.shape, y.shape)\n",
    "#Create test/train data sets\n",
    "X_train, X_test, y_train, y_test = train_test_split(X, y, random_state=42)\n",
    "#X_train.head(9)\n",
    "\n",
    "X_scaler = StandardScaler().fit(X_train)\n",
    "y_scaler = StandardScaler().fit(y_train)\n",
    "X_train_scaled = X_scaler.transform(X_train)\n",
    "X_test_scaled = X_scaler.transform(X_test)\n",
    "y_train_scaled = y_scaler.transform(y_train)\n",
    "y_test_scaled = y_scaler.transform(y_test)\n",
    "\n",
    "model = LinearRegression()\n",
    "model.fit(X_train_scaled, y_train_scaled)\n",
    "predictions = model.predict(X_test_scaled)\n",
    "MSE = mean_squared_error(y_test_scaled, predictions)\n",
    "r2 = model.score(X_test_scaled, y_test_scaled)\n",
    "\n",
    "print(f\"MSE: {MSE}, R2: {r2}\")\n",
    "\n",
    "July46220_predictionData_scaled = X_scaler.transform(July46220_predictionData)\n",
    "\n",
    "MLPSqFt_July46220_predictions = model.predict(July46220_predictionData_scaled)\n",
    "MLPSqFt_July46220_predictions_actual = y_scaler.inverse_transform(MLPSqFt_July46220_predictions)\n",
    "#MLPSqFt_July46220_predictions_actual\n",
    "\n",
    "MLPSqFt_July46220_prediction_list = []\n",
    "for prediction in MLPSqFt_July46220_predictions_actual:\n",
    "    MLPSqFt_July46220_prediction_list.append(prediction[0])\n",
    "#prediction_list\n",
    "end = July_46220[\"Median List Price per Square Foot\"].to_list()\n",
    "end_final = end[14:25]\n",
    "#Combine into new list\n",
    "July_46220_MLPSqFt_new = MLPSqFt_July46220_prediction_list + end_final\n",
    "July_46220[\"Median List Price per SqFt Calculated\"] = July_46220_MLPSqFt_new\n",
    "#July_46220"
   ]
  },
  {
   "cell_type": "markdown",
   "metadata": {},
   "source": [
    "## **Median List Price**"
   ]
  },
  {
   "cell_type": "code",
   "execution_count": null,
   "metadata": {},
   "outputs": [],
   "source": [
    "#Create X and y values\n",
    "X = July46220_available[[\"Median Market Value (Single Family)\", \"Year_Integer\", \"Median Price 3 Bedroom\"]]\n",
    "y = July46220_available[\"Median List Price\"].values.reshape(-1, 1)\n",
    "print(X.shape, y.shape)\n",
    "#Create test/train data sets\n",
    "X_train, X_test, y_train, y_test = train_test_split(X, y, random_state=42)\n",
    "#X_train.head(9)\n",
    "\n",
    "X_scaler = StandardScaler().fit(X_train)\n",
    "y_scaler = StandardScaler().fit(y_train)\n",
    "X_train_scaled = X_scaler.transform(X_train)\n",
    "X_test_scaled = X_scaler.transform(X_test)\n",
    "y_train_scaled = y_scaler.transform(y_train)\n",
    "y_test_scaled = y_scaler.transform(y_test)\n",
    "\n",
    "model = LinearRegression()\n",
    "model.fit(X_train_scaled, y_train_scaled)\n",
    "predictions = model.predict(X_test_scaled)\n",
    "MSE = mean_squared_error(y_test_scaled, predictions)\n",
    "r2 = model.score(X_test_scaled, y_test_scaled)\n",
    "\n",
    "print(f\"MSE: {MSE}, R2: {r2}\")\n",
    "\n",
    "July46220_predictionData_scaled = X_scaler.transform(July46220_predictionData)\n",
    "\n",
    "MLP_July46220_predictions = model.predict(July46220_predictionData_scaled)\n",
    "MLP_July46220_predictions_actual = y_scaler.inverse_transform(MLP_July46220_predictions)\n",
    "#MLP_July46220_predictions_actual\n",
    "\n",
    "MLP_July46220_prediction_list = []\n",
    "for prediction in MLP_July46220_predictions_actual:\n",
    "    MLP_July46220_prediction_list.append(prediction[0])\n",
    "#prediction_list\n",
    "end = July_46220[\"Median List Price\"].to_list()\n",
    "end_final = end[14:25]\n",
    "#Combine into new list\n",
    "July_46220_MLP_new = MLP_July46220_prediction_list + end_final\n",
    "July_46220[\"Median List Price Calculated\"] = July_46220_MLP_new\n",
    "#July_46220\n"
   ]
  },
  {
   "cell_type": "markdown",
   "metadata": {},
   "source": [
    "## **Create July DataFrame**"
   ]
  },
  {
   "cell_type": "code",
   "execution_count": null,
   "metadata": {},
   "outputs": [],
   "source": [
    "July_46220_Complete = July_46220[[\"Zip_Code\", \"Date\", \"Year\", \"Year_Integer\",\"Month\", \n",
    "                                        \"Median Market Value (Single Family)\", \"Median Price 1 Bedroom\",\n",
    "                                       \"Median Price 2 Bedroom\", \"Median Price 3 Bedroom\",\n",
    "                                       \"Median Price 4 Bedroom\", \"Median Price 5 Bedroom\",\n",
    "                                       \"Median List Price per SqFt Calculated\", \"Median List Price Calculated\"]]\n",
    "July_46220_Complete.to_csv(\"July_46220_Complete.csv\")\n"
   ]
  },
  {
   "cell_type": "markdown",
   "metadata": {},
   "source": [
    "# **August 46220**"
   ]
  },
  {
   "cell_type": "markdown",
   "metadata": {},
   "source": [
    "## **Create the Data**"
   ]
  },
  {
   "cell_type": "code",
   "execution_count": null,
   "metadata": {},
   "outputs": [],
   "source": [
    "August_Housing = Indianapolis_Housing.loc[Indianapolis_Housing[\"Month\"] == 8]\n",
    "August_Housing[\"Zip_Code\"] = August_Housing[\"Zip_Code\"].astype(str)\n",
    "#Zip Code 46220\n",
    "August_Housing_initial = August_Housing.loc[August_Housing[\"Zip_Code\"] == \"46220\"]\n",
    "\n",
    "August_46220 = August_Housing_initial[[\"Date\", \"Zip_Code\",\"Median List Price\", \"Median List Price per Square Foot\", \n",
    "                                  \"Median Market Value (Single Family)\", \"Median Price 1 Bedroom\",\n",
    "                                 \"Median Price 2 Bedroom\", \"Median Price 3 Bedroom\", \"Median Price 4 Bedroom\",\n",
    "                                 \"Median Price 5 Bedroom\", \"Year\", \"Month\"]]\n",
    "August_46220[\"Year_Integer\"] = August_46220[\"Year\"] - 1995\n",
    "#August_46220\n",
    "\n",
    "August46220_available = August_46220.loc[(August_46220[\"Year_Integer\"] >= 15) & (August_46220[\"Year_Integer\"] <=24)]\n",
    "#Isolate the data that we want to use to predict the filled in values...\n",
    "August46220_predictionData = August_46220.loc[(August_46220[\"Year_Integer\"]>=1)&(August_46220[\"Year_Integer\"]<=14)]\n",
    "August46220_predictionData = August46220_predictionData[[\"Median Market Value (Single Family)\", \"Year_Integer\", \"Median Price 3 Bedroom\"]]\n",
    "#August46220_predictionData"
   ]
  },
  {
   "cell_type": "markdown",
   "metadata": {},
   "source": [
    "## **Median List Price per Square Foot**"
   ]
  },
  {
   "cell_type": "code",
   "execution_count": null,
   "metadata": {},
   "outputs": [],
   "source": [
    "#Create X and y values\n",
    "X = August46220_available[[\"Median Market Value (Single Family)\", \"Year_Integer\", \"Median Price 3 Bedroom\"]]\n",
    "y = August46220_available[\"Median List Price per Square Foot\"].values.reshape(-1, 1)\n",
    "print(X.shape, y.shape)\n",
    "#Create test/train data sets\n",
    "X_train, X_test, y_train, y_test = train_test_split(X, y, random_state=42)\n",
    "#X_train.head(9)\n",
    "\n",
    "X_scaler = StandardScaler().fit(X_train)\n",
    "y_scaler = StandardScaler().fit(y_train)\n",
    "X_train_scaled = X_scaler.transform(X_train)\n",
    "X_test_scaled = X_scaler.transform(X_test)\n",
    "y_train_scaled = y_scaler.transform(y_train)\n",
    "y_test_scaled = y_scaler.transform(y_test)\n",
    "\n",
    "model = LinearRegression()\n",
    "model.fit(X_train_scaled, y_train_scaled)\n",
    "predictions = model.predict(X_test_scaled)\n",
    "MSE = mean_squared_error(y_test_scaled, predictions)\n",
    "r2 = model.score(X_test_scaled, y_test_scaled)\n",
    "\n",
    "print(f\"MSE: {MSE}, R2: {r2}\")\n",
    "\n",
    "August46220_predictionData_scaled = X_scaler.transform(August46220_predictionData)\n",
    "\n",
    "MLPSqFt_August46220_predictions = model.predict(August46220_predictionData_scaled)\n",
    "MLPSqFt_August46220_predictions_actual = y_scaler.inverse_transform(MLPSqFt_August46220_predictions)\n",
    "#MLPSqFt_August46220_predictions_actual\n",
    "\n",
    "MLPSqFt_August46220_prediction_list = []\n",
    "for prediction in MLPSqFt_August46220_predictions_actual:\n",
    "    MLPSqFt_August46220_prediction_list.append(prediction[0])\n",
    "#prediction_list\n",
    "end = August_46220[\"Median List Price per Square Foot\"].to_list()\n",
    "end_final = end[14:25]\n",
    "#Combine into new list\n",
    "August_46220_MLPSqFt_new = MLPSqFt_August46220_prediction_list + end_final\n",
    "August_46220[\"Median List Price per SqFt Calculated\"] = August_46220_MLPSqFt_new\n",
    "#August_46220"
   ]
  },
  {
   "cell_type": "markdown",
   "metadata": {},
   "source": [
    "## **Median List Price**"
   ]
  },
  {
   "cell_type": "code",
   "execution_count": null,
   "metadata": {},
   "outputs": [],
   "source": [
    "#Create X and y values\n",
    "X = August46220_available[[\"Median Market Value (Single Family)\", \"Year_Integer\", \"Median Price 3 Bedroom\"]]\n",
    "y = August46220_available[\"Median List Price\"].values.reshape(-1, 1)\n",
    "print(X.shape, y.shape)\n",
    "#Create test/train data sets\n",
    "X_train, X_test, y_train, y_test = train_test_split(X, y, random_state=42)\n",
    "#X_train.head(9)\n",
    "\n",
    "X_scaler = StandardScaler().fit(X_train)\n",
    "y_scaler = StandardScaler().fit(y_train)\n",
    "X_train_scaled = X_scaler.transform(X_train)\n",
    "X_test_scaled = X_scaler.transform(X_test)\n",
    "y_train_scaled = y_scaler.transform(y_train)\n",
    "y_test_scaled = y_scaler.transform(y_test)\n",
    "\n",
    "model = LinearRegression()\n",
    "model.fit(X_train_scaled, y_train_scaled)\n",
    "predictions = model.predict(X_test_scaled)\n",
    "MSE = mean_squared_error(y_test_scaled, predictions)\n",
    "r2 = model.score(X_test_scaled, y_test_scaled)\n",
    "\n",
    "print(f\"MSE: {MSE}, R2: {r2}\")\n",
    "\n",
    "August46220_predictionData_scaled = X_scaler.transform(August46220_predictionData)\n",
    "\n",
    "MLP_August46220_predictions = model.predict(August46220_predictionData_scaled)\n",
    "MLP_August46220_predictions_actual = y_scaler.inverse_transform(MLP_August46220_predictions)\n",
    "#MLP_August46220_predictions_actual\n",
    "\n",
    "MLP_August46220_prediction_list = []\n",
    "for prediction in MLP_August46220_predictions_actual:\n",
    "    MLP_August46220_prediction_list.append(prediction[0])\n",
    "#prediction_list\n",
    "end = August_46220[\"Median List Price\"].to_list()\n",
    "end_final = end[14:25]\n",
    "#Combine into new list\n",
    "August_46220_MLP_new = MLP_August46220_prediction_list + end_final\n",
    "August_46220[\"Median List Price Calculated\"] = August_46220_MLP_new\n",
    "#August_46220\n"
   ]
  },
  {
   "cell_type": "markdown",
   "metadata": {},
   "source": [
    "## **Create the August DataFrame**"
   ]
  },
  {
   "cell_type": "code",
   "execution_count": null,
   "metadata": {},
   "outputs": [],
   "source": [
    "August_46220_Complete = August_46220[[\"Zip_Code\", \"Date\", \"Year\", \"Year_Integer\",\"Month\", \n",
    "                                        \"Median Market Value (Single Family)\", \"Median Price 1 Bedroom\",\n",
    "                                       \"Median Price 2 Bedroom\", \"Median Price 3 Bedroom\",\n",
    "                                       \"Median Price 4 Bedroom\", \"Median Price 5 Bedroom\",\n",
    "                                       \"Median List Price per SqFt Calculated\", \"Median List Price Calculated\"]]\n",
    "August_46220_Complete.to_csv(\"August_46220_Complete.csv\")"
   ]
  },
  {
   "cell_type": "markdown",
   "metadata": {},
   "source": [
    "# **September 46220**"
   ]
  },
  {
   "cell_type": "markdown",
   "metadata": {},
   "source": [
    "# **Create the Data**"
   ]
  },
  {
   "cell_type": "code",
   "execution_count": null,
   "metadata": {},
   "outputs": [],
   "source": [
    "September_Housing = Indianapolis_Housing.loc[Indianapolis_Housing[\"Month\"] == 9]\n",
    "September_Housing[\"Zip_Code\"] = September_Housing[\"Zip_Code\"].astype(str)\n",
    "#Zip Code 46220\n",
    "September_Housing_initial = September_Housing.loc[September_Housing[\"Zip_Code\"] == \"46220\"]\n",
    "\n",
    "September_46220 = September_Housing_initial[[\"Date\", \"Zip_Code\",\"Median List Price\", \"Median List Price per Square Foot\", \n",
    "                                  \"Median Market Value (Single Family)\", \"Median Price 1 Bedroom\",\n",
    "                                 \"Median Price 2 Bedroom\", \"Median Price 3 Bedroom\", \"Median Price 4 Bedroom\",\n",
    "                                 \"Median Price 5 Bedroom\", \"Year\", \"Month\"]]\n",
    "September_46220[\"Year_Integer\"] = September_46220[\"Year\"] - 1995\n",
    "#September_46220\n",
    "\n",
    "September46220_available = September_46220.loc[(September_46220[\"Year_Integer\"] >= 15) & (September_46220[\"Year_Integer\"] <=24)]\n",
    "#Isolate the data that we want to use to predict the filled in values...\n",
    "September46220_predictionData = September_46220.loc[(September_46220[\"Year_Integer\"]>=1)&(September_46220[\"Year_Integer\"]<=14)]\n",
    "September46220_predictionData = September46220_predictionData[[\"Median Market Value (Single Family)\", \"Year_Integer\", \"Median Price 3 Bedroom\"]]\n",
    "#September46220_predictionData"
   ]
  },
  {
   "cell_type": "markdown",
   "metadata": {},
   "source": [
    "# **Median Price per Square Foot**"
   ]
  },
  {
   "cell_type": "code",
   "execution_count": null,
   "metadata": {},
   "outputs": [],
   "source": [
    "#Create X and y values\n",
    "X = September46220_available[[\"Median Market Value (Single Family)\", \"Year_Integer\", \"Median Price 3 Bedroom\"]]\n",
    "y = September46220_available[\"Median List Price per Square Foot\"].values.reshape(-1, 1)\n",
    "print(X.shape, y.shape)\n",
    "#Create test/train data sets\n",
    "X_train, X_test, y_train, y_test = train_test_split(X, y, random_state=42)\n",
    "#X_train.head(9)\n",
    "\n",
    "X_scaler = StandardScaler().fit(X_train)\n",
    "y_scaler = StandardScaler().fit(y_train)\n",
    "X_train_scaled = X_scaler.transform(X_train)\n",
    "X_test_scaled = X_scaler.transform(X_test)\n",
    "y_train_scaled = y_scaler.transform(y_train)\n",
    "y_test_scaled = y_scaler.transform(y_test)\n",
    "\n",
    "model = LinearRegression()\n",
    "model.fit(X_train_scaled, y_train_scaled)\n",
    "predictions = model.predict(X_test_scaled)\n",
    "MSE = mean_squared_error(y_test_scaled, predictions)\n",
    "r2 = model.score(X_test_scaled, y_test_scaled)\n",
    "\n",
    "print(f\"MSE: {MSE}, R2: {r2}\")\n",
    "\n",
    "September46220_predictionData_scaled = X_scaler.transform(September46220_predictionData)\n",
    "\n",
    "MLPSqFt_September46220_predictions = model.predict(September46220_predictionData_scaled)\n",
    "MLPSqFt_September46220_predictions_actual = y_scaler.inverse_transform(MLPSqFt_September46220_predictions)\n",
    "#MLPSqFt_September46220_predictions_actual\n",
    "\n",
    "MLPSqFt_September46220_prediction_list = []\n",
    "for prediction in MLPSqFt_September46220_predictions_actual:\n",
    "    MLPSqFt_September46220_prediction_list.append(prediction[0])\n",
    "#prediction_list\n",
    "end = September_46220[\"Median List Price per Square Foot\"].to_list()\n",
    "end_final = end[14:25]\n",
    "#Combine into new list\n",
    "September_46220_MLPSqFt_new = MLPSqFt_September46220_prediction_list + end_final\n",
    "September_46220[\"Median List Price per SqFt Calculated\"] = September_46220_MLPSqFt_new\n",
    "#September_46220"
   ]
  },
  {
   "cell_type": "markdown",
   "metadata": {},
   "source": [
    "# **Median List Price**"
   ]
  },
  {
   "cell_type": "code",
   "execution_count": null,
   "metadata": {},
   "outputs": [],
   "source": [
    "#Create X and y values\n",
    "X = September46220_available[[\"Median Market Value (Single Family)\", \"Year_Integer\", \"Median Price 3 Bedroom\"]]\n",
    "y = September46220_available[\"Median List Price\"].values.reshape(-1, 1)\n",
    "print(X.shape, y.shape)\n",
    "#Create test/train data sets\n",
    "X_train, X_test, y_train, y_test = train_test_split(X, y, random_state=42)\n",
    "#X_train.head(9)\n",
    "\n",
    "X_scaler = StandardScaler().fit(X_train)\n",
    "y_scaler = StandardScaler().fit(y_train)\n",
    "X_train_scaled = X_scaler.transform(X_train)\n",
    "X_test_scaled = X_scaler.transform(X_test)\n",
    "y_train_scaled = y_scaler.transform(y_train)\n",
    "y_test_scaled = y_scaler.transform(y_test)\n",
    "\n",
    "model = LinearRegression()\n",
    "model.fit(X_train_scaled, y_train_scaled)\n",
    "predictions = model.predict(X_test_scaled)\n",
    "MSE = mean_squared_error(y_test_scaled, predictions)\n",
    "r2 = model.score(X_test_scaled, y_test_scaled)\n",
    "\n",
    "print(f\"MSE: {MSE}, R2: {r2}\")\n",
    "\n",
    "September46220_predictionData_scaled = X_scaler.transform(September46220_predictionData)\n",
    "\n",
    "MLP_September46220_predictions = model.predict(September46220_predictionData_scaled)\n",
    "MLP_September46220_predictions_actual = y_scaler.inverse_transform(MLP_September46220_predictions)\n",
    "#MLP_September46220_predictions_actual\n",
    "\n",
    "MLP_September46220_prediction_list = []\n",
    "for prediction in MLP_September46220_predictions_actual:\n",
    "    MLP_September46220_prediction_list.append(prediction[0])\n",
    "#prediction_list\n",
    "end = September_46220[\"Median List Price\"].to_list()\n",
    "end_final = end[14:25]\n",
    "#Combine into new list\n",
    "September_46220_MLP_new = MLP_September46220_prediction_list + end_final\n",
    "September_46220[\"Median List Price Calculated\"] = September_46220_MLP_new\n",
    "#September_46220\n"
   ]
  },
  {
   "cell_type": "markdown",
   "metadata": {},
   "source": [
    "# **Create the September DataFrame**"
   ]
  },
  {
   "cell_type": "code",
   "execution_count": null,
   "metadata": {},
   "outputs": [],
   "source": [
    "September_46220_Complete = September_46220[[\"Zip_Code\", \"Date\", \"Year\", \"Year_Integer\",\"Month\", \n",
    "                                        \"Median Market Value (Single Family)\", \"Median Price 1 Bedroom\",\n",
    "                                       \"Median Price 2 Bedroom\", \"Median Price 3 Bedroom\",\n",
    "                                       \"Median Price 4 Bedroom\", \"Median Price 5 Bedroom\",\n",
    "                                       \"Median List Price per SqFt Calculated\", \"Median List Price Calculated\"]]\n",
    "September_46220_Complete.to_csv(\"September_46220_Complete.csv\")"
   ]
  },
  {
   "cell_type": "markdown",
   "metadata": {},
   "source": [
    "# **October 46220**"
   ]
  },
  {
   "cell_type": "markdown",
   "metadata": {},
   "source": [
    "## **Create the Data**"
   ]
  },
  {
   "cell_type": "code",
   "execution_count": null,
   "metadata": {},
   "outputs": [],
   "source": [
    "October_Housing = Indianapolis_Housing.loc[Indianapolis_Housing[\"Month\"] == 10]\n",
    "October_Housing[\"Zip_Code\"] = October_Housing[\"Zip_Code\"].astype(str)\n",
    "#Zip Code 46220\n",
    "October_Housing_initial = October_Housing.loc[October_Housing[\"Zip_Code\"] == \"46220\"]\n",
    "\n",
    "October_46220 = October_Housing_initial[[\"Date\", \"Zip_Code\",\"Median List Price\", \"Median List Price per Square Foot\", \n",
    "                                  \"Median Market Value (Single Family)\", \"Median Price 1 Bedroom\",\n",
    "                                 \"Median Price 2 Bedroom\", \"Median Price 3 Bedroom\", \"Median Price 4 Bedroom\",\n",
    "                                 \"Median Price 5 Bedroom\", \"Year\", \"Month\"]]\n",
    "October_46220[\"Year_Integer\"] = October_46220[\"Year\"] - 1995\n",
    "#October_46220\n",
    "\n",
    "October46220_available = October_46220.loc[(October_46220[\"Year_Integer\"] >= 15) & (October_46220[\"Year_Integer\"] <=24)]\n",
    "#Isolate the data that we want to use to predict the filled in values...\n",
    "October46220_predictionData = October_46220.loc[(October_46220[\"Year_Integer\"]>=1)&(October_46220[\"Year_Integer\"]<=14)]\n",
    "October46220_predictionData = October46220_predictionData[[\"Median Market Value (Single Family)\", \"Year_Integer\", \"Median Price 3 Bedroom\"]]\n",
    "#October46220_predictionData"
   ]
  },
  {
   "cell_type": "markdown",
   "metadata": {},
   "source": [
    "## **Median List Price per Square Foot**"
   ]
  },
  {
   "cell_type": "code",
   "execution_count": null,
   "metadata": {},
   "outputs": [],
   "source": [
    "#Create X and y values\n",
    "X = October46220_available[[\"Median Market Value (Single Family)\", \"Year_Integer\", \"Median Price 3 Bedroom\"]]\n",
    "y = October46220_available[\"Median List Price per Square Foot\"].values.reshape(-1, 1)\n",
    "print(X.shape, y.shape)\n",
    "#Create test/train data sets\n",
    "X_train, X_test, y_train, y_test = train_test_split(X, y, random_state=42)\n",
    "#X_train.head(9)\n",
    "\n",
    "X_scaler = StandardScaler().fit(X_train)\n",
    "y_scaler = StandardScaler().fit(y_train)\n",
    "X_train_scaled = X_scaler.transform(X_train)\n",
    "X_test_scaled = X_scaler.transform(X_test)\n",
    "y_train_scaled = y_scaler.transform(y_train)\n",
    "y_test_scaled = y_scaler.transform(y_test)\n",
    "\n",
    "model = LinearRegression()\n",
    "model.fit(X_train_scaled, y_train_scaled)\n",
    "predictions = model.predict(X_test_scaled)\n",
    "MSE = mean_squared_error(y_test_scaled, predictions)\n",
    "r2 = model.score(X_test_scaled, y_test_scaled)\n",
    "\n",
    "print(f\"MSE: {MSE}, R2: {r2}\")\n",
    "\n",
    "October46220_predictionData_scaled = X_scaler.transform(October46220_predictionData)\n",
    "\n",
    "MLPSqFt_October46220_predictions = model.predict(October46220_predictionData_scaled)\n",
    "MLPSqFt_October46220_predictions_actual = y_scaler.inverse_transform(MLPSqFt_October46220_predictions)\n",
    "#MLPSqFt_October46220_predictions_actual\n",
    "\n",
    "MLPSqFt_October46220_prediction_list = []\n",
    "for prediction in MLPSqFt_October46220_predictions_actual:\n",
    "    MLPSqFt_October46220_prediction_list.append(prediction[0])\n",
    "#prediction_list\n",
    "end = October_46220[\"Median List Price per Square Foot\"].to_list()\n",
    "end_final = end[14:25]\n",
    "#Combine into new list\n",
    "October_46220_MLPSqFt_new = MLPSqFt_October46220_prediction_list + end_final\n",
    "October_46220[\"Median List Price per SqFt Calculated\"] = October_46220_MLPSqFt_new\n",
    "#October_46220"
   ]
  },
  {
   "cell_type": "markdown",
   "metadata": {},
   "source": [
    "## **Median List Price**"
   ]
  },
  {
   "cell_type": "code",
   "execution_count": null,
   "metadata": {},
   "outputs": [],
   "source": [
    "#Create X and y values\n",
    "X = October46220_available[[\"Median Market Value (Single Family)\", \"Year_Integer\", \"Median Price 3 Bedroom\"]]\n",
    "y = October46220_available[\"Median List Price\"].values.reshape(-1, 1)\n",
    "print(X.shape, y.shape)\n",
    "#Create test/train data sets\n",
    "X_train, X_test, y_train, y_test = train_test_split(X, y, random_state=42)\n",
    "#X_train.head(9)\n",
    "\n",
    "X_scaler = StandardScaler().fit(X_train)\n",
    "y_scaler = StandardScaler().fit(y_train)\n",
    "X_train_scaled = X_scaler.transform(X_train)\n",
    "X_test_scaled = X_scaler.transform(X_test)\n",
    "y_train_scaled = y_scaler.transform(y_train)\n",
    "y_test_scaled = y_scaler.transform(y_test)\n",
    "\n",
    "model = LinearRegression()\n",
    "model.fit(X_train_scaled, y_train_scaled)\n",
    "predictions = model.predict(X_test_scaled)\n",
    "MSE = mean_squared_error(y_test_scaled, predictions)\n",
    "r2 = model.score(X_test_scaled, y_test_scaled)\n",
    "\n",
    "print(f\"MSE: {MSE}, R2: {r2}\")\n",
    "\n",
    "October46220_predictionData_scaled = X_scaler.transform(October46220_predictionData)\n",
    "\n",
    "MLP_October46220_predictions = model.predict(October46220_predictionData_scaled)\n",
    "MLP_October46220_predictions_actual = y_scaler.inverse_transform(MLP_October46220_predictions)\n",
    "#MLP_October46220_predictions_actual\n",
    "\n",
    "MLP_October46220_prediction_list = []\n",
    "for prediction in MLP_October46220_predictions_actual:\n",
    "    MLP_October46220_prediction_list.append(prediction[0])\n",
    "#prediction_list\n",
    "end = October_46220[\"Median List Price\"].to_list()\n",
    "end_final = end[14:25]\n",
    "#Combine into new list\n",
    "October_46220_MLP_new = MLP_October46220_prediction_list + end_final\n",
    "October_46220[\"Median List Price Calculated\"] = October_46220_MLP_new\n",
    "#October_46220\n"
   ]
  },
  {
   "cell_type": "markdown",
   "metadata": {},
   "source": [
    "## **Create the October DataFrame**"
   ]
  },
  {
   "cell_type": "code",
   "execution_count": null,
   "metadata": {},
   "outputs": [],
   "source": [
    "October_46220_Complete = October_46220[[\"Zip_Code\", \"Date\", \"Year\", \"Year_Integer\",\"Month\", \n",
    "                                        \"Median Market Value (Single Family)\", \"Median Price 1 Bedroom\",\n",
    "                                       \"Median Price 2 Bedroom\", \"Median Price 3 Bedroom\",\n",
    "                                       \"Median Price 4 Bedroom\", \"Median Price 5 Bedroom\",\n",
    "                                       \"Median List Price per SqFt Calculated\", \"Median List Price Calculated\"]]\n",
    "October_46220_Complete.to_csv(\"October_46220_Complete.csv\")"
   ]
  },
  {
   "cell_type": "markdown",
   "metadata": {},
   "source": [
    "# **November 46220**"
   ]
  },
  {
   "cell_type": "markdown",
   "metadata": {},
   "source": [
    "## **Create the Data**"
   ]
  },
  {
   "cell_type": "code",
   "execution_count": null,
   "metadata": {},
   "outputs": [],
   "source": [
    "November_Housing = Indianapolis_Housing.loc[Indianapolis_Housing[\"Month\"] == 11]\n",
    "November_Housing[\"Zip_Code\"] = November_Housing[\"Zip_Code\"].astype(str)\n",
    "#Zip Code 46220\n",
    "November_Housing_initial = November_Housing.loc[November_Housing[\"Zip_Code\"] == \"46220\"]\n",
    "\n",
    "November_46220 = November_Housing_initial[[\"Date\", \"Zip_Code\",\"Median List Price\", \"Median List Price per Square Foot\", \n",
    "                                  \"Median Market Value (Single Family)\", \"Median Price 1 Bedroom\",\n",
    "                                 \"Median Price 2 Bedroom\", \"Median Price 3 Bedroom\", \"Median Price 4 Bedroom\",\n",
    "                                 \"Median Price 5 Bedroom\", \"Year\", \"Month\"]]\n",
    "November_46220[\"Year_Integer\"] = November_46220[\"Year\"] - 1995\n",
    "#November_46220\n",
    "\n",
    "November46220_available = November_46220.loc[(November_46220[\"Year_Integer\"] >= 15) & (November_46220[\"Year_Integer\"] <=24)]\n",
    "#Isolate the data that we want to use to predict the filled in values...\n",
    "November46220_predictionData = November_46220.loc[(November_46220[\"Year_Integer\"]>=1)&(November_46220[\"Year_Integer\"]<=14)]\n",
    "November46220_predictionData = November46220_predictionData[[\"Median Market Value (Single Family)\", \"Year_Integer\", \"Median Price 3 Bedroom\"]]\n",
    "#November46220_predictionData"
   ]
  },
  {
   "cell_type": "markdown",
   "metadata": {},
   "source": [
    "## **Median List Price per Square Foot**"
   ]
  },
  {
   "cell_type": "code",
   "execution_count": null,
   "metadata": {},
   "outputs": [],
   "source": [
    "#Create X and y values\n",
    "X = November46220_available[[\"Median Market Value (Single Family)\", \"Year_Integer\", \"Median Price 3 Bedroom\"]]\n",
    "y = November46220_available[\"Median List Price per Square Foot\"].values.reshape(-1, 1)\n",
    "print(X.shape, y.shape)\n",
    "#Create test/train data sets\n",
    "X_train, X_test, y_train, y_test = train_test_split(X, y, random_state=42)\n",
    "#X_train.head(9)\n",
    "\n",
    "X_scaler = StandardScaler().fit(X_train)\n",
    "y_scaler = StandardScaler().fit(y_train)\n",
    "X_train_scaled = X_scaler.transform(X_train)\n",
    "X_test_scaled = X_scaler.transform(X_test)\n",
    "y_train_scaled = y_scaler.transform(y_train)\n",
    "y_test_scaled = y_scaler.transform(y_test)\n",
    "\n",
    "model = LinearRegression()\n",
    "model.fit(X_train_scaled, y_train_scaled)\n",
    "predictions = model.predict(X_test_scaled)\n",
    "MSE = mean_squared_error(y_test_scaled, predictions)\n",
    "r2 = model.score(X_test_scaled, y_test_scaled)\n",
    "\n",
    "print(f\"MSE: {MSE}, R2: {r2}\")\n",
    "\n",
    "November46220_predictionData_scaled = X_scaler.transform(November46220_predictionData)\n",
    "\n",
    "MLPSqFt_November46220_predictions = model.predict(November46220_predictionData_scaled)\n",
    "MLPSqFt_November46220_predictions_actual = y_scaler.inverse_transform(MLPSqFt_November46220_predictions)\n",
    "#MLPSqFt_November46220_predictions_actual\n",
    "\n",
    "MLPSqFt_November46220_prediction_list = []\n",
    "for prediction in MLPSqFt_November46220_predictions_actual:\n",
    "    MLPSqFt_November46220_prediction_list.append(prediction[0])\n",
    "#prediction_list\n",
    "end = November_46220[\"Median List Price per Square Foot\"].to_list()\n",
    "end_final = end[14:25]\n",
    "#Combine into new list\n",
    "November_46220_MLPSqFt_new = MLPSqFt_November46220_prediction_list + end_final\n",
    "November_46220[\"Median List Price per SqFt Calculated\"] = November_46220_MLPSqFt_new\n",
    "#November_46220"
   ]
  },
  {
   "cell_type": "markdown",
   "metadata": {},
   "source": [
    "## **Median List Price**"
   ]
  },
  {
   "cell_type": "code",
   "execution_count": null,
   "metadata": {},
   "outputs": [],
   "source": [
    "#Create X and y values\n",
    "X = November46220_available[[\"Median Market Value (Single Family)\", \"Year_Integer\", \"Median Price 3 Bedroom\"]]\n",
    "y = November46220_available[\"Median List Price\"].values.reshape(-1, 1)\n",
    "print(X.shape, y.shape)\n",
    "#Create test/train data sets\n",
    "X_train, X_test, y_train, y_test = train_test_split(X, y, random_state=42)\n",
    "#X_train.head(9)\n",
    "\n",
    "X_scaler = StandardScaler().fit(X_train)\n",
    "y_scaler = StandardScaler().fit(y_train)\n",
    "X_train_scaled = X_scaler.transform(X_train)\n",
    "X_test_scaled = X_scaler.transform(X_test)\n",
    "y_train_scaled = y_scaler.transform(y_train)\n",
    "y_test_scaled = y_scaler.transform(y_test)\n",
    "\n",
    "model = LinearRegression()\n",
    "model.fit(X_train_scaled, y_train_scaled)\n",
    "predictions = model.predict(X_test_scaled)\n",
    "MSE = mean_squared_error(y_test_scaled, predictions)\n",
    "r2 = model.score(X_test_scaled, y_test_scaled)\n",
    "\n",
    "print(f\"MSE: {MSE}, R2: {r2}\")\n",
    "\n",
    "November46220_predictionData_scaled = X_scaler.transform(November46220_predictionData)\n",
    "\n",
    "MLP_November46220_predictions = model.predict(November46220_predictionData_scaled)\n",
    "MLP_November46220_predictions_actual = y_scaler.inverse_transform(MLP_November46220_predictions)\n",
    "#MLP_November46220_predictions_actual\n",
    "\n",
    "MLP_November46220_prediction_list = []\n",
    "for prediction in MLP_November46220_predictions_actual:\n",
    "    MLP_November46220_prediction_list.append(prediction[0])\n",
    "#prediction_list\n",
    "end = November_46220[\"Median List Price\"].to_list()\n",
    "end_final = end[14:25]\n",
    "#Combine into new list\n",
    "November_46220_MLP_new = MLP_November46220_prediction_list + end_final\n",
    "November_46220[\"Median List Price Calculated\"] = November_46220_MLP_new\n",
    "#November_46220\n"
   ]
  },
  {
   "cell_type": "markdown",
   "metadata": {},
   "source": [
    "## **Create the November DataFrame**"
   ]
  },
  {
   "cell_type": "code",
   "execution_count": null,
   "metadata": {},
   "outputs": [],
   "source": [
    "November_46220_Complete = November_46220[[\"Zip_Code\", \"Date\", \"Year\", \"Year_Integer\",\"Month\", \n",
    "                                        \"Median Market Value (Single Family)\", \"Median Price 1 Bedroom\",\n",
    "                                       \"Median Price 2 Bedroom\", \"Median Price 3 Bedroom\",\n",
    "                                       \"Median Price 4 Bedroom\", \"Median Price 5 Bedroom\",\n",
    "                                       \"Median List Price per SqFt Calculated\", \"Median List Price Calculated\"]]\n",
    "November_46220_Complete.to_csv(\"November_46220_Complete.csv\")"
   ]
  },
  {
   "cell_type": "markdown",
   "metadata": {},
   "source": [
    "# **December 46220**"
   ]
  },
  {
   "cell_type": "markdown",
   "metadata": {},
   "source": [
    "## **Create the Data**"
   ]
  },
  {
   "cell_type": "code",
   "execution_count": null,
   "metadata": {},
   "outputs": [],
   "source": [
    "December_Housing = Indianapolis_Housing.loc[Indianapolis_Housing[\"Month\"] == 12]\n",
    "December_Housing[\"Zip_Code\"] = December_Housing[\"Zip_Code\"].astype(str)\n",
    "#Zip Code 46220\n",
    "December_Housing_initial = December_Housing.loc[December_Housing[\"Zip_Code\"] == \"46220\"]\n",
    "\n",
    "December_46220 = December_Housing_initial[[\"Date\", \"Zip_Code\",\"Median List Price\", \"Median List Price per Square Foot\", \n",
    "                                  \"Median Market Value (Single Family)\", \"Median Price 1 Bedroom\",\n",
    "                                 \"Median Price 2 Bedroom\", \"Median Price 3 Bedroom\", \"Median Price 4 Bedroom\",\n",
    "                                 \"Median Price 5 Bedroom\", \"Year\", \"Month\"]]\n",
    "December_46220[\"Year_Integer\"] = December_46220[\"Year\"] - 1995\n",
    "#December_46220\n",
    "\n",
    "December46220_available = December_46220.loc[(December_46220[\"Year_Integer\"] >= 15) & (December_46220[\"Year_Integer\"] <=24)]\n",
    "#Isolate the data that we want to use to predict the filled in values...\n",
    "December46220_predictionData = December_46220.loc[(December_46220[\"Year_Integer\"]>=1)&(December_46220[\"Year_Integer\"]<=14)]\n",
    "December46220_predictionData = December46220_predictionData[[\"Median Market Value (Single Family)\", \"Year_Integer\", \"Median Price 3 Bedroom\"]]\n",
    "#December46220_predictionData"
   ]
  },
  {
   "cell_type": "markdown",
   "metadata": {},
   "source": [
    "## **Median List Price per Square Foot**"
   ]
  },
  {
   "cell_type": "code",
   "execution_count": null,
   "metadata": {},
   "outputs": [],
   "source": [
    "#Create X and y values\n",
    "X = December46220_available[[\"Median Market Value (Single Family)\", \"Year_Integer\", \"Median Price 3 Bedroom\"]]\n",
    "y = December46220_available[\"Median List Price per Square Foot\"].values.reshape(-1, 1)\n",
    "print(X.shape, y.shape)\n",
    "#Create test/train data sets\n",
    "X_train, X_test, y_train, y_test = train_test_split(X, y, random_state=42)\n",
    "#X_train.head(9)\n",
    "\n",
    "X_scaler = StandardScaler().fit(X_train)\n",
    "y_scaler = StandardScaler().fit(y_train)\n",
    "X_train_scaled = X_scaler.transform(X_train)\n",
    "X_test_scaled = X_scaler.transform(X_test)\n",
    "y_train_scaled = y_scaler.transform(y_train)\n",
    "y_test_scaled = y_scaler.transform(y_test)\n",
    "\n",
    "model = LinearRegression()\n",
    "model.fit(X_train_scaled, y_train_scaled)\n",
    "predictions = model.predict(X_test_scaled)\n",
    "MSE = mean_squared_error(y_test_scaled, predictions)\n",
    "r2 = model.score(X_test_scaled, y_test_scaled)\n",
    "\n",
    "print(f\"MSE: {MSE}, R2: {r2}\")\n",
    "\n",
    "December46220_predictionData_scaled = X_scaler.transform(December46220_predictionData)\n",
    "\n",
    "MLPSqFt_December46220_predictions = model.predict(December46220_predictionData_scaled)\n",
    "MLPSqFt_December46220_predictions_actual = y_scaler.inverse_transform(MLPSqFt_December46220_predictions)\n",
    "#MLPSqFt_December46220_predictions_actual\n",
    "\n",
    "MLPSqFt_December46220_prediction_list = []\n",
    "for prediction in MLPSqFt_December46220_predictions_actual:\n",
    "    MLPSqFt_December46220_prediction_list.append(prediction[0])\n",
    "#prediction_list\n",
    "end = December_46220[\"Median List Price per Square Foot\"].to_list()\n",
    "end_final = end[14:25]\n",
    "#Combine into new list\n",
    "December_46220_MLPSqFt_new = MLPSqFt_December46220_prediction_list + end_final\n",
    "December_46220[\"Median List Price per SqFt Calculated\"] = December_46220_MLPSqFt_new\n",
    "#December_46220"
   ]
  },
  {
   "cell_type": "markdown",
   "metadata": {},
   "source": [
    "## **Median List Price**"
   ]
  },
  {
   "cell_type": "code",
   "execution_count": null,
   "metadata": {},
   "outputs": [],
   "source": [
    "#Create X and y values\n",
    "X = December46220_available[[\"Median Market Value (Single Family)\", \"Year_Integer\", \"Median Price 3 Bedroom\"]]\n",
    "y = December46220_available[\"Median List Price\"].values.reshape(-1, 1)\n",
    "print(X.shape, y.shape)\n",
    "#Create test/train data sets\n",
    "X_train, X_test, y_train, y_test = train_test_split(X, y, random_state=42)\n",
    "#X_train.head(9)\n",
    "\n",
    "X_scaler = StandardScaler().fit(X_train)\n",
    "y_scaler = StandardScaler().fit(y_train)\n",
    "X_train_scaled = X_scaler.transform(X_train)\n",
    "X_test_scaled = X_scaler.transform(X_test)\n",
    "y_train_scaled = y_scaler.transform(y_train)\n",
    "y_test_scaled = y_scaler.transform(y_test)\n",
    "\n",
    "model = LinearRegression()\n",
    "model.fit(X_train_scaled, y_train_scaled)\n",
    "predictions = model.predict(X_test_scaled)\n",
    "MSE = mean_squared_error(y_test_scaled, predictions)\n",
    "r2 = model.score(X_test_scaled, y_test_scaled)\n",
    "\n",
    "print(f\"MSE: {MSE}, R2: {r2}\")\n",
    "\n",
    "December46220_predictionData_scaled = X_scaler.transform(December46220_predictionData)\n",
    "\n",
    "MLP_December46220_predictions = model.predict(December46220_predictionData_scaled)\n",
    "MLP_December46220_predictions_actual = y_scaler.inverse_transform(MLP_December46220_predictions)\n",
    "#MLP_December46220_predictions_actual\n",
    "\n",
    "MLP_December46220_prediction_list = []\n",
    "for prediction in MLP_December46220_predictions_actual:\n",
    "    MLP_December46220_prediction_list.append(prediction[0])\n",
    "#prediction_list\n",
    "end = December_46220[\"Median List Price\"].to_list()\n",
    "end_final = end[14:25]\n",
    "#Combine into new list\n",
    "December_46220_MLP_new = MLP_December46220_prediction_list + end_final\n",
    "December_46220[\"Median List Price Calculated\"] = December_46220_MLP_new\n",
    "#December_46220\n"
   ]
  },
  {
   "cell_type": "markdown",
   "metadata": {},
   "source": [
    "## **Create the December DataFrame**"
   ]
  },
  {
   "cell_type": "code",
   "execution_count": null,
   "metadata": {},
   "outputs": [],
   "source": [
    "December_46220_Complete = December_46220[[\"Zip_Code\", \"Date\", \"Year\", \"Year_Integer\",\"Month\", \n",
    "                                        \"Median Market Value (Single Family)\", \"Median Price 1 Bedroom\",\n",
    "                                       \"Median Price 2 Bedroom\", \"Median Price 3 Bedroom\",\n",
    "                                       \"Median Price 4 Bedroom\", \"Median Price 5 Bedroom\",\n",
    "                                       \"Median List Price per SqFt Calculated\", \"Median List Price Calculated\"]]\n",
    "December_46220_Complete.to_csv(\"December_46220_Complete.csv\")"
   ]
  },
  {
   "cell_type": "code",
   "execution_count": null,
   "metadata": {},
   "outputs": [],
   "source": []
  },
  {
   "cell_type": "markdown",
   "metadata": {},
   "source": [
    "# **Write a for loop to fill in the data**"
   ]
  },
  {
   "cell_type": "code",
   "execution_count": null,
   "metadata": {},
   "outputs": [],
   "source": []
  },
  {
   "cell_type": "markdown",
   "metadata": {},
   "source": [
    "## **January 46202**"
   ]
  },
  {
   "cell_type": "code",
   "execution_count": null,
   "metadata": {},
   "outputs": [],
   "source": []
  },
  {
   "cell_type": "code",
   "execution_count": null,
   "metadata": {},
   "outputs": [],
   "source": []
  }
 ],
 "metadata": {
  "kernelspec": {
   "display_name": "Python [conda env:PythonData] *",
   "language": "python",
   "name": "conda-env-PythonData-py"
  },
  "language_info": {
   "codemirror_mode": {
    "name": "ipython",
    "version": 3
   },
   "file_extension": ".py",
   "mimetype": "text/x-python",
   "name": "python",
   "nbconvert_exporter": "python",
   "pygments_lexer": "ipython3",
   "version": "3.7.5"
  }
 },
 "nbformat": 4,
 "nbformat_minor": 2
}
