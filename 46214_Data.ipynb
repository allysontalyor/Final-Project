{
 "cells": [
  {
   "cell_type": "code",
   "execution_count": 226,
   "metadata": {},
   "outputs": [],
   "source": [
    "import pandas as pd\n",
    "from sklearn.metrics import mean_squared_error\n",
    "from sklearn.preprocessing import StandardScaler\n",
    "from sklearn.linear_model import LinearRegression\n",
    "import matplotlib.pyplot as plt\n",
    "import numpy as np\n",
    "from sklearn.model_selection import train_test_split"
   ]
  },
  {
   "cell_type": "code",
   "execution_count": 227,
   "metadata": {},
   "outputs": [],
   "source": [
    "Indianapolis_Housing = pd.read_csv(\"Indianapolis_Housing.csv\")\n",
    "#Indianapolis_Housing_Data.head()"
   ]
  },
  {
   "cell_type": "code",
   "execution_count": 228,
   "metadata": {
    "scrolled": true
   },
   "outputs": [
    {
     "name": "stderr",
     "output_type": "stream",
     "text": [
      "/Users/allysontalyor/Applications/anaconda3/envs/PythonData/lib/python3.7/site-packages/ipykernel_launcher.py:9: SettingWithCopyWarning: \n",
      "A value is trying to be set on a copy of a slice from a DataFrame.\n",
      "Try using .loc[row_indexer,col_indexer] = value instead\n",
      "\n",
      "See the caveats in the documentation: http://pandas.pydata.org/pandas-docs/stable/user_guide/indexing.html#returning-a-view-versus-a-copy\n",
      "  if __name__ == '__main__':\n"
     ]
    }
   ],
   "source": [
    "Indianapolis_Housing_46214 = Indianapolis_Housing.copy()\n",
    "Indianapolis_Housing_46214[\"Zip_Code\"] = Indianapolis_Housing_46214[\"Zip_Code\"].astype(str)\n",
    "Indianapolis_Housing_46214 = Indianapolis_Housing_46214.loc[Indianapolis_Housing_46214[\"Zip_Code\"] == '46214']\n",
    "Indianapolis_Housing_46214 = Indianapolis_Housing_46214[[\"Date\", \"Zip_Code\",\"Median List Price\", \"Median List Price per Square Foot\", \n",
    "                                  \"Median Market Value (Single Family)\", \"Median Price 1 Bedroom\",\n",
    "                                 \"Median Price 2 Bedroom\", \"Median Price 3 Bedroom\", \"Median Price 4 Bedroom\",\n",
    "                                 \"Median Price 5 Bedroom\", \"Year\", \"Month\"]]\n",
    "January_46214 = Indianapolis_Housing_46214.loc[Indianapolis_Housing_46214[\"Month\"]==1]\n",
    "January_46214[\"Year_Integer\"] = January_46214[\"Year\"] - 1996\n",
    "#January_46214"
   ]
  },
  {
   "cell_type": "code",
   "execution_count": 229,
   "metadata": {},
   "outputs": [],
   "source": [
    "#create lists to hold the r squared values\n",
    "MLPSqFt_46214 = []\n",
    "MLP_46214 = []\n",
    "OneBedroom_46214 = []"
   ]
  },
  {
   "cell_type": "code",
   "execution_count": null,
   "metadata": {
    "scrolled": true
   },
   "outputs": [],
   "source": []
  },
  {
   "cell_type": "markdown",
   "metadata": {},
   "source": [
    "# **January 46214**"
   ]
  },
  {
   "cell_type": "code",
   "execution_count": 230,
   "metadata": {},
   "outputs": [],
   "source": [
    "January46214_available = January_46214.loc[(January_46214[\"Year_Integer\"] >= 14) & (January_46214[\"Year_Integer\"] <=23)]\n",
    "#Isolate the data that we want to use to predict the filled in values...\n",
    "January46214_predictionData1 = January_46214.loc[(January_46214[\"Year_Integer\"]>=1)&(January_46214[\"Year_Integer\"]<=13)]\n",
    "January46214_predictionData2 = January_46214.loc[January_46214[\"Year_Integer\"] >= 24]\n",
    "January_predictionData3 = pd.concat([January46214_predictionData1,January46214_predictionData2])\n",
    "January46214_predictionData = January_predictionData3[[\"Median Market Value (Single Family)\", \"Median Price 1 Bedroom\", \n",
    "                              \"Median Price 2 Bedroom\", \"Median Price 3 Bedroom\", \"Median Price 4 Bedroom\",\n",
    "                             \"Median Price 5 Bedroom\", \"Year_Integer\"]]\n",
    "January46214_predictionData = January46214_predictionData[[\"Median Market Value (Single Family)\", \"Year_Integer\", \"Median Price 3 Bedroom\"]]\n",
    "#January46214_predictionData\n",
    "#January46214_available\n",
    "#January_46214"
   ]
  },
  {
   "cell_type": "markdown",
   "metadata": {},
   "source": [
    "# **January 46214 Median List Price per SqFt**"
   ]
  },
  {
   "cell_type": "code",
   "execution_count": 231,
   "metadata": {},
   "outputs": [
    {
     "name": "stdout",
     "output_type": "stream",
     "text": [
      "(10, 3) (10, 1)\n",
      "MSE: 0.03190009581092878, R2: 0.9076084304379006\n"
     ]
    },
    {
     "name": "stderr",
     "output_type": "stream",
     "text": [
      "/Users/allysontalyor/Applications/anaconda3/envs/PythonData/lib/python3.7/site-packages/ipykernel_launcher.py:41: SettingWithCopyWarning: \n",
      "A value is trying to be set on a copy of a slice from a DataFrame.\n",
      "Try using .loc[row_indexer,col_indexer] = value instead\n",
      "\n",
      "See the caveats in the documentation: http://pandas.pydata.org/pandas-docs/stable/user_guide/indexing.html#returning-a-view-versus-a-copy\n"
     ]
    }
   ],
   "source": [
    "#Create X and y values\n",
    "X = January46214_available[[\"Median Market Value (Single Family)\", \"Year_Integer\", \"Median Price 3 Bedroom\"]]\n",
    "y = January46214_available[\"Median List Price per Square Foot\"].values.reshape(-1, 1)\n",
    "print(X.shape, y.shape)\n",
    "#Create test/train data sets\n",
    "X_train, X_test, y_train, y_test = train_test_split(X, y, random_state=42)\n",
    "#X_train.head(9)\n",
    "\n",
    "X_scaler = StandardScaler().fit(X_train)\n",
    "y_scaler = StandardScaler().fit(y_train)\n",
    "X_train_scaled = X_scaler.transform(X_train)\n",
    "X_test_scaled = X_scaler.transform(X_test)\n",
    "y_train_scaled = y_scaler.transform(y_train)\n",
    "y_test_scaled = y_scaler.transform(y_test)\n",
    "\n",
    "model = LinearRegression()\n",
    "model.fit(X_train_scaled, y_train_scaled)\n",
    "predictions = model.predict(X_test_scaled)\n",
    "MSE = mean_squared_error(y_test_scaled, predictions)\n",
    "r2 = model.score(X_test_scaled, y_test_scaled)\n",
    "\n",
    "print(f\"MSE: {MSE}, R2: {r2}\")\n",
    "MLPSqFt_46214.append(r2)\n",
    "\n",
    "January46214_predictionData_scaled = X_scaler.transform(January46214_predictionData)\n",
    "\n",
    "MLPSqFt_January46214_predictions = model.predict(January46214_predictionData_scaled)\n",
    "MLPSqFt_January46214_predictions_actual = y_scaler.inverse_transform(MLPSqFt_January46214_predictions)\n",
    "MLPSqFt_January46214_predictions_actual\n",
    "\n",
    "MLPSqFt_January46214_prediction_list = []\n",
    "for prediction in MLPSqFt_January46214_predictions_actual:\n",
    "    MLPSqFt_January46214_prediction_list.append(prediction[0])\n",
    "#prediction_list\n",
    "first_part = MLPSqFt_January46214_prediction_list[0:13]\n",
    "last_part = MLPSqFt_January46214_prediction_list[13:14]\n",
    "middle_part = January_46214[\"Median List Price per Square Foot\"].to_list()\n",
    "middle_part_final = middle_part[13:23]\n",
    "#Combine into new list\n",
    "January_46214_MLPSqFt_new = first_part + middle_part_final + last_part\n",
    "January_46214[\"Median List Price per SqFt Calculated\"] = January_46214_MLPSqFt_new\n",
    "#January_46214\n"
   ]
  },
  {
   "cell_type": "markdown",
   "metadata": {},
   "source": [
    "# **January 46214 Median List Price**"
   ]
  },
  {
   "cell_type": "code",
   "execution_count": 232,
   "metadata": {},
   "outputs": [
    {
     "name": "stdout",
     "output_type": "stream",
     "text": [
      "(10, 2) (10, 1)\n",
      "MSE: 0.08353676636522285, R2: 0.8040596255475845\n"
     ]
    },
    {
     "name": "stderr",
     "output_type": "stream",
     "text": [
      "/Users/allysontalyor/Applications/anaconda3/envs/PythonData/lib/python3.7/site-packages/ipykernel_launcher.py:42: SettingWithCopyWarning: \n",
      "A value is trying to be set on a copy of a slice from a DataFrame.\n",
      "Try using .loc[row_indexer,col_indexer] = value instead\n",
      "\n",
      "See the caveats in the documentation: http://pandas.pydata.org/pandas-docs/stable/user_guide/indexing.html#returning-a-view-versus-a-copy\n"
     ]
    }
   ],
   "source": [
    "#Create X and y values\n",
    "X = January46214_available[[\"Median Market Value (Single Family)\", \"Year_Integer\"]]#, \"Median Price 3 Bedroom\"]]\n",
    "y = January46214_available[\"Median List Price\"].values.reshape(-1, 1)\n",
    "print(X.shape, y.shape)\n",
    "#Create test/train data sets\n",
    "X_train, X_test, y_train, y_test = train_test_split(X, y, random_state=42)\n",
    "#X_train.head(9)\n",
    "\n",
    "X_scaler = StandardScaler().fit(X_train)\n",
    "y_scaler = StandardScaler().fit(y_train)\n",
    "X_train_scaled = X_scaler.transform(X_train)\n",
    "X_test_scaled = X_scaler.transform(X_test)\n",
    "y_train_scaled = y_scaler.transform(y_train)\n",
    "y_test_scaled = y_scaler.transform(y_test)\n",
    "\n",
    "model = LinearRegression()\n",
    "model.fit(X_train_scaled, y_train_scaled)\n",
    "predictions = model.predict(X_test_scaled)\n",
    "MSE = mean_squared_error(y_test_scaled, predictions)\n",
    "r2 = model.score(X_test_scaled, y_test_scaled)\n",
    "\n",
    "print(f\"MSE: {MSE}, R2: {r2}\")\n",
    "MLP_46214.append(r2)\n",
    "\n",
    "January46214_predictionData_twoVariable = January46214_predictionData[[\"Median Market Value (Single Family)\", \"Year_Integer\"]]\n",
    "January46214_predictionData_scaled = X_scaler.transform(January46214_predictionData_twoVariable)\n",
    "\n",
    "MLP_January46214_predictions = model.predict(January46214_predictionData_scaled)\n",
    "MLP_January46214_predictions_actual = y_scaler.inverse_transform(MLP_January46214_predictions)\n",
    "#MLP_January46214_predictions_actual\n",
    "\n",
    "MLP_January46214_prediction_list = []\n",
    "for prediction in MLP_January46214_predictions_actual:\n",
    "    MLP_January46214_prediction_list.append(prediction[0])\n",
    "#prediction_list\n",
    "first_part = MLP_January46214_prediction_list[0:13]\n",
    "last_part = MLP_January46214_prediction_list[13:14]\n",
    "middle_part = January_46214[\"Median List Price\"].to_list()\n",
    "middle_part_final = middle_part[13:23]\n",
    "#Combine into new list\n",
    "January_46214_MLP_new = first_part + middle_part_final + last_part\n",
    "January_46214[\"Median List Price Calculated\"] = January_46214_MLP_new\n",
    "#January_46214\n"
   ]
  },
  {
   "cell_type": "markdown",
   "metadata": {},
   "source": [
    "# **January 46214 Median Price 1 Bedroom**"
   ]
  },
  {
   "cell_type": "code",
   "execution_count": 233,
   "metadata": {},
   "outputs": [
    {
     "name": "stdout",
     "output_type": "stream",
     "text": [
      "(10, 3) (10, 1)\n",
      "MSE: 0.21090976498665662, R2: 0.5468401389826341\n"
     ]
    },
    {
     "name": "stderr",
     "output_type": "stream",
     "text": [
      "/Users/allysontalyor/Applications/anaconda3/envs/PythonData/lib/python3.7/site-packages/ipykernel_launcher.py:44: SettingWithCopyWarning: \n",
      "A value is trying to be set on a copy of a slice from a DataFrame.\n",
      "Try using .loc[row_indexer,col_indexer] = value instead\n",
      "\n",
      "See the caveats in the documentation: http://pandas.pydata.org/pandas-docs/stable/user_guide/indexing.html#returning-a-view-versus-a-copy\n"
     ]
    }
   ],
   "source": [
    "#Create X and y values\n",
    "January46214_predictionData_1BR = January_46214.loc[(January_46214[\"Year_Integer\"]>=1)&(January_46214[\"Year_Integer\"]<=14)]\n",
    "January46214_predictionData_1BR =January46214_predictionData_1BR[[\"Median Market Value (Single Family)\", \"Year_Integer\", \"Median Price 3 Bedroom\"]] \n",
    "January46214_available_1BR = January_46214.loc[(January_46214[\"Year_Integer\"] >= 15) & (January_46214[\"Year_Integer\"] <=24)]\n",
    "                                                   \n",
    "X = January46214_available_1BR[[\"Median Market Value (Single Family)\", \"Year_Integer\", \"Median Price 3 Bedroom\"]]\n",
    "y = January46214_available_1BR[\"Median Price 1 Bedroom\"].values.reshape(-1, 1)\n",
    "print(X.shape, y.shape)\n",
    "#Create test/train data sets\n",
    "X_train, X_test, y_train, y_test = train_test_split(X, y, random_state=42)\n",
    "#X_train.head(9)\n",
    "\n",
    "X_scaler = StandardScaler().fit(X_train)\n",
    "y_scaler = StandardScaler().fit(y_train)\n",
    "X_train_scaled = X_scaler.transform(X_train)\n",
    "X_test_scaled = X_scaler.transform(X_test)\n",
    "y_train_scaled = y_scaler.transform(y_train)\n",
    "y_test_scaled = y_scaler.transform(y_test)\n",
    "\n",
    "model = LinearRegression()\n",
    "model.fit(X_train_scaled, y_train_scaled)\n",
    "predictions = model.predict(X_test_scaled)\n",
    "MSE = mean_squared_error(y_test_scaled, predictions)\n",
    "r2 = model.score(X_test_scaled, y_test_scaled)\n",
    "\n",
    "print(f\"MSE: {MSE}, R2: {r2}\")\n",
    "OneBedroom_46214.append(r2)\n",
    "\n",
    "January46214_predictionData_1BR_scaled = X_scaler.transform(January46214_predictionData_1BR)\n",
    "\n",
    "MLP1BR_January46214_predictions = model.predict(January46214_predictionData_1BR_scaled)\n",
    "MLP1BR_January46214_predictions_actual = y_scaler.inverse_transform(MLP1BR_January46214_predictions)\n",
    "MLP1BR_January46214_predictions_actual\n",
    "\n",
    "MLP1BR_January46214_prediction_list = []\n",
    "for prediction in MLP1BR_January46214_predictions_actual:\n",
    "    MLP1BR_January46214_prediction_list.append(prediction[0])\n",
    "#prediction_list\n",
    "first_part = MLP1BR_January46214_prediction_list\n",
    "last_part = January_46214[\"Median Price 1 Bedroom\"].to_list()\n",
    "last_part_final = last_part[14:24]\n",
    "#Combine into new list\n",
    "January_46214_MLP1BR_new = first_part + last_part_final\n",
    "January_46214[\"Median Price 1 Bedroom Calculated\"] = last_part\n",
    "#January_46214\n",
    "#last_part_final"
   ]
  },
  {
   "cell_type": "markdown",
   "metadata": {},
   "source": [
    "# **January 46214 Create DataFrame**"
   ]
  },
  {
   "cell_type": "code",
   "execution_count": 234,
   "metadata": {},
   "outputs": [],
   "source": [
    "January_46214_Complete = January_46214[[\"Zip_Code\", \"Date\", \"Year\", \"Year_Integer\",\"Month\", \n",
    "                                        \"Median Market Value (Single Family)\", \"Median Price 1 Bedroom\",\n",
    "                                       \"Median Price 2 Bedroom\", \"Median Price 3 Bedroom\",\n",
    "                                       \"Median Price 4 Bedroom\", \"Median Price 5 Bedroom\",\n",
    "                                       \"Median List Price per SqFt Calculated\", \"Median List Price Calculated\"]]\n",
    "#January_46214_Complete[\"Zip_Code_Integer\"] = 2\n",
    "January_46214_Complete.to_csv(\"January_46214_Complete.csv\")\n",
    "#January_46214_Complete"
   ]
  },
  {
   "cell_type": "markdown",
   "metadata": {},
   "source": [
    "# **February 46214**"
   ]
  },
  {
   "cell_type": "code",
   "execution_count": 235,
   "metadata": {},
   "outputs": [
    {
     "name": "stderr",
     "output_type": "stream",
     "text": [
      "/Users/allysontalyor/Applications/anaconda3/envs/PythonData/lib/python3.7/site-packages/ipykernel_launcher.py:2: SettingWithCopyWarning: \n",
      "A value is trying to be set on a copy of a slice from a DataFrame.\n",
      "Try using .loc[row_indexer,col_indexer] = value instead\n",
      "\n",
      "See the caveats in the documentation: http://pandas.pydata.org/pandas-docs/stable/user_guide/indexing.html#returning-a-view-versus-a-copy\n",
      "  \n"
     ]
    }
   ],
   "source": [
    "February_46214 = Indianapolis_Housing_46214.loc[Indianapolis_Housing_46214[\"Month\"]==2]\n",
    "February_46214[\"Year_Integer\"] = February_46214[\"Year\"] - 1996\n",
    "February46214_available = February_46214.loc[(February_46214[\"Year_Integer\"] >= 14) & (February_46214[\"Year_Integer\"] <=23)]\n",
    "#Isolate the data that we want to use to predict the filled in values...\n",
    "February46214_predictionData1 = February_46214.loc[(February_46214[\"Year_Integer\"]>=1)&(February_46214[\"Year_Integer\"]<=13)]\n",
    "February46214_predictionData2 = February_46214.loc[February_46214[\"Year_Integer\"] >= 24]\n",
    "February_predictionData3 = pd.concat([February46214_predictionData1,February46214_predictionData2])\n",
    "February46214_predictionData = February_predictionData3[[\"Median Market Value (Single Family)\", \"Median Price 1 Bedroom\", \n",
    "                              \"Median Price 2 Bedroom\", \"Median Price 3 Bedroom\", \"Median Price 4 Bedroom\",\n",
    "                             \"Median Price 5 Bedroom\", \"Year_Integer\"]]\n",
    "February46214_predictionData = February46214_predictionData[[\"Median Market Value (Single Family)\", \"Year_Integer\", \"Median Price 3 Bedroom\"]]\n",
    "#February46214_predictionData\n",
    "#February46214_available\n",
    "#February_46214\n"
   ]
  },
  {
   "cell_type": "markdown",
   "metadata": {},
   "source": [
    "# **February 46214 Median List Price per SqFt**"
   ]
  },
  {
   "cell_type": "code",
   "execution_count": 236,
   "metadata": {},
   "outputs": [
    {
     "name": "stdout",
     "output_type": "stream",
     "text": [
      "(10, 2) (10, 1)\n",
      "MSE: 0.1578646336599594, R2: 0.7005939784265276\n"
     ]
    },
    {
     "name": "stderr",
     "output_type": "stream",
     "text": [
      "/Users/allysontalyor/Applications/anaconda3/envs/PythonData/lib/python3.7/site-packages/ipykernel_launcher.py:42: SettingWithCopyWarning: \n",
      "A value is trying to be set on a copy of a slice from a DataFrame.\n",
      "Try using .loc[row_indexer,col_indexer] = value instead\n",
      "\n",
      "See the caveats in the documentation: http://pandas.pydata.org/pandas-docs/stable/user_guide/indexing.html#returning-a-view-versus-a-copy\n"
     ]
    }
   ],
   "source": [
    "#Create X and y values\n",
    "X = February46214_available[[\"Median Market Value (Single Family)\", \"Year_Integer\"]]#, \"Median Price 3 Bedroom\"]]\n",
    "y = February46214_available[\"Median List Price per Square Foot\"].values.reshape(-1, 1)\n",
    "print(X.shape, y.shape)\n",
    "#Create test/train data sets\n",
    "X_train, X_test, y_train, y_test = train_test_split(X, y, random_state=42)\n",
    "#X_train.head(9)\n",
    "\n",
    "X_scaler = StandardScaler().fit(X_train)\n",
    "y_scaler = StandardScaler().fit(y_train)\n",
    "X_train_scaled = X_scaler.transform(X_train)\n",
    "X_test_scaled = X_scaler.transform(X_test)\n",
    "y_train_scaled = y_scaler.transform(y_train)\n",
    "y_test_scaled = y_scaler.transform(y_test)\n",
    "\n",
    "model = LinearRegression()\n",
    "model.fit(X_train_scaled, y_train_scaled)\n",
    "predictions = model.predict(X_test_scaled)\n",
    "MSE = mean_squared_error(y_test_scaled, predictions)\n",
    "r2 = model.score(X_test_scaled, y_test_scaled)\n",
    "\n",
    "print(f\"MSE: {MSE}, R2: {r2}\")\n",
    "MLPSqFt_46214.append(r2)\n",
    "\n",
    "January46214_predictionData_twoVariable = January46214_predictionData[[\"Median Market Value (Single Family)\", \"Year_Integer\"]]\n",
    "February46214_predictionData_scaled = X_scaler.transform(January46214_predictionData_twoVariable)\n",
    "\n",
    "MLPSqFt_February46214_predictions = model.predict(February46214_predictionData_scaled)\n",
    "MLPSqFt_February46214_predictions_actual = y_scaler.inverse_transform(MLPSqFt_February46214_predictions)\n",
    "MLPSqFt_February46214_predictions_actual\n",
    "\n",
    "MLPSqFt_February46214_prediction_list = []\n",
    "for prediction in MLPSqFt_February46214_predictions_actual:\n",
    "    MLPSqFt_February46214_prediction_list.append(prediction[0])\n",
    "#prediction_list\n",
    "first_part = MLPSqFt_February46214_prediction_list[0:13]\n",
    "last_part = MLPSqFt_February46214_prediction_list[13:14]\n",
    "middle_part = February_46214[\"Median List Price per Square Foot\"].to_list()\n",
    "middle_part_final = middle_part[13:23]\n",
    "#Combine into new list\n",
    "February_46214_MLPSqFt_new = first_part + middle_part_final + last_part\n",
    "February_46214[\"Median List Price per SqFt Calculated\"] = February_46214_MLPSqFt_new\n",
    "#February_46214\n"
   ]
  },
  {
   "cell_type": "markdown",
   "metadata": {},
   "source": [
    "# **February 46214 Median List Price**"
   ]
  },
  {
   "cell_type": "code",
   "execution_count": 237,
   "metadata": {},
   "outputs": [
    {
     "name": "stdout",
     "output_type": "stream",
     "text": [
      "(10, 3) (10, 1)\n",
      "MSE: 0.061353691008475715, R2: 0.8883062119043371\n"
     ]
    },
    {
     "name": "stderr",
     "output_type": "stream",
     "text": [
      "/Users/allysontalyor/Applications/anaconda3/envs/PythonData/lib/python3.7/site-packages/ipykernel_launcher.py:41: SettingWithCopyWarning: \n",
      "A value is trying to be set on a copy of a slice from a DataFrame.\n",
      "Try using .loc[row_indexer,col_indexer] = value instead\n",
      "\n",
      "See the caveats in the documentation: http://pandas.pydata.org/pandas-docs/stable/user_guide/indexing.html#returning-a-view-versus-a-copy\n"
     ]
    }
   ],
   "source": [
    "#Create X and y values\n",
    "X = February46214_available[[\"Median Market Value (Single Family)\", \"Year_Integer\", \"Median Price 3 Bedroom\"]]\n",
    "y = February46214_available[\"Median List Price\"].values.reshape(-1, 1)\n",
    "print(X.shape, y.shape)\n",
    "#Create test/train data sets\n",
    "X_train, X_test, y_train, y_test = train_test_split(X, y, random_state=42)\n",
    "#X_train.head(9)\n",
    "\n",
    "X_scaler = StandardScaler().fit(X_train)\n",
    "y_scaler = StandardScaler().fit(y_train)\n",
    "X_train_scaled = X_scaler.transform(X_train)\n",
    "X_test_scaled = X_scaler.transform(X_test)\n",
    "y_train_scaled = y_scaler.transform(y_train)\n",
    "y_test_scaled = y_scaler.transform(y_test)\n",
    "\n",
    "model = LinearRegression()\n",
    "model.fit(X_train_scaled, y_train_scaled)\n",
    "predictions = model.predict(X_test_scaled)\n",
    "MSE = mean_squared_error(y_test_scaled, predictions)\n",
    "r2 = model.score(X_test_scaled, y_test_scaled)\n",
    "\n",
    "print(f\"MSE: {MSE}, R2: {r2}\")\n",
    "MLP_46214.append(r2)\n",
    "\n",
    "February46214_predictionData_scaled = X_scaler.transform(February46214_predictionData)\n",
    "\n",
    "MLP_February46214_predictions = model.predict(February46214_predictionData_scaled)\n",
    "MLP_February46214_predictions_actual = y_scaler.inverse_transform(MLP_February46214_predictions)\n",
    "#MLP_February46214_predictions_actual\n",
    "\n",
    "MLP_February46214_prediction_list = []\n",
    "for prediction in MLP_February46214_predictions_actual:\n",
    "    MLP_February46214_prediction_list.append(prediction[0])\n",
    "#prediction_list\n",
    "first_part = MLP_February46214_prediction_list[0:13]\n",
    "last_part = MLP_February46214_prediction_list[13:14]\n",
    "middle_part = February_46214[\"Median List Price\"].to_list()\n",
    "middle_part_final = middle_part[13:23]\n",
    "#Combine into new list\n",
    "February_46214_MLP_new = first_part + middle_part_final + last_part\n",
    "February_46214[\"Median List Price Calculated\"] = February_46214_MLP_new\n",
    "#February_46214\n"
   ]
  },
  {
   "cell_type": "markdown",
   "metadata": {},
   "source": [
    "# **February 46214 Median Price 1 Bedroom**"
   ]
  },
  {
   "cell_type": "code",
   "execution_count": 238,
   "metadata": {},
   "outputs": [
    {
     "name": "stdout",
     "output_type": "stream",
     "text": [
      "(10, 3) (10, 1)\n",
      "MSE: 0.1579568783130194, R2: 0.6903382505169252\n"
     ]
    },
    {
     "name": "stderr",
     "output_type": "stream",
     "text": [
      "/Users/allysontalyor/Applications/anaconda3/envs/PythonData/lib/python3.7/site-packages/ipykernel_launcher.py:44: SettingWithCopyWarning: \n",
      "A value is trying to be set on a copy of a slice from a DataFrame.\n",
      "Try using .loc[row_indexer,col_indexer] = value instead\n",
      "\n",
      "See the caveats in the documentation: http://pandas.pydata.org/pandas-docs/stable/user_guide/indexing.html#returning-a-view-versus-a-copy\n"
     ]
    }
   ],
   "source": [
    "#Create X and y values\n",
    "February46214_predictionData_1BR = February_46214.loc[(February_46214[\"Year_Integer\"]>=1)&(February_46214[\"Year_Integer\"]<=14)]\n",
    "February46214_predictionData_1BR =February46214_predictionData_1BR[[\"Median Market Value (Single Family)\", \"Year_Integer\", \"Median Price 3 Bedroom\"]] \n",
    "February46214_available_1BR = February_46214.loc[(February_46214[\"Year_Integer\"] >= 15) & (February_46214[\"Year_Integer\"] <=24)]\n",
    "                                                   \n",
    "X = February46214_available_1BR[[\"Median Market Value (Single Family)\", \"Year_Integer\", \"Median Price 3 Bedroom\"]]\n",
    "y = February46214_available_1BR[\"Median Price 1 Bedroom\"].values.reshape(-1, 1)\n",
    "print(X.shape, y.shape)\n",
    "#Create test/train data sets\n",
    "X_train, X_test, y_train, y_test = train_test_split(X, y, random_state=42)\n",
    "#X_train.head(9)\n",
    "\n",
    "X_scaler = StandardScaler().fit(X_train)\n",
    "y_scaler = StandardScaler().fit(y_train)\n",
    "X_train_scaled = X_scaler.transform(X_train)\n",
    "X_test_scaled = X_scaler.transform(X_test)\n",
    "y_train_scaled = y_scaler.transform(y_train)\n",
    "y_test_scaled = y_scaler.transform(y_test)\n",
    "\n",
    "model = LinearRegression()\n",
    "model.fit(X_train_scaled, y_train_scaled)\n",
    "predictions = model.predict(X_test_scaled)\n",
    "MSE = mean_squared_error(y_test_scaled, predictions)\n",
    "r2 = model.score(X_test_scaled, y_test_scaled)\n",
    "\n",
    "print(f\"MSE: {MSE}, R2: {r2}\")\n",
    "OneBedroom_46214.append(r2)\n",
    "\n",
    "February46214_predictionData_1BR_scaled = X_scaler.transform(February46214_predictionData_1BR)\n",
    "\n",
    "MLP1BR_February46214_predictions = model.predict(February46214_predictionData_1BR_scaled)\n",
    "MLP1BR_February46214_predictions_actual = y_scaler.inverse_transform(MLP1BR_February46214_predictions)\n",
    "MLP1BR_February46214_predictions_actual\n",
    "\n",
    "MLP1BR_February46214_prediction_list = []\n",
    "for prediction in MLP1BR_February46214_predictions_actual:\n",
    "    MLP1BR_February46214_prediction_list.append(prediction[0])\n",
    "#prediction_list\n",
    "first_part = MLP1BR_February46214_prediction_list\n",
    "last_part = February_46214[\"Median Price 1 Bedroom\"].to_list()\n",
    "last_part_final = last_part[14:24]\n",
    "#Combine into new list\n",
    "February_46214_MLP1BR_new = first_part + last_part_final\n",
    "February_46214[\"Median Price 1 Bedroom Calculated\"] = February_46214_MLP1BR_new\n",
    "#February_46214\n",
    "#last_part_final\n"
   ]
  },
  {
   "cell_type": "markdown",
   "metadata": {},
   "source": [
    "# **February 46214 Create DataFrame**"
   ]
  },
  {
   "cell_type": "code",
   "execution_count": 239,
   "metadata": {},
   "outputs": [],
   "source": [
    "February_46214_Complete = February_46214[[\"Zip_Code\", \"Date\", \"Year\", \"Year_Integer\",\"Month\", \n",
    "                                        \"Median Market Value (Single Family)\", \"Median Price 1 Bedroom\",\n",
    "                                       \"Median Price 2 Bedroom\", \"Median Price 3 Bedroom\",\n",
    "                                       \"Median Price 4 Bedroom\", \"Median Price 5 Bedroom\",\n",
    "                                       \"Median List Price per SqFt Calculated\", \"Median List Price Calculated\"]]\n",
    "#February_46214_Complete[\"Zip_Code_Integer\"] = 2\n",
    "February_46214_Complete.to_csv(\"February_46214_Complete.csv\")\n",
    "#February_46214_Complete\n"
   ]
  },
  {
   "cell_type": "markdown",
   "metadata": {},
   "source": [
    "# **March 46214**"
   ]
  },
  {
   "cell_type": "code",
   "execution_count": 240,
   "metadata": {},
   "outputs": [
    {
     "name": "stderr",
     "output_type": "stream",
     "text": [
      "/Users/allysontalyor/Applications/anaconda3/envs/PythonData/lib/python3.7/site-packages/ipykernel_launcher.py:2: SettingWithCopyWarning: \n",
      "A value is trying to be set on a copy of a slice from a DataFrame.\n",
      "Try using .loc[row_indexer,col_indexer] = value instead\n",
      "\n",
      "See the caveats in the documentation: http://pandas.pydata.org/pandas-docs/stable/user_guide/indexing.html#returning-a-view-versus-a-copy\n",
      "  \n"
     ]
    }
   ],
   "source": [
    "March_46214 = Indianapolis_Housing_46214.loc[Indianapolis_Housing_46214[\"Month\"]==3]\n",
    "March_46214[\"Year_Integer\"] = March_46214[\"Year\"] - 1996\n",
    "March46214_available = March_46214.loc[(March_46214[\"Year_Integer\"] >= 14) & (March_46214[\"Year_Integer\"] <=23)]\n",
    "#Isolate the data that we want to use to predict the filled in values...\n",
    "March46214_predictionData1 = March_46214.loc[(March_46214[\"Year_Integer\"]>=1)&(March_46214[\"Year_Integer\"]<=13)]\n",
    "March46214_predictionData2 = March_46214.loc[March_46214[\"Year_Integer\"] >= 24]\n",
    "March_predictionData3 = pd.concat([March46214_predictionData1,March46214_predictionData2])\n",
    "March46214_predictionData = March_predictionData3[[\"Median Market Value (Single Family)\", \"Median Price 1 Bedroom\", \n",
    "                              \"Median Price 2 Bedroom\", \"Median Price 3 Bedroom\", \"Median Price 4 Bedroom\",\n",
    "                             \"Median Price 5 Bedroom\", \"Year_Integer\"]]\n",
    "March46214_predictionData = March46214_predictionData[[\"Median Market Value (Single Family)\", \"Year_Integer\", \"Median Price 3 Bedroom\"]]\n",
    "#March46214_predictionData\n",
    "#March46214_available\n",
    "#March_46214\n"
   ]
  },
  {
   "cell_type": "markdown",
   "metadata": {},
   "source": [
    "# **March 46214 Median List Price per SqFt**"
   ]
  },
  {
   "cell_type": "code",
   "execution_count": 241,
   "metadata": {},
   "outputs": [
    {
     "name": "stdout",
     "output_type": "stream",
     "text": [
      "(10, 2) (10, 1)\n",
      "MSE: 0.15748708237362424, R2: 0.7444783352407102\n"
     ]
    },
    {
     "name": "stderr",
     "output_type": "stream",
     "text": [
      "/Users/allysontalyor/Applications/anaconda3/envs/PythonData/lib/python3.7/site-packages/ipykernel_launcher.py:42: SettingWithCopyWarning: \n",
      "A value is trying to be set on a copy of a slice from a DataFrame.\n",
      "Try using .loc[row_indexer,col_indexer] = value instead\n",
      "\n",
      "See the caveats in the documentation: http://pandas.pydata.org/pandas-docs/stable/user_guide/indexing.html#returning-a-view-versus-a-copy\n"
     ]
    }
   ],
   "source": [
    "#Create X and y values\n",
    "X = March46214_available[[\"Median Market Value (Single Family)\", \"Year_Integer\"]]#, \"Median Price 3 Bedroom\"]]\n",
    "y = March46214_available[\"Median List Price per Square Foot\"].values.reshape(-1, 1)\n",
    "print(X.shape, y.shape)\n",
    "#Create test/train data sets\n",
    "X_train, X_test, y_train, y_test = train_test_split(X, y, random_state=42)\n",
    "#X_train.head(9)\n",
    "\n",
    "X_scaler = StandardScaler().fit(X_train)\n",
    "y_scaler = StandardScaler().fit(y_train)\n",
    "X_train_scaled = X_scaler.transform(X_train)\n",
    "X_test_scaled = X_scaler.transform(X_test)\n",
    "y_train_scaled = y_scaler.transform(y_train)\n",
    "y_test_scaled = y_scaler.transform(y_test)\n",
    "\n",
    "model = LinearRegression()\n",
    "model.fit(X_train_scaled, y_train_scaled)\n",
    "predictions = model.predict(X_test_scaled)\n",
    "MSE = mean_squared_error(y_test_scaled, predictions)\n",
    "r2 = model.score(X_test_scaled, y_test_scaled)\n",
    "\n",
    "print(f\"MSE: {MSE}, R2: {r2}\")\n",
    "MLPSqFt_46214.append(r2)\n",
    "\n",
    "January46214_predictionData_twoVariable = January46214_predictionData[[\"Median Market Value (Single Family)\", \"Year_Integer\"]]\n",
    "March46214_predictionData_scaled = X_scaler.transform(January46214_predictionData_twoVariable)\n",
    "\n",
    "MLPSqFt_March46214_predictions = model.predict(March46214_predictionData_scaled)\n",
    "MLPSqFt_March46214_predictions_actual = y_scaler.inverse_transform(MLPSqFt_March46214_predictions)\n",
    "MLPSqFt_March46214_predictions_actual\n",
    "\n",
    "MLPSqFt_March46214_prediction_list = []\n",
    "for prediction in MLPSqFt_March46214_predictions_actual:\n",
    "    MLPSqFt_March46214_prediction_list.append(prediction[0])\n",
    "#prediction_list\n",
    "first_part = MLPSqFt_March46214_prediction_list[0:13]\n",
    "last_part = MLPSqFt_March46214_prediction_list[13:14]\n",
    "middle_part = March_46214[\"Median List Price per Square Foot\"].to_list()\n",
    "middle_part_final = middle_part[13:23]\n",
    "#Combine into new list\n",
    "March_46214_MLPSqFt_new = first_part + middle_part_final + last_part\n",
    "March_46214[\"Median List Price per SqFt Calculated\"] = March_46214_MLPSqFt_new\n",
    "#March_46214\n"
   ]
  },
  {
   "cell_type": "markdown",
   "metadata": {},
   "source": [
    "# **March 46214 Median List Price**"
   ]
  },
  {
   "cell_type": "code",
   "execution_count": 242,
   "metadata": {},
   "outputs": [
    {
     "name": "stdout",
     "output_type": "stream",
     "text": [
      "(10, 3) (10, 1)\n",
      "MSE: 0.055855072677902545, R2: 0.8993257579738895\n"
     ]
    },
    {
     "name": "stderr",
     "output_type": "stream",
     "text": [
      "/Users/allysontalyor/Applications/anaconda3/envs/PythonData/lib/python3.7/site-packages/ipykernel_launcher.py:41: SettingWithCopyWarning: \n",
      "A value is trying to be set on a copy of a slice from a DataFrame.\n",
      "Try using .loc[row_indexer,col_indexer] = value instead\n",
      "\n",
      "See the caveats in the documentation: http://pandas.pydata.org/pandas-docs/stable/user_guide/indexing.html#returning-a-view-versus-a-copy\n"
     ]
    }
   ],
   "source": [
    "#Create X and y values\n",
    "X = March46214_available[[\"Median Market Value (Single Family)\", \"Year_Integer\", \"Median Price 3 Bedroom\"]]\n",
    "y = March46214_available[\"Median List Price\"].values.reshape(-1, 1)\n",
    "print(X.shape, y.shape)\n",
    "#Create test/train data sets\n",
    "X_train, X_test, y_train, y_test = train_test_split(X, y, random_state=42)\n",
    "#X_train.head(9)\n",
    "\n",
    "X_scaler = StandardScaler().fit(X_train)\n",
    "y_scaler = StandardScaler().fit(y_train)\n",
    "X_train_scaled = X_scaler.transform(X_train)\n",
    "X_test_scaled = X_scaler.transform(X_test)\n",
    "y_train_scaled = y_scaler.transform(y_train)\n",
    "y_test_scaled = y_scaler.transform(y_test)\n",
    "\n",
    "model = LinearRegression()\n",
    "model.fit(X_train_scaled, y_train_scaled)\n",
    "predictions = model.predict(X_test_scaled)\n",
    "MSE = mean_squared_error(y_test_scaled, predictions)\n",
    "r2 = model.score(X_test_scaled, y_test_scaled)\n",
    "\n",
    "print(f\"MSE: {MSE}, R2: {r2}\")\n",
    "MLP_46214.append(r2)\n",
    "\n",
    "March46214_predictionData_scaled = X_scaler.transform(March46214_predictionData)\n",
    "\n",
    "MLP_March46214_predictions = model.predict(March46214_predictionData_scaled)\n",
    "MLP_March46214_predictions_actual = y_scaler.inverse_transform(MLP_March46214_predictions)\n",
    "#MLP_March46214_predictions_actual\n",
    "\n",
    "MLP_March46214_prediction_list = []\n",
    "for prediction in MLP_March46214_predictions_actual:\n",
    "    MLP_March46214_prediction_list.append(prediction[0])\n",
    "#prediction_list\n",
    "first_part = MLP_March46214_prediction_list[0:13]\n",
    "last_part = MLP_March46214_prediction_list[13:14]\n",
    "middle_part = March_46214[\"Median List Price\"].to_list()\n",
    "middle_part_final = middle_part[13:23]\n",
    "#Combine into new list\n",
    "March_46214_MLP_new = first_part + middle_part_final + last_part\n",
    "March_46214[\"Median List Price Calculated\"] = March_46214_MLP_new\n",
    "#March_46214\n"
   ]
  },
  {
   "cell_type": "markdown",
   "metadata": {},
   "source": [
    "# **March 46214 Median Price 1 Bedroom**"
   ]
  },
  {
   "cell_type": "code",
   "execution_count": 243,
   "metadata": {},
   "outputs": [
    {
     "name": "stdout",
     "output_type": "stream",
     "text": [
      "(10, 3) (10, 1)\n",
      "MSE: 0.06176136049870537, R2: 0.8908272122074642\n"
     ]
    },
    {
     "name": "stderr",
     "output_type": "stream",
     "text": [
      "/Users/allysontalyor/Applications/anaconda3/envs/PythonData/lib/python3.7/site-packages/ipykernel_launcher.py:44: SettingWithCopyWarning: \n",
      "A value is trying to be set on a copy of a slice from a DataFrame.\n",
      "Try using .loc[row_indexer,col_indexer] = value instead\n",
      "\n",
      "See the caveats in the documentation: http://pandas.pydata.org/pandas-docs/stable/user_guide/indexing.html#returning-a-view-versus-a-copy\n"
     ]
    }
   ],
   "source": [
    "#Create X and y values\n",
    "March46214_predictionData_1BR = March_46214.loc[(March_46214[\"Year_Integer\"]>=1)&(March_46214[\"Year_Integer\"]<=14)]\n",
    "March46214_predictionData_1BR =March46214_predictionData_1BR[[\"Median Market Value (Single Family)\", \"Year_Integer\", \"Median Price 3 Bedroom\"]] \n",
    "March46214_available_1BR = March_46214.loc[(March_46214[\"Year_Integer\"] >= 15) & (March_46214[\"Year_Integer\"] <=24)]\n",
    "                                                   \n",
    "X = March46214_available_1BR[[\"Median Market Value (Single Family)\", \"Year_Integer\", \"Median Price 3 Bedroom\"]]\n",
    "y = March46214_available_1BR[\"Median Price 1 Bedroom\"].values.reshape(-1, 1)\n",
    "print(X.shape, y.shape)\n",
    "#Create test/train data sets\n",
    "X_train, X_test, y_train, y_test = train_test_split(X, y, random_state=42)\n",
    "#X_train.head(9)\n",
    "\n",
    "X_scaler = StandardScaler().fit(X_train)\n",
    "y_scaler = StandardScaler().fit(y_train)\n",
    "X_train_scaled = X_scaler.transform(X_train)\n",
    "X_test_scaled = X_scaler.transform(X_test)\n",
    "y_train_scaled = y_scaler.transform(y_train)\n",
    "y_test_scaled = y_scaler.transform(y_test)\n",
    "\n",
    "model = LinearRegression()\n",
    "model.fit(X_train_scaled, y_train_scaled)\n",
    "predictions = model.predict(X_test_scaled)\n",
    "MSE = mean_squared_error(y_test_scaled, predictions)\n",
    "r2 = model.score(X_test_scaled, y_test_scaled)\n",
    "\n",
    "print(f\"MSE: {MSE}, R2: {r2}\")\n",
    "OneBedroom_46214.append(r2)\n",
    "\n",
    "March46214_predictionData_1BR_scaled = X_scaler.transform(March46214_predictionData_1BR)\n",
    "\n",
    "MLP1BR_March46214_predictions = model.predict(March46214_predictionData_1BR_scaled)\n",
    "MLP1BR_March46214_predictions_actual = y_scaler.inverse_transform(MLP1BR_March46214_predictions)\n",
    "MLP1BR_March46214_predictions_actual\n",
    "\n",
    "MLP1BR_March46214_prediction_list = []\n",
    "for prediction in MLP1BR_March46214_predictions_actual:\n",
    "    MLP1BR_March46214_prediction_list.append(prediction[0])\n",
    "#prediction_list\n",
    "first_part = MLP1BR_March46214_prediction_list\n",
    "last_part = March_46214[\"Median Price 1 Bedroom\"].to_list()\n",
    "last_part_final = last_part[14:24]\n",
    "#Combine into new list\n",
    "March_46214_MLP1BR_new = first_part + last_part_final\n",
    "March_46214[\"Median Price 1 Bedroom Calculated\"] = March_46214_MLP1BR_new\n",
    "#March_46214\n",
    "#last_part_final\n"
   ]
  },
  {
   "cell_type": "markdown",
   "metadata": {},
   "source": [
    "# **March 46214 Create DataFrame**"
   ]
  },
  {
   "cell_type": "code",
   "execution_count": 244,
   "metadata": {
    "scrolled": true
   },
   "outputs": [],
   "source": [
    "#March_46214"
   ]
  },
  {
   "cell_type": "code",
   "execution_count": 245,
   "metadata": {},
   "outputs": [],
   "source": [
    "March_46214_Complete = March_46214[[\"Zip_Code\", \"Date\", \"Year\", \"Year_Integer\",\"Month\", \n",
    "                                        \"Median Market Value (Single Family)\", \"Median Price 1 Bedroom\",\n",
    "                                       \"Median Price 2 Bedroom\", \"Median Price 3 Bedroom\",\n",
    "                                       \"Median Price 4 Bedroom\", \"Median Price 5 Bedroom\",\n",
    "                                       \"Median List Price per SqFt Calculated\", \"Median List Price Calculated\"]]\n",
    "#March_46214_Complete[\"Zip_Code_Integer\"] = 2\n",
    "March_46214_Complete.to_csv(\"March_46214_Complete.csv\")\n",
    "#March_46214_Complete\n"
   ]
  },
  {
   "cell_type": "markdown",
   "metadata": {},
   "source": [
    "# **April 46214**"
   ]
  },
  {
   "cell_type": "code",
   "execution_count": 246,
   "metadata": {},
   "outputs": [
    {
     "name": "stderr",
     "output_type": "stream",
     "text": [
      "/Users/allysontalyor/Applications/anaconda3/envs/PythonData/lib/python3.7/site-packages/ipykernel_launcher.py:2: SettingWithCopyWarning: \n",
      "A value is trying to be set on a copy of a slice from a DataFrame.\n",
      "Try using .loc[row_indexer,col_indexer] = value instead\n",
      "\n",
      "See the caveats in the documentation: http://pandas.pydata.org/pandas-docs/stable/user_guide/indexing.html#returning-a-view-versus-a-copy\n",
      "  \n"
     ]
    }
   ],
   "source": [
    "April_46214 = Indianapolis_Housing_46214.loc[Indianapolis_Housing_46214[\"Month\"]==4]\n",
    "April_46214[\"Year_Integer\"] = April_46214[\"Year\"] - 1995\n",
    "April46214_available = April_46214.loc[(April_46214[\"Year_Integer\"] >= 15) & (April_46214[\"Year_Integer\"] <=24)]\n",
    "#Isolate the data that we want to use to predict the filled in values...\n",
    "April46214_predictionData = April_46214.loc[(April_46214[\"Year_Integer\"]>=1)&(April_46214[\"Year_Integer\"]<=14)]\n",
    "\n",
    "April46214_predictionData = April46214_predictionData[[\"Median Market Value (Single Family)\", \"Median Price 1 Bedroom\", \n",
    "                              \"Median Price 2 Bedroom\", \"Median Price 3 Bedroom\", \"Median Price 4 Bedroom\",\n",
    "                             \"Median Price 5 Bedroom\", \"Year_Integer\"]]\n",
    "\n",
    "April46214_predictionData = April46214_predictionData[[\"Median Market Value (Single Family)\", \"Year_Integer\", \"Median Price 3 Bedroom\"]]\n",
    "#April46214_predictionData\n",
    "#April46214_available\n",
    "#April_46214\n"
   ]
  },
  {
   "cell_type": "markdown",
   "metadata": {},
   "source": [
    "# **April 46214 Median List Price SqFt**"
   ]
  },
  {
   "cell_type": "code",
   "execution_count": 247,
   "metadata": {},
   "outputs": [
    {
     "name": "stdout",
     "output_type": "stream",
     "text": [
      "(10, 2) (10, 1)\n",
      "MSE: 0.13372178052962905, R2: 0.8456481383749355\n"
     ]
    },
    {
     "name": "stderr",
     "output_type": "stream",
     "text": [
      "/Users/allysontalyor/Applications/anaconda3/envs/PythonData/lib/python3.7/site-packages/ipykernel_launcher.py:40: SettingWithCopyWarning: \n",
      "A value is trying to be set on a copy of a slice from a DataFrame.\n",
      "Try using .loc[row_indexer,col_indexer] = value instead\n",
      "\n",
      "See the caveats in the documentation: http://pandas.pydata.org/pandas-docs/stable/user_guide/indexing.html#returning-a-view-versus-a-copy\n"
     ]
    }
   ],
   "source": [
    "#Create X and y values\n",
    "X = April46214_available[[\"Median Market Value (Single Family)\", \"Year_Integer\"]]#, \"Median Price 3 Bedroom\"]]\n",
    "y = April46214_available[\"Median List Price per Square Foot\"].values.reshape(-1, 1)\n",
    "print(X.shape, y.shape)\n",
    "#Create test/train data sets\n",
    "X_train, X_test, y_train, y_test = train_test_split(X, y, random_state=42)\n",
    "#X_train.head(9)\n",
    "\n",
    "X_scaler = StandardScaler().fit(X_train)\n",
    "y_scaler = StandardScaler().fit(y_train)\n",
    "X_train_scaled = X_scaler.transform(X_train)\n",
    "X_test_scaled = X_scaler.transform(X_test)\n",
    "y_train_scaled = y_scaler.transform(y_train)\n",
    "y_test_scaled = y_scaler.transform(y_test)\n",
    "\n",
    "model = LinearRegression()\n",
    "model.fit(X_train_scaled, y_train_scaled)\n",
    "predictions = model.predict(X_test_scaled)\n",
    "MSE = mean_squared_error(y_test_scaled, predictions)\n",
    "r2 = model.score(X_test_scaled, y_test_scaled)\n",
    "\n",
    "print(f\"MSE: {MSE}, R2: {r2}\")\n",
    "MLPSqFt_46214.append(r2)\n",
    "\n",
    "April46214_predictionData_twoVariable = April46214_predictionData[[\"Median Market Value (Single Family)\", \"Year_Integer\"]]\n",
    "April46214_predictionData_scaled = X_scaler.transform(April46214_predictionData_twoVariable)\n",
    "\n",
    "MLPSqFt_April46214_predictions = model.predict(April46214_predictionData_scaled)\n",
    "MLPSqFt_April46214_predictions_actual = y_scaler.inverse_transform(MLPSqFt_April46214_predictions)\n",
    "#MLPSqFt_April46214_predictions_actual\n",
    "\n",
    "MLPSqFt_April46214_prediction_list = []\n",
    "for prediction in MLPSqFt_April46214_predictions_actual:\n",
    "    MLPSqFt_April46214_prediction_list.append(prediction[0])\n",
    "#prediction_list\n",
    "end = April_46214[\"Median List Price per Square Foot\"].to_list()\n",
    "end_final = end[14:25]\n",
    "#Combine into new list\n",
    "April_46214_MLPSqFt_new = MLPSqFt_April46214_prediction_list + end_final\n",
    "April_46214[\"Median List Price per SqFt Calculated\"] = April_46214_MLPSqFt_new\n",
    "#April_46214"
   ]
  },
  {
   "cell_type": "markdown",
   "metadata": {},
   "source": [
    "# **April 46214 Median List Price**"
   ]
  },
  {
   "cell_type": "code",
   "execution_count": 248,
   "metadata": {},
   "outputs": [
    {
     "name": "stdout",
     "output_type": "stream",
     "text": [
      "(10, 3) (10, 1)\n",
      "MSE: 0.03423919157652986, R2: 0.9624126677536613\n"
     ]
    },
    {
     "name": "stderr",
     "output_type": "stream",
     "text": [
      "/Users/allysontalyor/Applications/anaconda3/envs/PythonData/lib/python3.7/site-packages/ipykernel_launcher.py:39: SettingWithCopyWarning: \n",
      "A value is trying to be set on a copy of a slice from a DataFrame.\n",
      "Try using .loc[row_indexer,col_indexer] = value instead\n",
      "\n",
      "See the caveats in the documentation: http://pandas.pydata.org/pandas-docs/stable/user_guide/indexing.html#returning-a-view-versus-a-copy\n"
     ]
    }
   ],
   "source": [
    "#Create X and y values\n",
    "X = April46214_available[[\"Median Market Value (Single Family)\", \"Year_Integer\", \"Median Price 3 Bedroom\"]]\n",
    "y = April46214_available[\"Median List Price\"].values.reshape(-1, 1)\n",
    "print(X.shape, y.shape)\n",
    "#Create test/train data sets\n",
    "X_train, X_test, y_train, y_test = train_test_split(X, y, random_state=42)\n",
    "#X_train.head(9)\n",
    "\n",
    "X_scaler = StandardScaler().fit(X_train)\n",
    "y_scaler = StandardScaler().fit(y_train)\n",
    "X_train_scaled = X_scaler.transform(X_train)\n",
    "X_test_scaled = X_scaler.transform(X_test)\n",
    "y_train_scaled = y_scaler.transform(y_train)\n",
    "y_test_scaled = y_scaler.transform(y_test)\n",
    "\n",
    "model = LinearRegression()\n",
    "model.fit(X_train_scaled, y_train_scaled)\n",
    "predictions = model.predict(X_test_scaled)\n",
    "MSE = mean_squared_error(y_test_scaled, predictions)\n",
    "r2 = model.score(X_test_scaled, y_test_scaled)\n",
    "\n",
    "print(f\"MSE: {MSE}, R2: {r2}\")\n",
    "MLP_46214.append(r2)\n",
    "\n",
    "April46214_predictionData_scaled = X_scaler.transform(April46214_predictionData)\n",
    "\n",
    "MLP_April46214_predictions = model.predict(April46214_predictionData_scaled)\n",
    "MLP_April46214_predictions_actual = y_scaler.inverse_transform(MLP_April46214_predictions)\n",
    "#MLP_April46214_predictions_actual\n",
    "\n",
    "MLP_April46214_prediction_list = []\n",
    "for prediction in MLP_April46214_predictions_actual:\n",
    "    MLP_April46214_prediction_list.append(prediction[0])\n",
    "#prediction_list\n",
    "end = April_46214[\"Median List Price\"].to_list()\n",
    "end_final = end[14:25]\n",
    "#Combine into new list\n",
    "April_46214_MLP_new = MLP_April46214_prediction_list + end_final\n",
    "April_46214[\"Median List Price Calculated\"] = April_46214_MLP_new\n",
    "#April_46214\n"
   ]
  },
  {
   "cell_type": "markdown",
   "metadata": {},
   "source": [
    "# **April 46214 Median Price 1 Bedroom**"
   ]
  },
  {
   "cell_type": "code",
   "execution_count": null,
   "metadata": {},
   "outputs": [],
   "source": []
  },
  {
   "cell_type": "code",
   "execution_count": 249,
   "metadata": {},
   "outputs": [
    {
     "name": "stdout",
     "output_type": "stream",
     "text": [
      "(9, 3) (9, 1)\n",
      "MSE: 0.01228183439055288, R2: 0.9486112911257987\n"
     ]
    },
    {
     "name": "stderr",
     "output_type": "stream",
     "text": [
      "/Users/allysontalyor/Applications/anaconda3/envs/PythonData/lib/python3.7/site-packages/ipykernel_launcher.py:44: SettingWithCopyWarning: \n",
      "A value is trying to be set on a copy of a slice from a DataFrame.\n",
      "Try using .loc[row_indexer,col_indexer] = value instead\n",
      "\n",
      "See the caveats in the documentation: http://pandas.pydata.org/pandas-docs/stable/user_guide/indexing.html#returning-a-view-versus-a-copy\n"
     ]
    }
   ],
   "source": [
    "#Create X and y values\n",
    "April46214_predictionData_1BR = April_46214.loc[(April_46214[\"Year_Integer\"]>=1)&(April_46214[\"Year_Integer\"]<=15)]\n",
    "April46214_predictionData_1BR =April46214_predictionData_1BR[[\"Median Market Value (Single Family)\", \"Year_Integer\", \"Median Price 3 Bedroom\"]] \n",
    "April46214_available_1BR = April_46214.loc[(April_46214[\"Year_Integer\"] >= 16) & (April_46214[\"Year_Integer\"] <=24)]\n",
    "                                                   \n",
    "X = April46214_available_1BR[[\"Median Market Value (Single Family)\", \"Year_Integer\", \"Median Price 3 Bedroom\"]]\n",
    "y = April46214_available_1BR[\"Median Price 1 Bedroom\"].values.reshape(-1, 1)\n",
    "print(X.shape, y.shape)\n",
    "#Create test/train data sets\n",
    "X_train, X_test, y_train, y_test = train_test_split(X, y, random_state=42)\n",
    "#X_train.head(9)\n",
    "\n",
    "X_scaler = StandardScaler().fit(X_train)\n",
    "y_scaler = StandardScaler().fit(y_train)\n",
    "X_train_scaled = X_scaler.transform(X_train)\n",
    "X_test_scaled = X_scaler.transform(X_test)\n",
    "y_train_scaled = y_scaler.transform(y_train)\n",
    "y_test_scaled = y_scaler.transform(y_test)\n",
    "\n",
    "model = LinearRegression()\n",
    "model.fit(X_train_scaled, y_train_scaled)\n",
    "predictions = model.predict(X_test_scaled)\n",
    "MSE = mean_squared_error(y_test_scaled, predictions)\n",
    "r2 = model.score(X_test_scaled, y_test_scaled)\n",
    "\n",
    "print(f\"MSE: {MSE}, R2: {r2}\")\n",
    "OneBedroom_46214.append(r2)\n",
    "\n",
    "April46214_predictionData_1BR_scaled = X_scaler.transform(April46214_predictionData_1BR)\n",
    "\n",
    "MLP1BR_April46214_predictions = model.predict(April46214_predictionData_1BR_scaled)\n",
    "MLP1BR_April46214_predictions_actual = y_scaler.inverse_transform(MLP1BR_April46214_predictions)\n",
    "MLP1BR_April46214_predictions_actual\n",
    "\n",
    "MLP1BR_April46214_prediction_list = []\n",
    "for prediction in MLP1BR_April46214_predictions_actual:\n",
    "    MLP1BR_April46214_prediction_list.append(prediction[0])\n",
    "#prediction_list\n",
    "first_part = MLP1BR_April46214_prediction_list\n",
    "last_part = April_46214[\"Median Price 1 Bedroom\"].to_list()\n",
    "last_part_final = last_part[15:25]\n",
    "#Combine into new list\n",
    "April_46214_MLP1BR_new = first_part + last_part_final\n",
    "April_46214[\"Median Price 1 Bedroom Calculated\"] = April_46214_MLP1BR_new\n",
    "#April_46214\n",
    "#last_part_final\n"
   ]
  },
  {
   "cell_type": "markdown",
   "metadata": {},
   "source": [
    "# **April 46214 Create DataFrame**"
   ]
  },
  {
   "cell_type": "code",
   "execution_count": 250,
   "metadata": {},
   "outputs": [],
   "source": [
    "April_46214_Complete = April_46214[[\"Zip_Code\", \"Date\", \"Year\", \"Year_Integer\",\"Month\", \n",
    "                                        \"Median Market Value (Single Family)\", \"Median Price 1 Bedroom\",\n",
    "                                       \"Median Price 2 Bedroom\", \"Median Price 3 Bedroom\",\n",
    "                                       \"Median Price 4 Bedroom\", \"Median Price 5 Bedroom\",\n",
    "                                       \"Median List Price per SqFt Calculated\", \"Median List Price Calculated\"]]\n",
    "#April_46214_Complete[\"Zip_Code_Integer\"] = 2\n",
    "April_46214_Complete.to_csv(\"April_46214_Complete.csv\")\n",
    "#April_46214_Complete"
   ]
  },
  {
   "cell_type": "markdown",
   "metadata": {},
   "source": [
    "# **May 46214**"
   ]
  },
  {
   "cell_type": "code",
   "execution_count": 251,
   "metadata": {},
   "outputs": [
    {
     "name": "stderr",
     "output_type": "stream",
     "text": [
      "/Users/allysontalyor/Applications/anaconda3/envs/PythonData/lib/python3.7/site-packages/ipykernel_launcher.py:2: SettingWithCopyWarning: \n",
      "A value is trying to be set on a copy of a slice from a DataFrame.\n",
      "Try using .loc[row_indexer,col_indexer] = value instead\n",
      "\n",
      "See the caveats in the documentation: http://pandas.pydata.org/pandas-docs/stable/user_guide/indexing.html#returning-a-view-versus-a-copy\n",
      "  \n"
     ]
    }
   ],
   "source": [
    "May_46214 = Indianapolis_Housing_46214.loc[Indianapolis_Housing_46214[\"Month\"]==5]\n",
    "May_46214[\"Year_Integer\"] = May_46214[\"Year\"] - 1995\n",
    "May46214_available = May_46214.loc[(May_46214[\"Year_Integer\"] >= 15) & (May_46214[\"Year_Integer\"] <=24)]\n",
    "#Isolate the data that we want to use to predict the filled in values...\n",
    "May46214_predictionData = May_46214.loc[(May_46214[\"Year_Integer\"]>=1)&(May_46214[\"Year_Integer\"]<=14)]\n",
    "\n",
    "May46214_predictionData = May46214_predictionData[[\"Median Market Value (Single Family)\", \"Median Price 1 Bedroom\", \n",
    "                              \"Median Price 2 Bedroom\", \"Median Price 3 Bedroom\", \"Median Price 4 Bedroom\",\n",
    "                             \"Median Price 5 Bedroom\", \"Year_Integer\"]]\n",
    "\n",
    "May46214_predictionData = May46214_predictionData[[\"Median Market Value (Single Family)\", \"Year_Integer\", \"Median Price 3 Bedroom\"]]\n",
    "#May46214_predictionData\n",
    "#May46214_available\n",
    "#May_46214\n"
   ]
  },
  {
   "cell_type": "markdown",
   "metadata": {},
   "source": [
    "# **May 46214 Median List Price SqFt**"
   ]
  },
  {
   "cell_type": "code",
   "execution_count": 252,
   "metadata": {},
   "outputs": [
    {
     "name": "stdout",
     "output_type": "stream",
     "text": [
      "(10, 2) (10, 1)\n",
      "MSE: 0.05748413514739801, R2: 0.9436160434535115\n"
     ]
    },
    {
     "name": "stderr",
     "output_type": "stream",
     "text": [
      "/Users/allysontalyor/Applications/anaconda3/envs/PythonData/lib/python3.7/site-packages/ipykernel_launcher.py:40: SettingWithCopyWarning: \n",
      "A value is trying to be set on a copy of a slice from a DataFrame.\n",
      "Try using .loc[row_indexer,col_indexer] = value instead\n",
      "\n",
      "See the caveats in the documentation: http://pandas.pydata.org/pandas-docs/stable/user_guide/indexing.html#returning-a-view-versus-a-copy\n"
     ]
    }
   ],
   "source": [
    "#Create X and y values\n",
    "X = May46214_available[[\"Median Market Value (Single Family)\", \"Year_Integer\"]]#, \"Median Price 3 Bedroom\"]]\n",
    "y = May46214_available[\"Median List Price per Square Foot\"].values.reshape(-1, 1)\n",
    "print(X.shape, y.shape)\n",
    "#Create test/train data sets\n",
    "X_train, X_test, y_train, y_test = train_test_split(X, y, random_state=42)\n",
    "#X_train.head(9)\n",
    "\n",
    "X_scaler = StandardScaler().fit(X_train)\n",
    "y_scaler = StandardScaler().fit(y_train)\n",
    "X_train_scaled = X_scaler.transform(X_train)\n",
    "X_test_scaled = X_scaler.transform(X_test)\n",
    "y_train_scaled = y_scaler.transform(y_train)\n",
    "y_test_scaled = y_scaler.transform(y_test)\n",
    "\n",
    "model = LinearRegression()\n",
    "model.fit(X_train_scaled, y_train_scaled)\n",
    "predictions = model.predict(X_test_scaled)\n",
    "MSE = mean_squared_error(y_test_scaled, predictions)\n",
    "r2 = model.score(X_test_scaled, y_test_scaled)\n",
    "\n",
    "print(f\"MSE: {MSE}, R2: {r2}\")\n",
    "MLPSqFt_46214.append(r2)\n",
    "\n",
    "May46214_predictionData_twoVariable = May46214_predictionData[[\"Median Market Value (Single Family)\", \"Year_Integer\"]]\n",
    "May46214_predictionData_scaled = X_scaler.transform(May46214_predictionData_twoVariable)\n",
    "\n",
    "MLPSqFt_May46214_predictions = model.predict(May46214_predictionData_scaled)\n",
    "MLPSqFt_May46214_predictions_actual = y_scaler.inverse_transform(MLPSqFt_May46214_predictions)\n",
    "#MLPSqFt_May46214_predictions_actual\n",
    "\n",
    "MLPSqFt_May46214_prediction_list = []\n",
    "for prediction in MLPSqFt_May46214_predictions_actual:\n",
    "    MLPSqFt_May46214_prediction_list.append(prediction[0])\n",
    "#prediction_list\n",
    "end = May_46214[\"Median List Price per Square Foot\"].to_list()\n",
    "end_final = end[14:25]\n",
    "#Combine into new list\n",
    "May_46214_MLPSqFt_new = MLPSqFt_May46214_prediction_list + end_final\n",
    "May_46214[\"Median List Price per SqFt Calculated\"] = May_46214_MLPSqFt_new\n",
    "#May_46214\n"
   ]
  },
  {
   "cell_type": "markdown",
   "metadata": {},
   "source": [
    "# **May 46214 Median List Price**"
   ]
  },
  {
   "cell_type": "code",
   "execution_count": 253,
   "metadata": {},
   "outputs": [
    {
     "name": "stdout",
     "output_type": "stream",
     "text": [
      "(10, 3) (10, 1)\n",
      "MSE: 0.11890896893777196, R2: 0.9115869719700227\n"
     ]
    },
    {
     "name": "stderr",
     "output_type": "stream",
     "text": [
      "/Users/allysontalyor/Applications/anaconda3/envs/PythonData/lib/python3.7/site-packages/ipykernel_launcher.py:39: SettingWithCopyWarning: \n",
      "A value is trying to be set on a copy of a slice from a DataFrame.\n",
      "Try using .loc[row_indexer,col_indexer] = value instead\n",
      "\n",
      "See the caveats in the documentation: http://pandas.pydata.org/pandas-docs/stable/user_guide/indexing.html#returning-a-view-versus-a-copy\n"
     ]
    }
   ],
   "source": [
    "#Create X and y values\n",
    "X = May46214_available[[\"Median Market Value (Single Family)\", \"Year_Integer\", \"Median Price 3 Bedroom\"]]\n",
    "y = May46214_available[\"Median List Price\"].values.reshape(-1, 1)\n",
    "print(X.shape, y.shape)\n",
    "#Create test/train data sets\n",
    "X_train, X_test, y_train, y_test = train_test_split(X, y, random_state=42)\n",
    "#X_train.head(9)\n",
    "\n",
    "X_scaler = StandardScaler().fit(X_train)\n",
    "y_scaler = StandardScaler().fit(y_train)\n",
    "X_train_scaled = X_scaler.transform(X_train)\n",
    "X_test_scaled = X_scaler.transform(X_test)\n",
    "y_train_scaled = y_scaler.transform(y_train)\n",
    "y_test_scaled = y_scaler.transform(y_test)\n",
    "\n",
    "model = LinearRegression()\n",
    "model.fit(X_train_scaled, y_train_scaled)\n",
    "predictions = model.predict(X_test_scaled)\n",
    "MSE = mean_squared_error(y_test_scaled, predictions)\n",
    "r2 = model.score(X_test_scaled, y_test_scaled)\n",
    "\n",
    "print(f\"MSE: {MSE}, R2: {r2}\")\n",
    "MLP_46214.append(r2)\n",
    "\n",
    "May46214_predictionData_scaled = X_scaler.transform(May46214_predictionData)\n",
    "\n",
    "MLP_May46214_predictions = model.predict(May46214_predictionData_scaled)\n",
    "MLP_May46214_predictions_actual = y_scaler.inverse_transform(MLP_May46214_predictions)\n",
    "#MLP_May46214_predictions_actual\n",
    "\n",
    "MLP_May46214_prediction_list = []\n",
    "for prediction in MLP_May46214_predictions_actual:\n",
    "    MLP_May46214_prediction_list.append(prediction[0])\n",
    "#prediction_list\n",
    "end = May_46214[\"Median List Price\"].to_list()\n",
    "end_final = end[14:25]\n",
    "#Combine into new list\n",
    "May_46214_MLP_new = MLP_May46214_prediction_list + end_final\n",
    "May_46214[\"Median List Price Calculated\"] = May_46214_MLP_new\n",
    "#May_46214\n"
   ]
  },
  {
   "cell_type": "markdown",
   "metadata": {},
   "source": [
    "# **May 46214 Median Price 1 Bedroom**"
   ]
  },
  {
   "cell_type": "code",
   "execution_count": 254,
   "metadata": {},
   "outputs": [
    {
     "name": "stdout",
     "output_type": "stream",
     "text": [
      "(9, 3) (9, 1)\n",
      "MSE: 0.016473626420917254, R2: 0.941231548249935\n"
     ]
    },
    {
     "name": "stderr",
     "output_type": "stream",
     "text": [
      "/Users/allysontalyor/Applications/anaconda3/envs/PythonData/lib/python3.7/site-packages/ipykernel_launcher.py:44: SettingWithCopyWarning: \n",
      "A value is trying to be set on a copy of a slice from a DataFrame.\n",
      "Try using .loc[row_indexer,col_indexer] = value instead\n",
      "\n",
      "See the caveats in the documentation: http://pandas.pydata.org/pandas-docs/stable/user_guide/indexing.html#returning-a-view-versus-a-copy\n"
     ]
    }
   ],
   "source": [
    "#Create X and y values\n",
    "May46214_predictionData_1BR = May_46214.loc[(May_46214[\"Year_Integer\"]>=1)&(May_46214[\"Year_Integer\"]<=15)]\n",
    "May46214_predictionData_1BR =May46214_predictionData_1BR[[\"Median Market Value (Single Family)\", \"Year_Integer\", \"Median Price 3 Bedroom\"]] \n",
    "May46214_available_1BR = May_46214.loc[(May_46214[\"Year_Integer\"] >= 16) & (May_46214[\"Year_Integer\"] <=24)]\n",
    "                                                   \n",
    "X = May46214_available_1BR[[\"Median Market Value (Single Family)\", \"Year_Integer\", \"Median Price 3 Bedroom\"]]\n",
    "y = May46214_available_1BR[\"Median Price 1 Bedroom\"].values.reshape(-1, 1)\n",
    "print(X.shape, y.shape)\n",
    "#Create test/train data sets\n",
    "X_train, X_test, y_train, y_test = train_test_split(X, y, random_state=42)\n",
    "#X_train.head(9)\n",
    "\n",
    "X_scaler = StandardScaler().fit(X_train)\n",
    "y_scaler = StandardScaler().fit(y_train)\n",
    "X_train_scaled = X_scaler.transform(X_train)\n",
    "X_test_scaled = X_scaler.transform(X_test)\n",
    "y_train_scaled = y_scaler.transform(y_train)\n",
    "y_test_scaled = y_scaler.transform(y_test)\n",
    "\n",
    "model = LinearRegression()\n",
    "model.fit(X_train_scaled, y_train_scaled)\n",
    "predictions = model.predict(X_test_scaled)\n",
    "MSE = mean_squared_error(y_test_scaled, predictions)\n",
    "r2 = model.score(X_test_scaled, y_test_scaled)\n",
    "\n",
    "print(f\"MSE: {MSE}, R2: {r2}\")\n",
    "OneBedroom_46214.append(r2)\n",
    "\n",
    "May46214_predictionData_1BR_scaled = X_scaler.transform(May46214_predictionData_1BR)\n",
    "\n",
    "MLP1BR_May46214_predictions = model.predict(May46214_predictionData_1BR_scaled)\n",
    "MLP1BR_May46214_predictions_actual = y_scaler.inverse_transform(MLP1BR_May46214_predictions)\n",
    "MLP1BR_May46214_predictions_actual\n",
    "\n",
    "MLP1BR_May46214_prediction_list = []\n",
    "for prediction in MLP1BR_May46214_predictions_actual:\n",
    "    MLP1BR_May46214_prediction_list.append(prediction[0])\n",
    "#prediction_list\n",
    "first_part = MLP1BR_May46214_prediction_list\n",
    "last_part = May_46214[\"Median Price 1 Bedroom\"].to_list()\n",
    "last_part_final = last_part[15:25]\n",
    "#Combine into new list\n",
    "May_46214_MLP1BR_new = first_part + last_part_final\n",
    "May_46214[\"Median Price 1 Bedroom Calculated\"] = May_46214_MLP1BR_new\n",
    "#May_46214\n",
    "#last_part_final\n"
   ]
  },
  {
   "cell_type": "markdown",
   "metadata": {},
   "source": [
    "# **May 46214 Create DataFrame**"
   ]
  },
  {
   "cell_type": "code",
   "execution_count": 255,
   "metadata": {},
   "outputs": [],
   "source": [
    "May_46214_Complete = May_46214[[\"Zip_Code\", \"Date\", \"Year\", \"Year_Integer\",\"Month\", \n",
    "                                        \"Median Market Value (Single Family)\", \"Median Price 1 Bedroom\",\n",
    "                                       \"Median Price 2 Bedroom\", \"Median Price 3 Bedroom\",\n",
    "                                       \"Median Price 4 Bedroom\", \"Median Price 5 Bedroom\",\n",
    "                                       \"Median List Price per SqFt Calculated\", \"Median List Price Calculated\"]]\n",
    "#May_46214_Complete[\"Zip_Code_Integer\"] = 2\n",
    "May_46214_Complete.to_csv(\"May_46214_Complete.csv\")\n",
    "#May_46214_Complete\n"
   ]
  },
  {
   "attachments": {},
   "cell_type": "markdown",
   "metadata": {},
   "source": [
    "# **June 46214**"
   ]
  },
  {
   "cell_type": "code",
   "execution_count": 256,
   "metadata": {},
   "outputs": [
    {
     "name": "stderr",
     "output_type": "stream",
     "text": [
      "/Users/allysontalyor/Applications/anaconda3/envs/PythonData/lib/python3.7/site-packages/ipykernel_launcher.py:2: SettingWithCopyWarning: \n",
      "A value is trying to be set on a copy of a slice from a DataFrame.\n",
      "Try using .loc[row_indexer,col_indexer] = value instead\n",
      "\n",
      "See the caveats in the documentation: http://pandas.pydata.org/pandas-docs/stable/user_guide/indexing.html#returning-a-view-versus-a-copy\n",
      "  \n"
     ]
    }
   ],
   "source": [
    "June_46214 = Indianapolis_Housing_46214.loc[Indianapolis_Housing_46214[\"Month\"]==6]\n",
    "June_46214[\"Year_Integer\"] = June_46214[\"Year\"] - 1995\n",
    "June46214_available = June_46214.loc[(June_46214[\"Year_Integer\"] >= 15) & (June_46214[\"Year_Integer\"] <=24)]\n",
    "#Isolate the data that we want to use to predict the filled in values...\n",
    "June46214_predictionData = June_46214.loc[(June_46214[\"Year_Integer\"]>=1)&(June_46214[\"Year_Integer\"]<=14)]\n",
    "\n",
    "June46214_predictionData = June46214_predictionData[[\"Median Market Value (Single Family)\", \"Median Price 1 Bedroom\", \n",
    "                              \"Median Price 2 Bedroom\", \"Median Price 3 Bedroom\", \"Median Price 4 Bedroom\",\n",
    "                             \"Median Price 5 Bedroom\", \"Year_Integer\"]]\n",
    "\n",
    "June46214_predictionData = June46214_predictionData[[\"Median Market Value (Single Family)\", \"Year_Integer\", \"Median Price 3 Bedroom\"]]\n",
    "#June46214_predictionData\n",
    "#June46214_available\n",
    "#June_46214\n"
   ]
  },
  {
   "cell_type": "markdown",
   "metadata": {},
   "source": [
    "# **June 46214 Median List Price SqFt**"
   ]
  },
  {
   "cell_type": "code",
   "execution_count": 257,
   "metadata": {},
   "outputs": [
    {
     "name": "stdout",
     "output_type": "stream",
     "text": [
      "(10, 2) (10, 1)\n",
      "MSE: 0.3631799344421438, R2: 0.7705463315402168\n"
     ]
    },
    {
     "name": "stderr",
     "output_type": "stream",
     "text": [
      "/Users/allysontalyor/Applications/anaconda3/envs/PythonData/lib/python3.7/site-packages/ipykernel_launcher.py:40: SettingWithCopyWarning: \n",
      "A value is trying to be set on a copy of a slice from a DataFrame.\n",
      "Try using .loc[row_indexer,col_indexer] = value instead\n",
      "\n",
      "See the caveats in the documentation: http://pandas.pydata.org/pandas-docs/stable/user_guide/indexing.html#returning-a-view-versus-a-copy\n"
     ]
    }
   ],
   "source": [
    "#Create X and y values\n",
    "X = June46214_available[[\"Median Market Value (Single Family)\", \"Year_Integer\"]]#, \"Median Price 3 Bedroom\"]]\n",
    "y = June46214_available[\"Median List Price per Square Foot\"].values.reshape(-1, 1)\n",
    "print(X.shape, y.shape)\n",
    "#Create test/train data sets\n",
    "X_train, X_test, y_train, y_test = train_test_split(X, y, random_state=42)\n",
    "#X_train.head(9)\n",
    "\n",
    "X_scaler = StandardScaler().fit(X_train)\n",
    "y_scaler = StandardScaler().fit(y_train)\n",
    "X_train_scaled = X_scaler.transform(X_train)\n",
    "X_test_scaled = X_scaler.transform(X_test)\n",
    "y_train_scaled = y_scaler.transform(y_train)\n",
    "y_test_scaled = y_scaler.transform(y_test)\n",
    "\n",
    "model = LinearRegression()\n",
    "model.fit(X_train_scaled, y_train_scaled)\n",
    "predictions = model.predict(X_test_scaled)\n",
    "MSE = mean_squared_error(y_test_scaled, predictions)\n",
    "r2 = model.score(X_test_scaled, y_test_scaled)\n",
    "\n",
    "print(f\"MSE: {MSE}, R2: {r2}\")\n",
    "MLPSqFt_46214.append(r2)\n",
    "\n",
    "June46214_predictionData_twoVariable = June46214_predictionData[[\"Median Market Value (Single Family)\", \"Year_Integer\"]]\n",
    "June46214_predictionData_scaled = X_scaler.transform(June46214_predictionData_twoVariable)\n",
    "\n",
    "MLPSqFt_June46214_predictions = model.predict(June46214_predictionData_scaled)\n",
    "MLPSqFt_June46214_predictions_actual = y_scaler.inverse_transform(MLPSqFt_June46214_predictions)\n",
    "#MLPSqFt_June46214_predictions_actual\n",
    "\n",
    "MLPSqFt_June46214_prediction_list = []\n",
    "for prediction in MLPSqFt_June46214_predictions_actual:\n",
    "    MLPSqFt_June46214_prediction_list.append(prediction[0])\n",
    "#prediction_list\n",
    "end = June_46214[\"Median List Price per Square Foot\"].to_list()\n",
    "end_final = end[14:25]\n",
    "#Combine into new list\n",
    "June_46214_MLPSqFt_new = MLPSqFt_June46214_prediction_list + end_final\n",
    "June_46214[\"Median List Price per SqFt Calculated\"] = June_46214_MLPSqFt_new\n",
    "#June_46214\n"
   ]
  },
  {
   "cell_type": "markdown",
   "metadata": {},
   "source": [
    "# **June 46214 Median List Price**"
   ]
  },
  {
   "cell_type": "code",
   "execution_count": 258,
   "metadata": {},
   "outputs": [
    {
     "name": "stdout",
     "output_type": "stream",
     "text": [
      "(10, 3) (10, 1)\n",
      "MSE: 0.047180975380228744, R2: 0.9525396982568466\n"
     ]
    },
    {
     "name": "stderr",
     "output_type": "stream",
     "text": [
      "/Users/allysontalyor/Applications/anaconda3/envs/PythonData/lib/python3.7/site-packages/ipykernel_launcher.py:39: SettingWithCopyWarning: \n",
      "A value is trying to be set on a copy of a slice from a DataFrame.\n",
      "Try using .loc[row_indexer,col_indexer] = value instead\n",
      "\n",
      "See the caveats in the documentation: http://pandas.pydata.org/pandas-docs/stable/user_guide/indexing.html#returning-a-view-versus-a-copy\n"
     ]
    }
   ],
   "source": [
    "#Create X and y values\n",
    "X = June46214_available[[\"Median Market Value (Single Family)\", \"Year_Integer\", \"Median Price 3 Bedroom\"]]\n",
    "y = June46214_available[\"Median List Price\"].values.reshape(-1, 1)\n",
    "print(X.shape, y.shape)\n",
    "#Create test/train data sets\n",
    "X_train, X_test, y_train, y_test = train_test_split(X, y, random_state=42)\n",
    "#X_train.head(9)\n",
    "\n",
    "X_scaler = StandardScaler().fit(X_train)\n",
    "y_scaler = StandardScaler().fit(y_train)\n",
    "X_train_scaled = X_scaler.transform(X_train)\n",
    "X_test_scaled = X_scaler.transform(X_test)\n",
    "y_train_scaled = y_scaler.transform(y_train)\n",
    "y_test_scaled = y_scaler.transform(y_test)\n",
    "\n",
    "model = LinearRegression()\n",
    "model.fit(X_train_scaled, y_train_scaled)\n",
    "predictions = model.predict(X_test_scaled)\n",
    "MSE = mean_squared_error(y_test_scaled, predictions)\n",
    "r2 = model.score(X_test_scaled, y_test_scaled)\n",
    "\n",
    "print(f\"MSE: {MSE}, R2: {r2}\")\n",
    "MLP_46214.append(r2)\n",
    "\n",
    "June46214_predictionData_scaled = X_scaler.transform(June46214_predictionData)\n",
    "\n",
    "MLP_June46214_predictions = model.predict(June46214_predictionData_scaled)\n",
    "MLP_June46214_predictions_actual = y_scaler.inverse_transform(MLP_June46214_predictions)\n",
    "#MLP_June46214_predictions_actual\n",
    "\n",
    "MLP_June46214_prediction_list = []\n",
    "for prediction in MLP_June46214_predictions_actual:\n",
    "    MLP_June46214_prediction_list.append(prediction[0])\n",
    "#prediction_list\n",
    "end = June_46214[\"Median List Price\"].to_list()\n",
    "end_final = end[14:25]\n",
    "#Combine into new list\n",
    "June_46214_MLP_new = MLP_June46214_prediction_list + end_final\n",
    "June_46214[\"Median List Price Calculated\"] = June_46214_MLP_new\n",
    "#June_46214\n"
   ]
  },
  {
   "cell_type": "markdown",
   "metadata": {},
   "source": [
    "# **June 46214 Median Price 1 Bedroom**"
   ]
  },
  {
   "cell_type": "code",
   "execution_count": 259,
   "metadata": {},
   "outputs": [
    {
     "name": "stdout",
     "output_type": "stream",
     "text": [
      "(9, 3) (9, 1)\n",
      "MSE: 0.12069733326145778, R2: 0.6164126449064209\n"
     ]
    },
    {
     "name": "stderr",
     "output_type": "stream",
     "text": [
      "/Users/allysontalyor/Applications/anaconda3/envs/PythonData/lib/python3.7/site-packages/ipykernel_launcher.py:44: SettingWithCopyWarning: \n",
      "A value is trying to be set on a copy of a slice from a DataFrame.\n",
      "Try using .loc[row_indexer,col_indexer] = value instead\n",
      "\n",
      "See the caveats in the documentation: http://pandas.pydata.org/pandas-docs/stable/user_guide/indexing.html#returning-a-view-versus-a-copy\n"
     ]
    }
   ],
   "source": [
    "#Create X and y values\n",
    "June46214_predictionData_1BR = June_46214.loc[(June_46214[\"Year_Integer\"]>=1)&(June_46214[\"Year_Integer\"]<=15)]\n",
    "June46214_predictionData_1BR =June46214_predictionData_1BR[[\"Median Market Value (Single Family)\", \"Year_Integer\", \"Median Price 3 Bedroom\"]] \n",
    "June46214_available_1BR = June_46214.loc[(June_46214[\"Year_Integer\"] >= 16) & (June_46214[\"Year_Integer\"] <=24)]\n",
    "                                                   \n",
    "X = June46214_available_1BR[[\"Median Market Value (Single Family)\", \"Year_Integer\", \"Median Price 3 Bedroom\"]]\n",
    "y = June46214_available_1BR[\"Median Price 1 Bedroom\"].values.reshape(-1, 1)\n",
    "print(X.shape, y.shape)\n",
    "#Create test/train data sets\n",
    "X_train, X_test, y_train, y_test = train_test_split(X, y, random_state=42)\n",
    "#X_train.head(9)\n",
    "\n",
    "X_scaler = StandardScaler().fit(X_train)\n",
    "y_scaler = StandardScaler().fit(y_train)\n",
    "X_train_scaled = X_scaler.transform(X_train)\n",
    "X_test_scaled = X_scaler.transform(X_test)\n",
    "y_train_scaled = y_scaler.transform(y_train)\n",
    "y_test_scaled = y_scaler.transform(y_test)\n",
    "\n",
    "model = LinearRegression()\n",
    "model.fit(X_train_scaled, y_train_scaled)\n",
    "predictions = model.predict(X_test_scaled)\n",
    "MSE = mean_squared_error(y_test_scaled, predictions)\n",
    "r2 = model.score(X_test_scaled, y_test_scaled)\n",
    "\n",
    "print(f\"MSE: {MSE}, R2: {r2}\")\n",
    "OneBedroom_46214.append(r2)\n",
    "\n",
    "June46214_predictionData_1BR_scaled = X_scaler.transform(June46214_predictionData_1BR)\n",
    "\n",
    "MLP1BR_June46214_predictions = model.predict(June46214_predictionData_1BR_scaled)\n",
    "MLP1BR_June46214_predictions_actual = y_scaler.inverse_transform(MLP1BR_June46214_predictions)\n",
    "MLP1BR_June46214_predictions_actual\n",
    "\n",
    "MLP1BR_June46214_prediction_list = []\n",
    "for prediction in MLP1BR_June46214_predictions_actual:\n",
    "    MLP1BR_June46214_prediction_list.append(prediction[0])\n",
    "#prediction_list\n",
    "first_part = MLP1BR_June46214_prediction_list\n",
    "last_part = June_46214[\"Median Price 1 Bedroom\"].to_list()\n",
    "last_part_final = last_part[15:25]\n",
    "#Combine into new list\n",
    "June_46214_MLP1BR_new = first_part + last_part_final\n",
    "June_46214[\"Median Price 1 Bedroom Calculated\"] = last_part\n",
    "#June_46214\n",
    "#last_part_final\n"
   ]
  },
  {
   "cell_type": "markdown",
   "metadata": {},
   "source": [
    "# **June 46214 Create DataFrame**"
   ]
  },
  {
   "cell_type": "code",
   "execution_count": 260,
   "metadata": {},
   "outputs": [],
   "source": [
    "June_46214_Complete = June_46214[[\"Zip_Code\", \"Date\", \"Year\", \"Year_Integer\",\"Month\", \n",
    "                                        \"Median Market Value (Single Family)\", \"Median Price 1 Bedroom\",\n",
    "                                       \"Median Price 2 Bedroom\", \"Median Price 3 Bedroom\",\n",
    "                                       \"Median Price 4 Bedroom\", \"Median Price 5 Bedroom\",\n",
    "                                       \"Median List Price per SqFt Calculated\", \"Median List Price Calculated\"]]\n",
    "#June_46214_Complete[\"Zip_Code_Integer\"] = 2\n",
    "June_46214_Complete.to_csv(\"June_46214_Complete.csv\")\n",
    "#June_46214_Complete\n"
   ]
  },
  {
   "attachments": {},
   "cell_type": "markdown",
   "metadata": {},
   "source": [
    "# **July 46214**"
   ]
  },
  {
   "cell_type": "code",
   "execution_count": 261,
   "metadata": {},
   "outputs": [
    {
     "name": "stderr",
     "output_type": "stream",
     "text": [
      "/Users/allysontalyor/Applications/anaconda3/envs/PythonData/lib/python3.7/site-packages/ipykernel_launcher.py:2: SettingWithCopyWarning: \n",
      "A value is trying to be set on a copy of a slice from a DataFrame.\n",
      "Try using .loc[row_indexer,col_indexer] = value instead\n",
      "\n",
      "See the caveats in the documentation: http://pandas.pydata.org/pandas-docs/stable/user_guide/indexing.html#returning-a-view-versus-a-copy\n",
      "  \n"
     ]
    }
   ],
   "source": [
    "July_46214 = Indianapolis_Housing_46214.loc[Indianapolis_Housing_46214[\"Month\"]==7]\n",
    "July_46214[\"Year_Integer\"] = July_46214[\"Year\"] - 1995\n",
    "July46214_available = July_46214.loc[(July_46214[\"Year_Integer\"] >= 15) & (July_46214[\"Year_Integer\"] <=24)]\n",
    "#Isolate the data that we want to use to predict the filled in values...\n",
    "July46214_predictionData = July_46214.loc[(July_46214[\"Year_Integer\"]>=1)&(July_46214[\"Year_Integer\"]<=14)]\n",
    "\n",
    "July46214_predictionData = July46214_predictionData[[\"Median Market Value (Single Family)\", \"Median Price 1 Bedroom\", \n",
    "                              \"Median Price 2 Bedroom\", \"Median Price 3 Bedroom\", \"Median Price 4 Bedroom\",\n",
    "                             \"Median Price 5 Bedroom\", \"Year_Integer\"]]\n",
    "\n",
    "July46214_predictionData = July46214_predictionData[[\"Median Market Value (Single Family)\", \"Year_Integer\", \"Median Price 3 Bedroom\"]]\n",
    "#July46214_predictionData\n",
    "#July46214_available\n",
    "#July_46214\n"
   ]
  },
  {
   "cell_type": "markdown",
   "metadata": {},
   "source": [
    "# **July 46214 Median List Price SqFt**"
   ]
  },
  {
   "cell_type": "code",
   "execution_count": 262,
   "metadata": {},
   "outputs": [
    {
     "name": "stdout",
     "output_type": "stream",
     "text": [
      "(10, 2) (10, 1)\n",
      "MSE: 0.21962589809140365, R2: 0.8319127096457675\n"
     ]
    },
    {
     "name": "stderr",
     "output_type": "stream",
     "text": [
      "/Users/allysontalyor/Applications/anaconda3/envs/PythonData/lib/python3.7/site-packages/ipykernel_launcher.py:40: SettingWithCopyWarning: \n",
      "A value is trying to be set on a copy of a slice from a DataFrame.\n",
      "Try using .loc[row_indexer,col_indexer] = value instead\n",
      "\n",
      "See the caveats in the documentation: http://pandas.pydata.org/pandas-docs/stable/user_guide/indexing.html#returning-a-view-versus-a-copy\n"
     ]
    }
   ],
   "source": [
    "#Create X and y values\n",
    "X = July46214_available[[\"Median Market Value (Single Family)\", \"Year_Integer\"]]#, \"Median Price 3 Bedroom\"]]\n",
    "y = July46214_available[\"Median List Price per Square Foot\"].values.reshape(-1, 1)\n",
    "print(X.shape, y.shape)\n",
    "#Create test/train data sets\n",
    "X_train, X_test, y_train, y_test = train_test_split(X, y, random_state=42)\n",
    "#X_train.head(9)\n",
    "\n",
    "X_scaler = StandardScaler().fit(X_train)\n",
    "y_scaler = StandardScaler().fit(y_train)\n",
    "X_train_scaled = X_scaler.transform(X_train)\n",
    "X_test_scaled = X_scaler.transform(X_test)\n",
    "y_train_scaled = y_scaler.transform(y_train)\n",
    "y_test_scaled = y_scaler.transform(y_test)\n",
    "\n",
    "model = LinearRegression()\n",
    "model.fit(X_train_scaled, y_train_scaled)\n",
    "predictions = model.predict(X_test_scaled)\n",
    "MSE = mean_squared_error(y_test_scaled, predictions)\n",
    "r2 = model.score(X_test_scaled, y_test_scaled)\n",
    "\n",
    "print(f\"MSE: {MSE}, R2: {r2}\")\n",
    "MLPSqFt_46214.append(r2)\n",
    "\n",
    "July46214_predictionData_twoVariable = July46214_predictionData[[\"Median Market Value (Single Family)\", \"Year_Integer\"]]\n",
    "July46214_predictionData_scaled = X_scaler.transform(July46214_predictionData_twoVariable)\n",
    "\n",
    "MLPSqFt_July46214_predictions = model.predict(July46214_predictionData_scaled)\n",
    "MLPSqFt_July46214_predictions_actual = y_scaler.inverse_transform(MLPSqFt_July46214_predictions)\n",
    "#MLPSqFt_July46214_predictions_actual\n",
    "\n",
    "MLPSqFt_July46214_prediction_list = []\n",
    "for prediction in MLPSqFt_July46214_predictions_actual:\n",
    "    MLPSqFt_July46214_prediction_list.append(prediction[0])\n",
    "#prediction_list\n",
    "end = July_46214[\"Median List Price per Square Foot\"].to_list()\n",
    "end_final = end[14:25]\n",
    "#Combine into new list\n",
    "July_46214_MLPSqFt_new = MLPSqFt_July46214_prediction_list + end_final\n",
    "July_46214[\"Median List Price per SqFt Calculated\"] = July_46214_MLPSqFt_new\n",
    "#July_46214\n"
   ]
  },
  {
   "cell_type": "markdown",
   "metadata": {},
   "source": [
    "# **July 46214 Median List Price**"
   ]
  },
  {
   "cell_type": "code",
   "execution_count": 263,
   "metadata": {},
   "outputs": [
    {
     "name": "stdout",
     "output_type": "stream",
     "text": [
      "(10, 3) (10, 1)\n",
      "MSE: 0.05325750448605653, R2: 0.94734678931587\n"
     ]
    },
    {
     "name": "stderr",
     "output_type": "stream",
     "text": [
      "/Users/allysontalyor/Applications/anaconda3/envs/PythonData/lib/python3.7/site-packages/ipykernel_launcher.py:39: SettingWithCopyWarning: \n",
      "A value is trying to be set on a copy of a slice from a DataFrame.\n",
      "Try using .loc[row_indexer,col_indexer] = value instead\n",
      "\n",
      "See the caveats in the documentation: http://pandas.pydata.org/pandas-docs/stable/user_guide/indexing.html#returning-a-view-versus-a-copy\n"
     ]
    }
   ],
   "source": [
    "#Create X and y values\n",
    "X = July46214_available[[\"Median Market Value (Single Family)\", \"Year_Integer\", \"Median Price 3 Bedroom\"]]\n",
    "y = July46214_available[\"Median List Price\"].values.reshape(-1, 1)\n",
    "print(X.shape, y.shape)\n",
    "#Create test/train data sets\n",
    "X_train, X_test, y_train, y_test = train_test_split(X, y, random_state=42)\n",
    "#X_train.head(9)\n",
    "\n",
    "X_scaler = StandardScaler().fit(X_train)\n",
    "y_scaler = StandardScaler().fit(y_train)\n",
    "X_train_scaled = X_scaler.transform(X_train)\n",
    "X_test_scaled = X_scaler.transform(X_test)\n",
    "y_train_scaled = y_scaler.transform(y_train)\n",
    "y_test_scaled = y_scaler.transform(y_test)\n",
    "\n",
    "model = LinearRegression()\n",
    "model.fit(X_train_scaled, y_train_scaled)\n",
    "predictions = model.predict(X_test_scaled)\n",
    "MSE = mean_squared_error(y_test_scaled, predictions)\n",
    "r2 = model.score(X_test_scaled, y_test_scaled)\n",
    "\n",
    "print(f\"MSE: {MSE}, R2: {r2}\")\n",
    "MLP_46214.append(r2)\n",
    "\n",
    "July46214_predictionData_scaled = X_scaler.transform(July46214_predictionData)\n",
    "\n",
    "MLP_July46214_predictions = model.predict(July46214_predictionData_scaled)\n",
    "MLP_July46214_predictions_actual = y_scaler.inverse_transform(MLP_July46214_predictions)\n",
    "#MLP_July46214_predictions_actual\n",
    "\n",
    "MLP_July46214_prediction_list = []\n",
    "for prediction in MLP_July46214_predictions_actual:\n",
    "    MLP_July46214_prediction_list.append(prediction[0])\n",
    "#prediction_list\n",
    "end = July_46214[\"Median List Price\"].to_list()\n",
    "end_final = end[14:25]\n",
    "#Combine into new list\n",
    "July_46214_MLP_new = MLP_July46214_prediction_list + end_final\n",
    "July_46214[\"Median List Price Calculated\"] = July_46214_MLP_new\n",
    "#July_46214\n"
   ]
  },
  {
   "cell_type": "markdown",
   "metadata": {},
   "source": [
    "# **July 46214 Median Price 1 Bedroom**\n"
   ]
  },
  {
   "cell_type": "code",
   "execution_count": 264,
   "metadata": {},
   "outputs": [
    {
     "name": "stdout",
     "output_type": "stream",
     "text": [
      "(9, 3) (9, 1)\n",
      "MSE: 0.17213931410176342, R2: 0.4517884575053528\n"
     ]
    },
    {
     "name": "stderr",
     "output_type": "stream",
     "text": [
      "/Users/allysontalyor/Applications/anaconda3/envs/PythonData/lib/python3.7/site-packages/ipykernel_launcher.py:44: SettingWithCopyWarning: \n",
      "A value is trying to be set on a copy of a slice from a DataFrame.\n",
      "Try using .loc[row_indexer,col_indexer] = value instead\n",
      "\n",
      "See the caveats in the documentation: http://pandas.pydata.org/pandas-docs/stable/user_guide/indexing.html#returning-a-view-versus-a-copy\n"
     ]
    }
   ],
   "source": [
    "#Create X and y values\n",
    "July46214_predictionData_1BR = July_46214.loc[(July_46214[\"Year_Integer\"]>=1)&(July_46214[\"Year_Integer\"]<=15)]\n",
    "July46214_predictionData_1BR =July46214_predictionData_1BR[[\"Median Market Value (Single Family)\", \"Year_Integer\", \"Median Price 3 Bedroom\"]] \n",
    "July46214_available_1BR = July_46214.loc[(July_46214[\"Year_Integer\"] >= 16) & (July_46214[\"Year_Integer\"] <=24)]\n",
    "                                                   \n",
    "X = July46214_available_1BR[[\"Median Market Value (Single Family)\", \"Year_Integer\", \"Median Price 3 Bedroom\"]]\n",
    "y = July46214_available_1BR[\"Median Price 1 Bedroom\"].values.reshape(-1, 1)\n",
    "print(X.shape, y.shape)\n",
    "#Create test/train data sets\n",
    "X_train, X_test, y_train, y_test = train_test_split(X, y, random_state=42)\n",
    "#X_train.head(9)\n",
    "\n",
    "X_scaler = StandardScaler().fit(X_train)\n",
    "y_scaler = StandardScaler().fit(y_train)\n",
    "X_train_scaled = X_scaler.transform(X_train)\n",
    "X_test_scaled = X_scaler.transform(X_test)\n",
    "y_train_scaled = y_scaler.transform(y_train)\n",
    "y_test_scaled = y_scaler.transform(y_test)\n",
    "\n",
    "model = LinearRegression()\n",
    "model.fit(X_train_scaled, y_train_scaled)\n",
    "predictions = model.predict(X_test_scaled)\n",
    "MSE = mean_squared_error(y_test_scaled, predictions)\n",
    "r2 = model.score(X_test_scaled, y_test_scaled)\n",
    "\n",
    "print(f\"MSE: {MSE}, R2: {r2}\")\n",
    "OneBedroom_46214.append(r2)\n",
    "\n",
    "July46214_predictionData_1BR_scaled = X_scaler.transform(July46214_predictionData_1BR)\n",
    "\n",
    "MLP1BR_July46214_predictions = model.predict(July46214_predictionData_1BR_scaled)\n",
    "MLP1BR_July46214_predictions_actual = y_scaler.inverse_transform(MLP1BR_July46214_predictions)\n",
    "MLP1BR_July46214_predictions_actual\n",
    "\n",
    "MLP1BR_July46214_prediction_list = []\n",
    "for prediction in MLP1BR_July46214_predictions_actual:\n",
    "    MLP1BR_July46214_prediction_list.append(prediction[0])\n",
    "#prediction_list\n",
    "first_part = MLP1BR_July46214_prediction_list\n",
    "last_part = July_46214[\"Median Price 1 Bedroom\"].to_list()\n",
    "last_part_final = last_part[15:25]\n",
    "#Combine into new list\n",
    "July_46214_MLP1BR_new = first_part + last_part_final\n",
    "July_46214[\"Median Price 1 Bedroom Calculated\"] = last_part\n",
    "#July_46214\n",
    "#last_part_final\n"
   ]
  },
  {
   "cell_type": "markdown",
   "metadata": {},
   "source": [
    "# **July 46214 Create DataFrame**"
   ]
  },
  {
   "cell_type": "code",
   "execution_count": 265,
   "metadata": {},
   "outputs": [],
   "source": [
    "July_46214_Complete = July_46214[[\"Zip_Code\", \"Date\", \"Year\", \"Year_Integer\",\"Month\", \n",
    "                                        \"Median Market Value (Single Family)\", \"Median Price 1 Bedroom\",\n",
    "                                       \"Median Price 2 Bedroom\", \"Median Price 3 Bedroom\",\n",
    "                                       \"Median Price 4 Bedroom\", \"Median Price 5 Bedroom\",\n",
    "                                       \"Median List Price per SqFt Calculated\", \"Median List Price Calculated\"]]\n",
    "#July_46214_Complete[\"Zip_Code_Integer\"] = 2\n",
    "July_46214_Complete.to_csv(\"July_46214_Complete.csv\")\n",
    "#July_46214_Complete\n"
   ]
  },
  {
   "cell_type": "markdown",
   "metadata": {},
   "source": [
    "# **August 46214**"
   ]
  },
  {
   "cell_type": "code",
   "execution_count": 266,
   "metadata": {},
   "outputs": [
    {
     "name": "stderr",
     "output_type": "stream",
     "text": [
      "/Users/allysontalyor/Applications/anaconda3/envs/PythonData/lib/python3.7/site-packages/ipykernel_launcher.py:2: SettingWithCopyWarning: \n",
      "A value is trying to be set on a copy of a slice from a DataFrame.\n",
      "Try using .loc[row_indexer,col_indexer] = value instead\n",
      "\n",
      "See the caveats in the documentation: http://pandas.pydata.org/pandas-docs/stable/user_guide/indexing.html#returning-a-view-versus-a-copy\n",
      "  \n"
     ]
    }
   ],
   "source": [
    "August_46214 = Indianapolis_Housing_46214.loc[Indianapolis_Housing_46214[\"Month\"]==8]\n",
    "August_46214[\"Year_Integer\"] = August_46214[\"Year\"] - 1995\n",
    "August46214_available = August_46214.loc[(August_46214[\"Year_Integer\"] >= 15) & (August_46214[\"Year_Integer\"] <=24)]\n",
    "#Isolate the data that we want to use to predict the filled in values...\n",
    "August46214_predictionData = August_46214.loc[(August_46214[\"Year_Integer\"]>=1)&(August_46214[\"Year_Integer\"]<=14)]\n",
    "\n",
    "August46214_predictionData = August46214_predictionData[[\"Median Market Value (Single Family)\", \"Median Price 1 Bedroom\", \n",
    "                              \"Median Price 2 Bedroom\", \"Median Price 3 Bedroom\", \"Median Price 4 Bedroom\",\n",
    "                             \"Median Price 5 Bedroom\", \"Year_Integer\"]]\n",
    "\n",
    "August46214_predictionData = August46214_predictionData[[\"Median Market Value (Single Family)\", \"Year_Integer\", \"Median Price 3 Bedroom\"]]\n",
    "#August46214_predictionData\n",
    "#August46214_available\n",
    "#August_46214\n"
   ]
  },
  {
   "cell_type": "markdown",
   "metadata": {},
   "source": [
    "# **August 46214 Median List Price SqFt**"
   ]
  },
  {
   "cell_type": "code",
   "execution_count": 267,
   "metadata": {},
   "outputs": [
    {
     "name": "stdout",
     "output_type": "stream",
     "text": [
      "(10, 2) (10, 1)\n",
      "MSE: 0.11268052785895522, R2: 0.8845307365563839\n"
     ]
    },
    {
     "name": "stderr",
     "output_type": "stream",
     "text": [
      "/Users/allysontalyor/Applications/anaconda3/envs/PythonData/lib/python3.7/site-packages/ipykernel_launcher.py:40: SettingWithCopyWarning: \n",
      "A value is trying to be set on a copy of a slice from a DataFrame.\n",
      "Try using .loc[row_indexer,col_indexer] = value instead\n",
      "\n",
      "See the caveats in the documentation: http://pandas.pydata.org/pandas-docs/stable/user_guide/indexing.html#returning-a-view-versus-a-copy\n"
     ]
    }
   ],
   "source": [
    "#Create X and y values\n",
    "X = August46214_available[[\"Median Market Value (Single Family)\", \"Year_Integer\"]]#, \"Median Price 3 Bedroom\"]]\n",
    "y = August46214_available[\"Median List Price per Square Foot\"].values.reshape(-1, 1)\n",
    "print(X.shape, y.shape)\n",
    "#Create test/train data sets\n",
    "X_train, X_test, y_train, y_test = train_test_split(X, y, random_state=42)\n",
    "#X_train.head(9)\n",
    "\n",
    "X_scaler = StandardScaler().fit(X_train)\n",
    "y_scaler = StandardScaler().fit(y_train)\n",
    "X_train_scaled = X_scaler.transform(X_train)\n",
    "X_test_scaled = X_scaler.transform(X_test)\n",
    "y_train_scaled = y_scaler.transform(y_train)\n",
    "y_test_scaled = y_scaler.transform(y_test)\n",
    "\n",
    "model = LinearRegression()\n",
    "model.fit(X_train_scaled, y_train_scaled)\n",
    "predictions = model.predict(X_test_scaled)\n",
    "MSE = mean_squared_error(y_test_scaled, predictions)\n",
    "r2 = model.score(X_test_scaled, y_test_scaled)\n",
    "\n",
    "print(f\"MSE: {MSE}, R2: {r2}\")\n",
    "MLPSqFt_46214.append(r2)\n",
    "\n",
    "August46214_predictionData_twoVariable = August46214_predictionData[[\"Median Market Value (Single Family)\", \"Year_Integer\"]]\n",
    "August46214_predictionData_scaled = X_scaler.transform(August46214_predictionData_twoVariable)\n",
    "\n",
    "MLPSqFt_August46214_predictions = model.predict(August46214_predictionData_scaled)\n",
    "MLPSqFt_August46214_predictions_actual = y_scaler.inverse_transform(MLPSqFt_August46214_predictions)\n",
    "#MLPSqFt_August46214_predictions_actual\n",
    "\n",
    "MLPSqFt_August46214_prediction_list = []\n",
    "for prediction in MLPSqFt_August46214_predictions_actual:\n",
    "    MLPSqFt_August46214_prediction_list.append(prediction[0])\n",
    "#prediction_list\n",
    "end = August_46214[\"Median List Price per Square Foot\"].to_list()\n",
    "end_final = end[14:25]\n",
    "#Combine into new list\n",
    "August_46214_MLPSqFt_new = MLPSqFt_August46214_prediction_list + end_final\n",
    "August_46214[\"Median List Price per SqFt Calculated\"] = August_46214_MLPSqFt_new\n",
    "#August_46214\n"
   ]
  },
  {
   "cell_type": "markdown",
   "metadata": {},
   "source": [
    "# **August 46214 Median List Price**"
   ]
  },
  {
   "cell_type": "code",
   "execution_count": 268,
   "metadata": {},
   "outputs": [
    {
     "name": "stdout",
     "output_type": "stream",
     "text": [
      "(10, 3) (10, 1)\n",
      "MSE: 0.051231099227770936, R2: 0.9531640382257466\n"
     ]
    },
    {
     "name": "stderr",
     "output_type": "stream",
     "text": [
      "/Users/allysontalyor/Applications/anaconda3/envs/PythonData/lib/python3.7/site-packages/ipykernel_launcher.py:39: SettingWithCopyWarning: \n",
      "A value is trying to be set on a copy of a slice from a DataFrame.\n",
      "Try using .loc[row_indexer,col_indexer] = value instead\n",
      "\n",
      "See the caveats in the documentation: http://pandas.pydata.org/pandas-docs/stable/user_guide/indexing.html#returning-a-view-versus-a-copy\n"
     ]
    }
   ],
   "source": [
    "#Create X and y values\n",
    "X = August46214_available[[\"Median Market Value (Single Family)\", \"Year_Integer\", \"Median Price 3 Bedroom\"]]\n",
    "y = August46214_available[\"Median List Price\"].values.reshape(-1, 1)\n",
    "print(X.shape, y.shape)\n",
    "#Create test/train data sets\n",
    "X_train, X_test, y_train, y_test = train_test_split(X, y, random_state=42)\n",
    "#X_train.head(9)\n",
    "\n",
    "X_scaler = StandardScaler().fit(X_train)\n",
    "y_scaler = StandardScaler().fit(y_train)\n",
    "X_train_scaled = X_scaler.transform(X_train)\n",
    "X_test_scaled = X_scaler.transform(X_test)\n",
    "y_train_scaled = y_scaler.transform(y_train)\n",
    "y_test_scaled = y_scaler.transform(y_test)\n",
    "\n",
    "model = LinearRegression()\n",
    "model.fit(X_train_scaled, y_train_scaled)\n",
    "predictions = model.predict(X_test_scaled)\n",
    "MSE = mean_squared_error(y_test_scaled, predictions)\n",
    "r2 = model.score(X_test_scaled, y_test_scaled)\n",
    "\n",
    "print(f\"MSE: {MSE}, R2: {r2}\")\n",
    "MLP_46214.append(r2)\n",
    "\n",
    "August46214_predictionData_scaled = X_scaler.transform(August46214_predictionData)\n",
    "\n",
    "MLP_August46214_predictions = model.predict(August46214_predictionData_scaled)\n",
    "MLP_August46214_predictions_actual = y_scaler.inverse_transform(MLP_August46214_predictions)\n",
    "#MLP_August46214_predictions_actual\n",
    "\n",
    "MLP_August46214_prediction_list = []\n",
    "for prediction in MLP_August46214_predictions_actual:\n",
    "    MLP_August46214_prediction_list.append(prediction[0])\n",
    "#prediction_list\n",
    "end = August_46214[\"Median List Price\"].to_list()\n",
    "end_final = end[14:25]\n",
    "#Combine into new list\n",
    "August_46214_MLP_new = MLP_August46214_prediction_list + end_final\n",
    "August_46214[\"Median List Price Calculated\"] = August_46214_MLP_new\n",
    "#August_46214\n"
   ]
  },
  {
   "cell_type": "markdown",
   "metadata": {},
   "source": [
    "# **August 46214 Median Price 1 Bedroom**"
   ]
  },
  {
   "cell_type": "code",
   "execution_count": 269,
   "metadata": {},
   "outputs": [
    {
     "name": "stdout",
     "output_type": "stream",
     "text": [
      "(9, 3) (9, 1)\n",
      "MSE: 0.2406839979593379, R2: 0.20278539297915354\n"
     ]
    },
    {
     "name": "stderr",
     "output_type": "stream",
     "text": [
      "/Users/allysontalyor/Applications/anaconda3/envs/PythonData/lib/python3.7/site-packages/ipykernel_launcher.py:44: SettingWithCopyWarning: \n",
      "A value is trying to be set on a copy of a slice from a DataFrame.\n",
      "Try using .loc[row_indexer,col_indexer] = value instead\n",
      "\n",
      "See the caveats in the documentation: http://pandas.pydata.org/pandas-docs/stable/user_guide/indexing.html#returning-a-view-versus-a-copy\n"
     ]
    }
   ],
   "source": [
    "#Create X and y values\n",
    "August46214_predictionData_1BR = August_46214.loc[(August_46214[\"Year_Integer\"]>=1)&(August_46214[\"Year_Integer\"]<=15)]\n",
    "August46214_predictionData_1BR =August46214_predictionData_1BR[[\"Median Market Value (Single Family)\", \"Year_Integer\", \"Median Price 3 Bedroom\"]] \n",
    "August46214_available_1BR = August_46214.loc[(August_46214[\"Year_Integer\"] >= 16) & (August_46214[\"Year_Integer\"] <=24)]\n",
    "                                                   \n",
    "X = August46214_available_1BR[[\"Median Market Value (Single Family)\", \"Year_Integer\", \"Median Price 3 Bedroom\"]]\n",
    "y = August46214_available_1BR[\"Median Price 1 Bedroom\"].values.reshape(-1, 1)\n",
    "print(X.shape, y.shape)\n",
    "#Create test/train data sets\n",
    "X_train, X_test, y_train, y_test = train_test_split(X, y, random_state=42)\n",
    "#X_train.head(9)\n",
    "\n",
    "X_scaler = StandardScaler().fit(X_train)\n",
    "y_scaler = StandardScaler().fit(y_train)\n",
    "X_train_scaled = X_scaler.transform(X_train)\n",
    "X_test_scaled = X_scaler.transform(X_test)\n",
    "y_train_scaled = y_scaler.transform(y_train)\n",
    "y_test_scaled = y_scaler.transform(y_test)\n",
    "\n",
    "model = LinearRegression()\n",
    "model.fit(X_train_scaled, y_train_scaled)\n",
    "predictions = model.predict(X_test_scaled)\n",
    "MSE = mean_squared_error(y_test_scaled, predictions)\n",
    "r2 = model.score(X_test_scaled, y_test_scaled)\n",
    "\n",
    "print(f\"MSE: {MSE}, R2: {r2}\")\n",
    "OneBedroom_46214.append(r2)\n",
    "\n",
    "August46214_predictionData_1BR_scaled = X_scaler.transform(August46214_predictionData_1BR)\n",
    "\n",
    "MLP1BR_August46214_predictions = model.predict(August46214_predictionData_1BR_scaled)\n",
    "MLP1BR_August46214_predictions_actual = y_scaler.inverse_transform(MLP1BR_August46214_predictions)\n",
    "MLP1BR_August46214_predictions_actual\n",
    "\n",
    "MLP1BR_August46214_prediction_list = []\n",
    "for prediction in MLP1BR_August46214_predictions_actual:\n",
    "    MLP1BR_August46214_prediction_list.append(prediction[0])\n",
    "#prediction_list\n",
    "first_part = MLP1BR_August46214_prediction_list\n",
    "last_part = August_46214[\"Median Price 1 Bedroom\"].to_list()\n",
    "last_part_final = last_part[15:25]\n",
    "#Combine into new list\n",
    "August_46214_MLP1BR_new = first_part + last_part_final\n",
    "August_46214[\"Median Price 1 Bedroom Calculated\"] = last_part\n",
    "#August_46214\n",
    "#last_part_final\n"
   ]
  },
  {
   "cell_type": "markdown",
   "metadata": {},
   "source": [
    "# **August 46214 Create DataFrame**"
   ]
  },
  {
   "cell_type": "code",
   "execution_count": 270,
   "metadata": {},
   "outputs": [],
   "source": [
    "August_46214_Complete = August_46214[[\"Zip_Code\", \"Date\", \"Year\", \"Year_Integer\",\"Month\", \n",
    "                                        \"Median Market Value (Single Family)\", \"Median Price 1 Bedroom\",\n",
    "                                       \"Median Price 2 Bedroom\", \"Median Price 3 Bedroom\",\n",
    "                                       \"Median Price 4 Bedroom\", \"Median Price 5 Bedroom\",\n",
    "                                       \"Median List Price per SqFt Calculated\", \"Median List Price Calculated\"]]\n",
    "#August_46214_Complete[\"Zip_Code_Integer\"] = 2\n",
    "August_46214_Complete.to_csv(\"August_46214_Complete.csv\")\n",
    "#August_46214_Complete\n"
   ]
  },
  {
   "cell_type": "markdown",
   "metadata": {},
   "source": [
    "# **September 46214**"
   ]
  },
  {
   "cell_type": "code",
   "execution_count": 271,
   "metadata": {},
   "outputs": [
    {
     "name": "stderr",
     "output_type": "stream",
     "text": [
      "/Users/allysontalyor/Applications/anaconda3/envs/PythonData/lib/python3.7/site-packages/ipykernel_launcher.py:2: SettingWithCopyWarning: \n",
      "A value is trying to be set on a copy of a slice from a DataFrame.\n",
      "Try using .loc[row_indexer,col_indexer] = value instead\n",
      "\n",
      "See the caveats in the documentation: http://pandas.pydata.org/pandas-docs/stable/user_guide/indexing.html#returning-a-view-versus-a-copy\n",
      "  \n"
     ]
    }
   ],
   "source": [
    "September_46214 = Indianapolis_Housing_46214.loc[Indianapolis_Housing_46214[\"Month\"]==9]\n",
    "September_46214[\"Year_Integer\"] = September_46214[\"Year\"] - 1995\n",
    "September46214_available = September_46214.loc[(September_46214[\"Year_Integer\"] >= 15) & (September_46214[\"Year_Integer\"] <=24)]\n",
    "#Isolate the data that we want to use to predict the filled in values...\n",
    "September46214_predictionData = September_46214.loc[(September_46214[\"Year_Integer\"]>=1)&(September_46214[\"Year_Integer\"]<=14)]\n",
    "\n",
    "September46214_predictionData = September46214_predictionData[[\"Median Market Value (Single Family)\", \"Median Price 1 Bedroom\", \n",
    "                              \"Median Price 2 Bedroom\", \"Median Price 3 Bedroom\", \"Median Price 4 Bedroom\",\n",
    "                             \"Median Price 5 Bedroom\", \"Year_Integer\"]]\n",
    "\n",
    "September46214_predictionData = September46214_predictionData[[\"Median Market Value (Single Family)\", \"Year_Integer\", \"Median Price 3 Bedroom\"]]\n",
    "#September46214_predictionData\n",
    "#September46214_available\n",
    "#September_46214\n"
   ]
  },
  {
   "cell_type": "markdown",
   "metadata": {},
   "source": [
    "# **September 46214 Median List Price SqFt**"
   ]
  },
  {
   "cell_type": "code",
   "execution_count": 272,
   "metadata": {},
   "outputs": [
    {
     "name": "stdout",
     "output_type": "stream",
     "text": [
      "(10, 2) (10, 1)\n",
      "MSE: 0.18259739921646043, R2: 0.8387261460127282\n"
     ]
    },
    {
     "name": "stderr",
     "output_type": "stream",
     "text": [
      "/Users/allysontalyor/Applications/anaconda3/envs/PythonData/lib/python3.7/site-packages/ipykernel_launcher.py:40: SettingWithCopyWarning: \n",
      "A value is trying to be set on a copy of a slice from a DataFrame.\n",
      "Try using .loc[row_indexer,col_indexer] = value instead\n",
      "\n",
      "See the caveats in the documentation: http://pandas.pydata.org/pandas-docs/stable/user_guide/indexing.html#returning-a-view-versus-a-copy\n"
     ]
    }
   ],
   "source": [
    "#Create X and y values\n",
    "X = September46214_available[[\"Median Market Value (Single Family)\", \"Year_Integer\"]]#, \"Median Price 3 Bedroom\"]]\n",
    "y = September46214_available[\"Median List Price per Square Foot\"].values.reshape(-1, 1)\n",
    "print(X.shape, y.shape)\n",
    "#Create test/train data sets\n",
    "X_train, X_test, y_train, y_test = train_test_split(X, y, random_state=42)\n",
    "#X_train.head(9)\n",
    "\n",
    "X_scaler = StandardScaler().fit(X_train)\n",
    "y_scaler = StandardScaler().fit(y_train)\n",
    "X_train_scaled = X_scaler.transform(X_train)\n",
    "X_test_scaled = X_scaler.transform(X_test)\n",
    "y_train_scaled = y_scaler.transform(y_train)\n",
    "y_test_scaled = y_scaler.transform(y_test)\n",
    "\n",
    "model = LinearRegression()\n",
    "model.fit(X_train_scaled, y_train_scaled)\n",
    "predictions = model.predict(X_test_scaled)\n",
    "MSE = mean_squared_error(y_test_scaled, predictions)\n",
    "r2 = model.score(X_test_scaled, y_test_scaled)\n",
    "\n",
    "print(f\"MSE: {MSE}, R2: {r2}\")\n",
    "MLPSqFt_46214.append(r2)\n",
    "\n",
    "September46214_predictionData_twoVariable = September46214_predictionData[[\"Median Market Value (Single Family)\", \"Year_Integer\"]]\n",
    "September46214_predictionData_scaled = X_scaler.transform(September46214_predictionData_twoVariable)\n",
    "\n",
    "MLPSqFt_September46214_predictions = model.predict(September46214_predictionData_scaled)\n",
    "MLPSqFt_September46214_predictions_actual = y_scaler.inverse_transform(MLPSqFt_September46214_predictions)\n",
    "#MLPSqFt_September46214_predictions_actual\n",
    "\n",
    "MLPSqFt_September46214_prediction_list = []\n",
    "for prediction in MLPSqFt_September46214_predictions_actual:\n",
    "    MLPSqFt_September46214_prediction_list.append(prediction[0])\n",
    "#prediction_list\n",
    "end = September_46214[\"Median List Price per Square Foot\"].to_list()\n",
    "end_final = end[14:25]\n",
    "#Combine into new list\n",
    "September_46214_MLPSqFt_new = MLPSqFt_September46214_prediction_list + end_final\n",
    "September_46214[\"Median List Price per SqFt Calculated\"] = September_46214_MLPSqFt_new\n",
    "#September_46214\n"
   ]
  },
  {
   "cell_type": "markdown",
   "metadata": {},
   "source": [
    "# **September 46214 Median List Price**"
   ]
  },
  {
   "cell_type": "code",
   "execution_count": 273,
   "metadata": {},
   "outputs": [
    {
     "name": "stdout",
     "output_type": "stream",
     "text": [
      "(10, 3) (10, 1)\n",
      "MSE: 0.16271994477596682, R2: 0.9031403307278955\n"
     ]
    },
    {
     "name": "stderr",
     "output_type": "stream",
     "text": [
      "/Users/allysontalyor/Applications/anaconda3/envs/PythonData/lib/python3.7/site-packages/ipykernel_launcher.py:39: SettingWithCopyWarning: \n",
      "A value is trying to be set on a copy of a slice from a DataFrame.\n",
      "Try using .loc[row_indexer,col_indexer] = value instead\n",
      "\n",
      "See the caveats in the documentation: http://pandas.pydata.org/pandas-docs/stable/user_guide/indexing.html#returning-a-view-versus-a-copy\n"
     ]
    }
   ],
   "source": [
    "#Create X and y values\n",
    "X = September46214_available[[\"Median Market Value (Single Family)\", \"Year_Integer\", \"Median Price 3 Bedroom\"]]\n",
    "y = September46214_available[\"Median List Price\"].values.reshape(-1, 1)\n",
    "print(X.shape, y.shape)\n",
    "#Create test/train data sets\n",
    "X_train, X_test, y_train, y_test = train_test_split(X, y, random_state=42)\n",
    "#X_train.head(9)\n",
    "\n",
    "X_scaler = StandardScaler().fit(X_train)\n",
    "y_scaler = StandardScaler().fit(y_train)\n",
    "X_train_scaled = X_scaler.transform(X_train)\n",
    "X_test_scaled = X_scaler.transform(X_test)\n",
    "y_train_scaled = y_scaler.transform(y_train)\n",
    "y_test_scaled = y_scaler.transform(y_test)\n",
    "\n",
    "model = LinearRegression()\n",
    "model.fit(X_train_scaled, y_train_scaled)\n",
    "predictions = model.predict(X_test_scaled)\n",
    "MSE = mean_squared_error(y_test_scaled, predictions)\n",
    "r2 = model.score(X_test_scaled, y_test_scaled)\n",
    "\n",
    "print(f\"MSE: {MSE}, R2: {r2}\")\n",
    "MLP_46214.append(r2)\n",
    "\n",
    "September46214_predictionData_scaled = X_scaler.transform(September46214_predictionData)\n",
    "\n",
    "MLP_September46214_predictions = model.predict(September46214_predictionData_scaled)\n",
    "MLP_September46214_predictions_actual = y_scaler.inverse_transform(MLP_September46214_predictions)\n",
    "#MLP_September46214_predictions_actual\n",
    "\n",
    "MLP_September46214_prediction_list = []\n",
    "for prediction in MLP_September46214_predictions_actual:\n",
    "    MLP_September46214_prediction_list.append(prediction[0])\n",
    "#prediction_list\n",
    "end = September_46214[\"Median List Price\"].to_list()\n",
    "end_final = end[14:25]\n",
    "#Combine into new list\n",
    "September_46214_MLP_new = MLP_September46214_prediction_list + end_final\n",
    "September_46214[\"Median List Price Calculated\"] = September_46214_MLP_new\n",
    "#September_46214\n"
   ]
  },
  {
   "cell_type": "markdown",
   "metadata": {},
   "source": [
    "# **September 46214 Median Price 1 Bedroom**"
   ]
  },
  {
   "cell_type": "code",
   "execution_count": 274,
   "metadata": {},
   "outputs": [
    {
     "name": "stdout",
     "output_type": "stream",
     "text": [
      "(9, 3) (9, 1)\n",
      "MSE: 0.27381516381893733, R2: -0.021660120117062084\n"
     ]
    },
    {
     "name": "stderr",
     "output_type": "stream",
     "text": [
      "/Users/allysontalyor/Applications/anaconda3/envs/PythonData/lib/python3.7/site-packages/ipykernel_launcher.py:44: SettingWithCopyWarning: \n",
      "A value is trying to be set on a copy of a slice from a DataFrame.\n",
      "Try using .loc[row_indexer,col_indexer] = value instead\n",
      "\n",
      "See the caveats in the documentation: http://pandas.pydata.org/pandas-docs/stable/user_guide/indexing.html#returning-a-view-versus-a-copy\n"
     ]
    }
   ],
   "source": [
    "#Create X and y values\n",
    "September46214_predictionData_1BR = September_46214.loc[(September_46214[\"Year_Integer\"]>=1)&(September_46214[\"Year_Integer\"]<=15)]\n",
    "September46214_predictionData_1BR =September46214_predictionData_1BR[[\"Median Market Value (Single Family)\", \"Year_Integer\", \"Median Price 3 Bedroom\"]] \n",
    "September46214_available_1BR = September_46214.loc[(September_46214[\"Year_Integer\"] >= 16) & (September_46214[\"Year_Integer\"] <=24)]\n",
    "                                                   \n",
    "X = September46214_available_1BR[[\"Median Market Value (Single Family)\", \"Year_Integer\", \"Median Price 3 Bedroom\"]]\n",
    "y = September46214_available_1BR[\"Median Price 1 Bedroom\"].values.reshape(-1, 1)\n",
    "print(X.shape, y.shape)\n",
    "#Create test/train data sets\n",
    "X_train, X_test, y_train, y_test = train_test_split(X, y, random_state=42)\n",
    "#X_train.head(9)\n",
    "\n",
    "X_scaler = StandardScaler().fit(X_train)\n",
    "y_scaler = StandardScaler().fit(y_train)\n",
    "X_train_scaled = X_scaler.transform(X_train)\n",
    "X_test_scaled = X_scaler.transform(X_test)\n",
    "y_train_scaled = y_scaler.transform(y_train)\n",
    "y_test_scaled = y_scaler.transform(y_test)\n",
    "\n",
    "model = LinearRegression()\n",
    "model.fit(X_train_scaled, y_train_scaled)\n",
    "predictions = model.predict(X_test_scaled)\n",
    "MSE = mean_squared_error(y_test_scaled, predictions)\n",
    "r2 = model.score(X_test_scaled, y_test_scaled)\n",
    "\n",
    "print(f\"MSE: {MSE}, R2: {r2}\")\n",
    "OneBedroom_46214.append(r2)\n",
    "\n",
    "September46214_predictionData_1BR_scaled = X_scaler.transform(September46214_predictionData_1BR)\n",
    "\n",
    "MLP1BR_September46214_predictions = model.predict(September46214_predictionData_1BR_scaled)\n",
    "MLP1BR_September46214_predictions_actual = y_scaler.inverse_transform(MLP1BR_September46214_predictions)\n",
    "MLP1BR_September46214_predictions_actual\n",
    "\n",
    "MLP1BR_September46214_prediction_list = []\n",
    "for prediction in MLP1BR_September46214_predictions_actual:\n",
    "    MLP1BR_September46214_prediction_list.append(prediction[0])\n",
    "#prediction_list\n",
    "first_part = MLP1BR_September46214_prediction_list\n",
    "last_part = September_46214[\"Median Price 1 Bedroom\"].to_list()\n",
    "last_part_final = last_part[15:25]\n",
    "#Combine into new list\n",
    "September_46214_MLP1BR_new = first_part + last_part_final\n",
    "September_46214[\"Median Price 1 Bedroom Calculated\"] = last_part\n",
    "#September_46214\n",
    "#last_part_final\n"
   ]
  },
  {
   "cell_type": "markdown",
   "metadata": {},
   "source": [
    "# **September 46214 Create DataFrame**"
   ]
  },
  {
   "cell_type": "code",
   "execution_count": 275,
   "metadata": {},
   "outputs": [],
   "source": [
    "September_46214_Complete = September_46214[[\"Zip_Code\", \"Date\", \"Year\", \"Year_Integer\",\"Month\", \n",
    "                                        \"Median Market Value (Single Family)\", \"Median Price 1 Bedroom\",\n",
    "                                       \"Median Price 2 Bedroom\", \"Median Price 3 Bedroom\",\n",
    "                                       \"Median Price 4 Bedroom\", \"Median Price 5 Bedroom\",\n",
    "                                       \"Median List Price per SqFt Calculated\", \"Median List Price Calculated\"]]\n",
    "#September_46214_Complete[\"Zip_Code_Integer\"] = 2\n",
    "September_46214_Complete.to_csv(\"September_46214_Complete.csv\")\n",
    "#September_46214_Complete\n"
   ]
  },
  {
   "cell_type": "markdown",
   "metadata": {},
   "source": [
    "# **October 46214**"
   ]
  },
  {
   "cell_type": "code",
   "execution_count": 276,
   "metadata": {},
   "outputs": [
    {
     "name": "stderr",
     "output_type": "stream",
     "text": [
      "/Users/allysontalyor/Applications/anaconda3/envs/PythonData/lib/python3.7/site-packages/ipykernel_launcher.py:2: SettingWithCopyWarning: \n",
      "A value is trying to be set on a copy of a slice from a DataFrame.\n",
      "Try using .loc[row_indexer,col_indexer] = value instead\n",
      "\n",
      "See the caveats in the documentation: http://pandas.pydata.org/pandas-docs/stable/user_guide/indexing.html#returning-a-view-versus-a-copy\n",
      "  \n"
     ]
    }
   ],
   "source": [
    "October_46214 = Indianapolis_Housing_46214.loc[Indianapolis_Housing_46214[\"Month\"]==10]\n",
    "October_46214[\"Year_Integer\"] = October_46214[\"Year\"] - 1995\n",
    "October46214_available = October_46214.loc[(October_46214[\"Year_Integer\"] >= 15) & (October_46214[\"Year_Integer\"] <=24)]\n",
    "#Isolate the data that we want to use to predict the filled in values...\n",
    "October46214_predictionData = October_46214.loc[(October_46214[\"Year_Integer\"]>=1)&(October_46214[\"Year_Integer\"]<=14)]\n",
    "\n",
    "October46214_predictionData = October46214_predictionData[[\"Median Market Value (Single Family)\", \"Median Price 1 Bedroom\", \n",
    "                              \"Median Price 2 Bedroom\", \"Median Price 3 Bedroom\", \"Median Price 4 Bedroom\",\n",
    "                             \"Median Price 5 Bedroom\", \"Year_Integer\"]]\n",
    "\n",
    "October46214_predictionData = October46214_predictionData[[\"Median Market Value (Single Family)\", \"Year_Integer\", \"Median Price 3 Bedroom\"]]\n",
    "#October46214_predictionData\n",
    "#October46214_available\n",
    "#October_46214\n"
   ]
  },
  {
   "cell_type": "markdown",
   "metadata": {},
   "source": [
    "# **October 46214 Median List Price SqFt**"
   ]
  },
  {
   "cell_type": "code",
   "execution_count": 277,
   "metadata": {},
   "outputs": [
    {
     "name": "stdout",
     "output_type": "stream",
     "text": [
      "(10, 2) (10, 1)\n",
      "MSE: 0.17848770029433061, R2: 0.8654064337335198\n"
     ]
    },
    {
     "name": "stderr",
     "output_type": "stream",
     "text": [
      "/Users/allysontalyor/Applications/anaconda3/envs/PythonData/lib/python3.7/site-packages/ipykernel_launcher.py:40: SettingWithCopyWarning: \n",
      "A value is trying to be set on a copy of a slice from a DataFrame.\n",
      "Try using .loc[row_indexer,col_indexer] = value instead\n",
      "\n",
      "See the caveats in the documentation: http://pandas.pydata.org/pandas-docs/stable/user_guide/indexing.html#returning-a-view-versus-a-copy\n"
     ]
    }
   ],
   "source": [
    "#Create X and y values\n",
    "X = October46214_available[[\"Median Market Value (Single Family)\", \"Year_Integer\"]]#, \"Median Price 3 Bedroom\"]]\n",
    "y = October46214_available[\"Median List Price per Square Foot\"].values.reshape(-1, 1)\n",
    "print(X.shape, y.shape)\n",
    "#Create test/train data sets\n",
    "X_train, X_test, y_train, y_test = train_test_split(X, y, random_state=42)\n",
    "#X_train.head(9)\n",
    "\n",
    "X_scaler = StandardScaler().fit(X_train)\n",
    "y_scaler = StandardScaler().fit(y_train)\n",
    "X_train_scaled = X_scaler.transform(X_train)\n",
    "X_test_scaled = X_scaler.transform(X_test)\n",
    "y_train_scaled = y_scaler.transform(y_train)\n",
    "y_test_scaled = y_scaler.transform(y_test)\n",
    "\n",
    "model = LinearRegression()\n",
    "model.fit(X_train_scaled, y_train_scaled)\n",
    "predictions = model.predict(X_test_scaled)\n",
    "MSE = mean_squared_error(y_test_scaled, predictions)\n",
    "r2 = model.score(X_test_scaled, y_test_scaled)\n",
    "\n",
    "print(f\"MSE: {MSE}, R2: {r2}\")\n",
    "MLPSqFt_46214.append(r2)\n",
    "\n",
    "October46214_predictionData_twoVariable = October46214_predictionData[[\"Median Market Value (Single Family)\", \"Year_Integer\"]]\n",
    "October46214_predictionData_scaled = X_scaler.transform(October46214_predictionData_twoVariable)\n",
    "\n",
    "MLPSqFt_October46214_predictions = model.predict(October46214_predictionData_scaled)\n",
    "MLPSqFt_October46214_predictions_actual = y_scaler.inverse_transform(MLPSqFt_October46214_predictions)\n",
    "#MLPSqFt_October46214_predictions_actual\n",
    "\n",
    "MLPSqFt_October46214_prediction_list = []\n",
    "for prediction in MLPSqFt_October46214_predictions_actual:\n",
    "    MLPSqFt_October46214_prediction_list.append(prediction[0])\n",
    "#prediction_list\n",
    "end = October_46214[\"Median List Price per Square Foot\"].to_list()\n",
    "end_final = end[14:25]\n",
    "#Combine into new list\n",
    "October_46214_MLPSqFt_new = MLPSqFt_October46214_prediction_list + end_final\n",
    "October_46214[\"Median List Price per SqFt Calculated\"] = October_46214_MLPSqFt_new\n",
    "#October_46214\n"
   ]
  },
  {
   "cell_type": "markdown",
   "metadata": {},
   "source": [
    "# **October 46214 Median List Price**"
   ]
  },
  {
   "cell_type": "code",
   "execution_count": 278,
   "metadata": {},
   "outputs": [
    {
     "name": "stdout",
     "output_type": "stream",
     "text": [
      "(10, 3) (10, 1)\n",
      "MSE: 0.2662157598124905, R2: 0.852876880857846\n"
     ]
    },
    {
     "name": "stderr",
     "output_type": "stream",
     "text": [
      "/Users/allysontalyor/Applications/anaconda3/envs/PythonData/lib/python3.7/site-packages/ipykernel_launcher.py:39: SettingWithCopyWarning: \n",
      "A value is trying to be set on a copy of a slice from a DataFrame.\n",
      "Try using .loc[row_indexer,col_indexer] = value instead\n",
      "\n",
      "See the caveats in the documentation: http://pandas.pydata.org/pandas-docs/stable/user_guide/indexing.html#returning-a-view-versus-a-copy\n"
     ]
    }
   ],
   "source": [
    "#Create X and y values\n",
    "X = October46214_available[[\"Median Market Value (Single Family)\", \"Year_Integer\", \"Median Price 3 Bedroom\"]]\n",
    "y = October46214_available[\"Median List Price\"].values.reshape(-1, 1)\n",
    "print(X.shape, y.shape)\n",
    "#Create test/train data sets\n",
    "X_train, X_test, y_train, y_test = train_test_split(X, y, random_state=42)\n",
    "#X_train.head(9)\n",
    "\n",
    "X_scaler = StandardScaler().fit(X_train)\n",
    "y_scaler = StandardScaler().fit(y_train)\n",
    "X_train_scaled = X_scaler.transform(X_train)\n",
    "X_test_scaled = X_scaler.transform(X_test)\n",
    "y_train_scaled = y_scaler.transform(y_train)\n",
    "y_test_scaled = y_scaler.transform(y_test)\n",
    "\n",
    "model = LinearRegression()\n",
    "model.fit(X_train_scaled, y_train_scaled)\n",
    "predictions = model.predict(X_test_scaled)\n",
    "MSE = mean_squared_error(y_test_scaled, predictions)\n",
    "r2 = model.score(X_test_scaled, y_test_scaled)\n",
    "\n",
    "print(f\"MSE: {MSE}, R2: {r2}\")\n",
    "MLP_46214.append(r2)\n",
    "\n",
    "October46214_predictionData_scaled = X_scaler.transform(October46214_predictionData)\n",
    "\n",
    "MLP_October46214_predictions = model.predict(October46214_predictionData_scaled)\n",
    "MLP_October46214_predictions_actual = y_scaler.inverse_transform(MLP_October46214_predictions)\n",
    "#MLP_October46214_predictions_actual\n",
    "\n",
    "MLP_October46214_prediction_list = []\n",
    "for prediction in MLP_October46214_predictions_actual:\n",
    "    MLP_October46214_prediction_list.append(prediction[0])\n",
    "#prediction_list\n",
    "end = October_46214[\"Median List Price\"].to_list()\n",
    "end_final = end[14:25]\n",
    "#Combine into new list\n",
    "October_46214_MLP_new = MLP_October46214_prediction_list + end_final\n",
    "October_46214[\"Median List Price Calculated\"] = October_46214_MLP_new\n",
    "#October_46214\n"
   ]
  },
  {
   "cell_type": "markdown",
   "metadata": {},
   "source": [
    "# **October 46214 Median Price 1 Bedroom**"
   ]
  },
  {
   "cell_type": "code",
   "execution_count": 279,
   "metadata": {},
   "outputs": [
    {
     "name": "stdout",
     "output_type": "stream",
     "text": [
      "(9, 3) (9, 1)\n",
      "MSE: 0.22878281247230628, R2: 0.14728751412258423\n"
     ]
    },
    {
     "name": "stderr",
     "output_type": "stream",
     "text": [
      "/Users/allysontalyor/Applications/anaconda3/envs/PythonData/lib/python3.7/site-packages/ipykernel_launcher.py:44: SettingWithCopyWarning: \n",
      "A value is trying to be set on a copy of a slice from a DataFrame.\n",
      "Try using .loc[row_indexer,col_indexer] = value instead\n",
      "\n",
      "See the caveats in the documentation: http://pandas.pydata.org/pandas-docs/stable/user_guide/indexing.html#returning-a-view-versus-a-copy\n"
     ]
    }
   ],
   "source": [
    "#Create X and y values\n",
    "October46214_predictionData_1BR = October_46214.loc[(October_46214[\"Year_Integer\"]>=1)&(October_46214[\"Year_Integer\"]<=15)]\n",
    "October46214_predictionData_1BR =October46214_predictionData_1BR[[\"Median Market Value (Single Family)\", \"Year_Integer\", \"Median Price 3 Bedroom\"]] \n",
    "October46214_available_1BR = October_46214.loc[(October_46214[\"Year_Integer\"] >= 16) & (October_46214[\"Year_Integer\"] <=24)]\n",
    "                                                   \n",
    "X = October46214_available_1BR[[\"Median Market Value (Single Family)\", \"Year_Integer\", \"Median Price 3 Bedroom\"]]\n",
    "y = October46214_available_1BR[\"Median Price 1 Bedroom\"].values.reshape(-1, 1)\n",
    "print(X.shape, y.shape)\n",
    "#Create test/train data sets\n",
    "X_train, X_test, y_train, y_test = train_test_split(X, y, random_state=42)\n",
    "#X_train.head(9)\n",
    "\n",
    "X_scaler = StandardScaler().fit(X_train)\n",
    "y_scaler = StandardScaler().fit(y_train)\n",
    "X_train_scaled = X_scaler.transform(X_train)\n",
    "X_test_scaled = X_scaler.transform(X_test)\n",
    "y_train_scaled = y_scaler.transform(y_train)\n",
    "y_test_scaled = y_scaler.transform(y_test)\n",
    "\n",
    "model = LinearRegression()\n",
    "model.fit(X_train_scaled, y_train_scaled)\n",
    "predictions = model.predict(X_test_scaled)\n",
    "MSE = mean_squared_error(y_test_scaled, predictions)\n",
    "r2 = model.score(X_test_scaled, y_test_scaled)\n",
    "\n",
    "print(f\"MSE: {MSE}, R2: {r2}\")\n",
    "OneBedroom_46214.append(r2)\n",
    "\n",
    "October46214_predictionData_1BR_scaled = X_scaler.transform(October46214_predictionData_1BR)\n",
    "\n",
    "MLP1BR_October46214_predictions = model.predict(October46214_predictionData_1BR_scaled)\n",
    "MLP1BR_October46214_predictions_actual = y_scaler.inverse_transform(MLP1BR_October46214_predictions)\n",
    "MLP1BR_October46214_predictions_actual\n",
    "\n",
    "MLP1BR_October46214_prediction_list = []\n",
    "for prediction in MLP1BR_October46214_predictions_actual:\n",
    "    MLP1BR_October46214_prediction_list.append(prediction[0])\n",
    "#prediction_list\n",
    "first_part = MLP1BR_October46214_prediction_list\n",
    "last_part = October_46214[\"Median Price 1 Bedroom\"].to_list()\n",
    "last_part_final = last_part[15:25]\n",
    "#Combine into new list\n",
    "October_46214_MLP1BR_new = first_part + last_part_final\n",
    "October_46214[\"Median Price 1 Bedroom Calculated\"] = last_part\n",
    "#October_46214\n"
   ]
  },
  {
   "cell_type": "markdown",
   "metadata": {},
   "source": [
    "# **October 46214 Create DataFrame**"
   ]
  },
  {
   "cell_type": "code",
   "execution_count": 280,
   "metadata": {},
   "outputs": [],
   "source": [
    "October_46214_Complete = October_46214[[\"Zip_Code\", \"Date\", \"Year\", \"Year_Integer\",\"Month\", \n",
    "                                        \"Median Market Value (Single Family)\", \"Median Price 1 Bedroom\",\n",
    "                                       \"Median Price 2 Bedroom\", \"Median Price 3 Bedroom\",\n",
    "                                       \"Median Price 4 Bedroom\", \"Median Price 5 Bedroom\",\n",
    "                                       \"Median List Price per SqFt Calculated\", \"Median List Price Calculated\"]]\n",
    "#October_46214_Complete[\"Zip_Code_Integer\"] = 2\n",
    "October_46214_Complete.to_csv(\"October_46214_Complete.csv\")\n",
    "#October_46214_Complete\n"
   ]
  },
  {
   "cell_type": "markdown",
   "metadata": {},
   "source": [
    "# **November 46214**"
   ]
  },
  {
   "cell_type": "code",
   "execution_count": 281,
   "metadata": {},
   "outputs": [
    {
     "name": "stderr",
     "output_type": "stream",
     "text": [
      "/Users/allysontalyor/Applications/anaconda3/envs/PythonData/lib/python3.7/site-packages/ipykernel_launcher.py:2: SettingWithCopyWarning: \n",
      "A value is trying to be set on a copy of a slice from a DataFrame.\n",
      "Try using .loc[row_indexer,col_indexer] = value instead\n",
      "\n",
      "See the caveats in the documentation: http://pandas.pydata.org/pandas-docs/stable/user_guide/indexing.html#returning-a-view-versus-a-copy\n",
      "  \n"
     ]
    }
   ],
   "source": [
    "November_46214 = Indianapolis_Housing_46214.loc[Indianapolis_Housing_46214[\"Month\"]==11]\n",
    "November_46214[\"Year_Integer\"] = November_46214[\"Year\"] - 1995\n",
    "November46214_available = November_46214.loc[(November_46214[\"Year_Integer\"] >= 15) & (November_46214[\"Year_Integer\"] <=24)]\n",
    "#Isolate the data that we want to use to predict the filled in values...\n",
    "November46214_predictionData = November_46214.loc[(November_46214[\"Year_Integer\"]>=1)&(November_46214[\"Year_Integer\"]<=14)]\n",
    "\n",
    "November46214_predictionData = November46214_predictionData[[\"Median Market Value (Single Family)\", \"Median Price 1 Bedroom\", \n",
    "                              \"Median Price 2 Bedroom\", \"Median Price 3 Bedroom\", \"Median Price 4 Bedroom\",\n",
    "                             \"Median Price 5 Bedroom\", \"Year_Integer\"]]\n",
    "\n",
    "November46214_predictionData = November46214_predictionData[[\"Median Market Value (Single Family)\", \"Year_Integer\", \"Median Price 3 Bedroom\"]]\n",
    "#November46214_predictionData\n",
    "#November46214_available\n",
    "#November_46214\n"
   ]
  },
  {
   "cell_type": "markdown",
   "metadata": {},
   "source": [
    "# **November 46214 Median List Price SqFt**"
   ]
  },
  {
   "cell_type": "code",
   "execution_count": 282,
   "metadata": {},
   "outputs": [
    {
     "name": "stdout",
     "output_type": "stream",
     "text": [
      "(10, 2) (10, 1)\n",
      "MSE: 0.13094892445726028, R2: 0.8940391549427043\n"
     ]
    },
    {
     "name": "stderr",
     "output_type": "stream",
     "text": [
      "/Users/allysontalyor/Applications/anaconda3/envs/PythonData/lib/python3.7/site-packages/ipykernel_launcher.py:40: SettingWithCopyWarning: \n",
      "A value is trying to be set on a copy of a slice from a DataFrame.\n",
      "Try using .loc[row_indexer,col_indexer] = value instead\n",
      "\n",
      "See the caveats in the documentation: http://pandas.pydata.org/pandas-docs/stable/user_guide/indexing.html#returning-a-view-versus-a-copy\n"
     ]
    }
   ],
   "source": [
    "#Create X and y values\n",
    "X = November46214_available[[\"Median Market Value (Single Family)\", \"Year_Integer\"]]#, \"Median Price 3 Bedroom\"]]\n",
    "y = November46214_available[\"Median List Price per Square Foot\"].values.reshape(-1, 1)\n",
    "print(X.shape, y.shape)\n",
    "#Create test/train data sets\n",
    "X_train, X_test, y_train, y_test = train_test_split(X, y, random_state=42)\n",
    "#X_train.head(9)\n",
    "\n",
    "X_scaler = StandardScaler().fit(X_train)\n",
    "y_scaler = StandardScaler().fit(y_train)\n",
    "X_train_scaled = X_scaler.transform(X_train)\n",
    "X_test_scaled = X_scaler.transform(X_test)\n",
    "y_train_scaled = y_scaler.transform(y_train)\n",
    "y_test_scaled = y_scaler.transform(y_test)\n",
    "\n",
    "model = LinearRegression()\n",
    "model.fit(X_train_scaled, y_train_scaled)\n",
    "predictions = model.predict(X_test_scaled)\n",
    "MSE = mean_squared_error(y_test_scaled, predictions)\n",
    "r2 = model.score(X_test_scaled, y_test_scaled)\n",
    "\n",
    "print(f\"MSE: {MSE}, R2: {r2}\")\n",
    "MLPSqFt_46214.append(r2)\n",
    "\n",
    "November46214_predictionData_twoVariable = November46214_predictionData[[\"Median Market Value (Single Family)\", \"Year_Integer\"]]\n",
    "November46214_predictionData_scaled = X_scaler.transform(November46214_predictionData_twoVariable)\n",
    "\n",
    "MLPSqFt_November46214_predictions = model.predict(November46214_predictionData_scaled)\n",
    "MLPSqFt_November46214_predictions_actual = y_scaler.inverse_transform(MLPSqFt_November46214_predictions)\n",
    "#MLPSqFt_November46214_predictions_actual\n",
    "\n",
    "MLPSqFt_November46214_prediction_list = []\n",
    "for prediction in MLPSqFt_November46214_predictions_actual:\n",
    "    MLPSqFt_November46214_prediction_list.append(prediction[0])\n",
    "#prediction_list\n",
    "end = November_46214[\"Median List Price per Square Foot\"].to_list()\n",
    "end_final = end[14:25]\n",
    "#Combine into new list\n",
    "November_46214_MLPSqFt_new = MLPSqFt_November46214_prediction_list + end_final\n",
    "November_46214[\"Median List Price per SqFt Calculated\"] = November_46214_MLPSqFt_new\n",
    "#November_46214\n"
   ]
  },
  {
   "cell_type": "markdown",
   "metadata": {},
   "source": [
    "# **November 46214 Median List Price**"
   ]
  },
  {
   "cell_type": "code",
   "execution_count": 283,
   "metadata": {},
   "outputs": [
    {
     "name": "stdout",
     "output_type": "stream",
     "text": [
      "(10, 3) (10, 1)\n",
      "MSE: 0.09187262110075066, R2: 0.9306168640542168\n"
     ]
    },
    {
     "name": "stderr",
     "output_type": "stream",
     "text": [
      "/Users/allysontalyor/Applications/anaconda3/envs/PythonData/lib/python3.7/site-packages/ipykernel_launcher.py:39: SettingWithCopyWarning: \n",
      "A value is trying to be set on a copy of a slice from a DataFrame.\n",
      "Try using .loc[row_indexer,col_indexer] = value instead\n",
      "\n",
      "See the caveats in the documentation: http://pandas.pydata.org/pandas-docs/stable/user_guide/indexing.html#returning-a-view-versus-a-copy\n"
     ]
    }
   ],
   "source": [
    "#Create X and y values\n",
    "X = November46214_available[[\"Median Market Value (Single Family)\", \"Year_Integer\", \"Median Price 3 Bedroom\"]]\n",
    "y = November46214_available[\"Median List Price\"].values.reshape(-1, 1)\n",
    "print(X.shape, y.shape)\n",
    "#Create test/train data sets\n",
    "X_train, X_test, y_train, y_test = train_test_split(X, y, random_state=42)\n",
    "#X_train.head(9)\n",
    "\n",
    "X_scaler = StandardScaler().fit(X_train)\n",
    "y_scaler = StandardScaler().fit(y_train)\n",
    "X_train_scaled = X_scaler.transform(X_train)\n",
    "X_test_scaled = X_scaler.transform(X_test)\n",
    "y_train_scaled = y_scaler.transform(y_train)\n",
    "y_test_scaled = y_scaler.transform(y_test)\n",
    "\n",
    "model = LinearRegression()\n",
    "model.fit(X_train_scaled, y_train_scaled)\n",
    "predictions = model.predict(X_test_scaled)\n",
    "MSE = mean_squared_error(y_test_scaled, predictions)\n",
    "r2 = model.score(X_test_scaled, y_test_scaled)\n",
    "\n",
    "print(f\"MSE: {MSE}, R2: {r2}\")\n",
    "MLP_46214.append(r2)\n",
    "\n",
    "November46214_predictionData_scaled = X_scaler.transform(November46214_predictionData)\n",
    "\n",
    "MLP_November46214_predictions = model.predict(November46214_predictionData_scaled)\n",
    "MLP_November46214_predictions_actual = y_scaler.inverse_transform(MLP_November46214_predictions)\n",
    "#MLP_November46214_predictions_actual\n",
    "\n",
    "MLP_November46214_prediction_list = []\n",
    "for prediction in MLP_November46214_predictions_actual:\n",
    "    MLP_November46214_prediction_list.append(prediction[0])\n",
    "#prediction_list\n",
    "end = November_46214[\"Median List Price\"].to_list()\n",
    "end_final = end[14:25]\n",
    "#Combine into new list\n",
    "November_46214_MLP_new = MLP_November46214_prediction_list + end_final\n",
    "November_46214[\"Median List Price Calculated\"] = November_46214_MLP_new\n",
    "#November_46214\n"
   ]
  },
  {
   "cell_type": "markdown",
   "metadata": {},
   "source": [
    "# **November 46214 Median Price 1 Bedroom**"
   ]
  },
  {
   "cell_type": "code",
   "execution_count": 284,
   "metadata": {},
   "outputs": [
    {
     "name": "stdout",
     "output_type": "stream",
     "text": [
      "(9, 3) (9, 1)\n",
      "MSE: 0.19748158462496798, R2: 0.4209300805191357\n"
     ]
    },
    {
     "name": "stderr",
     "output_type": "stream",
     "text": [
      "/Users/allysontalyor/Applications/anaconda3/envs/PythonData/lib/python3.7/site-packages/ipykernel_launcher.py:44: SettingWithCopyWarning: \n",
      "A value is trying to be set on a copy of a slice from a DataFrame.\n",
      "Try using .loc[row_indexer,col_indexer] = value instead\n",
      "\n",
      "See the caveats in the documentation: http://pandas.pydata.org/pandas-docs/stable/user_guide/indexing.html#returning-a-view-versus-a-copy\n"
     ]
    }
   ],
   "source": [
    "#Create X and y values\n",
    "November46214_predictionData_1BR = November_46214.loc[(November_46214[\"Year_Integer\"]>=1)&(November_46214[\"Year_Integer\"]<=15)]\n",
    "November46214_predictionData_1BR =November46214_predictionData_1BR[[\"Median Market Value (Single Family)\", \"Year_Integer\", \"Median Price 3 Bedroom\"]] \n",
    "November46214_available_1BR = November_46214.loc[(November_46214[\"Year_Integer\"] >= 16) & (November_46214[\"Year_Integer\"] <=24)]\n",
    "                                                   \n",
    "X = November46214_available_1BR[[\"Median Market Value (Single Family)\", \"Year_Integer\", \"Median Price 3 Bedroom\"]]\n",
    "y = November46214_available_1BR[\"Median Price 1 Bedroom\"].values.reshape(-1, 1)\n",
    "print(X.shape, y.shape)\n",
    "#Create test/train data sets\n",
    "X_train, X_test, y_train, y_test = train_test_split(X, y, random_state=42)\n",
    "#X_train.head(9)\n",
    "\n",
    "X_scaler = StandardScaler().fit(X_train)\n",
    "y_scaler = StandardScaler().fit(y_train)\n",
    "X_train_scaled = X_scaler.transform(X_train)\n",
    "X_test_scaled = X_scaler.transform(X_test)\n",
    "y_train_scaled = y_scaler.transform(y_train)\n",
    "y_test_scaled = y_scaler.transform(y_test)\n",
    "\n",
    "model = LinearRegression()\n",
    "model.fit(X_train_scaled, y_train_scaled)\n",
    "predictions = model.predict(X_test_scaled)\n",
    "MSE = mean_squared_error(y_test_scaled, predictions)\n",
    "r2 = model.score(X_test_scaled, y_test_scaled)\n",
    "\n",
    "print(f\"MSE: {MSE}, R2: {r2}\")\n",
    "OneBedroom_46214.append(r2)\n",
    "\n",
    "November46214_predictionData_1BR_scaled = X_scaler.transform(November46214_predictionData_1BR)\n",
    "\n",
    "MLP1BR_November46214_predictions = model.predict(November46214_predictionData_1BR_scaled)\n",
    "MLP1BR_November46214_predictions_actual = y_scaler.inverse_transform(MLP1BR_November46214_predictions)\n",
    "MLP1BR_November46214_predictions_actual\n",
    "\n",
    "MLP1BR_November46214_prediction_list = []\n",
    "for prediction in MLP1BR_November46214_predictions_actual:\n",
    "    MLP1BR_November46214_prediction_list.append(prediction[0])\n",
    "#prediction_list\n",
    "first_part = MLP1BR_November46214_prediction_list\n",
    "last_part = November_46214[\"Median Price 1 Bedroom\"].to_list()\n",
    "last_part_final = last_part[15:25]\n",
    "#Combine into new list\n",
    "November_46214_MLP1BR_new = first_part + last_part_final\n",
    "November_46214[\"Median Price 1 Bedroom Calculated\"] = last_part\n",
    "#November_46214\n"
   ]
  },
  {
   "cell_type": "markdown",
   "metadata": {},
   "source": [
    "# **November 46214 Create DataFrame**"
   ]
  },
  {
   "cell_type": "code",
   "execution_count": 285,
   "metadata": {},
   "outputs": [],
   "source": [
    "November_46214_Complete = November_46214[[\"Zip_Code\", \"Date\", \"Year\", \"Year_Integer\",\"Month\", \n",
    "                                        \"Median Market Value (Single Family)\", \"Median Price 1 Bedroom\",\n",
    "                                       \"Median Price 2 Bedroom\", \"Median Price 3 Bedroom\",\n",
    "                                       \"Median Price 4 Bedroom\", \"Median Price 5 Bedroom\",\n",
    "                                       \"Median List Price per SqFt Calculated\", \"Median List Price Calculated\"]]\n",
    "#November_46214_Complete[\"Zip_Code_Integer\"] = 2\n",
    "November_46214_Complete.to_csv(\"November_46214_Complete.csv\")\n",
    "#November_46214_Complete\n"
   ]
  },
  {
   "cell_type": "markdown",
   "metadata": {},
   "source": [
    "# **December 46214**"
   ]
  },
  {
   "cell_type": "code",
   "execution_count": 286,
   "metadata": {},
   "outputs": [
    {
     "name": "stderr",
     "output_type": "stream",
     "text": [
      "/Users/allysontalyor/Applications/anaconda3/envs/PythonData/lib/python3.7/site-packages/ipykernel_launcher.py:2: SettingWithCopyWarning: \n",
      "A value is trying to be set on a copy of a slice from a DataFrame.\n",
      "Try using .loc[row_indexer,col_indexer] = value instead\n",
      "\n",
      "See the caveats in the documentation: http://pandas.pydata.org/pandas-docs/stable/user_guide/indexing.html#returning-a-view-versus-a-copy\n",
      "  \n"
     ]
    }
   ],
   "source": [
    "December_46214 = Indianapolis_Housing_46214.loc[Indianapolis_Housing_46214[\"Month\"]==12]\n",
    "December_46214[\"Year_Integer\"] = December_46214[\"Year\"] - 1995\n",
    "December46214_available = December_46214.loc[(December_46214[\"Year_Integer\"] >= 15) & (December_46214[\"Year_Integer\"] <=24)]\n",
    "#Isolate the data that we want to use to predict the filled in values...\n",
    "December46214_predictionData = December_46214.loc[(December_46214[\"Year_Integer\"]>=1)&(December_46214[\"Year_Integer\"]<=14)]\n",
    "\n",
    "December46214_predictionData = December46214_predictionData[[\"Median Market Value (Single Family)\", \"Median Price 1 Bedroom\", \n",
    "                              \"Median Price 2 Bedroom\", \"Median Price 3 Bedroom\", \"Median Price 4 Bedroom\",\n",
    "                             \"Median Price 5 Bedroom\", \"Year_Integer\"]]\n",
    "\n",
    "December46214_predictionData = December46214_predictionData[[\"Median Market Value (Single Family)\", \"Year_Integer\", \"Median Price 3 Bedroom\"]]\n",
    "#December46214_predictionData\n",
    "#December46214_available\n",
    "#December_46214\n"
   ]
  },
  {
   "cell_type": "markdown",
   "metadata": {},
   "source": [
    "# **December 46214 Median List Price SqFt**"
   ]
  },
  {
   "cell_type": "code",
   "execution_count": 287,
   "metadata": {},
   "outputs": [
    {
     "name": "stdout",
     "output_type": "stream",
     "text": [
      "(10, 2) (10, 1)\n",
      "MSE: 0.040174921753789374, R2: 0.957664227472517\n"
     ]
    },
    {
     "name": "stderr",
     "output_type": "stream",
     "text": [
      "/Users/allysontalyor/Applications/anaconda3/envs/PythonData/lib/python3.7/site-packages/ipykernel_launcher.py:40: SettingWithCopyWarning: \n",
      "A value is trying to be set on a copy of a slice from a DataFrame.\n",
      "Try using .loc[row_indexer,col_indexer] = value instead\n",
      "\n",
      "See the caveats in the documentation: http://pandas.pydata.org/pandas-docs/stable/user_guide/indexing.html#returning-a-view-versus-a-copy\n"
     ]
    }
   ],
   "source": [
    "#Create X and y values\n",
    "X = December46214_available[[\"Median Market Value (Single Family)\", \"Year_Integer\"]]#, \"Median Price 3 Bedroom\"]]\n",
    "y = December46214_available[\"Median List Price per Square Foot\"].values.reshape(-1, 1)\n",
    "print(X.shape, y.shape)\n",
    "#Create test/train data sets\n",
    "X_train, X_test, y_train, y_test = train_test_split(X, y, random_state=42)\n",
    "#X_train.head(9)\n",
    "\n",
    "X_scaler = StandardScaler().fit(X_train)\n",
    "y_scaler = StandardScaler().fit(y_train)\n",
    "X_train_scaled = X_scaler.transform(X_train)\n",
    "X_test_scaled = X_scaler.transform(X_test)\n",
    "y_train_scaled = y_scaler.transform(y_train)\n",
    "y_test_scaled = y_scaler.transform(y_test)\n",
    "\n",
    "model = LinearRegression()\n",
    "model.fit(X_train_scaled, y_train_scaled)\n",
    "predictions = model.predict(X_test_scaled)\n",
    "MSE = mean_squared_error(y_test_scaled, predictions)\n",
    "r2 = model.score(X_test_scaled, y_test_scaled)\n",
    "\n",
    "print(f\"MSE: {MSE}, R2: {r2}\")\n",
    "MLPSqFt_46214.append(r2)\n",
    "\n",
    "December46214_predictionData_twoVariable = December46214_predictionData[[\"Median Market Value (Single Family)\", \"Year_Integer\"]]\n",
    "December46214_predictionData_scaled = X_scaler.transform(December46214_predictionData_twoVariable)\n",
    "\n",
    "MLPSqFt_December46214_predictions = model.predict(December46214_predictionData_scaled)\n",
    "MLPSqFt_December46214_predictions_actual = y_scaler.inverse_transform(MLPSqFt_December46214_predictions)\n",
    "#MLPSqFt_December46214_predictions_actual\n",
    "\n",
    "MLPSqFt_December46214_prediction_list = []\n",
    "for prediction in MLPSqFt_December46214_predictions_actual:\n",
    "    MLPSqFt_December46214_prediction_list.append(prediction[0])\n",
    "#prediction_list\n",
    "end = December_46214[\"Median List Price per Square Foot\"].to_list()\n",
    "end_final = end[14:25]\n",
    "#Combine into new list\n",
    "December_46214_MLPSqFt_new = MLPSqFt_December46214_prediction_list + end_final\n",
    "December_46214[\"Median List Price per SqFt Calculated\"] = December_46214_MLPSqFt_new\n",
    "#December_46214\n"
   ]
  },
  {
   "cell_type": "markdown",
   "metadata": {},
   "source": [
    "# **December 46214 Median List Price**"
   ]
  },
  {
   "cell_type": "code",
   "execution_count": 288,
   "metadata": {},
   "outputs": [
    {
     "name": "stdout",
     "output_type": "stream",
     "text": [
      "(10, 3) (10, 1)\n",
      "MSE: 0.10423524484691227, R2: 0.8942204012439265\n"
     ]
    },
    {
     "name": "stderr",
     "output_type": "stream",
     "text": [
      "/Users/allysontalyor/Applications/anaconda3/envs/PythonData/lib/python3.7/site-packages/ipykernel_launcher.py:39: SettingWithCopyWarning: \n",
      "A value is trying to be set on a copy of a slice from a DataFrame.\n",
      "Try using .loc[row_indexer,col_indexer] = value instead\n",
      "\n",
      "See the caveats in the documentation: http://pandas.pydata.org/pandas-docs/stable/user_guide/indexing.html#returning-a-view-versus-a-copy\n"
     ]
    }
   ],
   "source": [
    "#Create X and y values\n",
    "X = December46214_available[[\"Median Market Value (Single Family)\", \"Year_Integer\", \"Median Price 3 Bedroom\"]]\n",
    "y = December46214_available[\"Median List Price\"].values.reshape(-1, 1)\n",
    "print(X.shape, y.shape)\n",
    "#Create test/train data sets\n",
    "X_train, X_test, y_train, y_test = train_test_split(X, y, random_state=42)\n",
    "#X_train.head(9)\n",
    "\n",
    "X_scaler = StandardScaler().fit(X_train)\n",
    "y_scaler = StandardScaler().fit(y_train)\n",
    "X_train_scaled = X_scaler.transform(X_train)\n",
    "X_test_scaled = X_scaler.transform(X_test)\n",
    "y_train_scaled = y_scaler.transform(y_train)\n",
    "y_test_scaled = y_scaler.transform(y_test)\n",
    "\n",
    "model = LinearRegression()\n",
    "model.fit(X_train_scaled, y_train_scaled)\n",
    "predictions = model.predict(X_test_scaled)\n",
    "MSE = mean_squared_error(y_test_scaled, predictions)\n",
    "r2 = model.score(X_test_scaled, y_test_scaled)\n",
    "\n",
    "print(f\"MSE: {MSE}, R2: {r2}\")\n",
    "MLP_46214.append(r2)\n",
    "\n",
    "December46214_predictionData_scaled = X_scaler.transform(December46214_predictionData)\n",
    "\n",
    "MLP_December46214_predictions = model.predict(December46214_predictionData_scaled)\n",
    "MLP_December46214_predictions_actual = y_scaler.inverse_transform(MLP_December46214_predictions)\n",
    "#MLP_December46214_predictions_actual\n",
    "\n",
    "MLP_December46214_prediction_list = []\n",
    "for prediction in MLP_December46214_predictions_actual:\n",
    "    MLP_December46214_prediction_list.append(prediction[0])\n",
    "#prediction_list\n",
    "end = December_46214[\"Median List Price\"].to_list()\n",
    "end_final = end[14:25]\n",
    "#Combine into new list\n",
    "December_46214_MLP_new = MLP_December46214_prediction_list + end_final\n",
    "December_46214[\"Median List Price Calculated\"] = December_46214_MLP_new\n",
    "#December_46214\n"
   ]
  },
  {
   "cell_type": "markdown",
   "metadata": {},
   "source": [
    "# **December 46214 Median Price 1 Bedroom**"
   ]
  },
  {
   "cell_type": "code",
   "execution_count": 289,
   "metadata": {},
   "outputs": [
    {
     "name": "stdout",
     "output_type": "stream",
     "text": [
      "(9, 3) (9, 1)\n",
      "MSE: 0.23164288350577159, R2: 0.49959816468549045\n"
     ]
    },
    {
     "name": "stderr",
     "output_type": "stream",
     "text": [
      "/Users/allysontalyor/Applications/anaconda3/envs/PythonData/lib/python3.7/site-packages/ipykernel_launcher.py:44: SettingWithCopyWarning: \n",
      "A value is trying to be set on a copy of a slice from a DataFrame.\n",
      "Try using .loc[row_indexer,col_indexer] = value instead\n",
      "\n",
      "See the caveats in the documentation: http://pandas.pydata.org/pandas-docs/stable/user_guide/indexing.html#returning-a-view-versus-a-copy\n"
     ]
    }
   ],
   "source": [
    "#Create X and y values\n",
    "December46214_predictionData_1BR = December_46214.loc[(December_46214[\"Year_Integer\"]>=1)&(December_46214[\"Year_Integer\"]<=15)]\n",
    "December46214_predictionData_1BR =December46214_predictionData_1BR[[\"Median Market Value (Single Family)\", \"Year_Integer\", \"Median Price 3 Bedroom\"]] \n",
    "December46214_available_1BR = December_46214.loc[(December_46214[\"Year_Integer\"] >= 16) & (December_46214[\"Year_Integer\"] <=24)]\n",
    "                                                   \n",
    "X = December46214_available_1BR[[\"Median Market Value (Single Family)\", \"Year_Integer\", \"Median Price 3 Bedroom\"]]\n",
    "y = December46214_available_1BR[\"Median Price 1 Bedroom\"].values.reshape(-1, 1)\n",
    "print(X.shape, y.shape)\n",
    "#Create test/train data sets\n",
    "X_train, X_test, y_train, y_test = train_test_split(X, y, random_state=42)\n",
    "#X_train.head(9)\n",
    "\n",
    "X_scaler = StandardScaler().fit(X_train)\n",
    "y_scaler = StandardScaler().fit(y_train)\n",
    "X_train_scaled = X_scaler.transform(X_train)\n",
    "X_test_scaled = X_scaler.transform(X_test)\n",
    "y_train_scaled = y_scaler.transform(y_train)\n",
    "y_test_scaled = y_scaler.transform(y_test)\n",
    "\n",
    "model = LinearRegression()\n",
    "model.fit(X_train_scaled, y_train_scaled)\n",
    "predictions = model.predict(X_test_scaled)\n",
    "MSE = mean_squared_error(y_test_scaled, predictions)\n",
    "r2 = model.score(X_test_scaled, y_test_scaled)\n",
    "\n",
    "print(f\"MSE: {MSE}, R2: {r2}\")\n",
    "OneBedroom_46214.append(r2)\n",
    "\n",
    "December46214_predictionData_1BR_scaled = X_scaler.transform(December46214_predictionData_1BR)\n",
    "\n",
    "MLP1BR_December46214_predictions = model.predict(December46214_predictionData_1BR_scaled)\n",
    "MLP1BR_December46214_predictions_actual = y_scaler.inverse_transform(MLP1BR_December46214_predictions)\n",
    "MLP1BR_December46214_predictions_actual\n",
    "\n",
    "MLP1BR_December46214_prediction_list = []\n",
    "for prediction in MLP1BR_December46214_predictions_actual:\n",
    "    MLP1BR_December46214_prediction_list.append(prediction[0])\n",
    "#prediction_list\n",
    "first_part = MLP1BR_December46214_prediction_list\n",
    "last_part = December_46214[\"Median Price 1 Bedroom\"].to_list()\n",
    "last_part_final = last_part[15:25]\n",
    "#Combine into new list\n",
    "December_46214_MLP1BR_new = first_part + last_part_final\n",
    "December_46214[\"Median Price 1 Bedroom Calculated\"] = last_part\n",
    "#December_46214\n"
   ]
  },
  {
   "cell_type": "markdown",
   "metadata": {},
   "source": [
    "# **December 46214 Create DataFrame**"
   ]
  },
  {
   "cell_type": "code",
   "execution_count": 290,
   "metadata": {},
   "outputs": [],
   "source": [
    "December_46214_Complete = December_46214[[\"Zip_Code\", \"Date\", \"Year\", \"Year_Integer\",\"Month\", \n",
    "                                        \"Median Market Value (Single Family)\", \"Median Price 1 Bedroom\",\n",
    "                                       \"Median Price 2 Bedroom\", \"Median Price 3 Bedroom\",\n",
    "                                       \"Median Price 4 Bedroom\", \"Median Price 5 Bedroom\",\n",
    "                                       \"Median List Price per SqFt Calculated\", \"Median List Price Calculated\"]]\n",
    "#December_46214_Complete[\"Zip_Code_Integer\"] = 2\n",
    "December_46214_Complete.to_csv(\"December_46214_Complete.csv\")\n",
    "#December_46214_Complete\n"
   ]
  },
  {
   "cell_type": "code",
   "execution_count": null,
   "metadata": {},
   "outputs": [],
   "source": []
  },
  {
   "cell_type": "code",
   "execution_count": null,
   "metadata": {},
   "outputs": [],
   "source": []
  },
  {
   "cell_type": "code",
   "execution_count": null,
   "metadata": {},
   "outputs": [],
   "source": []
  },
  {
   "cell_type": "code",
   "execution_count": null,
   "metadata": {},
   "outputs": [],
   "source": []
  },
  {
   "cell_type": "code",
   "execution_count": null,
   "metadata": {},
   "outputs": [],
   "source": []
  },
  {
   "cell_type": "code",
   "execution_count": null,
   "metadata": {},
   "outputs": [],
   "source": []
  },
  {
   "cell_type": "code",
   "execution_count": null,
   "metadata": {},
   "outputs": [],
   "source": []
  },
  {
   "cell_type": "code",
   "execution_count": null,
   "metadata": {},
   "outputs": [],
   "source": []
  },
  {
   "cell_type": "code",
   "execution_count": null,
   "metadata": {},
   "outputs": [],
   "source": []
  }
 ],
 "metadata": {
  "kernelspec": {
   "display_name": "Python [conda env:PythonData] *",
   "language": "python",
   "name": "conda-env-PythonData-py"
  },
  "language_info": {
   "codemirror_mode": {
    "name": "ipython",
    "version": 3
   },
   "file_extension": ".py",
   "mimetype": "text/x-python",
   "name": "python",
   "nbconvert_exporter": "python",
   "pygments_lexer": "ipython3",
   "version": "3.7.5"
  }
 },
 "nbformat": 4,
 "nbformat_minor": 2
}
