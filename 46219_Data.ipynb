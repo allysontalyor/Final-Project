{
 "cells": [
  {
   "cell_type": "code",
   "execution_count": 105,
   "metadata": {},
   "outputs": [],
   "source": [
    "import pandas as pd\n",
    "from sklearn.metrics import mean_squared_error\n",
    "from sklearn.preprocessing import StandardScaler\n",
    "from sklearn.linear_model import LinearRegression\n",
    "import matplotlib.pyplot as plt\n",
    "import numpy as np\n",
    "from sklearn.model_selection import train_test_split"
   ]
  },
  {
   "cell_type": "code",
   "execution_count": 106,
   "metadata": {},
   "outputs": [],
   "source": [
    "Indianapolis_Housing = pd.read_csv(\"Indianapolis_Housing.csv\")\n",
    "#Isolate data for next zip code\n",
    "Indianapolis_Housing_46219 = Indianapolis_Housing.copy()\n",
    "Indianapolis_Housing_46219[\"Zip_Code\"] = Indianapolis_Housing_46219[\"Zip_Code\"].astype(str)\n",
    "Indianapolis_Housing_46219 = Indianapolis_Housing_46219.loc[Indianapolis_Housing_46219[\"Zip_Code\"] == '46219']\n",
    "Indianapolis_Housing_46219 = Indianapolis_Housing_46219[[\"Date\", \"Zip_Code\",\"Median List Price\", \"Median List Price per Square Foot\", \n",
    "                                  \"Median Market Value (Single Family)\", \"Median Price 1 Bedroom\",\n",
    "                                 \"Median Price 2 Bedroom\", \"Median Price 3 Bedroom\", \"Median Price 4 Bedroom\",\n",
    "                                 \"Median Price 5 Bedroom\", \"Year\", \"Month\"]]"
   ]
  },
  {
   "cell_type": "code",
   "execution_count": 107,
   "metadata": {},
   "outputs": [],
   "source": [
    "r_squared_MLPSqFt_46219 = []\n",
    "r_squared_MLP_46219 = []"
   ]
  },
  {
   "cell_type": "markdown",
   "metadata": {},
   "source": [
    "# **January 46219**"
   ]
  },
  {
   "cell_type": "code",
   "execution_count": null,
   "metadata": {},
   "outputs": [],
   "source": []
  },
  {
   "cell_type": "code",
   "execution_count": 108,
   "metadata": {},
   "outputs": [
    {
     "name": "stderr",
     "output_type": "stream",
     "text": [
      "/Users/allysontalyor/Applications/anaconda3/envs/PythonData/lib/python3.7/site-packages/ipykernel_launcher.py:2: SettingWithCopyWarning: \n",
      "A value is trying to be set on a copy of a slice from a DataFrame.\n",
      "Try using .loc[row_indexer,col_indexer] = value instead\n",
      "\n",
      "See the caveats in the documentation: http://pandas.pydata.org/pandas-docs/stable/user_guide/indexing.html#returning-a-view-versus-a-copy\n",
      "  \n"
     ]
    }
   ],
   "source": [
    "January_46219 = Indianapolis_Housing_46219.loc[Indianapolis_Housing_46219[\"Month\"]==1]\n",
    "January_46219[\"Year_Integer\"] = January_46219[\"Year\"] - 1996\n",
    "\n",
    "#January_46219"
   ]
  },
  {
   "cell_type": "markdown",
   "metadata": {},
   "source": [
    "# **Median List Price per SqFt**"
   ]
  },
  {
   "cell_type": "code",
   "execution_count": 109,
   "metadata": {},
   "outputs": [],
   "source": [
    "January46219_available = January_46219.loc[(January_46219[\"Year_Integer\"] >= 14) & (January_46219[\"Year_Integer\"] <=23)]\n",
    "#Isolate the data that we want to use to predict the filled in values...\n",
    "January46219_predictionData1 = January_46219.loc[(January_46219[\"Year_Integer\"]>=1)&(January_46219[\"Year_Integer\"]<=13)]\n",
    "January46219_predictionData2 = January_46219.loc[January_46219[\"Year_Integer\"] >= 24]\n",
    "January_predictionData3 = pd.concat([January46219_predictionData1,January46219_predictionData2])\n",
    "January46219_predictionData = January_predictionData3[[\"Median Market Value (Single Family)\", \"Median Price 1 Bedroom\", \n",
    "                              \"Median Price 2 Bedroom\", \"Median Price 3 Bedroom\", \"Median Price 4 Bedroom\",\n",
    "                             \"Median Price 5 Bedroom\", \"Year_Integer\"]]\n",
    "January46219_predictionData = January46219_predictionData[[\"Median Market Value (Single Family)\", \"Year_Integer\", \"Median Price 3 Bedroom\"]]\n",
    "#January46219_predictionData\n",
    "#January46219_available"
   ]
  },
  {
   "cell_type": "code",
   "execution_count": 110,
   "metadata": {
    "scrolled": true
   },
   "outputs": [
    {
     "name": "stdout",
     "output_type": "stream",
     "text": [
      "(10, 3) (10, 1)\n",
      "MSE: 0.016608312979594933, R2: 0.9594569443489706\n"
     ]
    },
    {
     "name": "stderr",
     "output_type": "stream",
     "text": [
      "/Users/allysontalyor/Applications/anaconda3/envs/PythonData/lib/python3.7/site-packages/ipykernel_launcher.py:41: SettingWithCopyWarning: \n",
      "A value is trying to be set on a copy of a slice from a DataFrame.\n",
      "Try using .loc[row_indexer,col_indexer] = value instead\n",
      "\n",
      "See the caveats in the documentation: http://pandas.pydata.org/pandas-docs/stable/user_guide/indexing.html#returning-a-view-versus-a-copy\n"
     ]
    }
   ],
   "source": [
    "#Create X and y values\n",
    "X = January46219_available[[\"Median Market Value (Single Family)\", \"Year_Integer\", \"Median Price 3 Bedroom\"]]\n",
    "y = January46219_available[\"Median List Price per Square Foot\"].values.reshape(-1, 1)\n",
    "print(X.shape, y.shape)\n",
    "#Create test/train data sets\n",
    "X_train, X_test, y_train, y_test = train_test_split(X, y, random_state=42)\n",
    "#X_train.head(9)\n",
    "\n",
    "X_scaler = StandardScaler().fit(X_train)\n",
    "y_scaler = StandardScaler().fit(y_train)\n",
    "X_train_scaled = X_scaler.transform(X_train)\n",
    "X_test_scaled = X_scaler.transform(X_test)\n",
    "y_train_scaled = y_scaler.transform(y_train)\n",
    "y_test_scaled = y_scaler.transform(y_test)\n",
    "\n",
    "model = LinearRegression()\n",
    "model.fit(X_train_scaled, y_train_scaled)\n",
    "predictions = model.predict(X_test_scaled)\n",
    "MSE = mean_squared_error(y_test_scaled, predictions)\n",
    "r2 = model.score(X_test_scaled, y_test_scaled)\n",
    "\n",
    "print(f\"MSE: {MSE}, R2: {r2}\")\n",
    "r_squared_MLPSqFt_46219.append(r2)\n",
    "\n",
    "January46219_predictionData_scaled = X_scaler.transform(January46219_predictionData)\n",
    "\n",
    "MLPSqFt_January46219_predictions = model.predict(January46219_predictionData_scaled)\n",
    "MLPSqFt_January46219_predictions_actual = y_scaler.inverse_transform(MLPSqFt_January46219_predictions)\n",
    "MLPSqFt_January46219_predictions_actual\n",
    "\n",
    "MLPSqFt_January46219_prediction_list = []\n",
    "for prediction in MLPSqFt_January46219_predictions_actual:\n",
    "    MLPSqFt_January46219_prediction_list.append(prediction[0])\n",
    "#prediction_list\n",
    "first_part = MLPSqFt_January46219_prediction_list[0:13]\n",
    "last_part = MLPSqFt_January46219_prediction_list[13:14]\n",
    "middle_part = January_46219[\"Median List Price per Square Foot\"].to_list()\n",
    "middle_part_final = middle_part[13:23]\n",
    "#Combine into new list\n",
    "January_46219_MLPSqFt_new = first_part + middle_part_final + last_part\n",
    "January_46219[\"Median List Price per SqFt Calculated\"] = January_46219_MLPSqFt_new\n",
    "#January_46219"
   ]
  },
  {
   "cell_type": "markdown",
   "metadata": {},
   "source": [
    "# **Median List Price**"
   ]
  },
  {
   "cell_type": "code",
   "execution_count": 111,
   "metadata": {},
   "outputs": [
    {
     "name": "stdout",
     "output_type": "stream",
     "text": [
      "(10, 3) (10, 1)\n",
      "MSE: 0.032639646048655456, R2: 0.9251512609495378\n"
     ]
    },
    {
     "name": "stderr",
     "output_type": "stream",
     "text": [
      "/Users/allysontalyor/Applications/anaconda3/envs/PythonData/lib/python3.7/site-packages/ipykernel_launcher.py:41: SettingWithCopyWarning: \n",
      "A value is trying to be set on a copy of a slice from a DataFrame.\n",
      "Try using .loc[row_indexer,col_indexer] = value instead\n",
      "\n",
      "See the caveats in the documentation: http://pandas.pydata.org/pandas-docs/stable/user_guide/indexing.html#returning-a-view-versus-a-copy\n"
     ]
    }
   ],
   "source": [
    "#Create X and y values\n",
    "X = January46219_available[[\"Median Market Value (Single Family)\", \"Year_Integer\", \"Median Price 3 Bedroom\"]]\n",
    "y = January46219_available[\"Median List Price\"].values.reshape(-1, 1)\n",
    "print(X.shape, y.shape)\n",
    "#Create test/train data sets\n",
    "X_train, X_test, y_train, y_test = train_test_split(X, y, random_state=42)\n",
    "#X_train.head(9)\n",
    "\n",
    "X_scaler = StandardScaler().fit(X_train)\n",
    "y_scaler = StandardScaler().fit(y_train)\n",
    "X_train_scaled = X_scaler.transform(X_train)\n",
    "X_test_scaled = X_scaler.transform(X_test)\n",
    "y_train_scaled = y_scaler.transform(y_train)\n",
    "y_test_scaled = y_scaler.transform(y_test)\n",
    "\n",
    "model = LinearRegression()\n",
    "model.fit(X_train_scaled, y_train_scaled)\n",
    "predictions = model.predict(X_test_scaled)\n",
    "MSE = mean_squared_error(y_test_scaled, predictions)\n",
    "r2 = model.score(X_test_scaled, y_test_scaled)\n",
    "\n",
    "print(f\"MSE: {MSE}, R2: {r2}\")\n",
    "r_squared_MLP_46219.append(r2)\n",
    "\n",
    "January46219_predictionData_scaled = X_scaler.transform(January46219_predictionData)\n",
    "\n",
    "MLP_January46219_predictions = model.predict(January46219_predictionData_scaled)\n",
    "MLP_January46219_predictions_actual = y_scaler.inverse_transform(MLP_January46219_predictions)\n",
    "#MLP_January46219_predictions_actual\n",
    "\n",
    "MLP_January46219_prediction_list = []\n",
    "for prediction in MLP_January46219_predictions_actual:\n",
    "    MLP_January46219_prediction_list.append(prediction[0])\n",
    "#prediction_list\n",
    "first_part = MLP_January46219_prediction_list[0:13]\n",
    "last_part = MLP_January46219_prediction_list[13:14]\n",
    "middle_part = January_46219[\"Median List Price\"].to_list()\n",
    "middle_part_final = middle_part[13:23]\n",
    "#Combine into new list\n",
    "January_46219_MLP_new = first_part + middle_part_final + last_part\n",
    "January_46219[\"Median List Price Calculated\"] = January_46219_MLP_new\n",
    "#January_46219"
   ]
  },
  {
   "cell_type": "markdown",
   "metadata": {},
   "source": [
    "# **Create January 46219 DataFrame**"
   ]
  },
  {
   "cell_type": "code",
   "execution_count": 112,
   "metadata": {},
   "outputs": [],
   "source": [
    "January_46219_Complete = January_46219[[\"Zip_Code\", \"Date\", \"Year\", \"Year_Integer\",\"Month\", \n",
    "                                        \"Median Market Value (Single Family)\", \"Median Price 1 Bedroom\",\n",
    "                                       \"Median Price 2 Bedroom\", \"Median Price 3 Bedroom\",\n",
    "                                       \"Median Price 4 Bedroom\", \"Median Price 5 Bedroom\",\n",
    "                                       \"Median List Price per SqFt Calculated\", \"Median List Price Calculated\"]]\n",
    "January_46219_Complete.to_csv(\"January_46219_Complete.csv\")"
   ]
  },
  {
   "cell_type": "markdown",
   "metadata": {},
   "source": [
    "# **February 46219**"
   ]
  },
  {
   "cell_type": "code",
   "execution_count": 113,
   "metadata": {},
   "outputs": [
    {
     "name": "stderr",
     "output_type": "stream",
     "text": [
      "/Users/allysontalyor/Applications/anaconda3/envs/PythonData/lib/python3.7/site-packages/ipykernel_launcher.py:2: SettingWithCopyWarning: \n",
      "A value is trying to be set on a copy of a slice from a DataFrame.\n",
      "Try using .loc[row_indexer,col_indexer] = value instead\n",
      "\n",
      "See the caveats in the documentation: http://pandas.pydata.org/pandas-docs/stable/user_guide/indexing.html#returning-a-view-versus-a-copy\n",
      "  \n"
     ]
    }
   ],
   "source": [
    "February_46219 = Indianapolis_Housing_46219.loc[Indianapolis_Housing_46219[\"Month\"]==2]\n",
    "February_46219[\"Year_Integer\"] = February_46219[\"Year\"] - 1996\n",
    "\n",
    "#February_46219\n",
    "\n",
    "February46219_available = February_46219.loc[(February_46219[\"Year_Integer\"] >= 14) & (February_46219[\"Year_Integer\"] <=23)]\n",
    "#Isolate the data that we want to use to predict the filled in values...\n",
    "February46219_predictionData1 = February_46219.loc[(February_46219[\"Year_Integer\"]>=1)&(February_46219[\"Year_Integer\"]<=13)]\n",
    "February46219_predictionData2 = February_46219.loc[February_46219[\"Year_Integer\"] >= 24]\n",
    "February_predictionData3 = pd.concat([February46219_predictionData1,February46219_predictionData2])\n",
    "February46219_predictionData = February_predictionData3[[\"Median Market Value (Single Family)\", \"Median Price 1 Bedroom\", \n",
    "                              \"Median Price 2 Bedroom\", \"Median Price 3 Bedroom\", \"Median Price 4 Bedroom\",\n",
    "                             \"Median Price 5 Bedroom\", \"Year_Integer\"]]\n",
    "February46219_predictionData = February46219_predictionData[[\"Median Market Value (Single Family)\", \"Year_Integer\", \"Median Price 3 Bedroom\"]]\n",
    "#February46219_predictionData"
   ]
  },
  {
   "cell_type": "markdown",
   "metadata": {},
   "source": [
    "# **Median List Price per SqFt**"
   ]
  },
  {
   "cell_type": "code",
   "execution_count": 114,
   "metadata": {},
   "outputs": [
    {
     "name": "stdout",
     "output_type": "stream",
     "text": [
      "(10, 3) (10, 1)\n",
      "MSE: 0.01045246951355442, R2: 0.9766779905653119\n"
     ]
    },
    {
     "name": "stderr",
     "output_type": "stream",
     "text": [
      "/Users/allysontalyor/Applications/anaconda3/envs/PythonData/lib/python3.7/site-packages/ipykernel_launcher.py:41: SettingWithCopyWarning: \n",
      "A value is trying to be set on a copy of a slice from a DataFrame.\n",
      "Try using .loc[row_indexer,col_indexer] = value instead\n",
      "\n",
      "See the caveats in the documentation: http://pandas.pydata.org/pandas-docs/stable/user_guide/indexing.html#returning-a-view-versus-a-copy\n"
     ]
    }
   ],
   "source": [
    "#Create X and y values\n",
    "X = February46219_available[[\"Median Market Value (Single Family)\", \"Year_Integer\", \"Median Price 3 Bedroom\"]]\n",
    "y = February46219_available[\"Median List Price per Square Foot\"].values.reshape(-1, 1)\n",
    "print(X.shape, y.shape)\n",
    "#Create test/train data sets\n",
    "X_train, X_test, y_train, y_test = train_test_split(X, y, random_state=42)\n",
    "#X_train.head(9)\n",
    "\n",
    "X_scaler = StandardScaler().fit(X_train)\n",
    "y_scaler = StandardScaler().fit(y_train)\n",
    "X_train_scaled = X_scaler.transform(X_train)\n",
    "X_test_scaled = X_scaler.transform(X_test)\n",
    "y_train_scaled = y_scaler.transform(y_train)\n",
    "y_test_scaled = y_scaler.transform(y_test)\n",
    "\n",
    "model = LinearRegression()\n",
    "model.fit(X_train_scaled, y_train_scaled)\n",
    "predictions = model.predict(X_test_scaled)\n",
    "MSE = mean_squared_error(y_test_scaled, predictions)\n",
    "r2 = model.score(X_test_scaled, y_test_scaled)\n",
    "\n",
    "print(f\"MSE: {MSE}, R2: {r2}\")\n",
    "r_squared_MLPSqFt_46219.append(r2)\n",
    "\n",
    "February46219_predictionData_scaled = X_scaler.transform(February46219_predictionData)\n",
    "\n",
    "MLPSqFt_February46219_predictions = model.predict(February46219_predictionData_scaled)\n",
    "MLPSqFt_February46219_predictions_actual = y_scaler.inverse_transform(MLPSqFt_February46219_predictions)\n",
    "MLPSqFt_February46219_predictions_actual\n",
    "\n",
    "MLPSqFt_February46219_prediction_list = []\n",
    "for prediction in MLPSqFt_February46219_predictions_actual:\n",
    "    MLPSqFt_February46219_prediction_list.append(prediction[0])\n",
    "#prediction_list\n",
    "first_part = MLPSqFt_February46219_prediction_list[0:13]\n",
    "last_part = MLPSqFt_February46219_prediction_list[13:14]\n",
    "middle_part = February_46219[\"Median List Price per Square Foot\"].to_list()\n",
    "middle_part_final = middle_part[13:23]\n",
    "#Combine into new list\n",
    "February_46219_MLPSqFt_new = first_part + middle_part_final + last_part\n",
    "February_46219[\"Median List Price per SqFt Calculated\"] = February_46219_MLPSqFt_new\n",
    "#February_46219"
   ]
  },
  {
   "cell_type": "markdown",
   "metadata": {},
   "source": [
    "# **Median List Price**"
   ]
  },
  {
   "cell_type": "code",
   "execution_count": 115,
   "metadata": {},
   "outputs": [
    {
     "name": "stdout",
     "output_type": "stream",
     "text": [
      "(10, 3) (10, 1)\n",
      "MSE: 0.15768496101810173, R2: 0.7876616140873964\n"
     ]
    },
    {
     "name": "stderr",
     "output_type": "stream",
     "text": [
      "/Users/allysontalyor/Applications/anaconda3/envs/PythonData/lib/python3.7/site-packages/ipykernel_launcher.py:41: SettingWithCopyWarning: \n",
      "A value is trying to be set on a copy of a slice from a DataFrame.\n",
      "Try using .loc[row_indexer,col_indexer] = value instead\n",
      "\n",
      "See the caveats in the documentation: http://pandas.pydata.org/pandas-docs/stable/user_guide/indexing.html#returning-a-view-versus-a-copy\n"
     ]
    }
   ],
   "source": [
    "#Create X and y values\n",
    "X = February46219_available[[\"Median Market Value (Single Family)\", \"Year_Integer\", \"Median Price 3 Bedroom\"]]\n",
    "y = February46219_available[\"Median List Price\"].values.reshape(-1, 1)\n",
    "print(X.shape, y.shape)\n",
    "#Create test/train data sets\n",
    "X_train, X_test, y_train, y_test = train_test_split(X, y, random_state=42)\n",
    "#X_train.head(9)\n",
    "\n",
    "X_scaler = StandardScaler().fit(X_train)\n",
    "y_scaler = StandardScaler().fit(y_train)\n",
    "X_train_scaled = X_scaler.transform(X_train)\n",
    "X_test_scaled = X_scaler.transform(X_test)\n",
    "y_train_scaled = y_scaler.transform(y_train)\n",
    "y_test_scaled = y_scaler.transform(y_test)\n",
    "\n",
    "model = LinearRegression()\n",
    "model.fit(X_train_scaled, y_train_scaled)\n",
    "predictions = model.predict(X_test_scaled)\n",
    "MSE = mean_squared_error(y_test_scaled, predictions)\n",
    "r2 = model.score(X_test_scaled, y_test_scaled)\n",
    "\n",
    "print(f\"MSE: {MSE}, R2: {r2}\")\n",
    "r_squared_MLP_46219.append(r2)\n",
    "\n",
    "February46219_predictionData_scaled = X_scaler.transform(February46219_predictionData)\n",
    "\n",
    "MLP_February46219_predictions = model.predict(February46219_predictionData_scaled)\n",
    "MLP_February46219_predictions_actual = y_scaler.inverse_transform(MLP_February46219_predictions)\n",
    "#MLP_February46219_predictions_actual\n",
    "\n",
    "MLP_February46219_prediction_list = []\n",
    "for prediction in MLP_February46219_predictions_actual:\n",
    "    MLP_February46219_prediction_list.append(prediction[0])\n",
    "#prediction_list\n",
    "first_part = MLP_February46219_prediction_list[0:13]\n",
    "last_part = MLP_February46219_prediction_list[13:14]\n",
    "middle_part = February_46219[\"Median List Price\"].to_list()\n",
    "middle_part_final = middle_part[13:23]\n",
    "#Combine into new list\n",
    "February_46219_MLP_new = first_part + middle_part_final + last_part\n",
    "February_46219[\"Median List Price Calculated\"] = February_46219_MLP_new\n",
    "#February_46219"
   ]
  },
  {
   "cell_type": "markdown",
   "metadata": {},
   "source": [
    "# **Create February 46219 DataFrame**"
   ]
  },
  {
   "cell_type": "code",
   "execution_count": 116,
   "metadata": {},
   "outputs": [],
   "source": [
    "February_46219_Complete = February_46219[[\"Zip_Code\", \"Date\", \"Year\", \"Year_Integer\",\"Month\", \n",
    "                                        \"Median Market Value (Single Family)\", \"Median Price 1 Bedroom\",\n",
    "                                       \"Median Price 2 Bedroom\", \"Median Price 3 Bedroom\",\n",
    "                                       \"Median Price 4 Bedroom\", \"Median Price 5 Bedroom\",\n",
    "                                       \"Median List Price per SqFt Calculated\", \"Median List Price Calculated\"]]\n",
    "\n",
    "February_46219_Complete.to_csv(\"February_46219_Complete.csv\")"
   ]
  },
  {
   "cell_type": "markdown",
   "metadata": {},
   "source": [
    "# **March 46219**"
   ]
  },
  {
   "cell_type": "code",
   "execution_count": 117,
   "metadata": {},
   "outputs": [
    {
     "name": "stderr",
     "output_type": "stream",
     "text": [
      "/Users/allysontalyor/Applications/anaconda3/envs/PythonData/lib/python3.7/site-packages/ipykernel_launcher.py:2: SettingWithCopyWarning: \n",
      "A value is trying to be set on a copy of a slice from a DataFrame.\n",
      "Try using .loc[row_indexer,col_indexer] = value instead\n",
      "\n",
      "See the caveats in the documentation: http://pandas.pydata.org/pandas-docs/stable/user_guide/indexing.html#returning-a-view-versus-a-copy\n",
      "  \n"
     ]
    }
   ],
   "source": [
    "March_46219 = Indianapolis_Housing_46219.loc[Indianapolis_Housing_46219[\"Month\"]==3]\n",
    "March_46219[\"Year_Integer\"] = March_46219[\"Year\"] - 1996\n",
    "\n",
    "March_46219\n",
    "\n",
    "March46219_available = March_46219.loc[(March_46219[\"Year_Integer\"] >= 14) & (March_46219[\"Year_Integer\"] <=23)]\n",
    "#Isolate the data that we want to use to predict the filled in values...\n",
    "March46219_predictionData1 = March_46219.loc[(March_46219[\"Year_Integer\"]>=1)&(March_46219[\"Year_Integer\"]<=13)]\n",
    "March46219_predictionData2 = March_46219.loc[March_46219[\"Year_Integer\"] >= 24]\n",
    "March_predictionData3 = pd.concat([March46219_predictionData1,March46219_predictionData2])\n",
    "March46219_predictionData = March_predictionData3[[\"Median Market Value (Single Family)\", \"Median Price 1 Bedroom\", \n",
    "                              \"Median Price 2 Bedroom\", \"Median Price 3 Bedroom\", \"Median Price 4 Bedroom\",\n",
    "                             \"Median Price 5 Bedroom\", \"Year_Integer\"]]\n",
    "March46219_predictionData = March46219_predictionData[[\"Median Market Value (Single Family)\", \"Year_Integer\", \"Median Price 3 Bedroom\"]]\n",
    "#March46219_predictionData\n",
    "#March_46219"
   ]
  },
  {
   "cell_type": "markdown",
   "metadata": {},
   "source": [
    "# **Median List Price per Square Foot**"
   ]
  },
  {
   "cell_type": "code",
   "execution_count": 118,
   "metadata": {},
   "outputs": [
    {
     "name": "stdout",
     "output_type": "stream",
     "text": [
      "(10, 3) (10, 1)\n",
      "MSE: 0.18341114586611618, R2: 0.7639550307354825\n"
     ]
    },
    {
     "name": "stderr",
     "output_type": "stream",
     "text": [
      "/Users/allysontalyor/Applications/anaconda3/envs/PythonData/lib/python3.7/site-packages/ipykernel_launcher.py:41: SettingWithCopyWarning: \n",
      "A value is trying to be set on a copy of a slice from a DataFrame.\n",
      "Try using .loc[row_indexer,col_indexer] = value instead\n",
      "\n",
      "See the caveats in the documentation: http://pandas.pydata.org/pandas-docs/stable/user_guide/indexing.html#returning-a-view-versus-a-copy\n"
     ]
    }
   ],
   "source": [
    "#Create X and y values\n",
    "X = March46219_available[[\"Median Market Value (Single Family)\", \"Year_Integer\", \"Median Price 3 Bedroom\"]]\n",
    "y = March46219_available[\"Median List Price per Square Foot\"].values.reshape(-1, 1)\n",
    "print(X.shape, y.shape)\n",
    "#Create test/train data sets\n",
    "X_train, X_test, y_train, y_test = train_test_split(X, y, random_state=42)\n",
    "#X_train.head(9)\n",
    "\n",
    "X_scaler = StandardScaler().fit(X_train)\n",
    "y_scaler = StandardScaler().fit(y_train)\n",
    "X_train_scaled = X_scaler.transform(X_train)\n",
    "X_test_scaled = X_scaler.transform(X_test)\n",
    "y_train_scaled = y_scaler.transform(y_train)\n",
    "y_test_scaled = y_scaler.transform(y_test)\n",
    "\n",
    "model = LinearRegression()\n",
    "model.fit(X_train_scaled, y_train_scaled)\n",
    "predictions = model.predict(X_test_scaled)\n",
    "MSE = mean_squared_error(y_test_scaled, predictions)\n",
    "r2 = model.score(X_test_scaled, y_test_scaled)\n",
    "\n",
    "print(f\"MSE: {MSE}, R2: {r2}\")\n",
    "r_squared_MLPSqFt_46219.append(r2)\n",
    "\n",
    "March46219_predictionData_scaled = X_scaler.transform(March46219_predictionData)\n",
    "\n",
    "MLPSqFt_March46219_predictions = model.predict(March46219_predictionData_scaled)\n",
    "MLPSqFt_March46219_predictions_actual = y_scaler.inverse_transform(MLPSqFt_March46219_predictions)\n",
    "MLPSqFt_March46219_predictions_actual\n",
    "\n",
    "MLPSqFt_March46219_prediction_list = []\n",
    "for prediction in MLPSqFt_March46219_predictions_actual:\n",
    "    MLPSqFt_March46219_prediction_list.append(prediction[0])\n",
    "#prediction_list\n",
    "first_part = MLPSqFt_March46219_prediction_list[0:13]\n",
    "last_part = MLPSqFt_March46219_prediction_list[13:14]\n",
    "middle_part = March_46219[\"Median List Price per Square Foot\"].to_list()\n",
    "middle_part_final = middle_part[13:23]\n",
    "#Combine into new list\n",
    "March_46219_MLPSqFt_new = first_part + middle_part_final + last_part\n",
    "March_46219[\"Median List Price per SqFt Calculated\"] = March_46219_MLPSqFt_new\n",
    "#March_46219"
   ]
  },
  {
   "cell_type": "markdown",
   "metadata": {},
   "source": [
    "# **Median List Price**"
   ]
  },
  {
   "cell_type": "code",
   "execution_count": 119,
   "metadata": {},
   "outputs": [
    {
     "name": "stdout",
     "output_type": "stream",
     "text": [
      "(10, 3) (10, 1)\n",
      "MSE: 0.5333733107125358, R2: 0.6012118936062809\n"
     ]
    },
    {
     "name": "stderr",
     "output_type": "stream",
     "text": [
      "/Users/allysontalyor/Applications/anaconda3/envs/PythonData/lib/python3.7/site-packages/ipykernel_launcher.py:41: SettingWithCopyWarning: \n",
      "A value is trying to be set on a copy of a slice from a DataFrame.\n",
      "Try using .loc[row_indexer,col_indexer] = value instead\n",
      "\n",
      "See the caveats in the documentation: http://pandas.pydata.org/pandas-docs/stable/user_guide/indexing.html#returning-a-view-versus-a-copy\n"
     ]
    }
   ],
   "source": [
    "#Create X and y values\n",
    "X = March46219_available[[\"Median Market Value (Single Family)\", \"Year_Integer\", \"Median Price 3 Bedroom\"]]\n",
    "y = March46219_available[\"Median List Price\"].values.reshape(-1, 1)\n",
    "print(X.shape, y.shape)\n",
    "#Create test/train data sets\n",
    "X_train, X_test, y_train, y_test = train_test_split(X, y, random_state=42)\n",
    "#X_train.head(9)\n",
    "\n",
    "X_scaler = StandardScaler().fit(X_train)\n",
    "y_scaler = StandardScaler().fit(y_train)\n",
    "X_train_scaled = X_scaler.transform(X_train)\n",
    "X_test_scaled = X_scaler.transform(X_test)\n",
    "y_train_scaled = y_scaler.transform(y_train)\n",
    "y_test_scaled = y_scaler.transform(y_test)\n",
    "\n",
    "model = LinearRegression()\n",
    "model.fit(X_train_scaled, y_train_scaled)\n",
    "predictions = model.predict(X_test_scaled)\n",
    "MSE = mean_squared_error(y_test_scaled, predictions)\n",
    "r2 = model.score(X_test_scaled, y_test_scaled)\n",
    "\n",
    "print(f\"MSE: {MSE}, R2: {r2}\")\n",
    "r_squared_MLP_46219.append(r2)\n",
    "\n",
    "March46219_predictionData_scaled = X_scaler.transform(March46219_predictionData)\n",
    "\n",
    "MLP_March46219_predictions = model.predict(March46219_predictionData_scaled)\n",
    "MLP_March46219_predictions_actual = y_scaler.inverse_transform(MLP_March46219_predictions)\n",
    "#MLP_March46219_predictions_actual\n",
    "\n",
    "MLP_March46219_prediction_list = []\n",
    "for prediction in MLP_March46219_predictions_actual:\n",
    "    MLP_March46219_prediction_list.append(prediction[0])\n",
    "#prediction_list\n",
    "first_part = MLP_March46219_prediction_list[0:13]\n",
    "last_part = MLP_March46219_prediction_list[13:14]\n",
    "middle_part = March_46219[\"Median List Price\"].to_list()\n",
    "middle_part_final = middle_part[13:23]\n",
    "#Combine into new list\n",
    "March_46219_MLP_new = first_part + middle_part_final + last_part\n",
    "March_46219[\"Median List Price Calculated\"] = middle_part\n",
    "#March_46219"
   ]
  },
  {
   "cell_type": "markdown",
   "metadata": {},
   "source": [
    "# **Create March 46219 DataFrame**"
   ]
  },
  {
   "cell_type": "code",
   "execution_count": 189,
   "metadata": {},
   "outputs": [],
   "source": [
    "March_46219_Complete = March_46219[[\"Zip_Code\", \"Date\", \"Year\", \"Year_Integer\",\"Month\", \n",
    "                                        \"Median Market Value (Single Family)\", \"Median Price 1 Bedroom\",\n",
    "                                       \"Median Price 2 Bedroom\", \"Median Price 3 Bedroom\",\n",
    "                                       \"Median Price 4 Bedroom\", \"Median Price 5 Bedroom\",\n",
    "                                       \"Median List Price per SqFt Calculated\", \"Median List Price Calculated\"]]\n",
    "March_46219_Complete.to_csv(\"March_46219_Complete.csv\")"
   ]
  },
  {
   "cell_type": "markdown",
   "metadata": {},
   "source": [
    "# **April 46219**"
   ]
  },
  {
   "cell_type": "code",
   "execution_count": 121,
   "metadata": {},
   "outputs": [],
   "source": [
    "April_46219 = Indianapolis_Housing_46219.loc[Indianapolis_Housing_46219[\"Month\"]==4]\n",
    "\n",
    "\n",
    "April_46219 = April_46219[[\"Date\", \"Zip_Code\",\"Median List Price\", \"Median List Price per Square Foot\", \n",
    "                                  \"Median Market Value (Single Family)\", \"Median Price 1 Bedroom\",\n",
    "                                 \"Median Price 2 Bedroom\", \"Median Price 3 Bedroom\", \"Median Price 4 Bedroom\",\n",
    "                                 \"Median Price 5 Bedroom\", \"Year\", \"Month\"]]\n",
    "April_46219[\"Year_Integer\"] = April_46219[\"Year\"] - 1995\n",
    "\n",
    "#April_46219\n",
    "April46219_available = April_46219.loc[(April_46219[\"Year_Integer\"] >= 15) & (April_46219[\"Year_Integer\"] <=24)]\n",
    "#Isolate the data that we want to use to predict the filled in values...\n",
    "April46219_predictionData = April_46219.loc[(April_46219[\"Year_Integer\"]>=1)&(April_46219[\"Year_Integer\"]<=14)]\n",
    "April46219_predictionData = April46219_predictionData[[\"Median Market Value (Single Family)\", \"Year_Integer\", \"Median Price 3 Bedroom\"]]\n",
    "#April46219_predictionData"
   ]
  },
  {
   "cell_type": "markdown",
   "metadata": {},
   "source": [
    "# **Median List Price per SqFt**"
   ]
  },
  {
   "cell_type": "code",
   "execution_count": 122,
   "metadata": {},
   "outputs": [
    {
     "name": "stdout",
     "output_type": "stream",
     "text": [
      "(10, 3) (10, 1)\n",
      "MSE: 0.17921514490388765, R2: 0.7740474554019876\n"
     ]
    }
   ],
   "source": [
    "#Create X and y values\n",
    "X = April46219_available[[\"Median Market Value (Single Family)\", \"Year_Integer\", \"Median Price 3 Bedroom\"]]\n",
    "y = April46219_available[\"Median List Price per Square Foot\"].values.reshape(-1, 1)\n",
    "print(X.shape, y.shape)\n",
    "#Create test/train data sets\n",
    "X_train, X_test, y_train, y_test = train_test_split(X, y, random_state=42)\n",
    "#X_train.head(9)\n",
    "\n",
    "X_scaler = StandardScaler().fit(X_train)\n",
    "y_scaler = StandardScaler().fit(y_train)\n",
    "X_train_scaled = X_scaler.transform(X_train)\n",
    "X_test_scaled = X_scaler.transform(X_test)\n",
    "y_train_scaled = y_scaler.transform(y_train)\n",
    "y_test_scaled = y_scaler.transform(y_test)\n",
    "\n",
    "model = LinearRegression()\n",
    "model.fit(X_train_scaled, y_train_scaled)\n",
    "predictions = model.predict(X_test_scaled)\n",
    "MSE = mean_squared_error(y_test_scaled, predictions)\n",
    "r2 = model.score(X_test_scaled, y_test_scaled)\n",
    "\n",
    "print(f\"MSE: {MSE}, R2: {r2}\")\n",
    "\n",
    "April46219_predictionData_scaled = X_scaler.transform(April46219_predictionData)\n",
    "\n",
    "MLPSqFt_April46219_predictions = model.predict(April46219_predictionData_scaled)\n",
    "MLPSqFt_April46219_predictions_actual = y_scaler.inverse_transform(MLPSqFt_April46219_predictions)\n",
    "#MLPSqFt_April46219_predictions_actual\n",
    "\n",
    "MLPSqFt_April46219_prediction_list = []\n",
    "for prediction in MLPSqFt_April46219_predictions_actual:\n",
    "    MLPSqFt_April46219_prediction_list.append(prediction[0])\n",
    "#prediction_list\n",
    "end = April_46219[\"Median List Price per Square Foot\"].to_list()\n",
    "end_final = end[14:25]\n",
    "#Combine into new list\n",
    "April_46219_MLPSqFt_new = MLPSqFt_April46219_prediction_list + end_final\n",
    "April_46219[\"Median List Price per SqFt Calculated\"] = April_46219_MLPSqFt_new\n",
    "#April_46219"
   ]
  },
  {
   "cell_type": "markdown",
   "metadata": {},
   "source": [
    "# **Median List Price**"
   ]
  },
  {
   "cell_type": "code",
   "execution_count": 123,
   "metadata": {},
   "outputs": [
    {
     "name": "stdout",
     "output_type": "stream",
     "text": [
      "(10, 3) (10, 1)\n",
      "MSE: 0.7225109700356639, R2: 0.3209206478991151\n"
     ]
    }
   ],
   "source": [
    "#Create X and y values\n",
    "X = April46219_available[[\"Median Market Value (Single Family)\", \"Year_Integer\", \"Median Price 3 Bedroom\"]]\n",
    "y = April46219_available[\"Median List Price\"].values.reshape(-1, 1)\n",
    "print(X.shape, y.shape)\n",
    "#Create test/train data sets\n",
    "X_train, X_test, y_train, y_test = train_test_split(X, y, random_state=42)\n",
    "#X_train.head(9)\n",
    "\n",
    "X_scaler = StandardScaler().fit(X_train)\n",
    "y_scaler = StandardScaler().fit(y_train)\n",
    "X_train_scaled = X_scaler.transform(X_train)\n",
    "X_test_scaled = X_scaler.transform(X_test)\n",
    "y_train_scaled = y_scaler.transform(y_train)\n",
    "y_test_scaled = y_scaler.transform(y_test)\n",
    "\n",
    "model = LinearRegression()\n",
    "model.fit(X_train_scaled, y_train_scaled)\n",
    "predictions = model.predict(X_test_scaled)\n",
    "MSE = mean_squared_error(y_test_scaled, predictions)\n",
    "r2 = model.score(X_test_scaled, y_test_scaled)\n",
    "\n",
    "print(f\"MSE: {MSE}, R2: {r2}\")\n",
    "\n",
    "April46219_predictionData_scaled = X_scaler.transform(April46219_predictionData)\n",
    "\n",
    "MLP_April46219_predictions = model.predict(April46219_predictionData_scaled)\n",
    "MLP_April46219_predictions_actual = y_scaler.inverse_transform(MLP_April46219_predictions)\n",
    "#MLP_April46219_predictions_actual\n",
    "\n",
    "MLP_April46219_prediction_list = []\n",
    "for prediction in MLP_April46219_predictions_actual:\n",
    "    MLP_April46219_prediction_list.append(prediction[0])\n",
    "#prediction_list\n",
    "end = April_46219[\"Median List Price\"].to_list()\n",
    "end_final = end[14:25]\n",
    "#Combine into new list\n",
    "April_46219_MLP_new = MLP_April46219_prediction_list + end_final\n",
    "April_46219[\"Median List Price Calculated\"] = end\n",
    "#April_46219\n"
   ]
  },
  {
   "cell_type": "markdown",
   "metadata": {},
   "source": [
    "# **Calculate the April 46219 DataFrame**"
   ]
  },
  {
   "cell_type": "code",
   "execution_count": 124,
   "metadata": {},
   "outputs": [],
   "source": [
    "April_46219_Complete = April_46219[[\"Zip_Code\", \"Date\", \"Year\", \"Year_Integer\",\"Month\", \n",
    "                                        \"Median Market Value (Single Family)\", \"Median Price 1 Bedroom\",\n",
    "                                       \"Median Price 2 Bedroom\", \"Median Price 3 Bedroom\",\n",
    "                                       \"Median Price 4 Bedroom\", \"Median Price 5 Bedroom\",\n",
    "                                       \"Median List Price per SqFt Calculated\", \"Median List Price Calculated\"]]\n",
    "April_46219_Complete.to_csv(\"April_46219_Complete.csv\")"
   ]
  },
  {
   "cell_type": "markdown",
   "metadata": {},
   "source": [
    "# **May 46219**"
   ]
  },
  {
   "cell_type": "code",
   "execution_count": 125,
   "metadata": {},
   "outputs": [],
   "source": [
    "May_46219 = Indianapolis_Housing_46219.loc[Indianapolis_Housing_46219[\"Month\"]==5]\n",
    "\n",
    "\n",
    "May_46219 = May_46219[[\"Date\", \"Zip_Code\",\"Median List Price\", \"Median List Price per Square Foot\", \n",
    "                                  \"Median Market Value (Single Family)\", \"Median Price 1 Bedroom\",\n",
    "                                 \"Median Price 2 Bedroom\", \"Median Price 3 Bedroom\", \"Median Price 4 Bedroom\",\n",
    "                                 \"Median Price 5 Bedroom\", \"Year\", \"Month\"]]\n",
    "May_46219[\"Year_Integer\"] = May_46219[\"Year\"] - 1995\n",
    "\n",
    "#May_46219\n",
    "May46219_available = May_46219.loc[(May_46219[\"Year_Integer\"] >= 15) & (May_46219[\"Year_Integer\"] <=24)]\n",
    "#Isolate the data that we want to use to predict the filled in values...\n",
    "May46219_predictionData = May_46219.loc[(May_46219[\"Year_Integer\"]>=1)&(May_46219[\"Year_Integer\"]<=14)]\n",
    "May46219_predictionData = May46219_predictionData[[\"Median Market Value (Single Family)\", \"Year_Integer\", \"Median Price 3 Bedroom\"]]\n",
    "#May46219_predictionData\n",
    "#May_46219"
   ]
  },
  {
   "cell_type": "markdown",
   "metadata": {},
   "source": [
    "# **Median List Price per SqFt**"
   ]
  },
  {
   "cell_type": "code",
   "execution_count": 126,
   "metadata": {},
   "outputs": [
    {
     "name": "stdout",
     "output_type": "stream",
     "text": [
      "(10, 3) (10, 1)\n",
      "MSE: 0.08068743985395384, R2: 0.8932285127104591\n"
     ]
    }
   ],
   "source": [
    "#Create X and y values\n",
    "X = May46219_available[[\"Median Market Value (Single Family)\", \"Year_Integer\", \"Median Price 3 Bedroom\"]]\n",
    "y = May46219_available[\"Median List Price per Square Foot\"].values.reshape(-1, 1)\n",
    "print(X.shape, y.shape)\n",
    "#Create test/train data sets\n",
    "X_train, X_test, y_train, y_test = train_test_split(X, y, random_state=42)\n",
    "#X_train.head(9)\n",
    "\n",
    "X_scaler = StandardScaler().fit(X_train)\n",
    "y_scaler = StandardScaler().fit(y_train)\n",
    "X_train_scaled = X_scaler.transform(X_train)\n",
    "X_test_scaled = X_scaler.transform(X_test)\n",
    "y_train_scaled = y_scaler.transform(y_train)\n",
    "y_test_scaled = y_scaler.transform(y_test)\n",
    "\n",
    "model = LinearRegression()\n",
    "model.fit(X_train_scaled, y_train_scaled)\n",
    "predictions = model.predict(X_test_scaled)\n",
    "MSE = mean_squared_error(y_test_scaled, predictions)\n",
    "r2 = model.score(X_test_scaled, y_test_scaled)\n",
    "\n",
    "print(f\"MSE: {MSE}, R2: {r2}\")\n",
    "\n",
    "May46219_predictionData_scaled = X_scaler.transform(May46219_predictionData)\n",
    "\n",
    "MLPSqFt_May46219_predictions = model.predict(May46219_predictionData_scaled)\n",
    "MLPSqFt_May46219_predictions_actual = y_scaler.inverse_transform(MLPSqFt_May46219_predictions)\n",
    "#MLPSqFt_May46219_predictions_actual\n",
    "\n",
    "MLPSqFt_May46219_prediction_list = []\n",
    "for prediction in MLPSqFt_May46219_predictions_actual:\n",
    "    MLPSqFt_May46219_prediction_list.append(prediction[0])\n",
    "#prediction_list\n",
    "end = May_46219[\"Median List Price per Square Foot\"].to_list()\n",
    "end_final = end[14:25]\n",
    "#Combine into new list\n",
    "May_46219_MLPSqFt_new = MLPSqFt_May46219_prediction_list + end_final\n",
    "May_46219[\"Median List Price per SqFt Calculated\"] = May_46219_MLPSqFt_new\n",
    "#May_46219"
   ]
  },
  {
   "cell_type": "markdown",
   "metadata": {},
   "source": [
    "# **Median List Price**"
   ]
  },
  {
   "cell_type": "code",
   "execution_count": 127,
   "metadata": {},
   "outputs": [
    {
     "name": "stdout",
     "output_type": "stream",
     "text": [
      "(10, 3) (10, 1)\n",
      "MSE: 0.30082292838429275, R2: 0.8213920189661666\n"
     ]
    }
   ],
   "source": [
    "#Create X and y values\n",
    "X = May46219_available[[\"Median Market Value (Single Family)\", \"Year_Integer\", \"Median Price 3 Bedroom\"]]\n",
    "y = May46219_available[\"Median List Price\"].values.reshape(-1, 1)\n",
    "print(X.shape, y.shape)\n",
    "#Create test/train data sets\n",
    "X_train, X_test, y_train, y_test = train_test_split(X, y, random_state=42)\n",
    "#X_train.head(9)\n",
    "\n",
    "X_scaler = StandardScaler().fit(X_train)\n",
    "y_scaler = StandardScaler().fit(y_train)\n",
    "X_train_scaled = X_scaler.transform(X_train)\n",
    "X_test_scaled = X_scaler.transform(X_test)\n",
    "y_train_scaled = y_scaler.transform(y_train)\n",
    "y_test_scaled = y_scaler.transform(y_test)\n",
    "\n",
    "model = LinearRegression()\n",
    "model.fit(X_train_scaled, y_train_scaled)\n",
    "predictions = model.predict(X_test_scaled)\n",
    "MSE = mean_squared_error(y_test_scaled, predictions)\n",
    "r2 = model.score(X_test_scaled, y_test_scaled)\n",
    "\n",
    "print(f\"MSE: {MSE}, R2: {r2}\")\n",
    "\n",
    "May46219_predictionData_scaled = X_scaler.transform(May46219_predictionData)\n",
    "\n",
    "MLP_May46219_predictions = model.predict(May46219_predictionData_scaled)\n",
    "MLP_May46219_predictions_actual = y_scaler.inverse_transform(MLP_May46219_predictions)\n",
    "#MLP_May46219_predictions_actual\n",
    "\n",
    "MLP_May46219_prediction_list = []\n",
    "for prediction in MLP_May46219_predictions_actual:\n",
    "    MLP_May46219_prediction_list.append(prediction[0])\n",
    "#prediction_list\n",
    "end = May_46219[\"Median List Price\"].to_list()\n",
    "end_final = end[14:25]\n",
    "#Combine into new list\n",
    "May_46219_MLP_new = MLP_May46219_prediction_list + end_final\n",
    "May_46219[\"Median List Price Calculated\"] = May_46219_MLP_new\n",
    "#May_46219\n"
   ]
  },
  {
   "cell_type": "markdown",
   "metadata": {},
   "source": [
    "# **Create May 46219 DataFrame**"
   ]
  },
  {
   "cell_type": "code",
   "execution_count": 128,
   "metadata": {},
   "outputs": [],
   "source": [
    "May_46219_Complete = May_46219[[\"Zip_Code\", \"Date\", \"Year\", \"Year_Integer\",\"Month\", \n",
    "                                        \"Median Market Value (Single Family)\", \"Median Price 1 Bedroom\",\n",
    "                                       \"Median Price 2 Bedroom\", \"Median Price 3 Bedroom\",\n",
    "                                       \"Median Price 4 Bedroom\", \"Median Price 5 Bedroom\",\n",
    "                                       \"Median List Price per SqFt Calculated\", \"Median List Price Calculated\"]]\n",
    "May_46219_Complete.to_csv(\"May_46219_Complete.csv\")"
   ]
  },
  {
   "cell_type": "markdown",
   "metadata": {},
   "source": [
    "# **June 46219**"
   ]
  },
  {
   "cell_type": "code",
   "execution_count": 129,
   "metadata": {},
   "outputs": [],
   "source": [
    "June_46219 = Indianapolis_Housing_46219.loc[Indianapolis_Housing_46219[\"Month\"]==6]\n",
    "\n",
    "\n",
    "June_46219 = June_46219[[\"Date\", \"Zip_Code\",\"Median List Price\", \"Median List Price per Square Foot\", \n",
    "                                  \"Median Market Value (Single Family)\", \"Median Price 1 Bedroom\",\n",
    "                                 \"Median Price 2 Bedroom\", \"Median Price 3 Bedroom\", \"Median Price 4 Bedroom\",\n",
    "                                 \"Median Price 5 Bedroom\", \"Year\", \"Month\"]]\n",
    "June_46219[\"Year_Integer\"] = June_46219[\"Year\"] - 1995\n",
    "\n",
    "#June_46219\n",
    "June46219_available = June_46219.loc[(June_46219[\"Year_Integer\"] >= 15) & (June_46219[\"Year_Integer\"] <=24)]\n",
    "#Isolate the data that we want to use to predict the filled in values...\n",
    "June46219_predictionData = June_46219.loc[(June_46219[\"Year_Integer\"]>=1)&(June_46219[\"Year_Integer\"]<=14)]\n",
    "June46219_predictionData = June46219_predictionData[[\"Median Market Value (Single Family)\", \"Year_Integer\", \"Median Price 3 Bedroom\"]]\n",
    "#June46219_predictionData\n",
    "#June_46219"
   ]
  },
  {
   "cell_type": "markdown",
   "metadata": {},
   "source": [
    "# **Median List Price per SqFt**"
   ]
  },
  {
   "cell_type": "code",
   "execution_count": 130,
   "metadata": {},
   "outputs": [
    {
     "name": "stdout",
     "output_type": "stream",
     "text": [
      "(10, 3) (10, 1)\n",
      "MSE: 0.04552908967065309, R2: 0.9539002705535721\n"
     ]
    }
   ],
   "source": [
    "#Create X and y values\n",
    "X = June46219_available[[\"Median Market Value (Single Family)\", \"Year_Integer\", \"Median Price 3 Bedroom\"]]\n",
    "y = June46219_available[\"Median List Price per Square Foot\"].values.reshape(-1, 1)\n",
    "print(X.shape, y.shape)\n",
    "#Create test/train data sets\n",
    "X_train, X_test, y_train, y_test = train_test_split(X, y, random_state=42)\n",
    "#X_train.head(9)\n",
    "\n",
    "X_scaler = StandardScaler().fit(X_train)\n",
    "y_scaler = StandardScaler().fit(y_train)\n",
    "X_train_scaled = X_scaler.transform(X_train)\n",
    "X_test_scaled = X_scaler.transform(X_test)\n",
    "y_train_scaled = y_scaler.transform(y_train)\n",
    "y_test_scaled = y_scaler.transform(y_test)\n",
    "\n",
    "model = LinearRegression()\n",
    "model.fit(X_train_scaled, y_train_scaled)\n",
    "predictions = model.predict(X_test_scaled)\n",
    "MSE = mean_squared_error(y_test_scaled, predictions)\n",
    "r2 = model.score(X_test_scaled, y_test_scaled)\n",
    "\n",
    "print(f\"MSE: {MSE}, R2: {r2}\")\n",
    "\n",
    "June46219_predictionData_scaled = X_scaler.transform(June46219_predictionData)\n",
    "\n",
    "MLPSqFt_June46219_predictions = model.predict(June46219_predictionData_scaled)\n",
    "MLPSqFt_June46219_predictions_actual = y_scaler.inverse_transform(MLPSqFt_June46219_predictions)\n",
    "#MLPSqFt_June46219_predictions_actual\n",
    "\n",
    "MLPSqFt_June46219_prediction_list = []\n",
    "for prediction in MLPSqFt_June46219_predictions_actual:\n",
    "    MLPSqFt_June46219_prediction_list.append(prediction[0])\n",
    "#prediction_list\n",
    "end = June_46219[\"Median List Price per Square Foot\"].to_list()\n",
    "end_final = end[14:25]\n",
    "#Combine into new list\n",
    "June_46219_MLPSqFt_new = MLPSqFt_June46219_prediction_list + end_final\n",
    "June_46219[\"Median List Price per SqFt Calculated\"] = June_46219_MLPSqFt_new\n",
    "#June_46219"
   ]
  },
  {
   "cell_type": "markdown",
   "metadata": {},
   "source": [
    "# **Median List Price**"
   ]
  },
  {
   "cell_type": "code",
   "execution_count": 131,
   "metadata": {},
   "outputs": [
    {
     "name": "stdout",
     "output_type": "stream",
     "text": [
      "(10, 3) (10, 1)\n",
      "MSE: 0.10208325231525851, R2: 0.9288714029762314\n"
     ]
    }
   ],
   "source": [
    "#Create X and y values\n",
    "X = June46219_available[[\"Median Market Value (Single Family)\", \"Year_Integer\", \"Median Price 3 Bedroom\"]]\n",
    "y = June46219_available[\"Median List Price\"].values.reshape(-1, 1)\n",
    "print(X.shape, y.shape)\n",
    "#Create test/train data sets\n",
    "X_train, X_test, y_train, y_test = train_test_split(X, y, random_state=42)\n",
    "#X_train.head(9)\n",
    "\n",
    "X_scaler = StandardScaler().fit(X_train)\n",
    "y_scaler = StandardScaler().fit(y_train)\n",
    "X_train_scaled = X_scaler.transform(X_train)\n",
    "X_test_scaled = X_scaler.transform(X_test)\n",
    "y_train_scaled = y_scaler.transform(y_train)\n",
    "y_test_scaled = y_scaler.transform(y_test)\n",
    "\n",
    "model = LinearRegression()\n",
    "model.fit(X_train_scaled, y_train_scaled)\n",
    "predictions = model.predict(X_test_scaled)\n",
    "MSE = mean_squared_error(y_test_scaled, predictions)\n",
    "r2 = model.score(X_test_scaled, y_test_scaled)\n",
    "\n",
    "print(f\"MSE: {MSE}, R2: {r2}\")\n",
    "\n",
    "June46219_predictionData_scaled = X_scaler.transform(June46219_predictionData)\n",
    "\n",
    "MLP_June46219_predictions = model.predict(June46219_predictionData_scaled)\n",
    "MLP_June46219_predictions_actual = y_scaler.inverse_transform(MLP_June46219_predictions)\n",
    "#MLP_June46219_predictions_actual\n",
    "\n",
    "MLP_June46219_prediction_list = []\n",
    "for prediction in MLP_June46219_predictions_actual:\n",
    "    MLP_June46219_prediction_list.append(prediction[0])\n",
    "#prediction_list\n",
    "end = June_46219[\"Median List Price\"].to_list()\n",
    "end_final = end[14:25]\n",
    "#Combine into new list\n",
    "June_46219_MLP_new = MLP_June46219_prediction_list + end_final\n",
    "June_46219[\"Median List Price Calculated\"] = June_46219_MLP_new\n",
    "#June_46219\n"
   ]
  },
  {
   "cell_type": "markdown",
   "metadata": {},
   "source": [
    "# **Calculate June 46219 DataFrame**"
   ]
  },
  {
   "cell_type": "code",
   "execution_count": 132,
   "metadata": {},
   "outputs": [],
   "source": [
    "June_46219_Complete = June_46219[[\"Zip_Code\", \"Date\", \"Year\", \"Year_Integer\",\"Month\", \n",
    "                                        \"Median Market Value (Single Family)\", \"Median Price 1 Bedroom\",\n",
    "                                       \"Median Price 2 Bedroom\", \"Median Price 3 Bedroom\",\n",
    "                                       \"Median Price 4 Bedroom\", \"Median Price 5 Bedroom\",\n",
    "                                       \"Median List Price per SqFt Calculated\", \"Median List Price Calculated\"]]\n",
    "June_46219_Complete.to_csv(\"June_46219_Complete.csv\")"
   ]
  },
  {
   "cell_type": "markdown",
   "metadata": {},
   "source": [
    "# **July 46219**"
   ]
  },
  {
   "cell_type": "code",
   "execution_count": 133,
   "metadata": {},
   "outputs": [],
   "source": [
    "July_46219 = Indianapolis_Housing_46219.loc[Indianapolis_Housing_46219[\"Month\"]==7]\n",
    "\n",
    "\n",
    "July_46219 = July_46219[[\"Date\", \"Zip_Code\",\"Median List Price\", \"Median List Price per Square Foot\", \n",
    "                                  \"Median Market Value (Single Family)\", \"Median Price 1 Bedroom\",\n",
    "                                 \"Median Price 2 Bedroom\", \"Median Price 3 Bedroom\", \"Median Price 4 Bedroom\",\n",
    "                                 \"Median Price 5 Bedroom\", \"Year\", \"Month\"]]\n",
    "July_46219[\"Year_Integer\"] = July_46219[\"Year\"] - 1995\n",
    "\n",
    "#July_46219\n",
    "July46219_available = July_46219.loc[(July_46219[\"Year_Integer\"] >= 15) & (July_46219[\"Year_Integer\"] <=24)]\n",
    "#Isolate the data that we want to use to predict the filled in values...\n",
    "July46219_predictionData = July_46219.loc[(July_46219[\"Year_Integer\"]>=1)&(July_46219[\"Year_Integer\"]<=14)]\n",
    "July46219_predictionData = July46219_predictionData[[\"Median Market Value (Single Family)\", \"Year_Integer\", \"Median Price 3 Bedroom\"]]\n",
    "#July46219_predictionData\n",
    "#July_46219\n"
   ]
  },
  {
   "cell_type": "markdown",
   "metadata": {},
   "source": [
    "# **Median List Price per SqFt**"
   ]
  },
  {
   "cell_type": "code",
   "execution_count": 134,
   "metadata": {},
   "outputs": [
    {
     "name": "stdout",
     "output_type": "stream",
     "text": [
      "(10, 3) (10, 1)\n",
      "MSE: 0.10978132606520379, R2: 0.9071931856256622\n"
     ]
    }
   ],
   "source": [
    "#Create X and y values\n",
    "X = July46219_available[[\"Median Market Value (Single Family)\", \"Year_Integer\", \"Median Price 3 Bedroom\"]]\n",
    "y = July46219_available[\"Median List Price per Square Foot\"].values.reshape(-1, 1)\n",
    "print(X.shape, y.shape)\n",
    "#Create test/train data sets\n",
    "X_train, X_test, y_train, y_test = train_test_split(X, y, random_state=42)\n",
    "#X_train.head(9)\n",
    "\n",
    "X_scaler = StandardScaler().fit(X_train)\n",
    "y_scaler = StandardScaler().fit(y_train)\n",
    "X_train_scaled = X_scaler.transform(X_train)\n",
    "X_test_scaled = X_scaler.transform(X_test)\n",
    "y_train_scaled = y_scaler.transform(y_train)\n",
    "y_test_scaled = y_scaler.transform(y_test)\n",
    "\n",
    "model = LinearRegression()\n",
    "model.fit(X_train_scaled, y_train_scaled)\n",
    "predictions = model.predict(X_test_scaled)\n",
    "MSE = mean_squared_error(y_test_scaled, predictions)\n",
    "r2 = model.score(X_test_scaled, y_test_scaled)\n",
    "\n",
    "print(f\"MSE: {MSE}, R2: {r2}\")\n",
    "\n",
    "July46219_predictionData_scaled = X_scaler.transform(July46219_predictionData)\n",
    "\n",
    "MLPSqFt_July46219_predictions = model.predict(July46219_predictionData_scaled)\n",
    "MLPSqFt_July46219_predictions_actual = y_scaler.inverse_transform(MLPSqFt_July46219_predictions)\n",
    "#MLPSqFt_July46219_predictions_actual\n",
    "\n",
    "MLPSqFt_July46219_prediction_list = []\n",
    "for prediction in MLPSqFt_July46219_predictions_actual:\n",
    "    MLPSqFt_July46219_prediction_list.append(prediction[0])\n",
    "#prediction_list\n",
    "end = July_46219[\"Median List Price per Square Foot\"].to_list()\n",
    "end_final = end[14:25]\n",
    "#Combine into new list\n",
    "July_46219_MLPSqFt_new = MLPSqFt_July46219_prediction_list + end_final\n",
    "July_46219[\"Median List Price per SqFt Calculated\"] = July_46219_MLPSqFt_new\n",
    "#July_46219\n"
   ]
  },
  {
   "cell_type": "markdown",
   "metadata": {},
   "source": [
    "# **Median List Price**"
   ]
  },
  {
   "cell_type": "code",
   "execution_count": 135,
   "metadata": {},
   "outputs": [
    {
     "name": "stdout",
     "output_type": "stream",
     "text": [
      "(10, 3) (10, 1)\n",
      "MSE: 0.08461223518178441, R2: 0.9287026439035789\n"
     ]
    }
   ],
   "source": [
    "#Create X and y values\n",
    "X = July46219_available[[\"Median Market Value (Single Family)\", \"Year_Integer\", \"Median Price 3 Bedroom\"]]\n",
    "y = July46219_available[\"Median List Price\"].values.reshape(-1, 1)\n",
    "print(X.shape, y.shape)\n",
    "#Create test/train data sets\n",
    "X_train, X_test, y_train, y_test = train_test_split(X, y, random_state=42)\n",
    "#X_train.head(9)\n",
    "\n",
    "X_scaler = StandardScaler().fit(X_train)\n",
    "y_scaler = StandardScaler().fit(y_train)\n",
    "X_train_scaled = X_scaler.transform(X_train)\n",
    "X_test_scaled = X_scaler.transform(X_test)\n",
    "y_train_scaled = y_scaler.transform(y_train)\n",
    "y_test_scaled = y_scaler.transform(y_test)\n",
    "\n",
    "model = LinearRegression()\n",
    "model.fit(X_train_scaled, y_train_scaled)\n",
    "predictions = model.predict(X_test_scaled)\n",
    "MSE = mean_squared_error(y_test_scaled, predictions)\n",
    "r2 = model.score(X_test_scaled, y_test_scaled)\n",
    "\n",
    "print(f\"MSE: {MSE}, R2: {r2}\")\n",
    "\n",
    "July46219_predictionData_scaled = X_scaler.transform(July46219_predictionData)\n",
    "\n",
    "MLP_July46219_predictions = model.predict(July46219_predictionData_scaled)\n",
    "MLP_July46219_predictions_actual = y_scaler.inverse_transform(MLP_July46219_predictions)\n",
    "#MLP_July46219_predictions_actual\n",
    "\n",
    "MLP_July46219_prediction_list = []\n",
    "for prediction in MLP_July46219_predictions_actual:\n",
    "    MLP_July46219_prediction_list.append(prediction[0])\n",
    "#prediction_list\n",
    "end = July_46219[\"Median List Price\"].to_list()\n",
    "end_final = end[14:25]\n",
    "#Combine into new list\n",
    "July_46219_MLP_new = MLP_July46219_prediction_list + end_final\n",
    "July_46219[\"Median List Price Calculated\"] = July_46219_MLP_new\n",
    "#July_46219\n"
   ]
  },
  {
   "cell_type": "markdown",
   "metadata": {},
   "source": [
    "# **Create July 46219 DataFrame**"
   ]
  },
  {
   "cell_type": "code",
   "execution_count": 136,
   "metadata": {},
   "outputs": [],
   "source": [
    "July_46219_Complete = July_46219[[\"Zip_Code\", \"Date\", \"Year\", \"Year_Integer\",\"Month\", \n",
    "                                        \"Median Market Value (Single Family)\", \"Median Price 1 Bedroom\",\n",
    "                                       \"Median Price 2 Bedroom\", \"Median Price 3 Bedroom\",\n",
    "                                       \"Median Price 4 Bedroom\", \"Median Price 5 Bedroom\",\n",
    "                                       \"Median List Price per SqFt Calculated\", \"Median List Price Calculated\"]]\n",
    "July_46219_Complete.to_csv(\"July_46219_Complete.csv\")"
   ]
  },
  {
   "cell_type": "markdown",
   "metadata": {},
   "source": [
    "# **August 46219**"
   ]
  },
  {
   "cell_type": "code",
   "execution_count": 137,
   "metadata": {},
   "outputs": [],
   "source": [
    "August_46219 = Indianapolis_Housing_46219.loc[Indianapolis_Housing_46219[\"Month\"]==8]\n",
    "\n",
    "\n",
    "August_46219 = August_46219[[\"Date\", \"Zip_Code\",\"Median List Price\", \"Median List Price per Square Foot\", \n",
    "                                  \"Median Market Value (Single Family)\", \"Median Price 1 Bedroom\",\n",
    "                                 \"Median Price 2 Bedroom\", \"Median Price 3 Bedroom\", \"Median Price 4 Bedroom\",\n",
    "                                 \"Median Price 5 Bedroom\", \"Year\", \"Month\"]]\n",
    "August_46219[\"Year_Integer\"] = August_46219[\"Year\"] - 1995\n",
    "\n",
    "#August_46219\n",
    "August46219_available = August_46219.loc[(August_46219[\"Year_Integer\"] >= 15) & (August_46219[\"Year_Integer\"] <=24)]\n",
    "#Isolate the data that we want to use to predict the filled in values...\n",
    "August46219_predictionData = August_46219.loc[(August_46219[\"Year_Integer\"]>=1)&(August_46219[\"Year_Integer\"]<=14)]\n",
    "August46219_predictionData = August46219_predictionData[[\"Median Market Value (Single Family)\", \"Year_Integer\", \"Median Price 3 Bedroom\"]]\n",
    "#August46219_predictionData\n",
    "#August_46219\n"
   ]
  },
  {
   "cell_type": "markdown",
   "metadata": {},
   "source": [
    "# **Median List Price per SqFt**"
   ]
  },
  {
   "cell_type": "code",
   "execution_count": 138,
   "metadata": {},
   "outputs": [
    {
     "name": "stdout",
     "output_type": "stream",
     "text": [
      "(10, 3) (10, 1)\n",
      "MSE: 0.10938531729303348, R2: 0.8999535501394109\n"
     ]
    }
   ],
   "source": [
    "#Create X and y values\n",
    "X = August46219_available[[\"Median Market Value (Single Family)\", \"Year_Integer\", \"Median Price 3 Bedroom\"]]\n",
    "y = August46219_available[\"Median List Price per Square Foot\"].values.reshape(-1, 1)\n",
    "print(X.shape, y.shape)\n",
    "#Create test/train data sets\n",
    "X_train, X_test, y_train, y_test = train_test_split(X, y, random_state=42)\n",
    "#X_train.head(9)\n",
    "\n",
    "X_scaler = StandardScaler().fit(X_train)\n",
    "y_scaler = StandardScaler().fit(y_train)\n",
    "X_train_scaled = X_scaler.transform(X_train)\n",
    "X_test_scaled = X_scaler.transform(X_test)\n",
    "y_train_scaled = y_scaler.transform(y_train)\n",
    "y_test_scaled = y_scaler.transform(y_test)\n",
    "\n",
    "model = LinearRegression()\n",
    "model.fit(X_train_scaled, y_train_scaled)\n",
    "predictions = model.predict(X_test_scaled)\n",
    "MSE = mean_squared_error(y_test_scaled, predictions)\n",
    "r2 = model.score(X_test_scaled, y_test_scaled)\n",
    "\n",
    "print(f\"MSE: {MSE}, R2: {r2}\")\n",
    "\n",
    "August46219_predictionData_scaled = X_scaler.transform(August46219_predictionData)\n",
    "\n",
    "MLPSqFt_August46219_predictions = model.predict(August46219_predictionData_scaled)\n",
    "MLPSqFt_August46219_predictions_actual = y_scaler.inverse_transform(MLPSqFt_August46219_predictions)\n",
    "#MLPSqFt_August46219_predictions_actual\n",
    "\n",
    "MLPSqFt_August46219_prediction_list = []\n",
    "for prediction in MLPSqFt_August46219_predictions_actual:\n",
    "    MLPSqFt_August46219_prediction_list.append(prediction[0])\n",
    "#prediction_list\n",
    "end = August_46219[\"Median List Price per Square Foot\"].to_list()\n",
    "end_final = end[14:25]\n",
    "#Combine into new list\n",
    "August_46219_MLPSqFt_new = MLPSqFt_August46219_prediction_list + end_final\n",
    "August_46219[\"Median List Price per SqFt Calculated\"] = August_46219_MLPSqFt_new\n",
    "#August_46219\n"
   ]
  },
  {
   "cell_type": "markdown",
   "metadata": {},
   "source": [
    "# **Median List Price**"
   ]
  },
  {
   "cell_type": "code",
   "execution_count": 139,
   "metadata": {},
   "outputs": [
    {
     "name": "stdout",
     "output_type": "stream",
     "text": [
      "(10, 3) (10, 1)\n",
      "MSE: 0.03735476188008671, R2: 0.9685279117786347\n"
     ]
    }
   ],
   "source": [
    "#Create X and y values\n",
    "X = August46219_available[[\"Median Market Value (Single Family)\", \"Year_Integer\", \"Median Price 3 Bedroom\"]]\n",
    "y = August46219_available[\"Median List Price\"].values.reshape(-1, 1)\n",
    "print(X.shape, y.shape)\n",
    "#Create test/train data sets\n",
    "X_train, X_test, y_train, y_test = train_test_split(X, y, random_state=42)\n",
    "#X_train.head(9)\n",
    "\n",
    "X_scaler = StandardScaler().fit(X_train)\n",
    "y_scaler = StandardScaler().fit(y_train)\n",
    "X_train_scaled = X_scaler.transform(X_train)\n",
    "X_test_scaled = X_scaler.transform(X_test)\n",
    "y_train_scaled = y_scaler.transform(y_train)\n",
    "y_test_scaled = y_scaler.transform(y_test)\n",
    "\n",
    "model = LinearRegression()\n",
    "model.fit(X_train_scaled, y_train_scaled)\n",
    "predictions = model.predict(X_test_scaled)\n",
    "MSE = mean_squared_error(y_test_scaled, predictions)\n",
    "r2 = model.score(X_test_scaled, y_test_scaled)\n",
    "\n",
    "print(f\"MSE: {MSE}, R2: {r2}\")\n",
    "\n",
    "August46219_predictionData_scaled = X_scaler.transform(August46219_predictionData)\n",
    "\n",
    "MLP_August46219_predictions = model.predict(August46219_predictionData_scaled)\n",
    "MLP_August46219_predictions_actual = y_scaler.inverse_transform(MLP_August46219_predictions)\n",
    "#MLP_August46219_predictions_actual\n",
    "\n",
    "MLP_August46219_prediction_list = []\n",
    "for prediction in MLP_August46219_predictions_actual:\n",
    "    MLP_August46219_prediction_list.append(prediction[0])\n",
    "#prediction_list\n",
    "end = August_46219[\"Median List Price\"].to_list()\n",
    "end_final = end[14:25]\n",
    "#Combine into new list\n",
    "August_46219_MLP_new = MLP_August46219_prediction_list + end_final\n",
    "August_46219[\"Median List Price Calculated\"] = August_46219_MLP_new\n",
    "#August_46219\n"
   ]
  },
  {
   "cell_type": "markdown",
   "metadata": {},
   "source": [
    "# **Create August 46219 DataFrame**"
   ]
  },
  {
   "cell_type": "code",
   "execution_count": 140,
   "metadata": {},
   "outputs": [],
   "source": [
    "August_46219_Complete = August_46219[[\"Zip_Code\", \"Date\", \"Year\", \"Year_Integer\",\"Month\", \n",
    "                                        \"Median Market Value (Single Family)\", \"Median Price 1 Bedroom\",\n",
    "                                       \"Median Price 2 Bedroom\", \"Median Price 3 Bedroom\",\n",
    "                                       \"Median Price 4 Bedroom\", \"Median Price 5 Bedroom\",\n",
    "                                       \"Median List Price per SqFt Calculated\", \"Median List Price Calculated\"]]\n",
    "August_46219_Complete.to_csv(\"August_46219_Complete.csv\")"
   ]
  },
  {
   "cell_type": "markdown",
   "metadata": {},
   "source": [
    "# **September 46219**"
   ]
  },
  {
   "cell_type": "code",
   "execution_count": 141,
   "metadata": {},
   "outputs": [],
   "source": [
    "September_46219 = Indianapolis_Housing_46219.loc[Indianapolis_Housing_46219[\"Month\"]==9]\n",
    "\n",
    "\n",
    "September_46219 = September_46219[[\"Date\", \"Zip_Code\",\"Median List Price\", \"Median List Price per Square Foot\", \n",
    "                                  \"Median Market Value (Single Family)\", \"Median Price 1 Bedroom\",\n",
    "                                 \"Median Price 2 Bedroom\", \"Median Price 3 Bedroom\", \"Median Price 4 Bedroom\",\n",
    "                                 \"Median Price 5 Bedroom\", \"Year\", \"Month\"]]\n",
    "September_46219[\"Year_Integer\"] = September_46219[\"Year\"] - 1995\n",
    "\n",
    "#September_46219\n",
    "September46219_available = September_46219.loc[(September_46219[\"Year_Integer\"] >= 15) & (September_46219[\"Year_Integer\"] <=24)]\n",
    "#Isolate the data that we want to use to predict the filled in values...\n",
    "September46219_predictionData = September_46219.loc[(September_46219[\"Year_Integer\"]>=1)&(September_46219[\"Year_Integer\"]<=14)]\n",
    "September46219_predictionData = September46219_predictionData[[\"Median Market Value (Single Family)\", \"Year_Integer\", \"Median Price 3 Bedroom\"]]\n",
    "#September46219_predictionData\n",
    "#September_46219\n"
   ]
  },
  {
   "cell_type": "markdown",
   "metadata": {},
   "source": [
    "# **Median List Price per SqFt**"
   ]
  },
  {
   "cell_type": "code",
   "execution_count": 142,
   "metadata": {},
   "outputs": [
    {
     "name": "stdout",
     "output_type": "stream",
     "text": [
      "(10, 3) (10, 1)\n",
      "MSE: 0.08543818347740768, R2: 0.9190859956650668\n"
     ]
    }
   ],
   "source": [
    "#Create X and y values\n",
    "X = September46219_available[[\"Median Market Value (Single Family)\", \"Year_Integer\", \"Median Price 3 Bedroom\"]]\n",
    "y = September46219_available[\"Median List Price per Square Foot\"].values.reshape(-1, 1)\n",
    "print(X.shape, y.shape)\n",
    "#Create test/train data sets\n",
    "X_train, X_test, y_train, y_test = train_test_split(X, y, random_state=42)\n",
    "#X_train.head(9)\n",
    "\n",
    "X_scaler = StandardScaler().fit(X_train)\n",
    "y_scaler = StandardScaler().fit(y_train)\n",
    "X_train_scaled = X_scaler.transform(X_train)\n",
    "X_test_scaled = X_scaler.transform(X_test)\n",
    "y_train_scaled = y_scaler.transform(y_train)\n",
    "y_test_scaled = y_scaler.transform(y_test)\n",
    "\n",
    "model = LinearRegression()\n",
    "model.fit(X_train_scaled, y_train_scaled)\n",
    "predictions = model.predict(X_test_scaled)\n",
    "MSE = mean_squared_error(y_test_scaled, predictions)\n",
    "r2 = model.score(X_test_scaled, y_test_scaled)\n",
    "\n",
    "print(f\"MSE: {MSE}, R2: {r2}\")\n",
    "\n",
    "September46219_predictionData_scaled = X_scaler.transform(September46219_predictionData)\n",
    "\n",
    "MLPSqFt_September46219_predictions = model.predict(September46219_predictionData_scaled)\n",
    "MLPSqFt_September46219_predictions_actual = y_scaler.inverse_transform(MLPSqFt_September46219_predictions)\n",
    "#MLPSqFt_September46219_predictions_actual\n",
    "\n",
    "MLPSqFt_September46219_prediction_list = []\n",
    "for prediction in MLPSqFt_September46219_predictions_actual:\n",
    "    MLPSqFt_September46219_prediction_list.append(prediction[0])\n",
    "#prediction_list\n",
    "end = September_46219[\"Median List Price per Square Foot\"].to_list()\n",
    "end_final = end[14:25]\n",
    "#Combine into new list\n",
    "September_46219_MLPSqFt_new = MLPSqFt_September46219_prediction_list + end_final\n",
    "September_46219[\"Median List Price per SqFt Calculated\"] = September_46219_MLPSqFt_new\n",
    "#September_46219\n"
   ]
  },
  {
   "cell_type": "markdown",
   "metadata": {},
   "source": [
    "# **Median List Price**"
   ]
  },
  {
   "cell_type": "code",
   "execution_count": 143,
   "metadata": {},
   "outputs": [
    {
     "name": "stdout",
     "output_type": "stream",
     "text": [
      "(10, 3) (10, 1)\n",
      "MSE: 0.07646533852141475, R2: 0.9188844316218276\n"
     ]
    }
   ],
   "source": [
    "#Create X and y values\n",
    "X = September46219_available[[\"Median Market Value (Single Family)\", \"Year_Integer\", \"Median Price 3 Bedroom\"]]\n",
    "y = September46219_available[\"Median List Price\"].values.reshape(-1, 1)\n",
    "print(X.shape, y.shape)\n",
    "#Create test/train data sets\n",
    "X_train, X_test, y_train, y_test = train_test_split(X, y, random_state=42)\n",
    "#X_train.head(9)\n",
    "\n",
    "X_scaler = StandardScaler().fit(X_train)\n",
    "y_scaler = StandardScaler().fit(y_train)\n",
    "X_train_scaled = X_scaler.transform(X_train)\n",
    "X_test_scaled = X_scaler.transform(X_test)\n",
    "y_train_scaled = y_scaler.transform(y_train)\n",
    "y_test_scaled = y_scaler.transform(y_test)\n",
    "\n",
    "model = LinearRegression()\n",
    "model.fit(X_train_scaled, y_train_scaled)\n",
    "predictions = model.predict(X_test_scaled)\n",
    "MSE = mean_squared_error(y_test_scaled, predictions)\n",
    "r2 = model.score(X_test_scaled, y_test_scaled)\n",
    "\n",
    "print(f\"MSE: {MSE}, R2: {r2}\")\n",
    "\n",
    "September46219_predictionData_scaled = X_scaler.transform(September46219_predictionData)\n",
    "\n",
    "MLP_September46219_predictions = model.predict(September46219_predictionData_scaled)\n",
    "MLP_September46219_predictions_actual = y_scaler.inverse_transform(MLP_September46219_predictions)\n",
    "#MLP_September46219_predictions_actual\n",
    "\n",
    "MLP_September46219_prediction_list = []\n",
    "for prediction in MLP_September46219_predictions_actual:\n",
    "    MLP_September46219_prediction_list.append(prediction[0])\n",
    "#prediction_list\n",
    "end = September_46219[\"Median List Price\"].to_list()\n",
    "end_final = end[14:25]\n",
    "#Combine into new list\n",
    "September_46219_MLP_new = MLP_September46219_prediction_list + end_final\n",
    "September_46219[\"Median List Price Calculated\"] = September_46219_MLP_new\n",
    "#September_46219\n"
   ]
  },
  {
   "cell_type": "markdown",
   "metadata": {},
   "source": [
    "# **Create September 46219 DataFrame**"
   ]
  },
  {
   "cell_type": "code",
   "execution_count": 144,
   "metadata": {},
   "outputs": [],
   "source": [
    "September_46219_Complete = September_46219[[\"Zip_Code\", \"Date\", \"Year\", \"Year_Integer\",\"Month\", \n",
    "                                        \"Median Market Value (Single Family)\", \"Median Price 1 Bedroom\",\n",
    "                                       \"Median Price 2 Bedroom\", \"Median Price 3 Bedroom\",\n",
    "                                       \"Median Price 4 Bedroom\", \"Median Price 5 Bedroom\",\n",
    "                                       \"Median List Price per SqFt Calculated\", \"Median List Price Calculated\"]]\n",
    "September_46219_Complete.to_csv(\"September_46219_Complete.csv\")"
   ]
  },
  {
   "cell_type": "markdown",
   "metadata": {},
   "source": [
    "# **October 46219**"
   ]
  },
  {
   "cell_type": "code",
   "execution_count": 145,
   "metadata": {},
   "outputs": [],
   "source": [
    "October_46219 = Indianapolis_Housing_46219.loc[Indianapolis_Housing_46219[\"Month\"]==10]\n",
    "\n",
    "\n",
    "October_46219 = October_46219[[\"Date\", \"Zip_Code\",\"Median List Price\", \"Median List Price per Square Foot\", \n",
    "                                  \"Median Market Value (Single Family)\", \"Median Price 1 Bedroom\",\n",
    "                                 \"Median Price 2 Bedroom\", \"Median Price 3 Bedroom\", \"Median Price 4 Bedroom\",\n",
    "                                 \"Median Price 5 Bedroom\", \"Year\", \"Month\"]]\n",
    "October_46219[\"Year_Integer\"] = October_46219[\"Year\"] - 1995\n",
    "\n",
    "#October_46219\n",
    "October46219_available = October_46219.loc[(October_46219[\"Year_Integer\"] >= 15) & (October_46219[\"Year_Integer\"] <=24)]\n",
    "#Isolate the data that we want to use to predict the filled in values...\n",
    "October46219_predictionData = October_46219.loc[(October_46219[\"Year_Integer\"]>=1)&(October_46219[\"Year_Integer\"]<=14)]\n",
    "October46219_predictionData = October46219_predictionData[[\"Median Market Value (Single Family)\", \"Year_Integer\", \"Median Price 3 Bedroom\"]]\n",
    "#October46219_predictionData\n",
    "#October_46219\n"
   ]
  },
  {
   "cell_type": "markdown",
   "metadata": {},
   "source": [
    "# **Median List Price per SqFt**"
   ]
  },
  {
   "cell_type": "code",
   "execution_count": 146,
   "metadata": {},
   "outputs": [
    {
     "name": "stdout",
     "output_type": "stream",
     "text": [
      "(10, 3) (10, 1)\n",
      "MSE: 0.02849553357844091, R2: 0.9729782227640564\n"
     ]
    }
   ],
   "source": [
    "#Create X and y values\n",
    "X = October46219_available[[\"Median Market Value (Single Family)\", \"Year_Integer\", \"Median Price 3 Bedroom\"]]\n",
    "y = October46219_available[\"Median List Price per Square Foot\"].values.reshape(-1, 1)\n",
    "print(X.shape, y.shape)\n",
    "#Create test/train data sets\n",
    "X_train, X_test, y_train, y_test = train_test_split(X, y, random_state=42)\n",
    "#X_train.head(9)\n",
    "\n",
    "X_scaler = StandardScaler().fit(X_train)\n",
    "y_scaler = StandardScaler().fit(y_train)\n",
    "X_train_scaled = X_scaler.transform(X_train)\n",
    "X_test_scaled = X_scaler.transform(X_test)\n",
    "y_train_scaled = y_scaler.transform(y_train)\n",
    "y_test_scaled = y_scaler.transform(y_test)\n",
    "\n",
    "model = LinearRegression()\n",
    "model.fit(X_train_scaled, y_train_scaled)\n",
    "predictions = model.predict(X_test_scaled)\n",
    "MSE = mean_squared_error(y_test_scaled, predictions)\n",
    "r2 = model.score(X_test_scaled, y_test_scaled)\n",
    "\n",
    "print(f\"MSE: {MSE}, R2: {r2}\")\n",
    "\n",
    "October46219_predictionData_scaled = X_scaler.transform(October46219_predictionData)\n",
    "\n",
    "MLPSqFt_October46219_predictions = model.predict(October46219_predictionData_scaled)\n",
    "MLPSqFt_October46219_predictions_actual = y_scaler.inverse_transform(MLPSqFt_October46219_predictions)\n",
    "#MLPSqFt_October46219_predictions_actual\n",
    "\n",
    "MLPSqFt_October46219_prediction_list = []\n",
    "for prediction in MLPSqFt_October46219_predictions_actual:\n",
    "    MLPSqFt_October46219_prediction_list.append(prediction[0])\n",
    "#prediction_list\n",
    "end = October_46219[\"Median List Price per Square Foot\"].to_list()\n",
    "end_final = end[14:25]\n",
    "#Combine into new list\n",
    "October_46219_MLPSqFt_new = MLPSqFt_October46219_prediction_list + end_final\n",
    "October_46219[\"Median List Price per SqFt Calculated\"] = October_46219_MLPSqFt_new\n",
    "#October_46219\n"
   ]
  },
  {
   "cell_type": "markdown",
   "metadata": {},
   "source": [
    "# **Median List Price**"
   ]
  },
  {
   "cell_type": "code",
   "execution_count": 147,
   "metadata": {},
   "outputs": [
    {
     "name": "stdout",
     "output_type": "stream",
     "text": [
      "(10, 3) (10, 1)\n",
      "MSE: 0.215088474742494, R2: 0.6950071207452748\n"
     ]
    }
   ],
   "source": [
    "#Create X and y values\n",
    "X = October46219_available[[\"Median Market Value (Single Family)\", \"Year_Integer\", \"Median Price 3 Bedroom\"]]\n",
    "y = October46219_available[\"Median List Price\"].values.reshape(-1, 1)\n",
    "print(X.shape, y.shape)\n",
    "#Create test/train data sets\n",
    "X_train, X_test, y_train, y_test = train_test_split(X, y, random_state=42)\n",
    "#X_train.head(9)\n",
    "\n",
    "X_scaler = StandardScaler().fit(X_train)\n",
    "y_scaler = StandardScaler().fit(y_train)\n",
    "X_train_scaled = X_scaler.transform(X_train)\n",
    "X_test_scaled = X_scaler.transform(X_test)\n",
    "y_train_scaled = y_scaler.transform(y_train)\n",
    "y_test_scaled = y_scaler.transform(y_test)\n",
    "\n",
    "model = LinearRegression()\n",
    "model.fit(X_train_scaled, y_train_scaled)\n",
    "predictions = model.predict(X_test_scaled)\n",
    "MSE = mean_squared_error(y_test_scaled, predictions)\n",
    "r2 = model.score(X_test_scaled, y_test_scaled)\n",
    "\n",
    "print(f\"MSE: {MSE}, R2: {r2}\")\n",
    "\n",
    "October46219_predictionData_scaled = X_scaler.transform(October46219_predictionData)\n",
    "\n",
    "MLP_October46219_predictions = model.predict(October46219_predictionData_scaled)\n",
    "MLP_October46219_predictions_actual = y_scaler.inverse_transform(MLP_October46219_predictions)\n",
    "#MLP_October46219_predictions_actual\n",
    "\n",
    "MLP_October46219_prediction_list = []\n",
    "for prediction in MLP_October46219_predictions_actual:\n",
    "    MLP_October46219_prediction_list.append(prediction[0])\n",
    "#prediction_list\n",
    "end = October_46219[\"Median List Price\"].to_list()\n",
    "end_final = end[14:25]\n",
    "#Combine into new list\n",
    "October_46219_MLP_new = MLP_October46219_prediction_list + end_final\n",
    "October_46219[\"Median List Price Calculated\"] = October_46219_MLP_new\n",
    "#October_46219\n"
   ]
  },
  {
   "cell_type": "markdown",
   "metadata": {},
   "source": [
    "# **Create October 46219 DataFrame**"
   ]
  },
  {
   "cell_type": "code",
   "execution_count": 148,
   "metadata": {},
   "outputs": [],
   "source": [
    "October_46219_Complete = October_46219[[\"Zip_Code\", \"Date\", \"Year\", \"Year_Integer\",\"Month\", \n",
    "                                        \"Median Market Value (Single Family)\", \"Median Price 1 Bedroom\",\n",
    "                                       \"Median Price 2 Bedroom\", \"Median Price 3 Bedroom\",\n",
    "                                       \"Median Price 4 Bedroom\", \"Median Price 5 Bedroom\",\n",
    "                                       \"Median List Price per SqFt Calculated\", \"Median List Price Calculated\"]]\n",
    "October_46219_Complete.to_csv(\"October_46219_Complete.csv\")\n"
   ]
  },
  {
   "cell_type": "markdown",
   "metadata": {},
   "source": [
    "# **November 46219**"
   ]
  },
  {
   "cell_type": "code",
   "execution_count": 149,
   "metadata": {},
   "outputs": [],
   "source": [
    "November_46219 = Indianapolis_Housing_46219.loc[Indianapolis_Housing_46219[\"Month\"]==11]\n",
    "\n",
    "\n",
    "November_46219 = November_46219[[\"Date\", \"Zip_Code\",\"Median List Price\", \"Median List Price per Square Foot\", \n",
    "                                  \"Median Market Value (Single Family)\", \"Median Price 1 Bedroom\",\n",
    "                                 \"Median Price 2 Bedroom\", \"Median Price 3 Bedroom\", \"Median Price 4 Bedroom\",\n",
    "                                 \"Median Price 5 Bedroom\", \"Year\", \"Month\"]]\n",
    "November_46219[\"Year_Integer\"] = November_46219[\"Year\"] - 1995\n",
    "\n",
    "#November_46219\n",
    "November46219_available = November_46219.loc[(November_46219[\"Year_Integer\"] >= 15) & (November_46219[\"Year_Integer\"] <=24)]\n",
    "#Isolate the data that we want to use to predict the filled in values...\n",
    "November46219_predictionData = November_46219.loc[(November_46219[\"Year_Integer\"]>=1)&(November_46219[\"Year_Integer\"]<=14)]\n",
    "November46219_predictionData = November46219_predictionData[[\"Median Market Value (Single Family)\", \"Year_Integer\", \"Median Price 3 Bedroom\"]]\n",
    "#November46219_predictionData\n",
    "#November_46219\n"
   ]
  },
  {
   "cell_type": "markdown",
   "metadata": {},
   "source": [
    "# **Median List Price per SqFt**"
   ]
  },
  {
   "cell_type": "code",
   "execution_count": 150,
   "metadata": {},
   "outputs": [
    {
     "name": "stdout",
     "output_type": "stream",
     "text": [
      "(10, 3) (10, 1)\n",
      "MSE: 0.06327253947700419, R2: 0.9304468380463145\n"
     ]
    }
   ],
   "source": [
    "#Create X and y values\n",
    "X = November46219_available[[\"Median Market Value (Single Family)\", \"Year_Integer\", \"Median Price 3 Bedroom\"]]\n",
    "y = November46219_available[\"Median List Price per Square Foot\"].values.reshape(-1, 1)\n",
    "print(X.shape, y.shape)\n",
    "#Create test/train data sets\n",
    "X_train, X_test, y_train, y_test = train_test_split(X, y, random_state=42)\n",
    "#X_train.head(9)\n",
    "\n",
    "X_scaler = StandardScaler().fit(X_train)\n",
    "y_scaler = StandardScaler().fit(y_train)\n",
    "X_train_scaled = X_scaler.transform(X_train)\n",
    "X_test_scaled = X_scaler.transform(X_test)\n",
    "y_train_scaled = y_scaler.transform(y_train)\n",
    "y_test_scaled = y_scaler.transform(y_test)\n",
    "\n",
    "model = LinearRegression()\n",
    "model.fit(X_train_scaled, y_train_scaled)\n",
    "predictions = model.predict(X_test_scaled)\n",
    "MSE = mean_squared_error(y_test_scaled, predictions)\n",
    "r2 = model.score(X_test_scaled, y_test_scaled)\n",
    "\n",
    "print(f\"MSE: {MSE}, R2: {r2}\")\n",
    "\n",
    "November46219_predictionData_scaled = X_scaler.transform(November46219_predictionData)\n",
    "\n",
    "MLPSqFt_November46219_predictions = model.predict(November46219_predictionData_scaled)\n",
    "MLPSqFt_November46219_predictions_actual = y_scaler.inverse_transform(MLPSqFt_November46219_predictions)\n",
    "#MLPSqFt_November46219_predictions_actual\n",
    "\n",
    "MLPSqFt_November46219_prediction_list = []\n",
    "for prediction in MLPSqFt_November46219_predictions_actual:\n",
    "    MLPSqFt_November46219_prediction_list.append(prediction[0])\n",
    "#prediction_list\n",
    "end = November_46219[\"Median List Price per Square Foot\"].to_list()\n",
    "end_final = end[14:25]\n",
    "#Combine into new list\n",
    "November_46219_MLPSqFt_new = MLPSqFt_November46219_prediction_list + end_final\n",
    "November_46219[\"Median List Price per SqFt Calculated\"] = November_46219_MLPSqFt_new\n",
    "#November_46219\n"
   ]
  },
  {
   "cell_type": "markdown",
   "metadata": {},
   "source": [
    "# **Median List Price**"
   ]
  },
  {
   "cell_type": "code",
   "execution_count": 151,
   "metadata": {},
   "outputs": [
    {
     "name": "stdout",
     "output_type": "stream",
     "text": [
      "(10, 3) (10, 1)\n",
      "MSE: 0.25862816279935064, R2: 0.5360978757293443\n"
     ]
    }
   ],
   "source": [
    "#Create X and y values\n",
    "X = November46219_available[[\"Median Market Value (Single Family)\", \"Year_Integer\", \"Median Price 3 Bedroom\"]]\n",
    "y = November46219_available[\"Median List Price\"].values.reshape(-1, 1)\n",
    "print(X.shape, y.shape)\n",
    "#Create test/train data sets\n",
    "X_train, X_test, y_train, y_test = train_test_split(X, y, random_state=42)\n",
    "#X_train.head(9)\n",
    "\n",
    "X_scaler = StandardScaler().fit(X_train)\n",
    "y_scaler = StandardScaler().fit(y_train)\n",
    "X_train_scaled = X_scaler.transform(X_train)\n",
    "X_test_scaled = X_scaler.transform(X_test)\n",
    "y_train_scaled = y_scaler.transform(y_train)\n",
    "y_test_scaled = y_scaler.transform(y_test)\n",
    "\n",
    "model = LinearRegression()\n",
    "model.fit(X_train_scaled, y_train_scaled)\n",
    "predictions = model.predict(X_test_scaled)\n",
    "MSE = mean_squared_error(y_test_scaled, predictions)\n",
    "r2 = model.score(X_test_scaled, y_test_scaled)\n",
    "\n",
    "print(f\"MSE: {MSE}, R2: {r2}\")\n",
    "\n",
    "November46219_predictionData_scaled = X_scaler.transform(November46219_predictionData)\n",
    "\n",
    "MLP_November46219_predictions = model.predict(November46219_predictionData_scaled)\n",
    "MLP_November46219_predictions_actual = y_scaler.inverse_transform(MLP_November46219_predictions)\n",
    "#MLP_November46219_predictions_actual\n",
    "\n",
    "MLP_November46219_prediction_list = []\n",
    "for prediction in MLP_November46219_predictions_actual:\n",
    "    MLP_November46219_prediction_list.append(prediction[0])\n",
    "#prediction_list\n",
    "end = November_46219[\"Median List Price\"].to_list()\n",
    "end_final = end[14:25]\n",
    "#Combine into new list\n",
    "November_46219_MLP_new = MLP_November46219_prediction_list + end_final\n",
    "November_46219[\"Median List Price Calculated\"] = end\n",
    "#November_46219\n"
   ]
  },
  {
   "cell_type": "markdown",
   "metadata": {},
   "source": [
    "# **Create November 46219 DataFrame**"
   ]
  },
  {
   "cell_type": "code",
   "execution_count": 152,
   "metadata": {},
   "outputs": [],
   "source": [
    "November_46219_Complete = November_46219[[\"Zip_Code\", \"Date\", \"Year\", \"Year_Integer\",\"Month\", \n",
    "                                        \"Median Market Value (Single Family)\", \"Median Price 1 Bedroom\",\n",
    "                                       \"Median Price 2 Bedroom\", \"Median Price 3 Bedroom\",\n",
    "                                       \"Median Price 4 Bedroom\", \"Median Price 5 Bedroom\",\n",
    "                                       \"Median List Price per SqFt Calculated\", \"Median List Price Calculated\"]]\n",
    "November_46219_Complete.to_csv(\"November_46219_Complete.csv\")\n"
   ]
  },
  {
   "cell_type": "markdown",
   "metadata": {},
   "source": [
    "# **December 46219**"
   ]
  },
  {
   "cell_type": "code",
   "execution_count": 153,
   "metadata": {},
   "outputs": [],
   "source": [
    "December_46219 = Indianapolis_Housing_46219.loc[Indianapolis_Housing_46219[\"Month\"]==12]\n",
    "\n",
    "\n",
    "December_46219 = December_46219[[\"Date\", \"Zip_Code\",\"Median List Price\", \"Median List Price per Square Foot\", \n",
    "                                  \"Median Market Value (Single Family)\", \"Median Price 1 Bedroom\",\n",
    "                                 \"Median Price 2 Bedroom\", \"Median Price 3 Bedroom\", \"Median Price 4 Bedroom\",\n",
    "                                 \"Median Price 5 Bedroom\", \"Year\", \"Month\"]]\n",
    "December_46219[\"Year_Integer\"] = December_46219[\"Year\"] - 1995\n",
    "\n",
    "#December_46219\n",
    "December46219_available = December_46219.loc[(December_46219[\"Year_Integer\"] >= 15) & (December_46219[\"Year_Integer\"] <=24)]\n",
    "#Isolate the data that we want to use to predict the filled in values...\n",
    "December46219_predictionData = December_46219.loc[(December_46219[\"Year_Integer\"]>=1)&(December_46219[\"Year_Integer\"]<=14)]\n",
    "December46219_predictionData = December46219_predictionData[[\"Median Market Value (Single Family)\", \"Year_Integer\", \"Median Price 3 Bedroom\"]]\n",
    "#December46219_predictionData\n",
    "#December_46219\n"
   ]
  },
  {
   "cell_type": "markdown",
   "metadata": {},
   "source": [
    "# **Median List Price per SqFt**"
   ]
  },
  {
   "cell_type": "code",
   "execution_count": 154,
   "metadata": {},
   "outputs": [
    {
     "name": "stdout",
     "output_type": "stream",
     "text": [
      "(10, 3) (10, 1)\n",
      "MSE: 0.032422899174303264, R2: 0.9718559120599918\n"
     ]
    }
   ],
   "source": [
    "#Create X and y values\n",
    "X = December46219_available[[\"Median Market Value (Single Family)\", \"Year_Integer\", \"Median Price 3 Bedroom\"]]\n",
    "y = December46219_available[\"Median List Price per Square Foot\"].values.reshape(-1, 1)\n",
    "print(X.shape, y.shape)\n",
    "#Create test/train data sets\n",
    "X_train, X_test, y_train, y_test = train_test_split(X, y, random_state=42)\n",
    "#X_train.head(9)\n",
    "\n",
    "X_scaler = StandardScaler().fit(X_train)\n",
    "y_scaler = StandardScaler().fit(y_train)\n",
    "X_train_scaled = X_scaler.transform(X_train)\n",
    "X_test_scaled = X_scaler.transform(X_test)\n",
    "y_train_scaled = y_scaler.transform(y_train)\n",
    "y_test_scaled = y_scaler.transform(y_test)\n",
    "\n",
    "model = LinearRegression()\n",
    "model.fit(X_train_scaled, y_train_scaled)\n",
    "predictions = model.predict(X_test_scaled)\n",
    "MSE = mean_squared_error(y_test_scaled, predictions)\n",
    "r2 = model.score(X_test_scaled, y_test_scaled)\n",
    "\n",
    "print(f\"MSE: {MSE}, R2: {r2}\")\n",
    "\n",
    "December46219_predictionData_scaled = X_scaler.transform(December46219_predictionData)\n",
    "\n",
    "MLPSqFt_December46219_predictions = model.predict(December46219_predictionData_scaled)\n",
    "MLPSqFt_December46219_predictions_actual = y_scaler.inverse_transform(MLPSqFt_December46219_predictions)\n",
    "#MLPSqFt_December46219_predictions_actual\n",
    "\n",
    "MLPSqFt_December46219_prediction_list = []\n",
    "for prediction in MLPSqFt_December46219_predictions_actual:\n",
    "    MLPSqFt_December46219_prediction_list.append(prediction[0])\n",
    "#prediction_list\n",
    "end = December_46219[\"Median List Price per Square Foot\"].to_list()\n",
    "end_final = end[14:25]\n",
    "#Combine into new list\n",
    "December_46219_MLPSqFt_new = MLPSqFt_December46219_prediction_list + end_final\n",
    "December_46219[\"Median List Price per SqFt Calculated\"] = December_46219_MLPSqFt_new\n",
    "#December_46219\n"
   ]
  },
  {
   "cell_type": "markdown",
   "metadata": {},
   "source": [
    "# **Median List Price**"
   ]
  },
  {
   "cell_type": "code",
   "execution_count": 155,
   "metadata": {},
   "outputs": [
    {
     "name": "stdout",
     "output_type": "stream",
     "text": [
      "(10, 3) (10, 1)\n",
      "MSE: 0.2689860089112572, R2: 0.42532046518517963\n"
     ]
    }
   ],
   "source": [
    "#Create X and y values\n",
    "X = December46219_available[[\"Median Market Value (Single Family)\", \"Year_Integer\", \"Median Price 3 Bedroom\"]]\n",
    "y = December46219_available[\"Median List Price\"].values.reshape(-1, 1)\n",
    "print(X.shape, y.shape)\n",
    "#Create test/train data sets\n",
    "X_train, X_test, y_train, y_test = train_test_split(X, y, random_state=42)\n",
    "#X_train.head(9)\n",
    "\n",
    "X_scaler = StandardScaler().fit(X_train)\n",
    "y_scaler = StandardScaler().fit(y_train)\n",
    "X_train_scaled = X_scaler.transform(X_train)\n",
    "X_test_scaled = X_scaler.transform(X_test)\n",
    "y_train_scaled = y_scaler.transform(y_train)\n",
    "y_test_scaled = y_scaler.transform(y_test)\n",
    "\n",
    "model = LinearRegression()\n",
    "model.fit(X_train_scaled, y_train_scaled)\n",
    "predictions = model.predict(X_test_scaled)\n",
    "MSE = mean_squared_error(y_test_scaled, predictions)\n",
    "r2 = model.score(X_test_scaled, y_test_scaled)\n",
    "\n",
    "print(f\"MSE: {MSE}, R2: {r2}\")\n",
    "\n",
    "December46219_predictionData_scaled = X_scaler.transform(December46219_predictionData)\n",
    "\n",
    "MLP_December46219_predictions = model.predict(December46219_predictionData_scaled)\n",
    "MLP_December46219_predictions_actual = y_scaler.inverse_transform(MLP_December46219_predictions)\n",
    "#MLP_December46219_predictions_actual\n",
    "\n",
    "MLP_December46219_prediction_list = []\n",
    "for prediction in MLP_December46219_predictions_actual:\n",
    "    MLP_December46219_prediction_list.append(prediction[0])\n",
    "#prediction_list\n",
    "end = December_46219[\"Median List Price\"].to_list()\n",
    "end_final = end[14:25]\n",
    "#Combine into new list\n",
    "December_46219_MLP_new = MLP_December46219_prediction_list + end_final\n",
    "December_46219[\"Median List Price Calculated\"] = end\n",
    "#December_46219\n"
   ]
  },
  {
   "cell_type": "markdown",
   "metadata": {},
   "source": [
    "# **Calculate December 46219 DataFrame**"
   ]
  },
  {
   "cell_type": "code",
   "execution_count": 156,
   "metadata": {},
   "outputs": [],
   "source": [
    "December_46219_Complete = December_46219[[\"Zip_Code\", \"Date\", \"Year\", \"Year_Integer\",\"Month\", \n",
    "                                        \"Median Market Value (Single Family)\", \"Median Price 1 Bedroom\",\n",
    "                                       \"Median Price 2 Bedroom\", \"Median Price 3 Bedroom\",\n",
    "                                       \"Median Price 4 Bedroom\", \"Median Price 5 Bedroom\",\n",
    "                                       \"Median List Price per SqFt Calculated\", \"Median List Price Calculated\"]]\n",
    "December_46219_Complete.to_csv(\"December_46219_Complete.csv\")"
   ]
  },
  {
   "cell_type": "code",
   "execution_count": null,
   "metadata": {},
   "outputs": [],
   "source": []
  },
  {
   "cell_type": "markdown",
   "metadata": {},
   "source": [
    "# **Zip Code 46227**"
   ]
  },
  {
   "cell_type": "code",
   "execution_count": null,
   "metadata": {},
   "outputs": [],
   "source": []
  },
  {
   "cell_type": "code",
   "execution_count": 157,
   "metadata": {},
   "outputs": [],
   "source": [
    "#Indianapolis_Housing = pd.read_csv(\"Indianapolis_Housing.csv\")\n",
    "#Isolate data for next zip code\n",
    "Indianapolis_Housing_46227 = Indianapolis_Housing.copy()\n",
    "Indianapolis_Housing_46227[\"Zip_Code\"] = Indianapolis_Housing_46227[\"Zip_Code\"].astype(str)\n",
    "Indianapolis_Housing_46227 = Indianapolis_Housing_46227.loc[Indianapolis_Housing_46227[\"Zip_Code\"] == '46227']\n",
    "Indianapolis_Housing_46227 = Indianapolis_Housing_46227[[\"Date\", \"Zip_Code\",\"Median List Price\", \"Median List Price per Square Foot\", \n",
    "                                  \"Median Market Value (Single Family)\", \"Median Price 1 Bedroom\",\n",
    "                                 \"Median Price 2 Bedroom\", \"Median Price 3 Bedroom\", \"Median Price 4 Bedroom\",\n",
    "                                 \"Median Price 5 Bedroom\", \"Year\", \"Month\"]]\n",
    "#Indianapolis_Housing_46227"
   ]
  },
  {
   "cell_type": "markdown",
   "metadata": {},
   "source": [
    "# **January 46227**"
   ]
  },
  {
   "cell_type": "code",
   "execution_count": 158,
   "metadata": {
    "scrolled": true
   },
   "outputs": [
    {
     "name": "stderr",
     "output_type": "stream",
     "text": [
      "/Users/allysontalyor/Applications/anaconda3/envs/PythonData/lib/python3.7/site-packages/ipykernel_launcher.py:2: SettingWithCopyWarning: \n",
      "A value is trying to be set on a copy of a slice from a DataFrame.\n",
      "Try using .loc[row_indexer,col_indexer] = value instead\n",
      "\n",
      "See the caveats in the documentation: http://pandas.pydata.org/pandas-docs/stable/user_guide/indexing.html#returning-a-view-versus-a-copy\n",
      "  \n"
     ]
    }
   ],
   "source": [
    "January_46227 = Indianapolis_Housing_46227.loc[Indianapolis_Housing_46227[\"Month\"]==1]\n",
    "January_46227[\"Year_Integer\"] = January_46227[\"Year\"] - 1996\n",
    "\n",
    "\n",
    "\n",
    "January46227_available = January_46227.loc[(January_46227[\"Year_Integer\"] >= 14) & (January_46227[\"Year_Integer\"] <=23)]\n",
    "#Isolate the data that we want to use to predict the filled in values...\n",
    "January46227_predictionData1 = January_46227.loc[(January_46227[\"Year_Integer\"]>=1)&(January_46227[\"Year_Integer\"]<=13)]\n",
    "January46227_predictionData2 = January_46227.loc[January_46227[\"Year_Integer\"] >= 24]\n",
    "January_predictionData3 = pd.concat([January46227_predictionData1,January46227_predictionData2])\n",
    "January46227_predictionData = January_predictionData3[[\"Median Market Value (Single Family)\", \"Median Price 1 Bedroom\", \n",
    "                              \"Median Price 2 Bedroom\", \"Median Price 3 Bedroom\", \"Median Price 4 Bedroom\",\n",
    "                             \"Median Price 5 Bedroom\", \"Year_Integer\"]]\n",
    "January46227_predictionData = January46227_predictionData[[\"Median Market Value (Single Family)\", \"Year_Integer\", \"Median Price 3 Bedroom\"]]\n",
    "#January46227_predictionData\n",
    "\n"
   ]
  },
  {
   "cell_type": "markdown",
   "metadata": {},
   "source": [
    "# **Median List Price per SqFt**"
   ]
  },
  {
   "cell_type": "code",
   "execution_count": 159,
   "metadata": {},
   "outputs": [
    {
     "name": "stdout",
     "output_type": "stream",
     "text": [
      "(10, 3) (10, 1)\n",
      "MSE: 0.20727101071834855, R2: 0.8480195091321149\n"
     ]
    },
    {
     "name": "stderr",
     "output_type": "stream",
     "text": [
      "/Users/allysontalyor/Applications/anaconda3/envs/PythonData/lib/python3.7/site-packages/ipykernel_launcher.py:41: SettingWithCopyWarning: \n",
      "A value is trying to be set on a copy of a slice from a DataFrame.\n",
      "Try using .loc[row_indexer,col_indexer] = value instead\n",
      "\n",
      "See the caveats in the documentation: http://pandas.pydata.org/pandas-docs/stable/user_guide/indexing.html#returning-a-view-versus-a-copy\n"
     ]
    }
   ],
   "source": [
    "#Create X and y values\n",
    "X = January46227_available[[\"Median Market Value (Single Family)\", \"Year_Integer\", \"Median Price 3 Bedroom\"]]\n",
    "y = January46227_available[\"Median List Price per Square Foot\"].values.reshape(-1, 1)\n",
    "print(X.shape, y.shape)\n",
    "#Create test/train data sets\n",
    "X_train, X_test, y_train, y_test = train_test_split(X, y, random_state=42)\n",
    "#X_train.head(9)\n",
    "\n",
    "X_scaler = StandardScaler().fit(X_train)\n",
    "y_scaler = StandardScaler().fit(y_train)\n",
    "X_train_scaled = X_scaler.transform(X_train)\n",
    "X_test_scaled = X_scaler.transform(X_test)\n",
    "y_train_scaled = y_scaler.transform(y_train)\n",
    "y_test_scaled = y_scaler.transform(y_test)\n",
    "\n",
    "model = LinearRegression()\n",
    "model.fit(X_train_scaled, y_train_scaled)\n",
    "predictions = model.predict(X_test_scaled)\n",
    "MSE = mean_squared_error(y_test_scaled, predictions)\n",
    "r2 = model.score(X_test_scaled, y_test_scaled)\n",
    "\n",
    "print(f\"MSE: {MSE}, R2: {r2}\")\n",
    "r_squared_MLPSqFt_46219.append(r2)\n",
    "\n",
    "January46227_predictionData_scaled = X_scaler.transform(January46227_predictionData)\n",
    "\n",
    "MLPSqFt_January46227_predictions = model.predict(January46227_predictionData_scaled)\n",
    "MLPSqFt_January46227_predictions_actual = y_scaler.inverse_transform(MLPSqFt_January46227_predictions)\n",
    "MLPSqFt_January46227_predictions_actual\n",
    "\n",
    "MLPSqFt_January46227_prediction_list = []\n",
    "for prediction in MLPSqFt_January46227_predictions_actual:\n",
    "    MLPSqFt_January46227_prediction_list.append(prediction[0])\n",
    "#prediction_list\n",
    "first_part = MLPSqFt_January46227_prediction_list[0:13]\n",
    "last_part = MLPSqFt_January46227_prediction_list[13:14]\n",
    "middle_part = January_46227[\"Median List Price per Square Foot\"].to_list()\n",
    "middle_part_final = middle_part[13:23]\n",
    "#Combine into new list\n",
    "January_46227_MLPSqFt_new = first_part + middle_part_final + last_part\n",
    "January_46227[\"Median List Price per SqFt Calculated\"] = January_46227_MLPSqFt_new\n",
    "#January_46227"
   ]
  },
  {
   "cell_type": "markdown",
   "metadata": {},
   "source": [
    "# **Median List Price**"
   ]
  },
  {
   "cell_type": "code",
   "execution_count": 160,
   "metadata": {},
   "outputs": [
    {
     "name": "stdout",
     "output_type": "stream",
     "text": [
      "(10, 3) (10, 1)\n",
      "MSE: 0.02904693258455655, R2: 0.9609304286731716\n"
     ]
    },
    {
     "name": "stderr",
     "output_type": "stream",
     "text": [
      "/Users/allysontalyor/Applications/anaconda3/envs/PythonData/lib/python3.7/site-packages/ipykernel_launcher.py:41: SettingWithCopyWarning: \n",
      "A value is trying to be set on a copy of a slice from a DataFrame.\n",
      "Try using .loc[row_indexer,col_indexer] = value instead\n",
      "\n",
      "See the caveats in the documentation: http://pandas.pydata.org/pandas-docs/stable/user_guide/indexing.html#returning-a-view-versus-a-copy\n"
     ]
    }
   ],
   "source": [
    "#Create X and y values\n",
    "X = January46227_available[[\"Median Market Value (Single Family)\", \"Year_Integer\", \"Median Price 3 Bedroom\"]]\n",
    "y = January46227_available[\"Median List Price\"].values.reshape(-1, 1)\n",
    "print(X.shape, y.shape)\n",
    "#Create test/train data sets\n",
    "X_train, X_test, y_train, y_test = train_test_split(X, y, random_state=42)\n",
    "#X_train.head(9)\n",
    "\n",
    "X_scaler = StandardScaler().fit(X_train)\n",
    "y_scaler = StandardScaler().fit(y_train)\n",
    "X_train_scaled = X_scaler.transform(X_train)\n",
    "X_test_scaled = X_scaler.transform(X_test)\n",
    "y_train_scaled = y_scaler.transform(y_train)\n",
    "y_test_scaled = y_scaler.transform(y_test)\n",
    "\n",
    "model = LinearRegression()\n",
    "model.fit(X_train_scaled, y_train_scaled)\n",
    "predictions = model.predict(X_test_scaled)\n",
    "MSE = mean_squared_error(y_test_scaled, predictions)\n",
    "r2 = model.score(X_test_scaled, y_test_scaled)\n",
    "\n",
    "print(f\"MSE: {MSE}, R2: {r2}\")\n",
    "r_squared_MLP_46219.append(r2)\n",
    "\n",
    "January46227_predictionData_scaled = X_scaler.transform(January46227_predictionData)\n",
    "\n",
    "MLP_January46227_predictions = model.predict(January46227_predictionData_scaled)\n",
    "MLP_January46227_predictions_actual = y_scaler.inverse_transform(MLP_January46227_predictions)\n",
    "MLP_January46227_predictions_actual\n",
    "\n",
    "MLP_January46227_prediction_list = []\n",
    "for prediction in MLP_January46227_predictions_actual:\n",
    "    MLP_January46227_prediction_list.append(prediction[0])\n",
    "#prediction_list\n",
    "first_part = MLP_January46227_prediction_list[0:13]\n",
    "last_part = MLP_January46227_prediction_list[13:14]\n",
    "middle_part = January_46227[\"Median List Price\"].to_list()\n",
    "middle_part_final = middle_part[13:23]\n",
    "#Combine into new list\n",
    "January_46227_MLP_new = first_part + middle_part_final + last_part\n",
    "January_46227[\"Median List Price Calculated\"] = January_46227_MLP_new\n",
    "#January_46227"
   ]
  },
  {
   "cell_type": "markdown",
   "metadata": {},
   "source": [
    "# **Create January 46227 DataFrame**"
   ]
  },
  {
   "cell_type": "code",
   "execution_count": 161,
   "metadata": {},
   "outputs": [],
   "source": [
    "January_46227_Complete = January_46227[[\"Zip_Code\", \"Date\", \"Year\", \"Year_Integer\",\"Month\", \n",
    "                                        \"Median Market Value (Single Family)\", \"Median Price 1 Bedroom\",\n",
    "                                       \"Median Price 2 Bedroom\", \"Median Price 3 Bedroom\",\n",
    "                                       \"Median Price 4 Bedroom\", \"Median Price 5 Bedroom\",\n",
    "                                       \"Median List Price per SqFt Calculated\", \"Median List Price Calculated\"]]\n",
    "January_46227_Complete.to_csv(\"January_46227_Complete.csv\")"
   ]
  },
  {
   "cell_type": "markdown",
   "metadata": {},
   "source": [
    "# **February 46227**"
   ]
  },
  {
   "cell_type": "code",
   "execution_count": 162,
   "metadata": {},
   "outputs": [
    {
     "name": "stderr",
     "output_type": "stream",
     "text": [
      "/Users/allysontalyor/Applications/anaconda3/envs/PythonData/lib/python3.7/site-packages/ipykernel_launcher.py:2: SettingWithCopyWarning: \n",
      "A value is trying to be set on a copy of a slice from a DataFrame.\n",
      "Try using .loc[row_indexer,col_indexer] = value instead\n",
      "\n",
      "See the caveats in the documentation: http://pandas.pydata.org/pandas-docs/stable/user_guide/indexing.html#returning-a-view-versus-a-copy\n",
      "  \n"
     ]
    }
   ],
   "source": [
    "February_46227 = Indianapolis_Housing_46227.loc[Indianapolis_Housing_46227[\"Month\"]==2]\n",
    "February_46227[\"Year_Integer\"] = February_46227[\"Year\"] - 1996\n",
    "\n",
    "\n",
    "\n",
    "February46227_available = February_46227.loc[(February_46227[\"Year_Integer\"] >= 14) & (February_46227[\"Year_Integer\"] <=23)]\n",
    "#Isolate the data that we want to use to predict the filled in values...\n",
    "February46227_predictionData1 = February_46227.loc[(February_46227[\"Year_Integer\"]>=1)&(February_46227[\"Year_Integer\"]<=13)]\n",
    "February46227_predictionData2 = February_46227.loc[February_46227[\"Year_Integer\"] >= 24]\n",
    "February_predictionData3 = pd.concat([February46227_predictionData1,February46227_predictionData2])\n",
    "February46227_predictionData = February_predictionData3[[\"Median Market Value (Single Family)\", \"Median Price 1 Bedroom\", \n",
    "                              \"Median Price 2 Bedroom\", \"Median Price 3 Bedroom\", \"Median Price 4 Bedroom\",\n",
    "                             \"Median Price 5 Bedroom\", \"Year_Integer\"]]\n",
    "February46227_predictionData = February46227_predictionData[[\"Median Market Value (Single Family)\", \"Year_Integer\", \"Median Price 3 Bedroom\"]]\n",
    "#February46227_predictionData\n"
   ]
  },
  {
   "cell_type": "markdown",
   "metadata": {},
   "source": [
    "# **Median List Price per SqFt**"
   ]
  },
  {
   "cell_type": "code",
   "execution_count": 163,
   "metadata": {},
   "outputs": [
    {
     "name": "stdout",
     "output_type": "stream",
     "text": [
      "(10, 3) (10, 1)\n",
      "MSE: 0.2244126071776389, R2: 0.8384656334278878\n"
     ]
    },
    {
     "name": "stderr",
     "output_type": "stream",
     "text": [
      "/Users/allysontalyor/Applications/anaconda3/envs/PythonData/lib/python3.7/site-packages/ipykernel_launcher.py:41: SettingWithCopyWarning: \n",
      "A value is trying to be set on a copy of a slice from a DataFrame.\n",
      "Try using .loc[row_indexer,col_indexer] = value instead\n",
      "\n",
      "See the caveats in the documentation: http://pandas.pydata.org/pandas-docs/stable/user_guide/indexing.html#returning-a-view-versus-a-copy\n"
     ]
    }
   ],
   "source": [
    "#Create X and y values\n",
    "X = February46227_available[[\"Median Market Value (Single Family)\", \"Year_Integer\", \"Median Price 3 Bedroom\"]]\n",
    "y = February46227_available[\"Median List Price per Square Foot\"].values.reshape(-1, 1)\n",
    "print(X.shape, y.shape)\n",
    "#Create test/train data sets\n",
    "X_train, X_test, y_train, y_test = train_test_split(X, y, random_state=42)\n",
    "#X_train.head(9)\n",
    "\n",
    "X_scaler = StandardScaler().fit(X_train)\n",
    "y_scaler = StandardScaler().fit(y_train)\n",
    "X_train_scaled = X_scaler.transform(X_train)\n",
    "X_test_scaled = X_scaler.transform(X_test)\n",
    "y_train_scaled = y_scaler.transform(y_train)\n",
    "y_test_scaled = y_scaler.transform(y_test)\n",
    "\n",
    "model = LinearRegression()\n",
    "model.fit(X_train_scaled, y_train_scaled)\n",
    "predictions = model.predict(X_test_scaled)\n",
    "MSE = mean_squared_error(y_test_scaled, predictions)\n",
    "r2 = model.score(X_test_scaled, y_test_scaled)\n",
    "\n",
    "print(f\"MSE: {MSE}, R2: {r2}\")\n",
    "r_squared_MLPSqFt_46219.append(r2)\n",
    "\n",
    "February46227_predictionData_scaled = X_scaler.transform(February46227_predictionData)\n",
    "\n",
    "MLPSqFt_February46227_predictions = model.predict(February46227_predictionData_scaled)\n",
    "MLPSqFt_February46227_predictions_actual = y_scaler.inverse_transform(MLPSqFt_February46227_predictions)\n",
    "MLPSqFt_February46227_predictions_actual\n",
    "\n",
    "MLPSqFt_February46227_prediction_list = []\n",
    "for prediction in MLPSqFt_February46227_predictions_actual:\n",
    "    MLPSqFt_February46227_prediction_list.append(prediction[0])\n",
    "#prediction_list\n",
    "first_part = MLPSqFt_February46227_prediction_list[0:13]\n",
    "last_part = MLPSqFt_February46227_prediction_list[13:14]\n",
    "middle_part = February_46227[\"Median List Price per Square Foot\"].to_list()\n",
    "middle_part_final = middle_part[13:23]\n",
    "#Combine into new list\n",
    "February_46227_MLPSqFt_new = first_part + middle_part_final + last_part\n",
    "February_46227[\"Median List Price per SqFt Calculated\"] = February_46227_MLPSqFt_new\n",
    "#February_46227\n"
   ]
  },
  {
   "cell_type": "markdown",
   "metadata": {},
   "source": [
    "# **Median List Price**"
   ]
  },
  {
   "cell_type": "code",
   "execution_count": 164,
   "metadata": {},
   "outputs": [
    {
     "name": "stdout",
     "output_type": "stream",
     "text": [
      "(10, 3) (10, 1)\n",
      "MSE: 0.0025417415100233106, R2: 0.9962261214269018\n"
     ]
    },
    {
     "name": "stderr",
     "output_type": "stream",
     "text": [
      "/Users/allysontalyor/Applications/anaconda3/envs/PythonData/lib/python3.7/site-packages/ipykernel_launcher.py:41: SettingWithCopyWarning: \n",
      "A value is trying to be set on a copy of a slice from a DataFrame.\n",
      "Try using .loc[row_indexer,col_indexer] = value instead\n",
      "\n",
      "See the caveats in the documentation: http://pandas.pydata.org/pandas-docs/stable/user_guide/indexing.html#returning-a-view-versus-a-copy\n"
     ]
    }
   ],
   "source": [
    "#Create X and y values\n",
    "X = February46227_available[[\"Median Market Value (Single Family)\", \"Year_Integer\", \"Median Price 3 Bedroom\"]]\n",
    "y = February46227_available[\"Median List Price\"].values.reshape(-1, 1)\n",
    "print(X.shape, y.shape)\n",
    "#Create test/train data sets\n",
    "X_train, X_test, y_train, y_test = train_test_split(X, y, random_state=42)\n",
    "#X_train.head(9)\n",
    "\n",
    "X_scaler = StandardScaler().fit(X_train)\n",
    "y_scaler = StandardScaler().fit(y_train)\n",
    "X_train_scaled = X_scaler.transform(X_train)\n",
    "X_test_scaled = X_scaler.transform(X_test)\n",
    "y_train_scaled = y_scaler.transform(y_train)\n",
    "y_test_scaled = y_scaler.transform(y_test)\n",
    "\n",
    "model = LinearRegression()\n",
    "model.fit(X_train_scaled, y_train_scaled)\n",
    "predictions = model.predict(X_test_scaled)\n",
    "MSE = mean_squared_error(y_test_scaled, predictions)\n",
    "r2 = model.score(X_test_scaled, y_test_scaled)\n",
    "\n",
    "print(f\"MSE: {MSE}, R2: {r2}\")\n",
    "r_squared_MLP_46219.append(r2)\n",
    "\n",
    "February46227_predictionData_scaled = X_scaler.transform(February46227_predictionData)\n",
    "\n",
    "MLP_February46227_predictions = model.predict(February46227_predictionData_scaled)\n",
    "MLP_February46227_predictions_actual = y_scaler.inverse_transform(MLP_February46227_predictions)\n",
    "MLP_February46227_predictions_actual\n",
    "\n",
    "MLP_February46227_prediction_list = []\n",
    "for prediction in MLP_February46227_predictions_actual:\n",
    "    MLP_February46227_prediction_list.append(prediction[0])\n",
    "#prediction_list\n",
    "first_part = MLP_February46227_prediction_list[0:13]\n",
    "last_part = MLP_February46227_prediction_list[13:14]\n",
    "middle_part = February_46227[\"Median List Price\"].to_list()\n",
    "middle_part_final = middle_part[13:23]\n",
    "#Combine into new list\n",
    "February_46227_MLP_new = first_part + middle_part_final + last_part\n",
    "February_46227[\"Median List Price Calculated\"] = February_46227_MLP_new\n",
    "#February_46227\n"
   ]
  },
  {
   "cell_type": "markdown",
   "metadata": {},
   "source": [
    "#  **Create February 46227 DataFrame**"
   ]
  },
  {
   "cell_type": "code",
   "execution_count": 165,
   "metadata": {},
   "outputs": [],
   "source": [
    "February_46227_Complete = February_46227[[\"Zip_Code\", \"Date\", \"Year\", \"Year_Integer\",\"Month\", \n",
    "                                        \"Median Market Value (Single Family)\", \"Median Price 1 Bedroom\",\n",
    "                                       \"Median Price 2 Bedroom\", \"Median Price 3 Bedroom\",\n",
    "                                       \"Median Price 4 Bedroom\", \"Median Price 5 Bedroom\",\n",
    "                                       \"Median List Price per SqFt Calculated\", \"Median List Price Calculated\"]]\n",
    "\n",
    "February_46227_Complete.to_csv(\"February_46227_Complete.csv\")"
   ]
  },
  {
   "cell_type": "markdown",
   "metadata": {},
   "source": [
    "# **March 46227**"
   ]
  },
  {
   "cell_type": "code",
   "execution_count": 166,
   "metadata": {},
   "outputs": [
    {
     "name": "stderr",
     "output_type": "stream",
     "text": [
      "/Users/allysontalyor/Applications/anaconda3/envs/PythonData/lib/python3.7/site-packages/ipykernel_launcher.py:2: SettingWithCopyWarning: \n",
      "A value is trying to be set on a copy of a slice from a DataFrame.\n",
      "Try using .loc[row_indexer,col_indexer] = value instead\n",
      "\n",
      "See the caveats in the documentation: http://pandas.pydata.org/pandas-docs/stable/user_guide/indexing.html#returning-a-view-versus-a-copy\n",
      "  \n"
     ]
    }
   ],
   "source": [
    "March_46227 = Indianapolis_Housing_46227.loc[Indianapolis_Housing_46227[\"Month\"]==3]\n",
    "March_46227[\"Year_Integer\"] = March_46227[\"Year\"] - 1996\n",
    "\n",
    "\n",
    "\n",
    "March46227_available = March_46227.loc[(March_46227[\"Year_Integer\"] >= 14) & (March_46227[\"Year_Integer\"] <=23)]\n",
    "#Isolate the data that we want to use to predict the filled in values...\n",
    "March46227_predictionData1 = March_46227.loc[(March_46227[\"Year_Integer\"]>=1)&(March_46227[\"Year_Integer\"]<=13)]\n",
    "March46227_predictionData2 = March_46227.loc[March_46227[\"Year_Integer\"] >= 24]\n",
    "March_predictionData3 = pd.concat([March46227_predictionData1,March46227_predictionData2])\n",
    "March46227_predictionData = March_predictionData3[[\"Median Market Value (Single Family)\", \"Median Price 1 Bedroom\", \n",
    "                              \"Median Price 2 Bedroom\", \"Median Price 3 Bedroom\", \"Median Price 4 Bedroom\",\n",
    "                             \"Median Price 5 Bedroom\", \"Year_Integer\"]]\n",
    "March46227_predictionData = March46227_predictionData[[\"Median Market Value (Single Family)\", \"Year_Integer\", \"Median Price 3 Bedroom\"]]\n",
    "#March46227_predictionData\n"
   ]
  },
  {
   "cell_type": "markdown",
   "metadata": {},
   "source": [
    "# **Median List Price per SqFt**"
   ]
  },
  {
   "cell_type": "code",
   "execution_count": 167,
   "metadata": {},
   "outputs": [
    {
     "name": "stdout",
     "output_type": "stream",
     "text": [
      "(10, 3) (10, 1)\n",
      "MSE: 0.05369742915907155, R2: 0.9513680387911249\n"
     ]
    },
    {
     "name": "stderr",
     "output_type": "stream",
     "text": [
      "/Users/allysontalyor/Applications/anaconda3/envs/PythonData/lib/python3.7/site-packages/ipykernel_launcher.py:41: SettingWithCopyWarning: \n",
      "A value is trying to be set on a copy of a slice from a DataFrame.\n",
      "Try using .loc[row_indexer,col_indexer] = value instead\n",
      "\n",
      "See the caveats in the documentation: http://pandas.pydata.org/pandas-docs/stable/user_guide/indexing.html#returning-a-view-versus-a-copy\n"
     ]
    }
   ],
   "source": [
    "#Create X and y values\n",
    "X = March46227_available[[\"Median Market Value (Single Family)\", \"Year_Integer\", \"Median Price 3 Bedroom\"]]\n",
    "y = March46227_available[\"Median List Price per Square Foot\"].values.reshape(-1, 1)\n",
    "print(X.shape, y.shape)\n",
    "#Create test/train data sets\n",
    "X_train, X_test, y_train, y_test = train_test_split(X, y, random_state=42)\n",
    "#X_train.head(9)\n",
    "\n",
    "X_scaler = StandardScaler().fit(X_train)\n",
    "y_scaler = StandardScaler().fit(y_train)\n",
    "X_train_scaled = X_scaler.transform(X_train)\n",
    "X_test_scaled = X_scaler.transform(X_test)\n",
    "y_train_scaled = y_scaler.transform(y_train)\n",
    "y_test_scaled = y_scaler.transform(y_test)\n",
    "\n",
    "model = LinearRegression()\n",
    "model.fit(X_train_scaled, y_train_scaled)\n",
    "predictions = model.predict(X_test_scaled)\n",
    "MSE = mean_squared_error(y_test_scaled, predictions)\n",
    "r2 = model.score(X_test_scaled, y_test_scaled)\n",
    "\n",
    "print(f\"MSE: {MSE}, R2: {r2}\")\n",
    "r_squared_MLPSqFt_46219.append(r2)\n",
    "\n",
    "March46227_predictionData_scaled = X_scaler.transform(March46227_predictionData)\n",
    "\n",
    "MLPSqFt_March46227_predictions = model.predict(March46227_predictionData_scaled)\n",
    "MLPSqFt_March46227_predictions_actual = y_scaler.inverse_transform(MLPSqFt_March46227_predictions)\n",
    "MLPSqFt_March46227_predictions_actual\n",
    "\n",
    "MLPSqFt_March46227_prediction_list = []\n",
    "for prediction in MLPSqFt_March46227_predictions_actual:\n",
    "    MLPSqFt_March46227_prediction_list.append(prediction[0])\n",
    "#prediction_list\n",
    "first_part = MLPSqFt_March46227_prediction_list[0:13]\n",
    "last_part = MLPSqFt_March46227_prediction_list[13:14]\n",
    "middle_part = March_46227[\"Median List Price per Square Foot\"].to_list()\n",
    "middle_part_final = middle_part[13:23]\n",
    "#Combine into new list\n",
    "March_46227_MLPSqFt_new = first_part + middle_part_final + last_part\n",
    "March_46227[\"Median List Price per SqFt Calculated\"] = March_46227_MLPSqFt_new\n",
    "#March_46227\n"
   ]
  },
  {
   "cell_type": "markdown",
   "metadata": {},
   "source": [
    "# **Median List Price**"
   ]
  },
  {
   "cell_type": "code",
   "execution_count": 168,
   "metadata": {},
   "outputs": [
    {
     "name": "stdout",
     "output_type": "stream",
     "text": [
      "(10, 3) (10, 1)\n",
      "MSE: 0.022548567528440755, R2: 0.9656768440620946\n"
     ]
    },
    {
     "name": "stderr",
     "output_type": "stream",
     "text": [
      "/Users/allysontalyor/Applications/anaconda3/envs/PythonData/lib/python3.7/site-packages/ipykernel_launcher.py:41: SettingWithCopyWarning: \n",
      "A value is trying to be set on a copy of a slice from a DataFrame.\n",
      "Try using .loc[row_indexer,col_indexer] = value instead\n",
      "\n",
      "See the caveats in the documentation: http://pandas.pydata.org/pandas-docs/stable/user_guide/indexing.html#returning-a-view-versus-a-copy\n"
     ]
    }
   ],
   "source": [
    "#Create X and y values\n",
    "X = March46227_available[[\"Median Market Value (Single Family)\", \"Year_Integer\", \"Median Price 3 Bedroom\"]]\n",
    "y = March46227_available[\"Median List Price\"].values.reshape(-1, 1)\n",
    "print(X.shape, y.shape)\n",
    "#Create test/train data sets\n",
    "X_train, X_test, y_train, y_test = train_test_split(X, y, random_state=42)\n",
    "#X_train.head(9)\n",
    "\n",
    "X_scaler = StandardScaler().fit(X_train)\n",
    "y_scaler = StandardScaler().fit(y_train)\n",
    "X_train_scaled = X_scaler.transform(X_train)\n",
    "X_test_scaled = X_scaler.transform(X_test)\n",
    "y_train_scaled = y_scaler.transform(y_train)\n",
    "y_test_scaled = y_scaler.transform(y_test)\n",
    "\n",
    "model = LinearRegression()\n",
    "model.fit(X_train_scaled, y_train_scaled)\n",
    "predictions = model.predict(X_test_scaled)\n",
    "MSE = mean_squared_error(y_test_scaled, predictions)\n",
    "r2 = model.score(X_test_scaled, y_test_scaled)\n",
    "\n",
    "print(f\"MSE: {MSE}, R2: {r2}\")\n",
    "r_squared_MLP_46219.append(r2)\n",
    "\n",
    "March46227_predictionData_scaled = X_scaler.transform(March46227_predictionData)\n",
    "\n",
    "MLP_March46227_predictions = model.predict(March46227_predictionData_scaled)\n",
    "MLP_March46227_predictions_actual = y_scaler.inverse_transform(MLP_March46227_predictions)\n",
    "MLP_March46227_predictions_actual\n",
    "\n",
    "MLP_March46227_prediction_list = []\n",
    "for prediction in MLP_March46227_predictions_actual:\n",
    "    MLP_March46227_prediction_list.append(prediction[0])\n",
    "#prediction_list\n",
    "first_part = MLP_March46227_prediction_list[0:13]\n",
    "last_part = MLP_March46227_prediction_list[13:14]\n",
    "middle_part = March_46227[\"Median List Price\"].to_list()\n",
    "middle_part_final = middle_part[13:23]\n",
    "#Combine into new list\n",
    "March_46227_MLP_new = first_part + middle_part_final + last_part\n",
    "March_46227[\"Median List Price Calculated\"] = March_46227_MLP_new\n",
    "#March_46227\n"
   ]
  },
  {
   "cell_type": "markdown",
   "metadata": {},
   "source": [
    "# **Create March 46227 DataFrame**"
   ]
  },
  {
   "cell_type": "code",
   "execution_count": 169,
   "metadata": {},
   "outputs": [],
   "source": [
    "March_46227_Complete = March_46227[[\"Zip_Code\", \"Date\", \"Year\", \"Year_Integer\",\"Month\", \n",
    "                                        \"Median Market Value (Single Family)\", \"Median Price 1 Bedroom\",\n",
    "                                       \"Median Price 2 Bedroom\", \"Median Price 3 Bedroom\",\n",
    "                                       \"Median Price 4 Bedroom\", \"Median Price 5 Bedroom\",\n",
    "                                       \"Median List Price per SqFt Calculated\", \"Median List Price Calculated\"]]\n",
    "March_46227_Complete.to_csv(\"March_46227_Complete.csv\")"
   ]
  },
  {
   "cell_type": "markdown",
   "metadata": {},
   "source": [
    "# **April 46227**"
   ]
  },
  {
   "cell_type": "code",
   "execution_count": 170,
   "metadata": {
    "scrolled": true
   },
   "outputs": [
    {
     "data": {
      "text/html": [
       "<div>\n",
       "<style scoped>\n",
       "    .dataframe tbody tr th:only-of-type {\n",
       "        vertical-align: middle;\n",
       "    }\n",
       "\n",
       "    .dataframe tbody tr th {\n",
       "        vertical-align: top;\n",
       "    }\n",
       "\n",
       "    .dataframe thead th {\n",
       "        text-align: right;\n",
       "    }\n",
       "</style>\n",
       "<table border=\"1\" class=\"dataframe\">\n",
       "  <thead>\n",
       "    <tr style=\"text-align: right;\">\n",
       "      <th></th>\n",
       "      <th>Date</th>\n",
       "      <th>Zip_Code</th>\n",
       "      <th>Median List Price</th>\n",
       "      <th>Median List Price per Square Foot</th>\n",
       "      <th>Median Market Value (Single Family)</th>\n",
       "      <th>Median Price 1 Bedroom</th>\n",
       "      <th>Median Price 2 Bedroom</th>\n",
       "      <th>Median Price 3 Bedroom</th>\n",
       "      <th>Median Price 4 Bedroom</th>\n",
       "      <th>Median Price 5 Bedroom</th>\n",
       "      <th>Year</th>\n",
       "      <th>Month</th>\n",
       "      <th>Year_Integer</th>\n",
       "    </tr>\n",
       "  </thead>\n",
       "  <tbody>\n",
       "    <tr>\n",
       "      <th>2746</th>\n",
       "      <td>1996-04-30</td>\n",
       "      <td>46227</td>\n",
       "      <td>NaN</td>\n",
       "      <td>NaN</td>\n",
       "      <td>105100.0</td>\n",
       "      <td>80200.0</td>\n",
       "      <td>86500.0</td>\n",
       "      <td>104600.0</td>\n",
       "      <td>133000.0</td>\n",
       "      <td>NaN</td>\n",
       "      <td>1996</td>\n",
       "      <td>4</td>\n",
       "      <td>1</td>\n",
       "    </tr>\n",
       "    <tr>\n",
       "      <th>2758</th>\n",
       "      <td>1997-04-30</td>\n",
       "      <td>46227</td>\n",
       "      <td>NaN</td>\n",
       "      <td>NaN</td>\n",
       "      <td>87000.0</td>\n",
       "      <td>69000.0</td>\n",
       "      <td>73900.0</td>\n",
       "      <td>88000.0</td>\n",
       "      <td>122700.0</td>\n",
       "      <td>NaN</td>\n",
       "      <td>1997</td>\n",
       "      <td>4</td>\n",
       "      <td>2</td>\n",
       "    </tr>\n",
       "    <tr>\n",
       "      <th>2770</th>\n",
       "      <td>1998-04-30</td>\n",
       "      <td>46227</td>\n",
       "      <td>NaN</td>\n",
       "      <td>NaN</td>\n",
       "      <td>93500.0</td>\n",
       "      <td>67400.0</td>\n",
       "      <td>74400.0</td>\n",
       "      <td>94800.0</td>\n",
       "      <td>126800.0</td>\n",
       "      <td>NaN</td>\n",
       "      <td>1998</td>\n",
       "      <td>4</td>\n",
       "      <td>3</td>\n",
       "    </tr>\n",
       "    <tr>\n",
       "      <th>2782</th>\n",
       "      <td>1999-04-30</td>\n",
       "      <td>46227</td>\n",
       "      <td>NaN</td>\n",
       "      <td>NaN</td>\n",
       "      <td>98700.0</td>\n",
       "      <td>67100.0</td>\n",
       "      <td>76800.0</td>\n",
       "      <td>99800.0</td>\n",
       "      <td>124800.0</td>\n",
       "      <td>NaN</td>\n",
       "      <td>1999</td>\n",
       "      <td>4</td>\n",
       "      <td>4</td>\n",
       "    </tr>\n",
       "    <tr>\n",
       "      <th>2794</th>\n",
       "      <td>2000-04-30</td>\n",
       "      <td>46227</td>\n",
       "      <td>NaN</td>\n",
       "      <td>NaN</td>\n",
       "      <td>87522.0</td>\n",
       "      <td>52469.0</td>\n",
       "      <td>66598.0</td>\n",
       "      <td>89552.0</td>\n",
       "      <td>106307.0</td>\n",
       "      <td>137176.0</td>\n",
       "      <td>2000</td>\n",
       "      <td>4</td>\n",
       "      <td>5</td>\n",
       "    </tr>\n",
       "    <tr>\n",
       "      <th>2806</th>\n",
       "      <td>2001-04-30</td>\n",
       "      <td>46227</td>\n",
       "      <td>NaN</td>\n",
       "      <td>NaN</td>\n",
       "      <td>95297.0</td>\n",
       "      <td>49775.0</td>\n",
       "      <td>71181.0</td>\n",
       "      <td>96925.0</td>\n",
       "      <td>118735.0</td>\n",
       "      <td>142606.0</td>\n",
       "      <td>2001</td>\n",
       "      <td>4</td>\n",
       "      <td>6</td>\n",
       "    </tr>\n",
       "    <tr>\n",
       "      <th>2818</th>\n",
       "      <td>2002-04-30</td>\n",
       "      <td>46227</td>\n",
       "      <td>NaN</td>\n",
       "      <td>NaN</td>\n",
       "      <td>97769.0</td>\n",
       "      <td>52043.0</td>\n",
       "      <td>75358.0</td>\n",
       "      <td>99407.0</td>\n",
       "      <td>118497.0</td>\n",
       "      <td>140978.0</td>\n",
       "      <td>2002</td>\n",
       "      <td>4</td>\n",
       "      <td>7</td>\n",
       "    </tr>\n",
       "    <tr>\n",
       "      <th>2830</th>\n",
       "      <td>2003-04-30</td>\n",
       "      <td>46227</td>\n",
       "      <td>NaN</td>\n",
       "      <td>NaN</td>\n",
       "      <td>97521.0</td>\n",
       "      <td>52084.0</td>\n",
       "      <td>73568.0</td>\n",
       "      <td>99474.0</td>\n",
       "      <td>118730.0</td>\n",
       "      <td>143157.0</td>\n",
       "      <td>2003</td>\n",
       "      <td>4</td>\n",
       "      <td>8</td>\n",
       "    </tr>\n",
       "    <tr>\n",
       "      <th>2842</th>\n",
       "      <td>2004-04-30</td>\n",
       "      <td>46227</td>\n",
       "      <td>NaN</td>\n",
       "      <td>NaN</td>\n",
       "      <td>99534.0</td>\n",
       "      <td>55559.0</td>\n",
       "      <td>72610.0</td>\n",
       "      <td>101697.0</td>\n",
       "      <td>118536.0</td>\n",
       "      <td>144300.0</td>\n",
       "      <td>2004</td>\n",
       "      <td>4</td>\n",
       "      <td>9</td>\n",
       "    </tr>\n",
       "    <tr>\n",
       "      <th>2854</th>\n",
       "      <td>2005-04-30</td>\n",
       "      <td>46227</td>\n",
       "      <td>NaN</td>\n",
       "      <td>NaN</td>\n",
       "      <td>108546.0</td>\n",
       "      <td>59202.0</td>\n",
       "      <td>77202.0</td>\n",
       "      <td>109195.0</td>\n",
       "      <td>130112.0</td>\n",
       "      <td>158045.0</td>\n",
       "      <td>2005</td>\n",
       "      <td>4</td>\n",
       "      <td>10</td>\n",
       "    </tr>\n",
       "    <tr>\n",
       "      <th>2866</th>\n",
       "      <td>2006-04-30</td>\n",
       "      <td>46227</td>\n",
       "      <td>NaN</td>\n",
       "      <td>NaN</td>\n",
       "      <td>112200.0</td>\n",
       "      <td>61108.0</td>\n",
       "      <td>79136.0</td>\n",
       "      <td>112955.0</td>\n",
       "      <td>132274.0</td>\n",
       "      <td>157304.0</td>\n",
       "      <td>2006</td>\n",
       "      <td>4</td>\n",
       "      <td>11</td>\n",
       "    </tr>\n",
       "    <tr>\n",
       "      <th>2878</th>\n",
       "      <td>2007-04-30</td>\n",
       "      <td>46227</td>\n",
       "      <td>NaN</td>\n",
       "      <td>NaN</td>\n",
       "      <td>113988.0</td>\n",
       "      <td>60969.0</td>\n",
       "      <td>81359.0</td>\n",
       "      <td>114475.0</td>\n",
       "      <td>135767.0</td>\n",
       "      <td>162456.0</td>\n",
       "      <td>2007</td>\n",
       "      <td>4</td>\n",
       "      <td>12</td>\n",
       "    </tr>\n",
       "    <tr>\n",
       "      <th>2890</th>\n",
       "      <td>2008-04-30</td>\n",
       "      <td>46227</td>\n",
       "      <td>NaN</td>\n",
       "      <td>NaN</td>\n",
       "      <td>113338.0</td>\n",
       "      <td>63140.0</td>\n",
       "      <td>83086.0</td>\n",
       "      <td>113818.0</td>\n",
       "      <td>132520.0</td>\n",
       "      <td>159551.0</td>\n",
       "      <td>2008</td>\n",
       "      <td>4</td>\n",
       "      <td>13</td>\n",
       "    </tr>\n",
       "    <tr>\n",
       "      <th>2902</th>\n",
       "      <td>2009-04-30</td>\n",
       "      <td>46227</td>\n",
       "      <td>NaN</td>\n",
       "      <td>NaN</td>\n",
       "      <td>107859.0</td>\n",
       "      <td>57740.0</td>\n",
       "      <td>79018.0</td>\n",
       "      <td>108233.0</td>\n",
       "      <td>128662.0</td>\n",
       "      <td>158785.0</td>\n",
       "      <td>2009</td>\n",
       "      <td>4</td>\n",
       "      <td>14</td>\n",
       "    </tr>\n",
       "    <tr>\n",
       "      <th>2914</th>\n",
       "      <td>2010-04-30</td>\n",
       "      <td>46227</td>\n",
       "      <td>112900.0</td>\n",
       "      <td>79.239513</td>\n",
       "      <td>113433.0</td>\n",
       "      <td>64419.0</td>\n",
       "      <td>83891.0</td>\n",
       "      <td>113531.0</td>\n",
       "      <td>134793.0</td>\n",
       "      <td>162299.0</td>\n",
       "      <td>2010</td>\n",
       "      <td>4</td>\n",
       "      <td>15</td>\n",
       "    </tr>\n",
       "    <tr>\n",
       "      <th>2926</th>\n",
       "      <td>2011-04-30</td>\n",
       "      <td>46227</td>\n",
       "      <td>109975.0</td>\n",
       "      <td>74.455562</td>\n",
       "      <td>105082.0</td>\n",
       "      <td>58922.0</td>\n",
       "      <td>75214.0</td>\n",
       "      <td>105544.0</td>\n",
       "      <td>124367.0</td>\n",
       "      <td>150128.0</td>\n",
       "      <td>2011</td>\n",
       "      <td>4</td>\n",
       "      <td>16</td>\n",
       "    </tr>\n",
       "    <tr>\n",
       "      <th>2938</th>\n",
       "      <td>2012-04-30</td>\n",
       "      <td>46227</td>\n",
       "      <td>110000.0</td>\n",
       "      <td>73.908730</td>\n",
       "      <td>104488.0</td>\n",
       "      <td>54566.0</td>\n",
       "      <td>73579.0</td>\n",
       "      <td>104993.0</td>\n",
       "      <td>124547.0</td>\n",
       "      <td>145953.0</td>\n",
       "      <td>2012</td>\n",
       "      <td>4</td>\n",
       "      <td>17</td>\n",
       "    </tr>\n",
       "    <tr>\n",
       "      <th>2950</th>\n",
       "      <td>2013-04-30</td>\n",
       "      <td>46227</td>\n",
       "      <td>110000.0</td>\n",
       "      <td>77.577640</td>\n",
       "      <td>107179.0</td>\n",
       "      <td>51383.0</td>\n",
       "      <td>72097.0</td>\n",
       "      <td>108299.0</td>\n",
       "      <td>129710.0</td>\n",
       "      <td>151503.0</td>\n",
       "      <td>2013</td>\n",
       "      <td>4</td>\n",
       "      <td>18</td>\n",
       "    </tr>\n",
       "    <tr>\n",
       "      <th>2962</th>\n",
       "      <td>2014-04-30</td>\n",
       "      <td>46227</td>\n",
       "      <td>119900.0</td>\n",
       "      <td>80.102041</td>\n",
       "      <td>117334.0</td>\n",
       "      <td>60144.0</td>\n",
       "      <td>79132.0</td>\n",
       "      <td>118268.0</td>\n",
       "      <td>139871.0</td>\n",
       "      <td>163193.0</td>\n",
       "      <td>2014</td>\n",
       "      <td>4</td>\n",
       "      <td>19</td>\n",
       "    </tr>\n",
       "    <tr>\n",
       "      <th>2974</th>\n",
       "      <td>2015-04-30</td>\n",
       "      <td>46227</td>\n",
       "      <td>124900.0</td>\n",
       "      <td>81.841432</td>\n",
       "      <td>117828.0</td>\n",
       "      <td>65680.0</td>\n",
       "      <td>82427.0</td>\n",
       "      <td>118555.0</td>\n",
       "      <td>137841.0</td>\n",
       "      <td>162753.0</td>\n",
       "      <td>2015</td>\n",
       "      <td>4</td>\n",
       "      <td>20</td>\n",
       "    </tr>\n",
       "    <tr>\n",
       "      <th>2986</th>\n",
       "      <td>2016-04-30</td>\n",
       "      <td>46227</td>\n",
       "      <td>125000.0</td>\n",
       "      <td>87.320981</td>\n",
       "      <td>122317.0</td>\n",
       "      <td>65577.0</td>\n",
       "      <td>83315.0</td>\n",
       "      <td>123362.0</td>\n",
       "      <td>143531.0</td>\n",
       "      <td>165329.0</td>\n",
       "      <td>2016</td>\n",
       "      <td>4</td>\n",
       "      <td>21</td>\n",
       "    </tr>\n",
       "    <tr>\n",
       "      <th>2998</th>\n",
       "      <td>2017-04-30</td>\n",
       "      <td>46227</td>\n",
       "      <td>130000.0</td>\n",
       "      <td>90.901899</td>\n",
       "      <td>130805.0</td>\n",
       "      <td>71889.0</td>\n",
       "      <td>90938.0</td>\n",
       "      <td>131723.0</td>\n",
       "      <td>152874.0</td>\n",
       "      <td>175974.0</td>\n",
       "      <td>2017</td>\n",
       "      <td>4</td>\n",
       "      <td>22</td>\n",
       "    </tr>\n",
       "    <tr>\n",
       "      <th>3010</th>\n",
       "      <td>2018-04-30</td>\n",
       "      <td>46227</td>\n",
       "      <td>142499.5</td>\n",
       "      <td>99.903475</td>\n",
       "      <td>142641.0</td>\n",
       "      <td>77865.0</td>\n",
       "      <td>99482.0</td>\n",
       "      <td>143737.0</td>\n",
       "      <td>164984.0</td>\n",
       "      <td>187644.0</td>\n",
       "      <td>2018</td>\n",
       "      <td>4</td>\n",
       "      <td>23</td>\n",
       "    </tr>\n",
       "    <tr>\n",
       "      <th>3022</th>\n",
       "      <td>2019-04-30</td>\n",
       "      <td>46227</td>\n",
       "      <td>154900.0</td>\n",
       "      <td>104.166667</td>\n",
       "      <td>154168.0</td>\n",
       "      <td>89535.0</td>\n",
       "      <td>110933.0</td>\n",
       "      <td>155060.0</td>\n",
       "      <td>176962.0</td>\n",
       "      <td>200340.0</td>\n",
       "      <td>2019</td>\n",
       "      <td>4</td>\n",
       "      <td>24</td>\n",
       "    </tr>\n",
       "  </tbody>\n",
       "</table>\n",
       "</div>"
      ],
      "text/plain": [
       "            Date Zip_Code  Median List Price  \\\n",
       "2746  1996-04-30    46227                NaN   \n",
       "2758  1997-04-30    46227                NaN   \n",
       "2770  1998-04-30    46227                NaN   \n",
       "2782  1999-04-30    46227                NaN   \n",
       "2794  2000-04-30    46227                NaN   \n",
       "2806  2001-04-30    46227                NaN   \n",
       "2818  2002-04-30    46227                NaN   \n",
       "2830  2003-04-30    46227                NaN   \n",
       "2842  2004-04-30    46227                NaN   \n",
       "2854  2005-04-30    46227                NaN   \n",
       "2866  2006-04-30    46227                NaN   \n",
       "2878  2007-04-30    46227                NaN   \n",
       "2890  2008-04-30    46227                NaN   \n",
       "2902  2009-04-30    46227                NaN   \n",
       "2914  2010-04-30    46227           112900.0   \n",
       "2926  2011-04-30    46227           109975.0   \n",
       "2938  2012-04-30    46227           110000.0   \n",
       "2950  2013-04-30    46227           110000.0   \n",
       "2962  2014-04-30    46227           119900.0   \n",
       "2974  2015-04-30    46227           124900.0   \n",
       "2986  2016-04-30    46227           125000.0   \n",
       "2998  2017-04-30    46227           130000.0   \n",
       "3010  2018-04-30    46227           142499.5   \n",
       "3022  2019-04-30    46227           154900.0   \n",
       "\n",
       "      Median List Price per Square Foot  Median Market Value (Single Family)  \\\n",
       "2746                                NaN                             105100.0   \n",
       "2758                                NaN                              87000.0   \n",
       "2770                                NaN                              93500.0   \n",
       "2782                                NaN                              98700.0   \n",
       "2794                                NaN                              87522.0   \n",
       "2806                                NaN                              95297.0   \n",
       "2818                                NaN                              97769.0   \n",
       "2830                                NaN                              97521.0   \n",
       "2842                                NaN                              99534.0   \n",
       "2854                                NaN                             108546.0   \n",
       "2866                                NaN                             112200.0   \n",
       "2878                                NaN                             113988.0   \n",
       "2890                                NaN                             113338.0   \n",
       "2902                                NaN                             107859.0   \n",
       "2914                          79.239513                             113433.0   \n",
       "2926                          74.455562                             105082.0   \n",
       "2938                          73.908730                             104488.0   \n",
       "2950                          77.577640                             107179.0   \n",
       "2962                          80.102041                             117334.0   \n",
       "2974                          81.841432                             117828.0   \n",
       "2986                          87.320981                             122317.0   \n",
       "2998                          90.901899                             130805.0   \n",
       "3010                          99.903475                             142641.0   \n",
       "3022                         104.166667                             154168.0   \n",
       "\n",
       "      Median Price 1 Bedroom  Median Price 2 Bedroom  Median Price 3 Bedroom  \\\n",
       "2746                 80200.0                 86500.0                104600.0   \n",
       "2758                 69000.0                 73900.0                 88000.0   \n",
       "2770                 67400.0                 74400.0                 94800.0   \n",
       "2782                 67100.0                 76800.0                 99800.0   \n",
       "2794                 52469.0                 66598.0                 89552.0   \n",
       "2806                 49775.0                 71181.0                 96925.0   \n",
       "2818                 52043.0                 75358.0                 99407.0   \n",
       "2830                 52084.0                 73568.0                 99474.0   \n",
       "2842                 55559.0                 72610.0                101697.0   \n",
       "2854                 59202.0                 77202.0                109195.0   \n",
       "2866                 61108.0                 79136.0                112955.0   \n",
       "2878                 60969.0                 81359.0                114475.0   \n",
       "2890                 63140.0                 83086.0                113818.0   \n",
       "2902                 57740.0                 79018.0                108233.0   \n",
       "2914                 64419.0                 83891.0                113531.0   \n",
       "2926                 58922.0                 75214.0                105544.0   \n",
       "2938                 54566.0                 73579.0                104993.0   \n",
       "2950                 51383.0                 72097.0                108299.0   \n",
       "2962                 60144.0                 79132.0                118268.0   \n",
       "2974                 65680.0                 82427.0                118555.0   \n",
       "2986                 65577.0                 83315.0                123362.0   \n",
       "2998                 71889.0                 90938.0                131723.0   \n",
       "3010                 77865.0                 99482.0                143737.0   \n",
       "3022                 89535.0                110933.0                155060.0   \n",
       "\n",
       "      Median Price 4 Bedroom  Median Price 5 Bedroom  Year  Month  \\\n",
       "2746                133000.0                     NaN  1996      4   \n",
       "2758                122700.0                     NaN  1997      4   \n",
       "2770                126800.0                     NaN  1998      4   \n",
       "2782                124800.0                     NaN  1999      4   \n",
       "2794                106307.0                137176.0  2000      4   \n",
       "2806                118735.0                142606.0  2001      4   \n",
       "2818                118497.0                140978.0  2002      4   \n",
       "2830                118730.0                143157.0  2003      4   \n",
       "2842                118536.0                144300.0  2004      4   \n",
       "2854                130112.0                158045.0  2005      4   \n",
       "2866                132274.0                157304.0  2006      4   \n",
       "2878                135767.0                162456.0  2007      4   \n",
       "2890                132520.0                159551.0  2008      4   \n",
       "2902                128662.0                158785.0  2009      4   \n",
       "2914                134793.0                162299.0  2010      4   \n",
       "2926                124367.0                150128.0  2011      4   \n",
       "2938                124547.0                145953.0  2012      4   \n",
       "2950                129710.0                151503.0  2013      4   \n",
       "2962                139871.0                163193.0  2014      4   \n",
       "2974                137841.0                162753.0  2015      4   \n",
       "2986                143531.0                165329.0  2016      4   \n",
       "2998                152874.0                175974.0  2017      4   \n",
       "3010                164984.0                187644.0  2018      4   \n",
       "3022                176962.0                200340.0  2019      4   \n",
       "\n",
       "      Year_Integer  \n",
       "2746             1  \n",
       "2758             2  \n",
       "2770             3  \n",
       "2782             4  \n",
       "2794             5  \n",
       "2806             6  \n",
       "2818             7  \n",
       "2830             8  \n",
       "2842             9  \n",
       "2854            10  \n",
       "2866            11  \n",
       "2878            12  \n",
       "2890            13  \n",
       "2902            14  \n",
       "2914            15  \n",
       "2926            16  \n",
       "2938            17  \n",
       "2950            18  \n",
       "2962            19  \n",
       "2974            20  \n",
       "2986            21  \n",
       "2998            22  \n",
       "3010            23  \n",
       "3022            24  "
      ]
     },
     "execution_count": 170,
     "metadata": {},
     "output_type": "execute_result"
    }
   ],
   "source": [
    "April_46227 = Indianapolis_Housing_46227.loc[Indianapolis_Housing_46227[\"Month\"]==4]\n",
    "\n",
    "\n",
    "April_46227 = April_46227[[\"Date\", \"Zip_Code\",\"Median List Price\", \"Median List Price per Square Foot\", \n",
    "                                  \"Median Market Value (Single Family)\", \"Median Price 1 Bedroom\",\n",
    "                                 \"Median Price 2 Bedroom\", \"Median Price 3 Bedroom\", \"Median Price 4 Bedroom\",\n",
    "                                 \"Median Price 5 Bedroom\", \"Year\", \"Month\"]]\n",
    "April_46227[\"Year_Integer\"] = April_46227[\"Year\"] - 1995\n",
    "\n",
    "#April_46227\n",
    "April46227_available = April_46227.loc[(April_46227[\"Year_Integer\"] >= 15) & (April_46227[\"Year_Integer\"] <=24)]\n",
    "#Isolate the data that we want to use to predict the filled in values...\n",
    "April46227_predictionData = April_46227.loc[(April_46227[\"Year_Integer\"]>=1)&(April_46227[\"Year_Integer\"]<=14)]\n",
    "April46227_predictionData = April46227_predictionData[[\"Median Market Value (Single Family)\", \"Year_Integer\", \"Median Price 3 Bedroom\"]]\n",
    "#April_46227_predictionData\n",
    "April_46227"
   ]
  },
  {
   "cell_type": "code",
   "execution_count": 171,
   "metadata": {},
   "outputs": [
    {
     "data": {
      "text/html": [
       "<div>\n",
       "<style scoped>\n",
       "    .dataframe tbody tr th:only-of-type {\n",
       "        vertical-align: middle;\n",
       "    }\n",
       "\n",
       "    .dataframe tbody tr th {\n",
       "        vertical-align: top;\n",
       "    }\n",
       "\n",
       "    .dataframe thead th {\n",
       "        text-align: right;\n",
       "    }\n",
       "</style>\n",
       "<table border=\"1\" class=\"dataframe\">\n",
       "  <thead>\n",
       "    <tr style=\"text-align: right;\">\n",
       "      <th></th>\n",
       "      <th>Median Market Value (Single Family)</th>\n",
       "      <th>Year_Integer</th>\n",
       "      <th>Median Price 3 Bedroom</th>\n",
       "    </tr>\n",
       "  </thead>\n",
       "  <tbody>\n",
       "    <tr>\n",
       "      <th>2746</th>\n",
       "      <td>105100.0</td>\n",
       "      <td>1</td>\n",
       "      <td>104600.0</td>\n",
       "    </tr>\n",
       "    <tr>\n",
       "      <th>2758</th>\n",
       "      <td>87000.0</td>\n",
       "      <td>2</td>\n",
       "      <td>88000.0</td>\n",
       "    </tr>\n",
       "    <tr>\n",
       "      <th>2770</th>\n",
       "      <td>93500.0</td>\n",
       "      <td>3</td>\n",
       "      <td>94800.0</td>\n",
       "    </tr>\n",
       "    <tr>\n",
       "      <th>2782</th>\n",
       "      <td>98700.0</td>\n",
       "      <td>4</td>\n",
       "      <td>99800.0</td>\n",
       "    </tr>\n",
       "    <tr>\n",
       "      <th>2794</th>\n",
       "      <td>87522.0</td>\n",
       "      <td>5</td>\n",
       "      <td>89552.0</td>\n",
       "    </tr>\n",
       "    <tr>\n",
       "      <th>2806</th>\n",
       "      <td>95297.0</td>\n",
       "      <td>6</td>\n",
       "      <td>96925.0</td>\n",
       "    </tr>\n",
       "    <tr>\n",
       "      <th>2818</th>\n",
       "      <td>97769.0</td>\n",
       "      <td>7</td>\n",
       "      <td>99407.0</td>\n",
       "    </tr>\n",
       "    <tr>\n",
       "      <th>2830</th>\n",
       "      <td>97521.0</td>\n",
       "      <td>8</td>\n",
       "      <td>99474.0</td>\n",
       "    </tr>\n",
       "    <tr>\n",
       "      <th>2842</th>\n",
       "      <td>99534.0</td>\n",
       "      <td>9</td>\n",
       "      <td>101697.0</td>\n",
       "    </tr>\n",
       "    <tr>\n",
       "      <th>2854</th>\n",
       "      <td>108546.0</td>\n",
       "      <td>10</td>\n",
       "      <td>109195.0</td>\n",
       "    </tr>\n",
       "    <tr>\n",
       "      <th>2866</th>\n",
       "      <td>112200.0</td>\n",
       "      <td>11</td>\n",
       "      <td>112955.0</td>\n",
       "    </tr>\n",
       "    <tr>\n",
       "      <th>2878</th>\n",
       "      <td>113988.0</td>\n",
       "      <td>12</td>\n",
       "      <td>114475.0</td>\n",
       "    </tr>\n",
       "    <tr>\n",
       "      <th>2890</th>\n",
       "      <td>113338.0</td>\n",
       "      <td>13</td>\n",
       "      <td>113818.0</td>\n",
       "    </tr>\n",
       "    <tr>\n",
       "      <th>2902</th>\n",
       "      <td>107859.0</td>\n",
       "      <td>14</td>\n",
       "      <td>108233.0</td>\n",
       "    </tr>\n",
       "  </tbody>\n",
       "</table>\n",
       "</div>"
      ],
      "text/plain": [
       "      Median Market Value (Single Family)  Year_Integer  \\\n",
       "2746                             105100.0             1   \n",
       "2758                              87000.0             2   \n",
       "2770                              93500.0             3   \n",
       "2782                              98700.0             4   \n",
       "2794                              87522.0             5   \n",
       "2806                              95297.0             6   \n",
       "2818                              97769.0             7   \n",
       "2830                              97521.0             8   \n",
       "2842                              99534.0             9   \n",
       "2854                             108546.0            10   \n",
       "2866                             112200.0            11   \n",
       "2878                             113988.0            12   \n",
       "2890                             113338.0            13   \n",
       "2902                             107859.0            14   \n",
       "\n",
       "      Median Price 3 Bedroom  \n",
       "2746                104600.0  \n",
       "2758                 88000.0  \n",
       "2770                 94800.0  \n",
       "2782                 99800.0  \n",
       "2794                 89552.0  \n",
       "2806                 96925.0  \n",
       "2818                 99407.0  \n",
       "2830                 99474.0  \n",
       "2842                101697.0  \n",
       "2854                109195.0  \n",
       "2866                112955.0  \n",
       "2878                114475.0  \n",
       "2890                113818.0  \n",
       "2902                108233.0  "
      ]
     },
     "execution_count": 171,
     "metadata": {},
     "output_type": "execute_result"
    }
   ],
   "source": [
    "April46227_predictionData"
   ]
  },
  {
   "cell_type": "code",
   "execution_count": 172,
   "metadata": {},
   "outputs": [
    {
     "name": "stdout",
     "output_type": "stream",
     "text": [
      "(10, 3) (10, 1)\n",
      "MSE: 0.02135009618656374, R2: 0.9828525606266024\n"
     ]
    }
   ],
   "source": [
    "#Create X and y values\n",
    "X = April46227_available[[\"Median Market Value (Single Family)\", \"Year_Integer\", \"Median Price 3 Bedroom\"]]\n",
    "y = April46227_available[\"Median List Price per Square Foot\"].values.reshape(-1, 1)\n",
    "print(X.shape, y.shape)\n",
    "#Create test/train data sets\n",
    "X_train, X_test, y_train, y_test = train_test_split(X, y, random_state=42)\n",
    "#X_train.head(9)\n",
    "\n",
    "X_scaler = StandardScaler().fit(X_train)\n",
    "y_scaler = StandardScaler().fit(y_train)\n",
    "X_train_scaled = X_scaler.transform(X_train)\n",
    "X_test_scaled = X_scaler.transform(X_test)\n",
    "y_train_scaled = y_scaler.transform(y_train)\n",
    "y_test_scaled = y_scaler.transform(y_test)\n",
    "\n",
    "model = LinearRegression()\n",
    "model.fit(X_train_scaled, y_train_scaled)\n",
    "predictions = model.predict(X_test_scaled)\n",
    "MSE = mean_squared_error(y_test_scaled, predictions)\n",
    "r2 = model.score(X_test_scaled, y_test_scaled)\n",
    "\n",
    "print(f\"MSE: {MSE}, R2: {r2}\")\n",
    "\n",
    "April46227_predictionData_scaled = X_scaler.transform(April46227_predictionData)\n",
    "\n",
    "MLPSqFt_April46227_predictions = model.predict(April46227_predictionData_scaled)\n",
    "MLPSqFt_April46227_predictions_actual = y_scaler.inverse_transform(MLPSqFt_April46227_predictions)\n",
    "#MLPSqFt_April46227_predictions_actual\n",
    "\n",
    "MLPSqFt_April46227_prediction_list = []\n",
    "for prediction in MLPSqFt_April46227_predictions_actual:\n",
    "    MLPSqFt_April46227_prediction_list.append(prediction[0])\n",
    "#prediction_list\n",
    "end = April_46227[\"Median List Price per Square Foot\"].to_list()\n",
    "end_final = end[14:25]\n",
    "#Combine into new list\n",
    "April_46227_MLPSqFt_new = MLPSqFt_April46227_prediction_list + end_final\n",
    "April_46227[\"Median List Price per SqFt Calculated\"] = April_46227_MLPSqFt_new\n",
    "#April_46227"
   ]
  },
  {
   "cell_type": "code",
   "execution_count": 173,
   "metadata": {},
   "outputs": [
    {
     "name": "stdout",
     "output_type": "stream",
     "text": [
      "(10, 3) (10, 1)\n",
      "MSE: 0.032784310254142544, R2: 0.9597179495034482\n"
     ]
    }
   ],
   "source": [
    "#Create X and y values\n",
    "X = April46227_available[[\"Median Market Value (Single Family)\", \"Year_Integer\", \"Median Price 3 Bedroom\"]]\n",
    "y = April46227_available[\"Median List Price\"].values.reshape(-1, 1)\n",
    "print(X.shape, y.shape)\n",
    "#Create test/train data sets\n",
    "X_train, X_test, y_train, y_test = train_test_split(X, y, random_state=42)\n",
    "#X_train.head(9)\n",
    "\n",
    "X_scaler = StandardScaler().fit(X_train)\n",
    "y_scaler = StandardScaler().fit(y_train)\n",
    "X_train_scaled = X_scaler.transform(X_train)\n",
    "X_test_scaled = X_scaler.transform(X_test)\n",
    "y_train_scaled = y_scaler.transform(y_train)\n",
    "y_test_scaled = y_scaler.transform(y_test)\n",
    "\n",
    "model = LinearRegression()\n",
    "model.fit(X_train_scaled, y_train_scaled)\n",
    "predictions = model.predict(X_test_scaled)\n",
    "MSE = mean_squared_error(y_test_scaled, predictions)\n",
    "r2 = model.score(X_test_scaled, y_test_scaled)\n",
    "\n",
    "print(f\"MSE: {MSE}, R2: {r2}\")\n",
    "\n",
    "April46227_predictionData_scaled = X_scaler.transform(April46227_predictionData)\n",
    "\n",
    "MLP_April46227_predictions = model.predict(April46227_predictionData_scaled)\n",
    "MLP_April46227_predictions_actual = y_scaler.inverse_transform(MLP_April46227_predictions)\n",
    "#MLP_April46227_predictions_actual\n",
    "\n",
    "MLP_April46227_prediction_list = []\n",
    "for prediction in MLP_April46227_predictions_actual:\n",
    "    MLP_April46227_prediction_list.append(prediction[0])\n",
    "#prediction_list\n",
    "end = April_46227[\"Median List Price\"].to_list()\n",
    "end_final = end[14:25]\n",
    "#Combine into new list\n",
    "April_46227_MLP_new = MLP_April46227_prediction_list + end_final\n",
    "April_46227[\"Median List Price Calculated\"] = April_46227_MLP_new\n",
    "#April_46227\n"
   ]
  },
  {
   "cell_type": "markdown",
   "metadata": {},
   "source": []
  },
  {
   "cell_type": "code",
   "execution_count": 174,
   "metadata": {},
   "outputs": [],
   "source": [
    "April_46227_Complete = April_46227[[\"Zip_Code\", \"Date\", \"Year\", \"Year_Integer\",\"Month\", \n",
    "                                        \"Median Market Value (Single Family)\", \"Median Price 1 Bedroom\",\n",
    "                                       \"Median Price 2 Bedroom\", \"Median Price 3 Bedroom\",\n",
    "                                       \"Median Price 4 Bedroom\", \"Median Price 5 Bedroom\",\n",
    "                                       \"Median List Price per SqFt Calculated\", \"Median List Price Calculated\"]]\n",
    "April_46227_Complete.to_csv(\"April_46227_Complete.csv\")"
   ]
  },
  {
   "cell_type": "markdown",
   "metadata": {},
   "source": [
    "# **May 46227**"
   ]
  },
  {
   "cell_type": "code",
   "execution_count": 175,
   "metadata": {},
   "outputs": [],
   "source": [
    "May_46227 = Indianapolis_Housing_46227.loc[Indianapolis_Housing_46227[\"Month\"]==5]\n",
    "\n",
    "\n",
    "May_46227 = May_46227[[\"Date\", \"Zip_Code\",\"Median List Price\", \"Median List Price per Square Foot\", \n",
    "                                  \"Median Market Value (Single Family)\", \"Median Price 1 Bedroom\",\n",
    "                                 \"Median Price 2 Bedroom\", \"Median Price 3 Bedroom\", \"Median Price 4 Bedroom\",\n",
    "                                 \"Median Price 5 Bedroom\", \"Year\", \"Month\"]]\n",
    "May_46227[\"Year_Integer\"] = May_46227[\"Year\"] - 1995\n",
    "\n",
    "#May_46227\n",
    "May46227_available = May_46227.loc[(May_46227[\"Year_Integer\"] >= 15) & (May_46227[\"Year_Integer\"] <=24)]\n",
    "#Isolate the data that we want to use to predict the filled in values...\n",
    "May46227_predictionData = May_46227.loc[(May_46227[\"Year_Integer\"]>=1)&(May_46227[\"Year_Integer\"]<=14)]\n",
    "May46227_predictionData = May46227_predictionData[[\"Median Market Value (Single Family)\", \"Year_Integer\", \"Median Price 3 Bedroom\"]]\n",
    "#May_46227_predictionData\n",
    "#May_46227\n"
   ]
  },
  {
   "cell_type": "code",
   "execution_count": 176,
   "metadata": {},
   "outputs": [
    {
     "name": "stdout",
     "output_type": "stream",
     "text": [
      "(10, 3) (10, 1)\n",
      "MSE: 0.04719930359158441, R2: 0.9644173868854569\n"
     ]
    }
   ],
   "source": [
    "#Create X and y values\n",
    "X = May46227_available[[\"Median Market Value (Single Family)\", \"Year_Integer\", \"Median Price 3 Bedroom\"]]\n",
    "y = May46227_available[\"Median List Price per Square Foot\"].values.reshape(-1, 1)\n",
    "print(X.shape, y.shape)\n",
    "#Create test/train data sets\n",
    "X_train, X_test, y_train, y_test = train_test_split(X, y, random_state=42)\n",
    "#X_train.head(9)\n",
    "\n",
    "X_scaler = StandardScaler().fit(X_train)\n",
    "y_scaler = StandardScaler().fit(y_train)\n",
    "X_train_scaled = X_scaler.transform(X_train)\n",
    "X_test_scaled = X_scaler.transform(X_test)\n",
    "y_train_scaled = y_scaler.transform(y_train)\n",
    "y_test_scaled = y_scaler.transform(y_test)\n",
    "\n",
    "model = LinearRegression()\n",
    "model.fit(X_train_scaled, y_train_scaled)\n",
    "predictions = model.predict(X_test_scaled)\n",
    "MSE = mean_squared_error(y_test_scaled, predictions)\n",
    "r2 = model.score(X_test_scaled, y_test_scaled)\n",
    "\n",
    "print(f\"MSE: {MSE}, R2: {r2}\")\n",
    "\n",
    "May46227_predictionData_scaled = X_scaler.transform(May46227_predictionData)\n",
    "\n",
    "MLPSqFt_May46227_predictions = model.predict(May46227_predictionData_scaled)\n",
    "MLPSqFt_May46227_predictions_actual = y_scaler.inverse_transform(MLPSqFt_May46227_predictions)\n",
    "#MLPSqFt_May46227_predictions_actual\n",
    "\n",
    "MLPSqFt_May46227_prediction_list = []\n",
    "for prediction in MLPSqFt_May46227_predictions_actual:\n",
    "    MLPSqFt_May46227_prediction_list.append(prediction[0])\n",
    "#prediction_list\n",
    "end = May_46227[\"Median List Price per Square Foot\"].to_list()\n",
    "end_final = end[14:25]\n",
    "#Combine into new list\n",
    "May_46227_MLPSqFt_new = MLPSqFt_May46227_prediction_list + end_final\n",
    "May_46227[\"Median List Price per SqFt Calculated\"] = May_46227_MLPSqFt_new\n",
    "#May_46227\n"
   ]
  },
  {
   "cell_type": "code",
   "execution_count": 177,
   "metadata": {},
   "outputs": [
    {
     "name": "stdout",
     "output_type": "stream",
     "text": [
      "(10, 3) (10, 1)\n",
      "MSE: 0.17017487533689854, R2: 0.7424171099252987\n"
     ]
    }
   ],
   "source": [
    "#Create X and y values\n",
    "X = May46227_available[[\"Median Market Value (Single Family)\", \"Year_Integer\", \"Median Price 3 Bedroom\"]]\n",
    "y = May46227_available[\"Median List Price\"].values.reshape(-1, 1)\n",
    "print(X.shape, y.shape)\n",
    "#Create test/train data sets\n",
    "X_train, X_test, y_train, y_test = train_test_split(X, y, random_state=42)\n",
    "#X_train.head(9)\n",
    "\n",
    "X_scaler = StandardScaler().fit(X_train)\n",
    "y_scaler = StandardScaler().fit(y_train)\n",
    "X_train_scaled = X_scaler.transform(X_train)\n",
    "X_test_scaled = X_scaler.transform(X_test)\n",
    "y_train_scaled = y_scaler.transform(y_train)\n",
    "y_test_scaled = y_scaler.transform(y_test)\n",
    "\n",
    "model = LinearRegression()\n",
    "model.fit(X_train_scaled, y_train_scaled)\n",
    "predictions = model.predict(X_test_scaled)\n",
    "MSE = mean_squared_error(y_test_scaled, predictions)\n",
    "r2 = model.score(X_test_scaled, y_test_scaled)\n",
    "\n",
    "print(f\"MSE: {MSE}, R2: {r2}\")\n",
    "\n",
    "May46227_predictionData_scaled = X_scaler.transform(May46227_predictionData)\n",
    "\n",
    "MLP_May46227_predictions = model.predict(May46227_predictionData_scaled)\n",
    "MLP_May46227_predictions_actual = y_scaler.inverse_transform(MLP_May46227_predictions)\n",
    "#MLP_May46227_predictions_actual\n",
    "\n",
    "MLP_May46227_prediction_list = []\n",
    "for prediction in MLP_May46227_predictions_actual:\n",
    "    MLP_May46227_prediction_list.append(prediction[0])\n",
    "#prediction_list\n",
    "end = May_46227[\"Median List Price\"].to_list()\n",
    "end_final = end[14:25]\n",
    "#Combine into new list\n",
    "May_46227_MLP_new = MLP_May46227_prediction_list + end_final\n",
    "May_46227[\"Median List Price Calculated\"] = May_46227_MLP_new\n",
    "#May_46227\n"
   ]
  },
  {
   "cell_type": "code",
   "execution_count": 178,
   "metadata": {},
   "outputs": [],
   "source": [
    "May_46227_Complete = May_46227[[\"Zip_Code\", \"Date\", \"Year\", \"Year_Integer\",\"Month\", \n",
    "                                        \"Median Market Value (Single Family)\", \"Median Price 1 Bedroom\",\n",
    "                                       \"Median Price 2 Bedroom\", \"Median Price 3 Bedroom\",\n",
    "                                       \"Median Price 4 Bedroom\", \"Median Price 5 Bedroom\",\n",
    "                                       \"Median List Price per SqFt Calculated\", \"Median List Price Calculated\"]]\n",
    "May_46227_Complete.to_csv(\"May_46227_Complete.csv\")\n"
   ]
  },
  {
   "cell_type": "markdown",
   "metadata": {},
   "source": [
    "# **June 46227**"
   ]
  },
  {
   "cell_type": "code",
   "execution_count": 179,
   "metadata": {},
   "outputs": [],
   "source": [
    "June_46227 = Indianapolis_Housing_46227.loc[Indianapolis_Housing_46227[\"Month\"]==6]\n",
    "\n",
    "\n",
    "June_46227 = June_46227[[\"Date\", \"Zip_Code\",\"Median List Price\", \"Median List Price per Square Foot\", \n",
    "                                  \"Median Market Value (Single Family)\", \"Median Price 1 Bedroom\",\n",
    "                                 \"Median Price 2 Bedroom\", \"Median Price 3 Bedroom\", \"Median Price 4 Bedroom\",\n",
    "                                 \"Median Price 5 Bedroom\", \"Year\", \"Month\"]]\n",
    "June_46227[\"Year_Integer\"] = June_46227[\"Year\"] - 1995\n",
    "\n",
    "#June_46227\n",
    "June46227_available = June_46227.loc[(June_46227[\"Year_Integer\"] >= 15) & (June_46227[\"Year_Integer\"] <=24)]\n",
    "#Isolate the data that we want to use to predict the filled in values...\n",
    "June46227_predictionData = June_46227.loc[(June_46227[\"Year_Integer\"]>=1)&(June_46227[\"Year_Integer\"]<=14)]\n",
    "June46227_predictionData = June46227_predictionData[[\"Median Market Value (Single Family)\", \"Year_Integer\", \"Median Price 3 Bedroom\"]]\n",
    "#June_46227_predictionData\n",
    "#June_46227\n"
   ]
  },
  {
   "cell_type": "code",
   "execution_count": 180,
   "metadata": {},
   "outputs": [
    {
     "name": "stdout",
     "output_type": "stream",
     "text": [
      "(10, 3) (10, 1)\n",
      "MSE: 0.05086588922531395, R2: 0.9621638476282102\n"
     ]
    }
   ],
   "source": [
    "#Create X and y values\n",
    "X = June46227_available[[\"Median Market Value (Single Family)\", \"Year_Integer\", \"Median Price 3 Bedroom\"]]\n",
    "y = June46227_available[\"Median List Price per Square Foot\"].values.reshape(-1, 1)\n",
    "print(X.shape, y.shape)\n",
    "#Create test/train data sets\n",
    "X_train, X_test, y_train, y_test = train_test_split(X, y, random_state=42)\n",
    "#X_train.head(9)\n",
    "\n",
    "X_scaler = StandardScaler().fit(X_train)\n",
    "y_scaler = StandardScaler().fit(y_train)\n",
    "X_train_scaled = X_scaler.transform(X_train)\n",
    "X_test_scaled = X_scaler.transform(X_test)\n",
    "y_train_scaled = y_scaler.transform(y_train)\n",
    "y_test_scaled = y_scaler.transform(y_test)\n",
    "\n",
    "model = LinearRegression()\n",
    "model.fit(X_train_scaled, y_train_scaled)\n",
    "predictions = model.predict(X_test_scaled)\n",
    "MSE = mean_squared_error(y_test_scaled, predictions)\n",
    "r2 = model.score(X_test_scaled, y_test_scaled)\n",
    "\n",
    "print(f\"MSE: {MSE}, R2: {r2}\")\n",
    "\n",
    "June46227_predictionData_scaled = X_scaler.transform(June46227_predictionData)\n",
    "\n",
    "MLPSqFt_June46227_predictions = model.predict(June46227_predictionData_scaled)\n",
    "MLPSqFt_June46227_predictions_actual = y_scaler.inverse_transform(MLPSqFt_June46227_predictions)\n",
    "#MLPSqFt_June46227_predictions_actual\n",
    "\n",
    "MLPSqFt_June46227_prediction_list = []\n",
    "for prediction in MLPSqFt_June46227_predictions_actual:\n",
    "    MLPSqFt_June46227_prediction_list.append(prediction[0])\n",
    "#prediction_list\n",
    "end = June_46227[\"Median List Price per Square Foot\"].to_list()\n",
    "end_final = end[14:25]\n",
    "#Combine into new list\n",
    "June_46227_MLPSqFt_new = MLPSqFt_June46227_prediction_list + end_final\n",
    "June_46227[\"Median List Price per SqFt Calculated\"] = June_46227_MLPSqFt_new\n",
    "#June_46227\n"
   ]
  },
  {
   "cell_type": "code",
   "execution_count": 181,
   "metadata": {},
   "outputs": [
    {
     "name": "stdout",
     "output_type": "stream",
     "text": [
      "(10, 3) (10, 1)\n",
      "MSE: 0.5365490913827337, R2: 0.28884198058118404\n"
     ]
    }
   ],
   "source": [
    "#Create X and y values\n",
    "X = June46227_available[[\"Median Market Value (Single Family)\", \"Year_Integer\", \"Median Price 3 Bedroom\"]]\n",
    "y = June46227_available[\"Median List Price\"].values.reshape(-1, 1)\n",
    "print(X.shape, y.shape)\n",
    "#Create test/train data sets\n",
    "X_train, X_test, y_train, y_test = train_test_split(X, y, random_state=42)\n",
    "#X_train.head(9)\n",
    "\n",
    "X_scaler = StandardScaler().fit(X_train)\n",
    "y_scaler = StandardScaler().fit(y_train)\n",
    "X_train_scaled = X_scaler.transform(X_train)\n",
    "X_test_scaled = X_scaler.transform(X_test)\n",
    "y_train_scaled = y_scaler.transform(y_train)\n",
    "y_test_scaled = y_scaler.transform(y_test)\n",
    "\n",
    "model = LinearRegression()\n",
    "model.fit(X_train_scaled, y_train_scaled)\n",
    "predictions = model.predict(X_test_scaled)\n",
    "MSE = mean_squared_error(y_test_scaled, predictions)\n",
    "r2 = model.score(X_test_scaled, y_test_scaled)\n",
    "\n",
    "print(f\"MSE: {MSE}, R2: {r2}\")\n",
    "\n",
    "June46227_predictionData_scaled = X_scaler.transform(June46227_predictionData)\n",
    "\n",
    "MLP_June46227_predictions = model.predict(June46227_predictionData_scaled)\n",
    "MLP_June46227_predictions_actual = y_scaler.inverse_transform(MLP_June46227_predictions)\n",
    "#MLP_June46227_predictions_actual\n",
    "\n",
    "MLP_June46227_prediction_list = []\n",
    "for prediction in MLP_June46227_predictions_actual:\n",
    "    MLP_June46227_prediction_list.append(prediction[0])\n",
    "#prediction_list\n",
    "end = June_46227[\"Median List Price\"].to_list()\n",
    "end_final = end[14:25]\n",
    "#Combine into new list\n",
    "June_46227_MLP_new = MLP_June46227_prediction_list + end_final\n",
    "June_46227[\"Median List Price Calculated\"] = end\n",
    "#June_46227\n"
   ]
  },
  {
   "cell_type": "code",
   "execution_count": 182,
   "metadata": {},
   "outputs": [],
   "source": [
    "June_46227_Complete = June_46227[[\"Zip_Code\", \"Date\", \"Year\", \"Year_Integer\",\"Month\", \n",
    "                                        \"Median Market Value (Single Family)\", \"Median Price 1 Bedroom\",\n",
    "                                       \"Median Price 2 Bedroom\", \"Median Price 3 Bedroom\",\n",
    "                                       \"Median Price 4 Bedroom\", \"Median Price 5 Bedroom\",\n",
    "                                       \"Median List Price per SqFt Calculated\", \"Median List Price Calculated\"]]\n",
    "June_46227_Complete.to_csv(\"June_46227_Complete.csv\")\n"
   ]
  },
  {
   "cell_type": "markdown",
   "metadata": {},
   "source": [
    "# **July 46227**"
   ]
  },
  {
   "cell_type": "code",
   "execution_count": 183,
   "metadata": {
    "scrolled": true
   },
   "outputs": [
    {
     "name": "stdout",
     "output_type": "stream",
     "text": [
      "(10, 3) (10, 1)\n",
      "MSE: 0.11335810931681227, R2: 0.8813028990870607\n",
      "(10, 3) (10, 1)\n",
      "MSE: 0.49019981955868985, R2: 0.4602569186917081\n"
     ]
    }
   ],
   "source": [
    "July_46227 = Indianapolis_Housing_46227.loc[Indianapolis_Housing_46227[\"Month\"]==7]\n",
    "\n",
    "\n",
    "July_46227 = July_46227[[\"Date\", \"Zip_Code\",\"Median List Price\", \"Median List Price per Square Foot\", \n",
    "                                  \"Median Market Value (Single Family)\", \"Median Price 1 Bedroom\",\n",
    "                                 \"Median Price 2 Bedroom\", \"Median Price 3 Bedroom\", \"Median Price 4 Bedroom\",\n",
    "                                 \"Median Price 5 Bedroom\", \"Year\", \"Month\"]]\n",
    "July_46227[\"Year_Integer\"] = July_46227[\"Year\"] - 1995\n",
    "\n",
    "#July_46227\n",
    "July46227_available = July_46227.loc[(July_46227[\"Year_Integer\"] >= 15) & (July_46227[\"Year_Integer\"] <=24)]\n",
    "#Isolate the data that we want to use to predict the filled in values...\n",
    "July46227_predictionData = July_46227.loc[(July_46227[\"Year_Integer\"]>=1)&(July_46227[\"Year_Integer\"]<=14)]\n",
    "July46227_predictionData = July46227_predictionData[[\"Median Market Value (Single Family)\", \"Year_Integer\", \"Median Price 3 Bedroom\"]]\n",
    "#July_46227_predictionData\n",
    "#July_46227\n",
    "\n",
    "#Create X and y values\n",
    "X = July46227_available[[\"Median Market Value (Single Family)\", \"Year_Integer\", \"Median Price 3 Bedroom\"]]\n",
    "y = July46227_available[\"Median List Price per Square Foot\"].values.reshape(-1, 1)\n",
    "print(X.shape, y.shape)\n",
    "#Create test/train data sets\n",
    "X_train, X_test, y_train, y_test = train_test_split(X, y, random_state=42)\n",
    "#X_train.head(9)\n",
    "\n",
    "X_scaler = StandardScaler().fit(X_train)\n",
    "y_scaler = StandardScaler().fit(y_train)\n",
    "X_train_scaled = X_scaler.transform(X_train)\n",
    "X_test_scaled = X_scaler.transform(X_test)\n",
    "y_train_scaled = y_scaler.transform(y_train)\n",
    "y_test_scaled = y_scaler.transform(y_test)\n",
    "\n",
    "model = LinearRegression()\n",
    "model.fit(X_train_scaled, y_train_scaled)\n",
    "predictions = model.predict(X_test_scaled)\n",
    "MSE = mean_squared_error(y_test_scaled, predictions)\n",
    "r2 = model.score(X_test_scaled, y_test_scaled)\n",
    "\n",
    "print(f\"MSE: {MSE}, R2: {r2}\")\n",
    "\n",
    "July46227_predictionData_scaled = X_scaler.transform(July46227_predictionData)\n",
    "\n",
    "MLPSqFt_July46227_predictions = model.predict(July46227_predictionData_scaled)\n",
    "MLPSqFt_July46227_predictions_actual = y_scaler.inverse_transform(MLPSqFt_July46227_predictions)\n",
    "#MLPSqFt_July46227_predictions_actual\n",
    "\n",
    "MLPSqFt_July46227_prediction_list = []\n",
    "for prediction in MLPSqFt_July46227_predictions_actual:\n",
    "    MLPSqFt_July46227_prediction_list.append(prediction[0])\n",
    "#prediction_list\n",
    "end = July_46227[\"Median List Price per Square Foot\"].to_list()\n",
    "end_final = end[14:25]\n",
    "#Combine into new list\n",
    "July_46227_MLPSqFt_new = MLPSqFt_July46227_prediction_list + end_final\n",
    "July_46227[\"Median List Price per SqFt Calculated\"] = July_46227_MLPSqFt_new\n",
    "#July_46227\n",
    "\n",
    "#Create X and y values\n",
    "X = July46227_available[[\"Median Market Value (Single Family)\", \"Year_Integer\", \"Median Price 3 Bedroom\"]]\n",
    "y = July46227_available[\"Median List Price\"].values.reshape(-1, 1)\n",
    "print(X.shape, y.shape)\n",
    "#Create test/train data sets\n",
    "X_train, X_test, y_train, y_test = train_test_split(X, y, random_state=42)\n",
    "#X_train.head(9)\n",
    "\n",
    "X_scaler = StandardScaler().fit(X_train)\n",
    "y_scaler = StandardScaler().fit(y_train)\n",
    "X_train_scaled = X_scaler.transform(X_train)\n",
    "X_test_scaled = X_scaler.transform(X_test)\n",
    "y_train_scaled = y_scaler.transform(y_train)\n",
    "y_test_scaled = y_scaler.transform(y_test)\n",
    "\n",
    "model = LinearRegression()\n",
    "model.fit(X_train_scaled, y_train_scaled)\n",
    "predictions = model.predict(X_test_scaled)\n",
    "MSE = mean_squared_error(y_test_scaled, predictions)\n",
    "r2 = model.score(X_test_scaled, y_test_scaled)\n",
    "\n",
    "print(f\"MSE: {MSE}, R2: {r2}\")\n",
    "\n",
    "July46227_predictionData_scaled = X_scaler.transform(July46227_predictionData)\n",
    "\n",
    "MLP_July46227_predictions = model.predict(July46227_predictionData_scaled)\n",
    "MLP_July46227_predictions_actual = y_scaler.inverse_transform(MLP_July46227_predictions)\n",
    "#MLP_July46227_predictions_actual\n",
    "\n",
    "MLP_July46227_prediction_list = []\n",
    "for prediction in MLP_July46227_predictions_actual:\n",
    "    MLP_July46227_prediction_list.append(prediction[0])\n",
    "#prediction_list\n",
    "end = July_46227[\"Median List Price\"].to_list()\n",
    "end_final = end[14:25]\n",
    "#Combine into new list\n",
    "July_46227_MLP_new = MLP_July46227_prediction_list + end_final\n",
    "July_46227[\"Median List Price Calculated\"] = end\n",
    "#July_46227\n",
    "\n",
    "July_46227_Complete = July_46227[[\"Zip_Code\", \"Date\", \"Year\", \"Year_Integer\",\"Month\", \n",
    "                                        \"Median Market Value (Single Family)\", \"Median Price 1 Bedroom\",\n",
    "                                       \"Median Price 2 Bedroom\", \"Median Price 3 Bedroom\",\n",
    "                                       \"Median Price 4 Bedroom\", \"Median Price 5 Bedroom\",\n",
    "                                       \"Median List Price per SqFt Calculated\", \"Median List Price Calculated\"]]\n",
    "July_46227_Complete.to_csv(\"July_46227_Complete.csv\")\n"
   ]
  },
  {
   "cell_type": "code",
   "execution_count": null,
   "metadata": {
    "scrolled": true
   },
   "outputs": [],
   "source": []
  },
  {
   "cell_type": "markdown",
   "metadata": {},
   "source": [
    "# **August 46227**"
   ]
  },
  {
   "cell_type": "code",
   "execution_count": 184,
   "metadata": {},
   "outputs": [
    {
     "name": "stdout",
     "output_type": "stream",
     "text": [
      "(10, 3) (10, 1)\n",
      "MSE: 0.19779069896981818, R2: 0.8236462883561789\n",
      "(10, 3) (10, 1)\n",
      "MSE: 0.5428385927446157, R2: 0.2065828962235926\n"
     ]
    }
   ],
   "source": [
    "August_46227 = Indianapolis_Housing_46227.loc[Indianapolis_Housing_46227[\"Month\"]==8]\n",
    "\n",
    "\n",
    "August_46227 = August_46227[[\"Date\", \"Zip_Code\",\"Median List Price\", \"Median List Price per Square Foot\", \n",
    "                                  \"Median Market Value (Single Family)\", \"Median Price 1 Bedroom\",\n",
    "                                 \"Median Price 2 Bedroom\", \"Median Price 3 Bedroom\", \"Median Price 4 Bedroom\",\n",
    "                                 \"Median Price 5 Bedroom\", \"Year\", \"Month\"]]\n",
    "August_46227[\"Year_Integer\"] = August_46227[\"Year\"] - 1995\n",
    "\n",
    "#August_46227\n",
    "August46227_available = August_46227.loc[(August_46227[\"Year_Integer\"] >= 15) & (August_46227[\"Year_Integer\"] <=24)]\n",
    "#Isolate the data that we want to use to predict the filled in values...\n",
    "August46227_predictionData = August_46227.loc[(August_46227[\"Year_Integer\"]>=1)&(August_46227[\"Year_Integer\"]<=14)]\n",
    "August46227_predictionData = August46227_predictionData[[\"Median Market Value (Single Family)\", \"Year_Integer\", \"Median Price 3 Bedroom\"]]\n",
    "#August_46227_predictionData\n",
    "#August_46227\n",
    "\n",
    "#Create X and y values\n",
    "X = August46227_available[[\"Median Market Value (Single Family)\", \"Year_Integer\", \"Median Price 3 Bedroom\"]]\n",
    "y = August46227_available[\"Median List Price per Square Foot\"].values.reshape(-1, 1)\n",
    "print(X.shape, y.shape)\n",
    "#Create test/train data sets\n",
    "X_train, X_test, y_train, y_test = train_test_split(X, y, random_state=42)\n",
    "#X_train.head(9)\n",
    "\n",
    "X_scaler = StandardScaler().fit(X_train)\n",
    "y_scaler = StandardScaler().fit(y_train)\n",
    "X_train_scaled = X_scaler.transform(X_train)\n",
    "X_test_scaled = X_scaler.transform(X_test)\n",
    "y_train_scaled = y_scaler.transform(y_train)\n",
    "y_test_scaled = y_scaler.transform(y_test)\n",
    "\n",
    "model = LinearRegression()\n",
    "model.fit(X_train_scaled, y_train_scaled)\n",
    "predictions = model.predict(X_test_scaled)\n",
    "MSE = mean_squared_error(y_test_scaled, predictions)\n",
    "r2 = model.score(X_test_scaled, y_test_scaled)\n",
    "\n",
    "print(f\"MSE: {MSE}, R2: {r2}\")\n",
    "\n",
    "August46227_predictionData_scaled = X_scaler.transform(August46227_predictionData)\n",
    "\n",
    "MLPSqFt_August46227_predictions = model.predict(August46227_predictionData_scaled)\n",
    "MLPSqFt_August46227_predictions_actual = y_scaler.inverse_transform(MLPSqFt_August46227_predictions)\n",
    "#MLPSqFt_August46227_predictions_actual\n",
    "\n",
    "MLPSqFt_August46227_prediction_list = []\n",
    "for prediction in MLPSqFt_August46227_predictions_actual:\n",
    "    MLPSqFt_August46227_prediction_list.append(prediction[0])\n",
    "#prediction_list\n",
    "end = August_46227[\"Median List Price per Square Foot\"].to_list()\n",
    "end_final = end[14:25]\n",
    "#Combine into new list\n",
    "August_46227_MLPSqFt_new = MLPSqFt_August46227_prediction_list + end_final\n",
    "August_46227[\"Median List Price per SqFt Calculated\"] = August_46227_MLPSqFt_new\n",
    "#August_46227\n",
    "\n",
    "#Create X and y values\n",
    "X = August46227_available[[\"Median Market Value (Single Family)\", \"Year_Integer\", \"Median Price 3 Bedroom\"]]\n",
    "y = August46227_available[\"Median List Price\"].values.reshape(-1, 1)\n",
    "print(X.shape, y.shape)\n",
    "#Create test/train data sets\n",
    "X_train, X_test, y_train, y_test = train_test_split(X, y, random_state=42)\n",
    "#X_train.head(9)\n",
    "\n",
    "X_scaler = StandardScaler().fit(X_train)\n",
    "y_scaler = StandardScaler().fit(y_train)\n",
    "X_train_scaled = X_scaler.transform(X_train)\n",
    "X_test_scaled = X_scaler.transform(X_test)\n",
    "y_train_scaled = y_scaler.transform(y_train)\n",
    "y_test_scaled = y_scaler.transform(y_test)\n",
    "\n",
    "model = LinearRegression()\n",
    "model.fit(X_train_scaled, y_train_scaled)\n",
    "predictions = model.predict(X_test_scaled)\n",
    "MSE = mean_squared_error(y_test_scaled, predictions)\n",
    "r2 = model.score(X_test_scaled, y_test_scaled)\n",
    "\n",
    "print(f\"MSE: {MSE}, R2: {r2}\")\n",
    "\n",
    "August46227_predictionData_scaled = X_scaler.transform(August46227_predictionData)\n",
    "\n",
    "MLP_August46227_predictions = model.predict(August46227_predictionData_scaled)\n",
    "MLP_August46227_predictions_actual = y_scaler.inverse_transform(MLP_August46227_predictions)\n",
    "#MLP_August46227_predictions_actual\n",
    "\n",
    "MLP_August46227_prediction_list = []\n",
    "for prediction in MLP_August46227_predictions_actual:\n",
    "    MLP_August46227_prediction_list.append(prediction[0])\n",
    "#prediction_list\n",
    "end = August_46227[\"Median List Price\"].to_list()\n",
    "end_final = end[14:25]\n",
    "#Combine into new list\n",
    "August_46227_MLP_new = MLP_August46227_prediction_list + end_final\n",
    "August_46227[\"Median List Price Calculated\"] = end\n",
    "#August_46227\n",
    "\n",
    "August_46227_Complete = August_46227[[\"Zip_Code\", \"Date\", \"Year\", \"Year_Integer\",\"Month\", \n",
    "                                        \"Median Market Value (Single Family)\", \"Median Price 1 Bedroom\",\n",
    "                                       \"Median Price 2 Bedroom\", \"Median Price 3 Bedroom\",\n",
    "                                       \"Median Price 4 Bedroom\", \"Median Price 5 Bedroom\",\n",
    "                                       \"Median List Price per SqFt Calculated\", \"Median List Price Calculated\"]]\n",
    "August_46227_Complete.to_csv(\"August_46227_Complete.csv\")\n"
   ]
  },
  {
   "cell_type": "markdown",
   "metadata": {},
   "source": [
    "# **September 46227**"
   ]
  },
  {
   "cell_type": "code",
   "execution_count": 185,
   "metadata": {},
   "outputs": [
    {
     "name": "stdout",
     "output_type": "stream",
     "text": [
      "(10, 3) (10, 1)\n",
      "MSE: 0.1227968185131852, R2: 0.9124502371445776\n",
      "(10, 3) (10, 1)\n",
      "MSE: 0.3577487232133598, R2: 0.426407577132762\n"
     ]
    }
   ],
   "source": [
    "September_46227 = Indianapolis_Housing_46227.loc[Indianapolis_Housing_46227[\"Month\"]==9]\n",
    "\n",
    "\n",
    "September_46227 = September_46227[[\"Date\", \"Zip_Code\",\"Median List Price\", \"Median List Price per Square Foot\", \n",
    "                                  \"Median Market Value (Single Family)\", \"Median Price 1 Bedroom\",\n",
    "                                 \"Median Price 2 Bedroom\", \"Median Price 3 Bedroom\", \"Median Price 4 Bedroom\",\n",
    "                                 \"Median Price 5 Bedroom\", \"Year\", \"Month\"]]\n",
    "September_46227[\"Year_Integer\"] = September_46227[\"Year\"] - 1995\n",
    "\n",
    "#September_46227\n",
    "September46227_available = September_46227.loc[(September_46227[\"Year_Integer\"] >= 15) & (September_46227[\"Year_Integer\"] <=24)]\n",
    "#Isolate the data that we want to use to predict the filled in values...\n",
    "September46227_predictionData = September_46227.loc[(September_46227[\"Year_Integer\"]>=1)&(September_46227[\"Year_Integer\"]<=14)]\n",
    "September46227_predictionData = September46227_predictionData[[\"Median Market Value (Single Family)\", \"Year_Integer\", \"Median Price 3 Bedroom\"]]\n",
    "#September_46227_predictionData\n",
    "#September_46227\n",
    "\n",
    "#Create X and y values\n",
    "X = September46227_available[[\"Median Market Value (Single Family)\", \"Year_Integer\", \"Median Price 3 Bedroom\"]]\n",
    "y = September46227_available[\"Median List Price per Square Foot\"].values.reshape(-1, 1)\n",
    "print(X.shape, y.shape)\n",
    "#Create test/train data sets\n",
    "X_train, X_test, y_train, y_test = train_test_split(X, y, random_state=42)\n",
    "#X_train.head(9)\n",
    "\n",
    "X_scaler = StandardScaler().fit(X_train)\n",
    "y_scaler = StandardScaler().fit(y_train)\n",
    "X_train_scaled = X_scaler.transform(X_train)\n",
    "X_test_scaled = X_scaler.transform(X_test)\n",
    "y_train_scaled = y_scaler.transform(y_train)\n",
    "y_test_scaled = y_scaler.transform(y_test)\n",
    "\n",
    "model = LinearRegression()\n",
    "model.fit(X_train_scaled, y_train_scaled)\n",
    "predictions = model.predict(X_test_scaled)\n",
    "MSE = mean_squared_error(y_test_scaled, predictions)\n",
    "r2 = model.score(X_test_scaled, y_test_scaled)\n",
    "\n",
    "print(f\"MSE: {MSE}, R2: {r2}\")\n",
    "\n",
    "September46227_predictionData_scaled = X_scaler.transform(September46227_predictionData)\n",
    "\n",
    "MLPSqFt_September46227_predictions = model.predict(September46227_predictionData_scaled)\n",
    "MLPSqFt_September46227_predictions_actual = y_scaler.inverse_transform(MLPSqFt_September46227_predictions)\n",
    "#MLPSqFt_September46227_predictions_actual\n",
    "\n",
    "MLPSqFt_September46227_prediction_list = []\n",
    "for prediction in MLPSqFt_September46227_predictions_actual:\n",
    "    MLPSqFt_September46227_prediction_list.append(prediction[0])\n",
    "#prediction_list\n",
    "end = September_46227[\"Median List Price per Square Foot\"].to_list()\n",
    "end_final = end[14:25]\n",
    "#Combine into new list\n",
    "September_46227_MLPSqFt_new = MLPSqFt_September46227_prediction_list + end_final\n",
    "September_46227[\"Median List Price per SqFt Calculated\"] = September_46227_MLPSqFt_new\n",
    "#September_46227\n",
    "\n",
    "#Create X and y values\n",
    "X = September46227_available[[\"Median Market Value (Single Family)\", \"Year_Integer\", \"Median Price 3 Bedroom\"]]\n",
    "y = September46227_available[\"Median List Price\"].values.reshape(-1, 1)\n",
    "print(X.shape, y.shape)\n",
    "#Create test/train data sets\n",
    "X_train, X_test, y_train, y_test = train_test_split(X, y, random_state=42)\n",
    "#X_train.head(9)\n",
    "\n",
    "X_scaler = StandardScaler().fit(X_train)\n",
    "y_scaler = StandardScaler().fit(y_train)\n",
    "X_train_scaled = X_scaler.transform(X_train)\n",
    "X_test_scaled = X_scaler.transform(X_test)\n",
    "y_train_scaled = y_scaler.transform(y_train)\n",
    "y_test_scaled = y_scaler.transform(y_test)\n",
    "\n",
    "model = LinearRegression()\n",
    "model.fit(X_train_scaled, y_train_scaled)\n",
    "predictions = model.predict(X_test_scaled)\n",
    "MSE = mean_squared_error(y_test_scaled, predictions)\n",
    "r2 = model.score(X_test_scaled, y_test_scaled)\n",
    "\n",
    "print(f\"MSE: {MSE}, R2: {r2}\")\n",
    "\n",
    "September46227_predictionData_scaled = X_scaler.transform(September46227_predictionData)\n",
    "\n",
    "MLP_September46227_predictions = model.predict(September46227_predictionData_scaled)\n",
    "MLP_September46227_predictions_actual = y_scaler.inverse_transform(MLP_September46227_predictions)\n",
    "#MLP_September46227_predictions_actual\n",
    "\n",
    "MLP_September46227_prediction_list = []\n",
    "for prediction in MLP_September46227_predictions_actual:\n",
    "    MLP_September46227_prediction_list.append(prediction[0])\n",
    "#prediction_list\n",
    "end = September_46227[\"Median List Price\"].to_list()\n",
    "end_final = end[14:25]\n",
    "#Combine into new list\n",
    "September_46227_MLP_new = MLP_September46227_prediction_list + end_final\n",
    "September_46227[\"Median List Price Calculated\"] = end\n",
    "#September_46227\n",
    "\n",
    "September_46227_Complete = September_46227[[\"Zip_Code\", \"Date\", \"Year\", \"Year_Integer\",\"Month\", \n",
    "                                        \"Median Market Value (Single Family)\", \"Median Price 1 Bedroom\",\n",
    "                                       \"Median Price 2 Bedroom\", \"Median Price 3 Bedroom\",\n",
    "                                       \"Median Price 4 Bedroom\", \"Median Price 5 Bedroom\",\n",
    "                                       \"Median List Price per SqFt Calculated\", \"Median List Price Calculated\"]]\n",
    "September_46227_Complete.to_csv(\"September_46227_Complete.csv\")\n"
   ]
  },
  {
   "cell_type": "markdown",
   "metadata": {},
   "source": [
    "# **October 46227**"
   ]
  },
  {
   "cell_type": "code",
   "execution_count": 186,
   "metadata": {},
   "outputs": [
    {
     "name": "stdout",
     "output_type": "stream",
     "text": [
      "(9, 3) (9, 1)\n",
      "MSE: 0.06196257940915153, R2: 0.9340362801070015\n",
      "(9, 3) (9, 1)\n",
      "MSE: 0.11025301103492623, R2: 0.8418569323618588\n"
     ]
    }
   ],
   "source": [
    "October_46227 = Indianapolis_Housing_46227.loc[Indianapolis_Housing_46227[\"Month\"]==10]\n",
    "\n",
    "\n",
    "October_46227 = October_46227[[\"Date\", \"Zip_Code\",\"Median List Price\", \"Median List Price per Square Foot\", \n",
    "                                  \"Median Market Value (Single Family)\", \"Median Price 1 Bedroom\",\n",
    "                                 \"Median Price 2 Bedroom\", \"Median Price 3 Bedroom\", \"Median Price 4 Bedroom\",\n",
    "                                 \"Median Price 5 Bedroom\", \"Year\", \"Month\"]]\n",
    "October_46227[\"Year_Integer\"] = October_46227[\"Year\"] - 1996\n",
    "\n",
    "#October_46227\n",
    "October46227_available = October_46227.loc[(October_46227[\"Year_Integer\"] >= 15) & (October_46227[\"Year_Integer\"] <=24)]\n",
    "#Isolate the data that we want to use to predict the filled in values...\n",
    "October46227_predictionData = October_46227.loc[(October_46227[\"Year_Integer\"]>=1)&(October_46227[\"Year_Integer\"]<=14)]\n",
    "October46227_predictionData = October46227_predictionData[[\"Median Market Value (Single Family)\", \"Year_Integer\", \"Median Price 3 Bedroom\"]]\n",
    "#October_46227_predictionData\n",
    "#October_46227\n",
    "\n",
    "#Create X and y values\n",
    "X = October46227_available[[\"Median Market Value (Single Family)\", \"Year_Integer\", \"Median Price 3 Bedroom\"]]\n",
    "y = October46227_available[\"Median List Price per Square Foot\"].values.reshape(-1, 1)\n",
    "print(X.shape, y.shape)\n",
    "#Create test/train data sets\n",
    "X_train, X_test, y_train, y_test = train_test_split(X, y, random_state=42)\n",
    "#X_train.head(9)\n",
    "\n",
    "X_scaler = StandardScaler().fit(X_train)\n",
    "y_scaler = StandardScaler().fit(y_train)\n",
    "X_train_scaled = X_scaler.transform(X_train)\n",
    "X_test_scaled = X_scaler.transform(X_test)\n",
    "y_train_scaled = y_scaler.transform(y_train)\n",
    "y_test_scaled = y_scaler.transform(y_test)\n",
    "\n",
    "model = LinearRegression()\n",
    "model.fit(X_train_scaled, y_train_scaled)\n",
    "predictions = model.predict(X_test_scaled)\n",
    "MSE = mean_squared_error(y_test_scaled, predictions)\n",
    "r2 = model.score(X_test_scaled, y_test_scaled)\n",
    "\n",
    "print(f\"MSE: {MSE}, R2: {r2}\")\n",
    "\n",
    "October46227_predictionData_scaled = X_scaler.transform(October46227_predictionData)\n",
    "\n",
    "MLPSqFt_October46227_predictions = model.predict(October46227_predictionData_scaled)\n",
    "MLPSqFt_October46227_predictions_actual = y_scaler.inverse_transform(MLPSqFt_October46227_predictions)\n",
    "#MLPSqFt_October46227_predictions_actual\n",
    "\n",
    "MLPSqFt_October46227_prediction_list = []\n",
    "for prediction in MLPSqFt_October46227_predictions_actual:\n",
    "    MLPSqFt_October46227_prediction_list.append(prediction[0])\n",
    "#prediction_list\n",
    "end = October_46227[\"Median List Price per Square Foot\"].to_list()\n",
    "end_final = end[14:25]\n",
    "#Combine into new list\n",
    "October_46227_MLPSqFt_new = MLPSqFt_October46227_prediction_list + end_final\n",
    "October_46227[\"Median List Price per SqFt Calculated\"] = October_46227_MLPSqFt_new\n",
    "#October_46227\n",
    "\n",
    "#Create X and y values\n",
    "X = October46227_available[[\"Median Market Value (Single Family)\", \"Year_Integer\", \"Median Price 3 Bedroom\"]]\n",
    "y = October46227_available[\"Median List Price\"].values.reshape(-1, 1)\n",
    "print(X.shape, y.shape)\n",
    "#Create test/train data sets\n",
    "X_train, X_test, y_train, y_test = train_test_split(X, y, random_state=42)\n",
    "#X_train.head(9)\n",
    "\n",
    "X_scaler = StandardScaler().fit(X_train)\n",
    "y_scaler = StandardScaler().fit(y_train)\n",
    "X_train_scaled = X_scaler.transform(X_train)\n",
    "X_test_scaled = X_scaler.transform(X_test)\n",
    "y_train_scaled = y_scaler.transform(y_train)\n",
    "y_test_scaled = y_scaler.transform(y_test)\n",
    "\n",
    "model = LinearRegression()\n",
    "model.fit(X_train_scaled, y_train_scaled)\n",
    "predictions = model.predict(X_test_scaled)\n",
    "MSE = mean_squared_error(y_test_scaled, predictions)\n",
    "r2 = model.score(X_test_scaled, y_test_scaled)\n",
    "\n",
    "print(f\"MSE: {MSE}, R2: {r2}\")\n",
    "\n",
    "October46227_predictionData_scaled = X_scaler.transform(October46227_predictionData)\n",
    "\n",
    "MLP_October46227_predictions = model.predict(October46227_predictionData_scaled)\n",
    "MLP_October46227_predictions_actual = y_scaler.inverse_transform(MLP_October46227_predictions)\n",
    "#MLP_October46227_predictions_actual\n",
    "\n",
    "MLP_October46227_prediction_list = []\n",
    "for prediction in MLP_October46227_predictions_actual:\n",
    "    MLP_October46227_prediction_list.append(prediction[0])\n",
    "#prediction_list\n",
    "end = October_46227[\"Median List Price\"].to_list()\n",
    "end_final = end[14:25]\n",
    "#Combine into new list\n",
    "October_46227_MLP_new = MLP_October46227_prediction_list + end_final\n",
    "October_46227[\"Median List Price Calculated\"] = October_46227_MLP_new\n",
    "#October_46227\n",
    "\n",
    "October_46227_Complete = October_46227[[\"Zip_Code\", \"Date\", \"Year\", \"Year_Integer\",\"Month\", \n",
    "                                        \"Median Market Value (Single Family)\", \"Median Price 1 Bedroom\",\n",
    "                                       \"Median Price 2 Bedroom\", \"Median Price 3 Bedroom\",\n",
    "                                       \"Median Price 4 Bedroom\", \"Median Price 5 Bedroom\",\n",
    "                                       \"Median List Price per SqFt Calculated\", \"Median List Price Calculated\"]]\n",
    "October_46227_Complete.to_csv(\"October_46227_Complete.csv\")\n"
   ]
  },
  {
   "cell_type": "markdown",
   "metadata": {},
   "source": [
    "# **November 46227**"
   ]
  },
  {
   "cell_type": "code",
   "execution_count": 187,
   "metadata": {},
   "outputs": [
    {
     "name": "stdout",
     "output_type": "stream",
     "text": [
      "(9, 3) (9, 1)\n",
      "MSE: 0.01386094471969448, R2: 0.9820789257041035\n",
      "(9, 3) (9, 1)\n",
      "MSE: 0.11323675839771079, R2: 0.817854698796044\n"
     ]
    }
   ],
   "source": [
    "November_46227 = Indianapolis_Housing_46227.loc[Indianapolis_Housing_46227[\"Month\"]==11]\n",
    "\n",
    "\n",
    "November_46227 = November_46227[[\"Date\", \"Zip_Code\",\"Median List Price\", \"Median List Price per Square Foot\", \n",
    "                                  \"Median Market Value (Single Family)\", \"Median Price 1 Bedroom\",\n",
    "                                 \"Median Price 2 Bedroom\", \"Median Price 3 Bedroom\", \"Median Price 4 Bedroom\",\n",
    "                                 \"Median Price 5 Bedroom\", \"Year\", \"Month\"]]\n",
    "November_46227[\"Year_Integer\"] = November_46227[\"Year\"] - 1996\n",
    "\n",
    "#November_46227\n",
    "November46227_available = November_46227.loc[(November_46227[\"Year_Integer\"] >= 15) & (November_46227[\"Year_Integer\"] <=24)]\n",
    "#Isolate the data that we want to use to predict the filled in values...\n",
    "November46227_predictionData = November_46227.loc[(November_46227[\"Year_Integer\"]>=1)&(November_46227[\"Year_Integer\"]<=14)]\n",
    "November46227_predictionData = November46227_predictionData[[\"Median Market Value (Single Family)\", \"Year_Integer\", \"Median Price 3 Bedroom\"]]\n",
    "#November_46227_predictionData\n",
    "#November_46227\n",
    "\n",
    "#Create X and y values\n",
    "X = November46227_available[[\"Median Market Value (Single Family)\", \"Year_Integer\", \"Median Price 3 Bedroom\"]]\n",
    "y = November46227_available[\"Median List Price per Square Foot\"].values.reshape(-1, 1)\n",
    "print(X.shape, y.shape)\n",
    "#Create test/train data sets\n",
    "X_train, X_test, y_train, y_test = train_test_split(X, y, random_state=42)\n",
    "#X_train.head(9)\n",
    "\n",
    "X_scaler = StandardScaler().fit(X_train)\n",
    "y_scaler = StandardScaler().fit(y_train)\n",
    "X_train_scaled = X_scaler.transform(X_train)\n",
    "X_test_scaled = X_scaler.transform(X_test)\n",
    "y_train_scaled = y_scaler.transform(y_train)\n",
    "y_test_scaled = y_scaler.transform(y_test)\n",
    "\n",
    "model = LinearRegression()\n",
    "model.fit(X_train_scaled, y_train_scaled)\n",
    "predictions = model.predict(X_test_scaled)\n",
    "MSE = mean_squared_error(y_test_scaled, predictions)\n",
    "r2 = model.score(X_test_scaled, y_test_scaled)\n",
    "\n",
    "print(f\"MSE: {MSE}, R2: {r2}\")\n",
    "\n",
    "November46227_predictionData_scaled = X_scaler.transform(November46227_predictionData)\n",
    "\n",
    "MLPSqFt_November46227_predictions = model.predict(November46227_predictionData_scaled)\n",
    "MLPSqFt_November46227_predictions_actual = y_scaler.inverse_transform(MLPSqFt_November46227_predictions)\n",
    "#MLPSqFt_November46227_predictions_actual\n",
    "\n",
    "MLPSqFt_November46227_prediction_list = []\n",
    "for prediction in MLPSqFt_November46227_predictions_actual:\n",
    "    MLPSqFt_November46227_prediction_list.append(prediction[0])\n",
    "#prediction_list\n",
    "end = November_46227[\"Median List Price per Square Foot\"].to_list()\n",
    "end_final = end[14:25]\n",
    "#Combine into new list\n",
    "November_46227_MLPSqFt_new = MLPSqFt_November46227_prediction_list + end_final\n",
    "November_46227[\"Median List Price per SqFt Calculated\"] = November_46227_MLPSqFt_new\n",
    "#November_46227\n",
    "\n",
    "#Create X and y values\n",
    "X = November46227_available[[\"Median Market Value (Single Family)\", \"Year_Integer\", \"Median Price 3 Bedroom\"]]\n",
    "y = November46227_available[\"Median List Price\"].values.reshape(-1, 1)\n",
    "print(X.shape, y.shape)\n",
    "#Create test/train data sets\n",
    "X_train, X_test, y_train, y_test = train_test_split(X, y, random_state=42)\n",
    "#X_train.head(9)\n",
    "\n",
    "X_scaler = StandardScaler().fit(X_train)\n",
    "y_scaler = StandardScaler().fit(y_train)\n",
    "X_train_scaled = X_scaler.transform(X_train)\n",
    "X_test_scaled = X_scaler.transform(X_test)\n",
    "y_train_scaled = y_scaler.transform(y_train)\n",
    "y_test_scaled = y_scaler.transform(y_test)\n",
    "\n",
    "model = LinearRegression()\n",
    "model.fit(X_train_scaled, y_train_scaled)\n",
    "predictions = model.predict(X_test_scaled)\n",
    "MSE = mean_squared_error(y_test_scaled, predictions)\n",
    "r2 = model.score(X_test_scaled, y_test_scaled)\n",
    "\n",
    "print(f\"MSE: {MSE}, R2: {r2}\")\n",
    "\n",
    "November46227_predictionData_scaled = X_scaler.transform(November46227_predictionData)\n",
    "\n",
    "MLP_November46227_predictions = model.predict(November46227_predictionData_scaled)\n",
    "MLP_November46227_predictions_actual = y_scaler.inverse_transform(MLP_November46227_predictions)\n",
    "#MLP_November46227_predictions_actual\n",
    "\n",
    "MLP_November46227_prediction_list = []\n",
    "for prediction in MLP_November46227_predictions_actual:\n",
    "    MLP_November46227_prediction_list.append(prediction[0])\n",
    "#prediction_list\n",
    "end = November_46227[\"Median List Price\"].to_list()\n",
    "end_final = end[14:25]\n",
    "#Combine into new list\n",
    "November_46227_MLP_new = MLP_November46227_prediction_list + end_final\n",
    "November_46227[\"Median List Price Calculated\"] = November_46227_MLP_new\n",
    "#November_46227\n",
    "\n",
    "November_46227_Complete = November_46227[[\"Zip_Code\", \"Date\", \"Year\", \"Year_Integer\",\"Month\", \n",
    "                                        \"Median Market Value (Single Family)\", \"Median Price 1 Bedroom\",\n",
    "                                       \"Median Price 2 Bedroom\", \"Median Price 3 Bedroom\",\n",
    "                                       \"Median Price 4 Bedroom\", \"Median Price 5 Bedroom\",\n",
    "                                       \"Median List Price per SqFt Calculated\", \"Median List Price Calculated\"]]\n",
    "November_46227_Complete.to_csv(\"November_46227_Complete.csv\")\n"
   ]
  },
  {
   "cell_type": "markdown",
   "metadata": {},
   "source": [
    "# **December 46227**"
   ]
  },
  {
   "cell_type": "code",
   "execution_count": 188,
   "metadata": {},
   "outputs": [
    {
     "name": "stdout",
     "output_type": "stream",
     "text": [
      "(9, 3) (9, 1)\n",
      "MSE: 0.029748093645251553, R2: 0.9653946055426376\n",
      "(9, 3) (9, 1)\n",
      "MSE: 0.35121509899918313, R2: 0.4366470120715109\n"
     ]
    }
   ],
   "source": [
    "December_46227 = Indianapolis_Housing_46227.loc[Indianapolis_Housing_46227[\"Month\"]==12]\n",
    "\n",
    "\n",
    "December_46227 = December_46227[[\"Date\", \"Zip_Code\",\"Median List Price\", \"Median List Price per Square Foot\", \n",
    "                                  \"Median Market Value (Single Family)\", \"Median Price 1 Bedroom\",\n",
    "                                 \"Median Price 2 Bedroom\", \"Median Price 3 Bedroom\", \"Median Price 4 Bedroom\",\n",
    "                                 \"Median Price 5 Bedroom\", \"Year\", \"Month\"]]\n",
    "December_46227[\"Year_Integer\"] = December_46227[\"Year\"] - 1996\n",
    "\n",
    "#December_46227\n",
    "December46227_available = December_46227.loc[(December_46227[\"Year_Integer\"] >= 15) & (December_46227[\"Year_Integer\"] <=24)]\n",
    "#Isolate the data that we want to use to predict the filled in values...\n",
    "December46227_predictionData = December_46227.loc[(December_46227[\"Year_Integer\"]>=1)&(December_46227[\"Year_Integer\"]<=14)]\n",
    "December46227_predictionData = December46227_predictionData[[\"Median Market Value (Single Family)\", \"Year_Integer\", \"Median Price 3 Bedroom\"]]\n",
    "#December_46227_predictionData\n",
    "#December_46227\n",
    "\n",
    "#Create X and y values\n",
    "X = December46227_available[[\"Median Market Value (Single Family)\", \"Year_Integer\", \"Median Price 3 Bedroom\"]]\n",
    "y = December46227_available[\"Median List Price per Square Foot\"].values.reshape(-1, 1)\n",
    "print(X.shape, y.shape)\n",
    "#Create test/train data sets\n",
    "X_train, X_test, y_train, y_test = train_test_split(X, y, random_state=42)\n",
    "#X_train.head(9)\n",
    "\n",
    "X_scaler = StandardScaler().fit(X_train)\n",
    "y_scaler = StandardScaler().fit(y_train)\n",
    "X_train_scaled = X_scaler.transform(X_train)\n",
    "X_test_scaled = X_scaler.transform(X_test)\n",
    "y_train_scaled = y_scaler.transform(y_train)\n",
    "y_test_scaled = y_scaler.transform(y_test)\n",
    "\n",
    "model = LinearRegression()\n",
    "model.fit(X_train_scaled, y_train_scaled)\n",
    "predictions = model.predict(X_test_scaled)\n",
    "MSE = mean_squared_error(y_test_scaled, predictions)\n",
    "r2 = model.score(X_test_scaled, y_test_scaled)\n",
    "\n",
    "print(f\"MSE: {MSE}, R2: {r2}\")\n",
    "\n",
    "December46227_predictionData_scaled = X_scaler.transform(December46227_predictionData)\n",
    "\n",
    "MLPSqFt_December46227_predictions = model.predict(December46227_predictionData_scaled)\n",
    "MLPSqFt_December46227_predictions_actual = y_scaler.inverse_transform(MLPSqFt_December46227_predictions)\n",
    "#MLPSqFt_December46227_predictions_actual\n",
    "\n",
    "MLPSqFt_December46227_prediction_list = []\n",
    "for prediction in MLPSqFt_December46227_predictions_actual:\n",
    "    MLPSqFt_December46227_prediction_list.append(prediction[0])\n",
    "#prediction_list\n",
    "end = December_46227[\"Median List Price per Square Foot\"].to_list()\n",
    "end_final = end[14:25]\n",
    "#Combine into new list\n",
    "December_46227_MLPSqFt_new = MLPSqFt_December46227_prediction_list + end_final\n",
    "December_46227[\"Median List Price per SqFt Calculated\"] = December_46227_MLPSqFt_new\n",
    "#December_46227\n",
    "\n",
    "#Create X and y values\n",
    "X = December46227_available[[\"Median Market Value (Single Family)\", \"Year_Integer\", \"Median Price 3 Bedroom\"]]\n",
    "y = December46227_available[\"Median List Price\"].values.reshape(-1, 1)\n",
    "print(X.shape, y.shape)\n",
    "#Create test/train data sets\n",
    "X_train, X_test, y_train, y_test = train_test_split(X, y, random_state=42)\n",
    "#X_train.head(9)\n",
    "\n",
    "X_scaler = StandardScaler().fit(X_train)\n",
    "y_scaler = StandardScaler().fit(y_train)\n",
    "X_train_scaled = X_scaler.transform(X_train)\n",
    "X_test_scaled = X_scaler.transform(X_test)\n",
    "y_train_scaled = y_scaler.transform(y_train)\n",
    "y_test_scaled = y_scaler.transform(y_test)\n",
    "\n",
    "model = LinearRegression()\n",
    "model.fit(X_train_scaled, y_train_scaled)\n",
    "predictions = model.predict(X_test_scaled)\n",
    "MSE = mean_squared_error(y_test_scaled, predictions)\n",
    "r2 = model.score(X_test_scaled, y_test_scaled)\n",
    "\n",
    "print(f\"MSE: {MSE}, R2: {r2}\")\n",
    "\n",
    "December46227_predictionData_scaled = X_scaler.transform(December46227_predictionData)\n",
    "\n",
    "MLP_December46227_predictions = model.predict(December46227_predictionData_scaled)\n",
    "MLP_December46227_predictions_actual = y_scaler.inverse_transform(MLP_December46227_predictions)\n",
    "#MLP_December46227_predictions_actual\n",
    "\n",
    "MLP_December46227_prediction_list = []\n",
    "for prediction in MLP_December46227_predictions_actual:\n",
    "    MLP_December46227_prediction_list.append(prediction[0])\n",
    "#prediction_list\n",
    "end = December_46227[\"Median List Price\"].to_list()\n",
    "end_final = end[14:25]\n",
    "#Combine into new list\n",
    "December_46227_MLP_new = MLP_December46227_prediction_list + end_final\n",
    "December_46227[\"Median List Price Calculated\"] = end\n",
    "#December_46227\n",
    "\n",
    "December_46227_Complete = December_46227[[\"Zip_Code\", \"Date\", \"Year\", \"Year_Integer\",\"Month\", \n",
    "                                        \"Median Market Value (Single Family)\", \"Median Price 1 Bedroom\",\n",
    "                                       \"Median Price 2 Bedroom\", \"Median Price 3 Bedroom\",\n",
    "                                       \"Median Price 4 Bedroom\", \"Median Price 5 Bedroom\",\n",
    "                                       \"Median List Price per SqFt Calculated\", \"Median List Price Calculated\"]]\n",
    "December_46227_Complete.to_csv(\"December_46227_Complete.csv\")\n"
   ]
  },
  {
   "cell_type": "code",
   "execution_count": 2,
   "metadata": {},
   "outputs": [],
   "source": [
    "import pandas as pd\n"
   ]
  },
  {
   "cell_type": "code",
   "execution_count": 3,
   "metadata": {},
   "outputs": [],
   "source": [
    "raw_housing_data = pd.read_csv(\"Indianapolis_Housing_Data.csv\")"
   ]
  },
  {
   "cell_type": "code",
   "execution_count": 7,
   "metadata": {},
   "outputs": [
    {
     "data": {
      "text/plain": [
       "Date                                   10399\n",
       "% of Homes Decreasing in Value          6188\n",
       "% of Homes Increasing in Value          6188\n",
       "% of Listings with Price Reduction      3808\n",
       "Median % Reduction                      3554\n",
       "Median List Price                       3476\n",
       "Median List Price per Square Foot       3775\n",
       "Median Market Value (Single Family)    10109\n",
       "Median Price 1 Bedroom                  7099\n",
       "Median Price 2 Bedroom                  9630\n",
       "Median Price 3 Bedroom                 10121\n",
       "Median Price 4 Bedroom                  9831\n",
       "Median Price 5 Bedroom                  8695\n",
       "Sales per Month                         3484\n",
       "Zip_Code                               10399\n",
       "dtype: int64"
      ]
     },
     "execution_count": 7,
     "metadata": {},
     "output_type": "execute_result"
    }
   ],
   "source": [
    "raw_housing_data.count(axis=0, level=None, numeric_only=False)"
   ]
  },
  {
   "cell_type": "code",
   "execution_count": null,
   "metadata": {},
   "outputs": [],
   "source": []
  },
  {
   "cell_type": "code",
   "execution_count": null,
   "metadata": {},
   "outputs": [],
   "source": []
  },
  {
   "cell_type": "code",
   "execution_count": null,
   "metadata": {},
   "outputs": [],
   "source": []
  },
  {
   "cell_type": "code",
   "execution_count": null,
   "metadata": {},
   "outputs": [],
   "source": []
  },
  {
   "cell_type": "code",
   "execution_count": null,
   "metadata": {},
   "outputs": [],
   "source": []
  },
  {
   "cell_type": "code",
   "execution_count": null,
   "metadata": {},
   "outputs": [],
   "source": []
  },
  {
   "cell_type": "code",
   "execution_count": null,
   "metadata": {},
   "outputs": [],
   "source": []
  },
  {
   "cell_type": "code",
   "execution_count": null,
   "metadata": {},
   "outputs": [],
   "source": []
  },
  {
   "cell_type": "code",
   "execution_count": null,
   "metadata": {},
   "outputs": [],
   "source": []
  },
  {
   "cell_type": "code",
   "execution_count": null,
   "metadata": {},
   "outputs": [],
   "source": []
  },
  {
   "cell_type": "code",
   "execution_count": null,
   "metadata": {},
   "outputs": [],
   "source": []
  },
  {
   "cell_type": "code",
   "execution_count": null,
   "metadata": {},
   "outputs": [],
   "source": []
  },
  {
   "cell_type": "code",
   "execution_count": null,
   "metadata": {},
   "outputs": [],
   "source": []
  },
  {
   "cell_type": "code",
   "execution_count": null,
   "metadata": {},
   "outputs": [],
   "source": []
  },
  {
   "cell_type": "code",
   "execution_count": null,
   "metadata": {},
   "outputs": [],
   "source": []
  },
  {
   "cell_type": "code",
   "execution_count": null,
   "metadata": {},
   "outputs": [],
   "source": []
  },
  {
   "cell_type": "code",
   "execution_count": null,
   "metadata": {},
   "outputs": [],
   "source": []
  },
  {
   "cell_type": "code",
   "execution_count": null,
   "metadata": {},
   "outputs": [],
   "source": []
  },
  {
   "cell_type": "code",
   "execution_count": null,
   "metadata": {},
   "outputs": [],
   "source": []
  },
  {
   "cell_type": "code",
   "execution_count": null,
   "metadata": {},
   "outputs": [],
   "source": []
  },
  {
   "cell_type": "code",
   "execution_count": null,
   "metadata": {},
   "outputs": [],
   "source": []
  },
  {
   "cell_type": "code",
   "execution_count": null,
   "metadata": {},
   "outputs": [],
   "source": []
  },
  {
   "cell_type": "code",
   "execution_count": null,
   "metadata": {},
   "outputs": [],
   "source": []
  }
 ],
 "metadata": {
  "kernelspec": {
   "display_name": "Python [conda env:PythonData] *",
   "language": "python",
   "name": "conda-env-PythonData-py"
  },
  "language_info": {
   "codemirror_mode": {
    "name": "ipython",
    "version": 3
   },
   "file_extension": ".py",
   "mimetype": "text/x-python",
   "name": "python",
   "nbconvert_exporter": "python",
   "pygments_lexer": "ipython3",
   "version": "3.7.5"
  }
 },
 "nbformat": 4,
 "nbformat_minor": 2
}
